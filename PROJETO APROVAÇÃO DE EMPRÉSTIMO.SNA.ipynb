{
 "cells": [
  {
   "cell_type": "markdown",
   "id": "ea272260",
   "metadata": {},
   "source": [
    "# IMPORTAÇÃO DE DAODS E PRIMEIRAS VISUALIZAÇÕES"
   ]
  },
  {
   "cell_type": "code",
   "execution_count": null,
   "id": "0540ad8d",
   "metadata": {},
   "outputs": [],
   "source": []
  },
  {
   "cell_type": "code",
   "execution_count": 1,
   "id": "a8ea761c",
   "metadata": {},
   "outputs": [],
   "source": [
    "#Importação de pacotes\n",
    "import warnings\n",
    "import pandas as pd\n",
    "df = pd.read_csv('Loan.csv',thousands= \" \")\n",
    "import matplotlib.pyplot as plt\n",
    "import seaborn as sns\n",
    "from sklearn.ensemble import RandomForestClassifier\n",
    "from sklearn.model_selection import train_test_split\n",
    "import numpy as np\n",
    "import joblib # Utilizado para salvar o modelo preditivo\n",
    "from sklearn.preprocessing import LabelEncoder #Utilizada para fazer o OneHotEncoding\n",
    "from sklearn.metrics import mean_squared_error,precision_score, recall_score, f1_score, accuracy_score, roc_auc_score, confusion_matrix\n",
    "from imblearn import under_sampling, over_sampling #Utilizada para fazer o balanceamento de dados\n",
    "from imblearn.over_sampling import SMOTE #Utilizada para fazer o balanceamento de dados\n",
    "from sklearn.preprocessing import MinMaxScaler #Utilizada para fazer a padronização dos dados\n",
    "from sklearn.metrics import r2_score # Utilizado para medir a acuracia do modelo preditivo\n",
    "from sklearn.model_selection import GridSearchCV\n",
    "from sklearn.model_selection import RandomizedSearchCV \n",
    "import time\n",
    "warnings.filterwarnings(\"ignore\") \n",
    "pd.set_option('display.max_columns', None)\n",
    "pd.set_option('display.max_rows', None)\n",
    "#pd.options.display.float_format = '{:.2f}'.format"
   ]
  },
  {
   "cell_type": "code",
   "execution_count": 2,
   "id": "27d4133d",
   "metadata": {},
   "outputs": [
    {
     "data": {
      "text/html": [
       "<div>\n",
       "<style scoped>\n",
       "    .dataframe tbody tr th:only-of-type {\n",
       "        vertical-align: middle;\n",
       "    }\n",
       "\n",
       "    .dataframe tbody tr th {\n",
       "        vertical-align: top;\n",
       "    }\n",
       "\n",
       "    .dataframe thead th {\n",
       "        text-align: right;\n",
       "    }\n",
       "</style>\n",
       "<table border=\"1\" class=\"dataframe\">\n",
       "  <thead>\n",
       "    <tr style=\"text-align: right;\">\n",
       "      <th></th>\n",
       "      <th>Unnamed: 0</th>\n",
       "      <th>id</th>\n",
       "      <th>year</th>\n",
       "      <th>loan_limit</th>\n",
       "      <th>gender</th>\n",
       "      <th>approv_in_adv</th>\n",
       "      <th>loan_type</th>\n",
       "      <th>loan_purpose</th>\n",
       "      <th>credit_worthiness</th>\n",
       "      <th>open_credit</th>\n",
       "      <th>business_or_commercial</th>\n",
       "      <th>loan_amount</th>\n",
       "      <th>rate_of_interest</th>\n",
       "      <th>interest_rate_spread</th>\n",
       "      <th>upfront_charges</th>\n",
       "      <th>term</th>\n",
       "      <th>neg_ammortization</th>\n",
       "      <th>interest_only</th>\n",
       "      <th>lump_sum_payment</th>\n",
       "      <th>property_value</th>\n",
       "      <th>construction_type</th>\n",
       "      <th>occupancy_type</th>\n",
       "      <th>secured_by</th>\n",
       "      <th>total_units</th>\n",
       "      <th>income</th>\n",
       "      <th>credit_type</th>\n",
       "      <th>credit_score</th>\n",
       "      <th>co-applicant_credit_type</th>\n",
       "      <th>age</th>\n",
       "      <th>submission_of_application</th>\n",
       "      <th>ltv</th>\n",
       "      <th>region</th>\n",
       "      <th>security_type</th>\n",
       "      <th>status</th>\n",
       "      <th>dtir1</th>\n",
       "      <th>high_interest_rate</th>\n",
       "      <th>senior_age</th>\n",
       "    </tr>\n",
       "  </thead>\n",
       "  <tbody>\n",
       "    <tr>\n",
       "      <th>0</th>\n",
       "      <td>126324</td>\n",
       "      <td>151214</td>\n",
       "      <td>2019</td>\n",
       "      <td>ncf</td>\n",
       "      <td>Male</td>\n",
       "      <td>nopre</td>\n",
       "      <td>type1</td>\n",
       "      <td>p3</td>\n",
       "      <td>l1</td>\n",
       "      <td>nopc</td>\n",
       "      <td>nob/c</td>\n",
       "      <td>986500</td>\n",
       "      <td>4.125</td>\n",
       "      <td>0.6174</td>\n",
       "      <td>9825.00</td>\n",
       "      <td>360.0</td>\n",
       "      <td>neg_amm</td>\n",
       "      <td>not_int</td>\n",
       "      <td>not_lpsm</td>\n",
       "      <td>1408000.0</td>\n",
       "      <td>sb</td>\n",
       "      <td>pr</td>\n",
       "      <td>home</td>\n",
       "      <td>1U</td>\n",
       "      <td>13380.0</td>\n",
       "      <td>CIB</td>\n",
       "      <td>864</td>\n",
       "      <td>EXP</td>\n",
       "      <td>35-44</td>\n",
       "      <td>to_inst</td>\n",
       "      <td>70.063920</td>\n",
       "      <td>North</td>\n",
       "      <td>direct</td>\n",
       "      <td>0</td>\n",
       "      <td>42.0</td>\n",
       "      <td>1</td>\n",
       "      <td>0</td>\n",
       "    </tr>\n",
       "    <tr>\n",
       "      <th>1</th>\n",
       "      <td>13385</td>\n",
       "      <td>38275</td>\n",
       "      <td>2019</td>\n",
       "      <td>cf</td>\n",
       "      <td>Joint</td>\n",
       "      <td>nopre</td>\n",
       "      <td>type1</td>\n",
       "      <td>p4</td>\n",
       "      <td>l1</td>\n",
       "      <td>nopc</td>\n",
       "      <td>nob/c</td>\n",
       "      <td>406500</td>\n",
       "      <td>3.625</td>\n",
       "      <td>-0.1990</td>\n",
       "      <td>1100.00</td>\n",
       "      <td>360.0</td>\n",
       "      <td>not_neg</td>\n",
       "      <td>not_int</td>\n",
       "      <td>not_lpsm</td>\n",
       "      <td>1008000.0</td>\n",
       "      <td>sb</td>\n",
       "      <td>pr</td>\n",
       "      <td>home</td>\n",
       "      <td>1U</td>\n",
       "      <td>5640.0</td>\n",
       "      <td>CRIF</td>\n",
       "      <td>505</td>\n",
       "      <td>EXP</td>\n",
       "      <td>&gt;74</td>\n",
       "      <td>not_inst</td>\n",
       "      <td>40.327381</td>\n",
       "      <td>North</td>\n",
       "      <td>direct</td>\n",
       "      <td>0</td>\n",
       "      <td>40.0</td>\n",
       "      <td>0</td>\n",
       "      <td>1</td>\n",
       "    </tr>\n",
       "    <tr>\n",
       "      <th>2</th>\n",
       "      <td>98606</td>\n",
       "      <td>123496</td>\n",
       "      <td>2019</td>\n",
       "      <td>cf</td>\n",
       "      <td>Sex Not Available</td>\n",
       "      <td>nopre</td>\n",
       "      <td>type1</td>\n",
       "      <td>p3</td>\n",
       "      <td>l1</td>\n",
       "      <td>nopc</td>\n",
       "      <td>nob/c</td>\n",
       "      <td>166500</td>\n",
       "      <td>4.250</td>\n",
       "      <td>0.7779</td>\n",
       "      <td>2379.51</td>\n",
       "      <td>180.0</td>\n",
       "      <td>not_neg</td>\n",
       "      <td>not_int</td>\n",
       "      <td>not_lpsm</td>\n",
       "      <td>338000.0</td>\n",
       "      <td>sb</td>\n",
       "      <td>pr</td>\n",
       "      <td>home</td>\n",
       "      <td>1U</td>\n",
       "      <td>4740.0</td>\n",
       "      <td>CRIF</td>\n",
       "      <td>829</td>\n",
       "      <td>CIB</td>\n",
       "      <td>55-64</td>\n",
       "      <td>to_inst</td>\n",
       "      <td>49.260355</td>\n",
       "      <td>south</td>\n",
       "      <td>direct</td>\n",
       "      <td>0</td>\n",
       "      <td>29.0</td>\n",
       "      <td>1</td>\n",
       "      <td>1</td>\n",
       "    </tr>\n",
       "  </tbody>\n",
       "</table>\n",
       "</div>"
      ],
      "text/plain": [
       "   Unnamed: 0      id  year loan_limit             gender approv_in_adv  \\\n",
       "0      126324  151214  2019        ncf               Male         nopre   \n",
       "1       13385   38275  2019         cf              Joint         nopre   \n",
       "2       98606  123496  2019         cf  Sex Not Available         nopre   \n",
       "\n",
       "  loan_type loan_purpose credit_worthiness open_credit business_or_commercial  \\\n",
       "0     type1           p3                l1        nopc                  nob/c   \n",
       "1     type1           p4                l1        nopc                  nob/c   \n",
       "2     type1           p3                l1        nopc                  nob/c   \n",
       "\n",
       "   loan_amount  rate_of_interest  interest_rate_spread  upfront_charges  \\\n",
       "0       986500             4.125                0.6174          9825.00   \n",
       "1       406500             3.625               -0.1990          1100.00   \n",
       "2       166500             4.250                0.7779          2379.51   \n",
       "\n",
       "    term neg_ammortization interest_only lump_sum_payment  property_value  \\\n",
       "0  360.0           neg_amm       not_int         not_lpsm       1408000.0   \n",
       "1  360.0           not_neg       not_int         not_lpsm       1008000.0   \n",
       "2  180.0           not_neg       not_int         not_lpsm        338000.0   \n",
       "\n",
       "  construction_type occupancy_type secured_by total_units   income  \\\n",
       "0                sb             pr       home          1U  13380.0   \n",
       "1                sb             pr       home          1U   5640.0   \n",
       "2                sb             pr       home          1U   4740.0   \n",
       "\n",
       "  credit_type  credit_score co-applicant_credit_type    age  \\\n",
       "0         CIB           864                      EXP  35-44   \n",
       "1        CRIF           505                      EXP    >74   \n",
       "2        CRIF           829                      CIB  55-64   \n",
       "\n",
       "  submission_of_application        ltv region security_type  status  dtir1  \\\n",
       "0                   to_inst  70.063920  North        direct       0   42.0   \n",
       "1                  not_inst  40.327381  North        direct       0   40.0   \n",
       "2                   to_inst  49.260355  south        direct       0   29.0   \n",
       "\n",
       "   high_interest_rate  senior_age  \n",
       "0                   1           0  \n",
       "1                   0           1  \n",
       "2                   1           1  "
      ]
     },
     "execution_count": 2,
     "metadata": {},
     "output_type": "execute_result"
    }
   ],
   "source": [
    "df.head(3)"
   ]
  },
  {
   "cell_type": "code",
   "execution_count": 3,
   "id": "415d37f3",
   "metadata": {},
   "outputs": [
    {
     "name": "stdout",
     "output_type": "stream",
     "text": [
      "<class 'pandas.core.frame.DataFrame'>\n",
      "RangeIndex: 148670 entries, 0 to 148669\n",
      "Data columns (total 37 columns):\n",
      " #   Column                     Non-Null Count   Dtype  \n",
      "---  ------                     --------------   -----  \n",
      " 0   Unnamed: 0                 148670 non-null  int64  \n",
      " 1   id                         148670 non-null  int64  \n",
      " 2   year                       148670 non-null  int64  \n",
      " 3   loan_limit                 145326 non-null  object \n",
      " 4   gender                     148670 non-null  object \n",
      " 5   approv_in_adv              147762 non-null  object \n",
      " 6   loan_type                  148670 non-null  object \n",
      " 7   loan_purpose               148536 non-null  object \n",
      " 8   credit_worthiness          148670 non-null  object \n",
      " 9   open_credit                148670 non-null  object \n",
      " 10  business_or_commercial     148670 non-null  object \n",
      " 11  loan_amount                148670 non-null  int64  \n",
      " 12  rate_of_interest           148670 non-null  float64\n",
      " 13  interest_rate_spread       112031 non-null  float64\n",
      " 14  upfront_charges            109028 non-null  float64\n",
      " 15  term                       148629 non-null  float64\n",
      " 16  neg_ammortization          148549 non-null  object \n",
      " 17  interest_only              148670 non-null  object \n",
      " 18  lump_sum_payment           148670 non-null  object \n",
      " 19  property_value             133572 non-null  float64\n",
      " 20  construction_type          148670 non-null  object \n",
      " 21  occupancy_type             148670 non-null  object \n",
      " 22  secured_by                 148670 non-null  object \n",
      " 23  total_units                148670 non-null  object \n",
      " 24  income                     139520 non-null  float64\n",
      " 25  credit_type                148670 non-null  object \n",
      " 26  credit_score               148670 non-null  int64  \n",
      " 27  co-applicant_credit_type   148670 non-null  object \n",
      " 28  age                        148470 non-null  object \n",
      " 29  submission_of_application  148470 non-null  object \n",
      " 30  ltv                        133572 non-null  float64\n",
      " 31  region                     148670 non-null  object \n",
      " 32  security_type              148670 non-null  object \n",
      " 33  status                     148670 non-null  int64  \n",
      " 34  dtir1                      124549 non-null  float64\n",
      " 35  high_interest_rate         148670 non-null  int64  \n",
      " 36  senior_age                 148670 non-null  int64  \n",
      "dtypes: float64(8), int64(8), object(21)\n",
      "memory usage: 42.0+ MB\n"
     ]
    }
   ],
   "source": [
    "df.info()"
   ]
  },
  {
   "cell_type": "code",
   "execution_count": 4,
   "id": "94c62dd6",
   "metadata": {},
   "outputs": [
    {
     "data": {
      "text/plain": [
       "(148670, 37)"
      ]
     },
     "execution_count": 4,
     "metadata": {},
     "output_type": "execute_result"
    }
   ],
   "source": [
    "df.shape"
   ]
  },
  {
   "cell_type": "markdown",
   "id": "6f9457ce",
   "metadata": {},
   "source": [
    "# TRADUÇÃO DA BASE DE DADOS"
   ]
  },
  {
   "cell_type": "code",
   "execution_count": 5,
   "id": "0b8b674f",
   "metadata": {},
   "outputs": [],
   "source": [
    "df_traduzida = df.rename(columns={\n",
    "    'loan_limit':'LimiteEmpréstimo',\n",
    "    'gender':'Sexo',\n",
    "    'approv_in_adv':'EmprestimoFoi',\n",
    "    'loan_type':'TipoEmpréstimo',\n",
    "    'loan_purpose':'FinalidadeEmpréstimo',\n",
    "    'credit_worthiness':'CapacidadeCrédito',\n",
    "    'open_credit':'CréditoAberto',\n",
    "    'business_or_commercial':'NegócioOuComercial',\n",
    "    'loan_amount':'ValorEmpréstimo',\n",
    "    'rate_of_interest':'Juros',  \n",
    "    'interest_rate_spread':'SpreadJuros',\n",
    "    'interest_rate_spread':'SpreadJuros',\n",
    "    'upfront_charges':'CobrançasIniciais',\n",
    "    'term':'Mandato',\n",
    "    'neg_ammortization':'AmortizaçãoNegativa',\n",
    "    'lump_sum_payment':'PagamentoÚnico',\n",
    "    'property_value':'ValorPropriedade',\n",
    "    'construction_type':'TipoConstrução',\n",
    "    'occupancy_type':'TipoOcupação',\n",
    "    'secured_by':'Garantidos',\n",
    "    'total_units':'UnidadesTotal',\n",
    "    'income':'Renda',\n",
    "    'credit_type':'TipoCrédito',\n",
    "    'credit_score':'PontuaçãoCrédito',\n",
    "    'co-applicant_credit_type':'CréditoRequerente',\n",
    "    'age':'Anos',\n",
    "    'submission_of_application':'SubmissãoCandidatura',\n",
    "    'region':'Região',\n",
    "    'security_type':'TipoSegurança',\n",
    "    'high_interest_rate':'AltosJuros',\n",
    "    'senior_age':'IdadeAvançada'\n",
    "    \n",
    "})\n"
   ]
  },
  {
   "cell_type": "code",
   "execution_count": 6,
   "id": "e8d82a46",
   "metadata": {},
   "outputs": [
    {
     "data": {
      "text/html": [
       "<div>\n",
       "<style scoped>\n",
       "    .dataframe tbody tr th:only-of-type {\n",
       "        vertical-align: middle;\n",
       "    }\n",
       "\n",
       "    .dataframe tbody tr th {\n",
       "        vertical-align: top;\n",
       "    }\n",
       "\n",
       "    .dataframe thead th {\n",
       "        text-align: right;\n",
       "    }\n",
       "</style>\n",
       "<table border=\"1\" class=\"dataframe\">\n",
       "  <thead>\n",
       "    <tr style=\"text-align: right;\">\n",
       "      <th></th>\n",
       "      <th>Unnamed: 0</th>\n",
       "      <th>id</th>\n",
       "      <th>year</th>\n",
       "      <th>LimiteEmpréstimo</th>\n",
       "      <th>Sexo</th>\n",
       "      <th>EmprestimoFoi</th>\n",
       "      <th>TipoEmpréstimo</th>\n",
       "      <th>FinalidadeEmpréstimo</th>\n",
       "      <th>CapacidadeCrédito</th>\n",
       "      <th>CréditoAberto</th>\n",
       "      <th>NegócioOuComercial</th>\n",
       "      <th>ValorEmpréstimo</th>\n",
       "      <th>Juros</th>\n",
       "      <th>SpreadJuros</th>\n",
       "      <th>CobrançasIniciais</th>\n",
       "      <th>Mandato</th>\n",
       "      <th>AmortizaçãoNegativa</th>\n",
       "      <th>interest_only</th>\n",
       "      <th>PagamentoÚnico</th>\n",
       "      <th>ValorPropriedade</th>\n",
       "      <th>TipoConstrução</th>\n",
       "      <th>TipoOcupação</th>\n",
       "      <th>Garantidos</th>\n",
       "      <th>UnidadesTotal</th>\n",
       "      <th>Renda</th>\n",
       "      <th>TipoCrédito</th>\n",
       "      <th>PontuaçãoCrédito</th>\n",
       "      <th>CréditoRequerente</th>\n",
       "      <th>Anos</th>\n",
       "      <th>SubmissãoCandidatura</th>\n",
       "      <th>ltv</th>\n",
       "      <th>Região</th>\n",
       "      <th>TipoSegurança</th>\n",
       "      <th>status</th>\n",
       "      <th>dtir1</th>\n",
       "      <th>AltosJuros</th>\n",
       "      <th>IdadeAvançada</th>\n",
       "    </tr>\n",
       "  </thead>\n",
       "  <tbody>\n",
       "    <tr>\n",
       "      <th>0</th>\n",
       "      <td>126324</td>\n",
       "      <td>151214</td>\n",
       "      <td>2019</td>\n",
       "      <td>ncf</td>\n",
       "      <td>Male</td>\n",
       "      <td>nopre</td>\n",
       "      <td>type1</td>\n",
       "      <td>p3</td>\n",
       "      <td>l1</td>\n",
       "      <td>nopc</td>\n",
       "      <td>nob/c</td>\n",
       "      <td>986500</td>\n",
       "      <td>4.125</td>\n",
       "      <td>0.6174</td>\n",
       "      <td>9825.00</td>\n",
       "      <td>360.0</td>\n",
       "      <td>neg_amm</td>\n",
       "      <td>not_int</td>\n",
       "      <td>not_lpsm</td>\n",
       "      <td>1408000.0</td>\n",
       "      <td>sb</td>\n",
       "      <td>pr</td>\n",
       "      <td>home</td>\n",
       "      <td>1U</td>\n",
       "      <td>13380.0</td>\n",
       "      <td>CIB</td>\n",
       "      <td>864</td>\n",
       "      <td>EXP</td>\n",
       "      <td>35-44</td>\n",
       "      <td>to_inst</td>\n",
       "      <td>70.063920</td>\n",
       "      <td>North</td>\n",
       "      <td>direct</td>\n",
       "      <td>0</td>\n",
       "      <td>42.0</td>\n",
       "      <td>1</td>\n",
       "      <td>0</td>\n",
       "    </tr>\n",
       "    <tr>\n",
       "      <th>1</th>\n",
       "      <td>13385</td>\n",
       "      <td>38275</td>\n",
       "      <td>2019</td>\n",
       "      <td>cf</td>\n",
       "      <td>Joint</td>\n",
       "      <td>nopre</td>\n",
       "      <td>type1</td>\n",
       "      <td>p4</td>\n",
       "      <td>l1</td>\n",
       "      <td>nopc</td>\n",
       "      <td>nob/c</td>\n",
       "      <td>406500</td>\n",
       "      <td>3.625</td>\n",
       "      <td>-0.1990</td>\n",
       "      <td>1100.00</td>\n",
       "      <td>360.0</td>\n",
       "      <td>not_neg</td>\n",
       "      <td>not_int</td>\n",
       "      <td>not_lpsm</td>\n",
       "      <td>1008000.0</td>\n",
       "      <td>sb</td>\n",
       "      <td>pr</td>\n",
       "      <td>home</td>\n",
       "      <td>1U</td>\n",
       "      <td>5640.0</td>\n",
       "      <td>CRIF</td>\n",
       "      <td>505</td>\n",
       "      <td>EXP</td>\n",
       "      <td>&gt;74</td>\n",
       "      <td>not_inst</td>\n",
       "      <td>40.327381</td>\n",
       "      <td>North</td>\n",
       "      <td>direct</td>\n",
       "      <td>0</td>\n",
       "      <td>40.0</td>\n",
       "      <td>0</td>\n",
       "      <td>1</td>\n",
       "    </tr>\n",
       "    <tr>\n",
       "      <th>2</th>\n",
       "      <td>98606</td>\n",
       "      <td>123496</td>\n",
       "      <td>2019</td>\n",
       "      <td>cf</td>\n",
       "      <td>Sex Not Available</td>\n",
       "      <td>nopre</td>\n",
       "      <td>type1</td>\n",
       "      <td>p3</td>\n",
       "      <td>l1</td>\n",
       "      <td>nopc</td>\n",
       "      <td>nob/c</td>\n",
       "      <td>166500</td>\n",
       "      <td>4.250</td>\n",
       "      <td>0.7779</td>\n",
       "      <td>2379.51</td>\n",
       "      <td>180.0</td>\n",
       "      <td>not_neg</td>\n",
       "      <td>not_int</td>\n",
       "      <td>not_lpsm</td>\n",
       "      <td>338000.0</td>\n",
       "      <td>sb</td>\n",
       "      <td>pr</td>\n",
       "      <td>home</td>\n",
       "      <td>1U</td>\n",
       "      <td>4740.0</td>\n",
       "      <td>CRIF</td>\n",
       "      <td>829</td>\n",
       "      <td>CIB</td>\n",
       "      <td>55-64</td>\n",
       "      <td>to_inst</td>\n",
       "      <td>49.260355</td>\n",
       "      <td>south</td>\n",
       "      <td>direct</td>\n",
       "      <td>0</td>\n",
       "      <td>29.0</td>\n",
       "      <td>1</td>\n",
       "      <td>1</td>\n",
       "    </tr>\n",
       "    <tr>\n",
       "      <th>3</th>\n",
       "      <td>7184</td>\n",
       "      <td>32074</td>\n",
       "      <td>2019</td>\n",
       "      <td>cf</td>\n",
       "      <td>Female</td>\n",
       "      <td>nopre</td>\n",
       "      <td>type1</td>\n",
       "      <td>p3</td>\n",
       "      <td>l1</td>\n",
       "      <td>nopc</td>\n",
       "      <td>nob/c</td>\n",
       "      <td>206500</td>\n",
       "      <td>5.625</td>\n",
       "      <td>1.1174</td>\n",
       "      <td>6117.50</td>\n",
       "      <td>360.0</td>\n",
       "      <td>not_neg</td>\n",
       "      <td>not_int</td>\n",
       "      <td>not_lpsm</td>\n",
       "      <td>278000.0</td>\n",
       "      <td>sb</td>\n",
       "      <td>pr</td>\n",
       "      <td>home</td>\n",
       "      <td>1U</td>\n",
       "      <td>3780.0</td>\n",
       "      <td>EXP</td>\n",
       "      <td>763</td>\n",
       "      <td>CIB</td>\n",
       "      <td>35-44</td>\n",
       "      <td>to_inst</td>\n",
       "      <td>74.280576</td>\n",
       "      <td>North</td>\n",
       "      <td>direct</td>\n",
       "      <td>0</td>\n",
       "      <td>44.0</td>\n",
       "      <td>1</td>\n",
       "      <td>0</td>\n",
       "    </tr>\n",
       "    <tr>\n",
       "      <th>4</th>\n",
       "      <td>120745</td>\n",
       "      <td>145635</td>\n",
       "      <td>2019</td>\n",
       "      <td>cf</td>\n",
       "      <td>Male</td>\n",
       "      <td>nopre</td>\n",
       "      <td>type1</td>\n",
       "      <td>p1</td>\n",
       "      <td>l1</td>\n",
       "      <td>nopc</td>\n",
       "      <td>nob/c</td>\n",
       "      <td>166500</td>\n",
       "      <td>3.500</td>\n",
       "      <td>0.1533</td>\n",
       "      <td>779.88</td>\n",
       "      <td>360.0</td>\n",
       "      <td>not_neg</td>\n",
       "      <td>not_int</td>\n",
       "      <td>not_lpsm</td>\n",
       "      <td>168000.0</td>\n",
       "      <td>sb</td>\n",
       "      <td>pr</td>\n",
       "      <td>home</td>\n",
       "      <td>1U</td>\n",
       "      <td>2400.0</td>\n",
       "      <td>CIB</td>\n",
       "      <td>886</td>\n",
       "      <td>CIB</td>\n",
       "      <td>35-44</td>\n",
       "      <td>not_inst</td>\n",
       "      <td>99.107143</td>\n",
       "      <td>North</td>\n",
       "      <td>direct</td>\n",
       "      <td>0</td>\n",
       "      <td>42.0</td>\n",
       "      <td>0</td>\n",
       "      <td>0</td>\n",
       "    </tr>\n",
       "  </tbody>\n",
       "</table>\n",
       "</div>"
      ],
      "text/plain": [
       "   Unnamed: 0      id  year LimiteEmpréstimo               Sexo EmprestimoFoi  \\\n",
       "0      126324  151214  2019              ncf               Male         nopre   \n",
       "1       13385   38275  2019               cf              Joint         nopre   \n",
       "2       98606  123496  2019               cf  Sex Not Available         nopre   \n",
       "3        7184   32074  2019               cf             Female         nopre   \n",
       "4      120745  145635  2019               cf               Male         nopre   \n",
       "\n",
       "  TipoEmpréstimo FinalidadeEmpréstimo CapacidadeCrédito CréditoAberto  \\\n",
       "0          type1                   p3                l1          nopc   \n",
       "1          type1                   p4                l1          nopc   \n",
       "2          type1                   p3                l1          nopc   \n",
       "3          type1                   p3                l1          nopc   \n",
       "4          type1                   p1                l1          nopc   \n",
       "\n",
       "  NegócioOuComercial  ValorEmpréstimo  Juros  SpreadJuros  CobrançasIniciais  \\\n",
       "0              nob/c           986500  4.125       0.6174            9825.00   \n",
       "1              nob/c           406500  3.625      -0.1990            1100.00   \n",
       "2              nob/c           166500  4.250       0.7779            2379.51   \n",
       "3              nob/c           206500  5.625       1.1174            6117.50   \n",
       "4              nob/c           166500  3.500       0.1533             779.88   \n",
       "\n",
       "   Mandato AmortizaçãoNegativa interest_only PagamentoÚnico  ValorPropriedade  \\\n",
       "0    360.0             neg_amm       not_int       not_lpsm         1408000.0   \n",
       "1    360.0             not_neg       not_int       not_lpsm         1008000.0   \n",
       "2    180.0             not_neg       not_int       not_lpsm          338000.0   \n",
       "3    360.0             not_neg       not_int       not_lpsm          278000.0   \n",
       "4    360.0             not_neg       not_int       not_lpsm          168000.0   \n",
       "\n",
       "  TipoConstrução TipoOcupação Garantidos UnidadesTotal    Renda TipoCrédito  \\\n",
       "0             sb           pr       home            1U  13380.0         CIB   \n",
       "1             sb           pr       home            1U   5640.0        CRIF   \n",
       "2             sb           pr       home            1U   4740.0        CRIF   \n",
       "3             sb           pr       home            1U   3780.0         EXP   \n",
       "4             sb           pr       home            1U   2400.0         CIB   \n",
       "\n",
       "   PontuaçãoCrédito CréditoRequerente   Anos SubmissãoCandidatura        ltv  \\\n",
       "0               864               EXP  35-44              to_inst  70.063920   \n",
       "1               505               EXP    >74             not_inst  40.327381   \n",
       "2               829               CIB  55-64              to_inst  49.260355   \n",
       "3               763               CIB  35-44              to_inst  74.280576   \n",
       "4               886               CIB  35-44             not_inst  99.107143   \n",
       "\n",
       "  Região TipoSegurança  status  dtir1  AltosJuros  IdadeAvançada  \n",
       "0  North        direct       0   42.0           1              0  \n",
       "1  North        direct       0   40.0           0              1  \n",
       "2  south        direct       0   29.0           1              1  \n",
       "3  North        direct       0   44.0           1              0  \n",
       "4  North        direct       0   42.0           0              0  "
      ]
     },
     "execution_count": 6,
     "metadata": {},
     "output_type": "execute_result"
    }
   ],
   "source": [
    "df_traduzida.head()"
   ]
  },
  {
   "cell_type": "markdown",
   "id": "87ffbda2",
   "metadata": {},
   "source": [
    "# TRATAMENTO E MANIPULAÇÃO DE DADOS "
   ]
  },
  {
   "cell_type": "code",
   "execution_count": 7,
   "id": "976798d5",
   "metadata": {},
   "outputs": [
    {
     "name": "stdout",
     "output_type": "stream",
     "text": [
      "<class 'pandas.core.frame.DataFrame'>\n",
      "RangeIndex: 148670 entries, 0 to 148669\n",
      "Data columns (total 37 columns):\n",
      " #   Column                Non-Null Count   Dtype  \n",
      "---  ------                --------------   -----  \n",
      " 0   Unnamed: 0            148670 non-null  int64  \n",
      " 1   id                    148670 non-null  int64  \n",
      " 2   year                  148670 non-null  int64  \n",
      " 3   LimiteEmpréstimo      145326 non-null  object \n",
      " 4   Sexo                  148670 non-null  object \n",
      " 5   EmprestimoFoi         147762 non-null  object \n",
      " 6   TipoEmpréstimo        148670 non-null  object \n",
      " 7   FinalidadeEmpréstimo  148536 non-null  object \n",
      " 8   CapacidadeCrédito     148670 non-null  object \n",
      " 9   CréditoAberto         148670 non-null  object \n",
      " 10  NegócioOuComercial    148670 non-null  object \n",
      " 11  ValorEmpréstimo       148670 non-null  int64  \n",
      " 12  Juros                 148670 non-null  float64\n",
      " 13  SpreadJuros           112031 non-null  float64\n",
      " 14  CobrançasIniciais     109028 non-null  float64\n",
      " 15  Mandato               148629 non-null  float64\n",
      " 16  AmortizaçãoNegativa   148549 non-null  object \n",
      " 17  interest_only         148670 non-null  object \n",
      " 18  PagamentoÚnico        148670 non-null  object \n",
      " 19  ValorPropriedade      133572 non-null  float64\n",
      " 20  TipoConstrução        148670 non-null  object \n",
      " 21  TipoOcupação          148670 non-null  object \n",
      " 22  Garantidos            148670 non-null  object \n",
      " 23  UnidadesTotal         148670 non-null  object \n",
      " 24  Renda                 139520 non-null  float64\n",
      " 25  TipoCrédito           148670 non-null  object \n",
      " 26  PontuaçãoCrédito      148670 non-null  int64  \n",
      " 27  CréditoRequerente     148670 non-null  object \n",
      " 28  Anos                  148470 non-null  object \n",
      " 29  SubmissãoCandidatura  148470 non-null  object \n",
      " 30  ltv                   133572 non-null  float64\n",
      " 31  Região                148670 non-null  object \n",
      " 32  TipoSegurança         148670 non-null  object \n",
      " 33  status                148670 non-null  int64  \n",
      " 34  dtir1                 124549 non-null  float64\n",
      " 35  AltosJuros            148670 non-null  int64  \n",
      " 36  IdadeAvançada         148670 non-null  int64  \n",
      "dtypes: float64(8), int64(8), object(21)\n",
      "memory usage: 42.0+ MB\n"
     ]
    }
   ],
   "source": [
    "df_traduzida.info()"
   ]
  },
  {
   "cell_type": "code",
   "execution_count": 8,
   "id": "7459e001",
   "metadata": {},
   "outputs": [],
   "source": [
    "# EXCLUIT COLUNAS QUE NÃO SERÃO ÚTEIS\n",
    "\n",
    "del df_traduzida['Unnamed: 0']\n",
    "del df_traduzida['id']\n",
    "del df_traduzida['dtir1']\n",
    "del df_traduzida['interest_only']"
   ]
  },
  {
   "cell_type": "markdown",
   "id": "bdd3aa2b",
   "metadata": {},
   "source": [
    "### TRATANDO VALORES NULOS E VALORES DUPLICADOS "
   ]
  },
  {
   "cell_type": "code",
   "execution_count": 9,
   "id": "1e0bbb2d",
   "metadata": {
    "scrolled": true
   },
   "outputs": [
    {
     "data": {
      "text/plain": [
       "year                     0.000000\n",
       "LimiteEmpréstimo         2.249277\n",
       "Sexo                     0.000000\n",
       "EmprestimoFoi            0.610749\n",
       "TipoEmpréstimo           0.000000\n",
       "FinalidadeEmpréstimo     0.090133\n",
       "CapacidadeCrédito        0.000000\n",
       "CréditoAberto            0.000000\n",
       "NegócioOuComercial       0.000000\n",
       "ValorEmpréstimo          0.000000\n",
       "Juros                    0.000000\n",
       "SpreadJuros             24.644515\n",
       "CobrançasIniciais       26.664425\n",
       "Mandato                  0.027578\n",
       "AmortizaçãoNegativa      0.081388\n",
       "PagamentoÚnico           0.000000\n",
       "ValorPropriedade        10.155378\n",
       "TipoConstrução           0.000000\n",
       "TipoOcupação             0.000000\n",
       "Garantidos               0.000000\n",
       "UnidadesTotal            0.000000\n",
       "Renda                    6.154571\n",
       "TipoCrédito              0.000000\n",
       "PontuaçãoCrédito         0.000000\n",
       "CréditoRequerente        0.000000\n",
       "Anos                     0.134526\n",
       "SubmissãoCandidatura     0.134526\n",
       "ltv                     10.155378\n",
       "Região                   0.000000\n",
       "TipoSegurança            0.000000\n",
       "status                   0.000000\n",
       "AltosJuros               0.000000\n",
       "IdadeAvançada            0.000000\n",
       "dtype: float64"
      ]
     },
     "execution_count": 9,
     "metadata": {},
     "output_type": "execute_result"
    }
   ],
   "source": [
    "(df_traduzida.isnull().sum() / len(df_traduzida['Sexo']))*100"
   ]
  },
  {
   "cell_type": "code",
   "execution_count": 10,
   "id": "9ab6e066",
   "metadata": {},
   "outputs": [],
   "source": [
    "media = df_traduzida['ltv'].mean()\n",
    "df_traduzida['ltv'] = df_traduzida['ltv'].fillna(media)"
   ]
  },
  {
   "cell_type": "code",
   "execution_count": 11,
   "id": "503df50e",
   "metadata": {},
   "outputs": [],
   "source": [
    "med = df_traduzida['SpreadJuros'].mean()\n",
    "df_traduzida['SpreadJuros'] = df_traduzida['SpreadJuros'].fillna(med)"
   ]
  },
  {
   "cell_type": "code",
   "execution_count": 12,
   "id": "10ea5197",
   "metadata": {},
   "outputs": [],
   "source": [
    "medi = df_traduzida['CobrançasIniciais'].mean()\n",
    "df_traduzida['CobrançasIniciais'] = df_traduzida['CobrançasIniciais'].fillna(medi)"
   ]
  },
  {
   "cell_type": "code",
   "execution_count": 13,
   "id": "d2bfc77a",
   "metadata": {},
   "outputs": [],
   "source": [
    "mee = df_traduzida['ValorPropriedade'].mean()\n",
    "df_traduzida['ValorPropriedade'] = df_traduzida['ValorPropriedade'].fillna(mee)"
   ]
  },
  {
   "cell_type": "code",
   "execution_count": 14,
   "id": "7813781b",
   "metadata": {},
   "outputs": [],
   "source": [
    "me = df_traduzida['CobrançasIniciais'].mean()\n",
    "df_traduzida['CobrançasIniciais'] = df_traduzida['CobrançasIniciais'].fillna(me)"
   ]
  },
  {
   "cell_type": "code",
   "execution_count": 15,
   "id": "d435e163",
   "metadata": {},
   "outputs": [],
   "source": [
    "m = df_traduzida['Renda'].mean()\n",
    "df_traduzida['Renda'] = df_traduzida['Renda'].fillna(m)"
   ]
  },
  {
   "cell_type": "code",
   "execution_count": 16,
   "id": "18fb32ce",
   "metadata": {},
   "outputs": [],
   "source": [
    "\n",
    "valor_mais_comum = df_traduzida['FinalidadeEmpréstimo'].mode()[0]\n",
    "\n",
    "# Preenchendo os valores nulos com a moda\n",
    "df_traduzida['FinalidadeEmpréstimo'].fillna(valor_mais_comum, inplace=True)\n"
   ]
  },
  {
   "cell_type": "code",
   "execution_count": 17,
   "id": "2f85af5d",
   "metadata": {},
   "outputs": [],
   "source": [
    "\n",
    "valor_mais_comumm = df_traduzida['AmortizaçãoNegativa'].mode()[0]\n",
    "\n",
    "# Preenchendo os valores nulos com a moda\n",
    "df_traduzida['AmortizaçãoNegativa'].fillna(valor_mais_comumm, inplace=True)\n"
   ]
  },
  {
   "cell_type": "code",
   "execution_count": 18,
   "id": "e47b7836",
   "metadata": {},
   "outputs": [],
   "source": [
    "\n",
    "valor = df_traduzida['EmprestimoFoi'].mode()[0]\n",
    "\n",
    "# Preenchendo os valores nulos com a moda\n",
    "df_traduzida['EmprestimoFoi'].fillna(valor, inplace=True)"
   ]
  },
  {
   "cell_type": "code",
   "execution_count": 19,
   "id": "a9dac38d",
   "metadata": {},
   "outputs": [],
   "source": [
    "valor_mais = df_traduzida['SubmissãoCandidatura'].mode()[0]\n",
    "\n",
    "# Preenchendo os valores nulos com a moda\n",
    "df_traduzida['SubmissãoCandidatura'].fillna(valor_mais, inplace=True)\n"
   ]
  },
  {
   "cell_type": "code",
   "execution_count": 20,
   "id": "2fc24bef",
   "metadata": {},
   "outputs": [],
   "source": [
    "valor_mai = df_traduzida['Anos'].mode()[0]\n",
    "\n",
    "# Preenchendo os valores nulos com a moda\n",
    "df_traduzida['Anos'].fillna(valor_mai, inplace=True)"
   ]
  },
  {
   "cell_type": "code",
   "execution_count": 21,
   "id": "fc40324a",
   "metadata": {},
   "outputs": [],
   "source": [
    "valor_ma = df_traduzida['Mandato'].mode()[0]\n",
    "\n",
    "# Preenchendo os valores nulos com a moda\n",
    "df_traduzida['Mandato'].fillna(valor_ma, inplace=True)\n"
   ]
  },
  {
   "cell_type": "code",
   "execution_count": 22,
   "id": "fe82b845",
   "metadata": {},
   "outputs": [],
   "source": [
    "valor_m = df_traduzida['LimiteEmpréstimo'].mode()[0]\n",
    "\n",
    "# Preenchendo os valores nulos com a moda\n",
    "df_traduzida['LimiteEmpréstimo'].fillna(valor_m, inplace=True)"
   ]
  },
  {
   "cell_type": "code",
   "execution_count": 23,
   "id": "7555b675",
   "metadata": {},
   "outputs": [],
   "source": [
    "df_traduzida = df_traduzida.drop_duplicates()"
   ]
  },
  {
   "cell_type": "markdown",
   "id": "f44f9e48",
   "metadata": {},
   "source": [
    "# ANÁLISE EXPLORATÓRIA"
   ]
  },
  {
   "cell_type": "markdown",
   "id": "5a2f61a5",
   "metadata": {},
   "source": [
    "### ESTATÍSTICA"
   ]
  },
  {
   "cell_type": "code",
   "execution_count": 24,
   "id": "9fe561c2",
   "metadata": {},
   "outputs": [
    {
     "data": {
      "text/html": [
       "<div>\n",
       "<style scoped>\n",
       "    .dataframe tbody tr th:only-of-type {\n",
       "        vertical-align: middle;\n",
       "    }\n",
       "\n",
       "    .dataframe tbody tr th {\n",
       "        vertical-align: top;\n",
       "    }\n",
       "\n",
       "    .dataframe thead th {\n",
       "        text-align: right;\n",
       "    }\n",
       "</style>\n",
       "<table border=\"1\" class=\"dataframe\">\n",
       "  <thead>\n",
       "    <tr style=\"text-align: right;\">\n",
       "      <th></th>\n",
       "      <th>year</th>\n",
       "      <th>ValorEmpréstimo</th>\n",
       "      <th>Juros</th>\n",
       "      <th>SpreadJuros</th>\n",
       "      <th>CobrançasIniciais</th>\n",
       "      <th>Mandato</th>\n",
       "      <th>ValorPropriedade</th>\n",
       "      <th>Renda</th>\n",
       "      <th>PontuaçãoCrédito</th>\n",
       "      <th>ltv</th>\n",
       "      <th>status</th>\n",
       "      <th>AltosJuros</th>\n",
       "      <th>IdadeAvançada</th>\n",
       "    </tr>\n",
       "  </thead>\n",
       "  <tbody>\n",
       "    <tr>\n",
       "      <th>count</th>\n",
       "      <td>148669.0</td>\n",
       "      <td>1.486690e+05</td>\n",
       "      <td>148669.000000</td>\n",
       "      <td>148669.000000</td>\n",
       "      <td>148669.000000</td>\n",
       "      <td>148669.000000</td>\n",
       "      <td>1.486690e+05</td>\n",
       "      <td>148669.000000</td>\n",
       "      <td>148669.000000</td>\n",
       "      <td>148669.000000</td>\n",
       "      <td>148669.000000</td>\n",
       "      <td>148669.000000</td>\n",
       "      <td>148669.000000</td>\n",
       "    </tr>\n",
       "    <tr>\n",
       "      <th>mean</th>\n",
       "      <td>2019.0</td>\n",
       "      <td>3.311184e+05</td>\n",
       "      <td>2.808856</td>\n",
       "      <td>0.441656</td>\n",
       "      <td>3224.996127</td>\n",
       "      <td>335.143271</td>\n",
       "      <td>4.978951e+05</td>\n",
       "      <td>6957.364687</td>\n",
       "      <td>699.789284</td>\n",
       "      <td>72.746305</td>\n",
       "      <td>0.246440</td>\n",
       "      <td>0.333688</td>\n",
       "      <td>0.406628</td>\n",
       "    </tr>\n",
       "    <tr>\n",
       "      <th>std</th>\n",
       "      <td>0.0</td>\n",
       "      <td>1.839098e+05</td>\n",
       "      <td>2.224422</td>\n",
       "      <td>0.445361</td>\n",
       "      <td>2784.142648</td>\n",
       "      <td>58.402649</td>\n",
       "      <td>3.411701e+05</td>\n",
       "      <td>6293.505301</td>\n",
       "      <td>115.876225</td>\n",
       "      <td>37.883921</td>\n",
       "      <td>0.430939</td>\n",
       "      <td>0.471531</td>\n",
       "      <td>0.491206</td>\n",
       "    </tr>\n",
       "    <tr>\n",
       "      <th>min</th>\n",
       "      <td>2019.0</td>\n",
       "      <td>1.650000e+04</td>\n",
       "      <td>-1.000000</td>\n",
       "      <td>-3.638000</td>\n",
       "      <td>0.000000</td>\n",
       "      <td>96.000000</td>\n",
       "      <td>8.000000e+03</td>\n",
       "      <td>0.000000</td>\n",
       "      <td>500.000000</td>\n",
       "      <td>0.967478</td>\n",
       "      <td>0.000000</td>\n",
       "      <td>0.000000</td>\n",
       "      <td>0.000000</td>\n",
       "    </tr>\n",
       "    <tr>\n",
       "      <th>25%</th>\n",
       "      <td>2019.0</td>\n",
       "      <td>1.965000e+05</td>\n",
       "      <td>2.750000</td>\n",
       "      <td>0.181500</td>\n",
       "      <td>1250.000000</td>\n",
       "      <td>360.000000</td>\n",
       "      <td>2.880000e+05</td>\n",
       "      <td>3840.000000</td>\n",
       "      <td>599.000000</td>\n",
       "      <td>63.297872</td>\n",
       "      <td>0.000000</td>\n",
       "      <td>0.000000</td>\n",
       "      <td>0.000000</td>\n",
       "    </tr>\n",
       "    <tr>\n",
       "      <th>50%</th>\n",
       "      <td>2019.0</td>\n",
       "      <td>2.965000e+05</td>\n",
       "      <td>3.750000</td>\n",
       "      <td>0.441656</td>\n",
       "      <td>3224.996127</td>\n",
       "      <td>360.000000</td>\n",
       "      <td>4.580000e+05</td>\n",
       "      <td>6000.000000</td>\n",
       "      <td>699.000000</td>\n",
       "      <td>73.026316</td>\n",
       "      <td>0.000000</td>\n",
       "      <td>0.000000</td>\n",
       "      <td>0.000000</td>\n",
       "    </tr>\n",
       "    <tr>\n",
       "      <th>75%</th>\n",
       "      <td>2019.0</td>\n",
       "      <td>4.365000e+05</td>\n",
       "      <td>4.250000</td>\n",
       "      <td>0.620000</td>\n",
       "      <td>3889.520000</td>\n",
       "      <td>360.000000</td>\n",
       "      <td>5.980000e+05</td>\n",
       "      <td>8280.000000</td>\n",
       "      <td>800.000000</td>\n",
       "      <td>84.722222</td>\n",
       "      <td>0.000000</td>\n",
       "      <td>1.000000</td>\n",
       "      <td>1.000000</td>\n",
       "    </tr>\n",
       "    <tr>\n",
       "      <th>max</th>\n",
       "      <td>2019.0</td>\n",
       "      <td>3.576500e+06</td>\n",
       "      <td>8.000000</td>\n",
       "      <td>3.357000</td>\n",
       "      <td>60000.000000</td>\n",
       "      <td>360.000000</td>\n",
       "      <td>1.650800e+07</td>\n",
       "      <td>578580.000000</td>\n",
       "      <td>900.000000</td>\n",
       "      <td>7831.250000</td>\n",
       "      <td>1.000000</td>\n",
       "      <td>1.000000</td>\n",
       "      <td>1.000000</td>\n",
       "    </tr>\n",
       "  </tbody>\n",
       "</table>\n",
       "</div>"
      ],
      "text/plain": [
       "           year  ValorEmpréstimo          Juros    SpreadJuros  \\\n",
       "count  148669.0     1.486690e+05  148669.000000  148669.000000   \n",
       "mean     2019.0     3.311184e+05       2.808856       0.441656   \n",
       "std         0.0     1.839098e+05       2.224422       0.445361   \n",
       "min      2019.0     1.650000e+04      -1.000000      -3.638000   \n",
       "25%      2019.0     1.965000e+05       2.750000       0.181500   \n",
       "50%      2019.0     2.965000e+05       3.750000       0.441656   \n",
       "75%      2019.0     4.365000e+05       4.250000       0.620000   \n",
       "max      2019.0     3.576500e+06       8.000000       3.357000   \n",
       "\n",
       "       CobrançasIniciais        Mandato  ValorPropriedade          Renda  \\\n",
       "count      148669.000000  148669.000000      1.486690e+05  148669.000000   \n",
       "mean         3224.996127     335.143271      4.978951e+05    6957.364687   \n",
       "std          2784.142648      58.402649      3.411701e+05    6293.505301   \n",
       "min             0.000000      96.000000      8.000000e+03       0.000000   \n",
       "25%          1250.000000     360.000000      2.880000e+05    3840.000000   \n",
       "50%          3224.996127     360.000000      4.580000e+05    6000.000000   \n",
       "75%          3889.520000     360.000000      5.980000e+05    8280.000000   \n",
       "max         60000.000000     360.000000      1.650800e+07  578580.000000   \n",
       "\n",
       "       PontuaçãoCrédito            ltv         status     AltosJuros  \\\n",
       "count     148669.000000  148669.000000  148669.000000  148669.000000   \n",
       "mean         699.789284      72.746305       0.246440       0.333688   \n",
       "std          115.876225      37.883921       0.430939       0.471531   \n",
       "min          500.000000       0.967478       0.000000       0.000000   \n",
       "25%          599.000000      63.297872       0.000000       0.000000   \n",
       "50%          699.000000      73.026316       0.000000       0.000000   \n",
       "75%          800.000000      84.722222       0.000000       1.000000   \n",
       "max          900.000000    7831.250000       1.000000       1.000000   \n",
       "\n",
       "       IdadeAvançada  \n",
       "count  148669.000000  \n",
       "mean        0.406628  \n",
       "std         0.491206  \n",
       "min         0.000000  \n",
       "25%         0.000000  \n",
       "50%         0.000000  \n",
       "75%         1.000000  \n",
       "max         1.000000  "
      ]
     },
     "execution_count": 24,
     "metadata": {},
     "output_type": "execute_result"
    }
   ],
   "source": [
    "df_traduzida.describe()"
   ]
  },
  {
   "cell_type": "markdown",
   "id": "af33e4c7",
   "metadata": {},
   "source": [
    "### MODA"
   ]
  },
  {
   "cell_type": "code",
   "execution_count": 25,
   "id": "d7d15616",
   "metadata": {},
   "outputs": [
    {
     "data": {
      "text/plain": [
       "206500"
      ]
     },
     "execution_count": 25,
     "metadata": {},
     "output_type": "execute_result"
    }
   ],
   "source": [
    "from statistics import mode\n",
    "\n",
    "mode(df_traduzida['ValorEmpréstimo'])"
   ]
  },
  {
   "cell_type": "code",
   "execution_count": 26,
   "id": "90a0c4cb",
   "metadata": {},
   "outputs": [
    {
     "data": {
      "text/plain": [
       "-1.0"
      ]
     },
     "execution_count": 26,
     "metadata": {},
     "output_type": "execute_result"
    }
   ],
   "source": [
    "mode(df_traduzida['Juros'])"
   ]
  },
  {
   "cell_type": "code",
   "execution_count": 27,
   "id": "9bb64fe0",
   "metadata": {},
   "outputs": [
    {
     "data": {
      "text/plain": [
       "0.4416556604868296"
      ]
     },
     "execution_count": 27,
     "metadata": {},
     "output_type": "execute_result"
    }
   ],
   "source": [
    "mode(df_traduzida['SpreadJuros'])"
   ]
  },
  {
   "cell_type": "code",
   "execution_count": 28,
   "id": "5fe252c3",
   "metadata": {},
   "outputs": [
    {
     "data": {
      "text/plain": [
       "3224.9961265913353"
      ]
     },
     "execution_count": 28,
     "metadata": {},
     "output_type": "execute_result"
    }
   ],
   "source": [
    "mode(df_traduzida['CobrançasIniciais'])"
   ]
  },
  {
   "cell_type": "code",
   "execution_count": 29,
   "id": "8cf0be43",
   "metadata": {},
   "outputs": [
    {
     "data": {
      "text/plain": [
       "360.0"
      ]
     },
     "execution_count": 29,
     "metadata": {},
     "output_type": "execute_result"
    }
   ],
   "source": [
    "mode(df_traduzida['Mandato'])"
   ]
  },
  {
   "cell_type": "code",
   "execution_count": 30,
   "id": "7fadf881",
   "metadata": {},
   "outputs": [
    {
     "data": {
      "text/plain": [
       "497893.46569640347"
      ]
     },
     "execution_count": 30,
     "metadata": {},
     "output_type": "execute_result"
    }
   ],
   "source": [
    "mode(df_traduzida['ValorPropriedade'])"
   ]
  },
  {
   "cell_type": "code",
   "execution_count": 31,
   "id": "1c93d04f",
   "metadata": {},
   "outputs": [
    {
     "data": {
      "text/plain": [
       "6957.338876146789"
      ]
     },
     "execution_count": 31,
     "metadata": {},
     "output_type": "execute_result"
    }
   ],
   "source": [
    "mode(df_traduzida['Renda'])"
   ]
  },
  {
   "cell_type": "code",
   "execution_count": 32,
   "id": "77de725c",
   "metadata": {},
   "outputs": [
    {
     "data": {
      "text/plain": [
       "763"
      ]
     },
     "execution_count": 32,
     "metadata": {},
     "output_type": "execute_result"
    }
   ],
   "source": [
    "mode(df_traduzida['PontuaçãoCrédito'])"
   ]
  },
  {
   "cell_type": "code",
   "execution_count": 33,
   "id": "4ab2f434",
   "metadata": {},
   "outputs": [
    {
     "data": {
      "text/plain": [
       "0"
      ]
     },
     "execution_count": 33,
     "metadata": {},
     "output_type": "execute_result"
    }
   ],
   "source": [
    "mode(df_traduzida['IdadeAvançada'])"
   ]
  },
  {
   "cell_type": "markdown",
   "id": "f3cd84e4",
   "metadata": {},
   "source": [
    "### ASSIMETRIA"
   ]
  },
  {
   "cell_type": "code",
   "execution_count": 34,
   "id": "d0ea49cc",
   "metadata": {},
   "outputs": [
    {
     "data": {
      "text/plain": [
       "1.666987473651818"
      ]
     },
     "execution_count": 34,
     "metadata": {},
     "output_type": "execute_result"
    }
   ],
   "source": [
    "df_traduzida['ValorEmpréstimo'].skew()"
   ]
  },
  {
   "cell_type": "code",
   "execution_count": 35,
   "id": "fe6ed43a",
   "metadata": {},
   "outputs": [
    {
     "data": {
      "text/plain": [
       "-1.0158694419768457"
      ]
     },
     "execution_count": 35,
     "metadata": {},
     "output_type": "execute_result"
    }
   ],
   "source": [
    "df_traduzida['Juros'].skew()"
   ]
  },
  {
   "cell_type": "code",
   "execution_count": 36,
   "id": "f70fe590",
   "metadata": {},
   "outputs": [
    {
     "data": {
      "text/plain": [
       "0.3234286655581671"
      ]
     },
     "execution_count": 36,
     "metadata": {},
     "output_type": "execute_result"
    }
   ],
   "source": [
    "df_traduzida['SpreadJuros'].skew()"
   ]
  },
  {
   "cell_type": "code",
   "execution_count": 37,
   "id": "24a62627",
   "metadata": {},
   "outputs": [
    {
     "data": {
      "text/plain": [
       "2.0482733814734386"
      ]
     },
     "execution_count": 37,
     "metadata": {},
     "output_type": "execute_result"
    }
   ],
   "source": [
    "df_traduzida['CobrançasIniciais'].skew()"
   ]
  },
  {
   "cell_type": "code",
   "execution_count": 38,
   "id": "17533e14",
   "metadata": {},
   "outputs": [
    {
     "data": {
      "text/plain": [
       "1.666987473651818"
      ]
     },
     "execution_count": 38,
     "metadata": {},
     "output_type": "execute_result"
    }
   ],
   "source": [
    "df_traduzida['ValorEmpréstimo'].skew()"
   ]
  },
  {
   "cell_type": "code",
   "execution_count": 39,
   "id": "178a1662",
   "metadata": {},
   "outputs": [
    {
     "data": {
      "text/plain": [
       "-2.1752782380060984"
      ]
     },
     "execution_count": 39,
     "metadata": {},
     "output_type": "execute_result"
    }
   ],
   "source": [
    "df_traduzida['Mandato'].skew()"
   ]
  },
  {
   "cell_type": "code",
   "execution_count": 40,
   "id": "04046993",
   "metadata": {},
   "outputs": [
    {
     "data": {
      "text/plain": [
       "17.86620411627512"
      ]
     },
     "execution_count": 40,
     "metadata": {},
     "output_type": "execute_result"
    }
   ],
   "source": [
    "df_traduzida['Renda'].skew()"
   ]
  },
  {
   "cell_type": "code",
   "execution_count": 41,
   "id": "a536f8f9",
   "metadata": {},
   "outputs": [
    {
     "data": {
      "text/plain": [
       "0.004762161409658643"
      ]
     },
     "execution_count": 41,
     "metadata": {},
     "output_type": "execute_result"
    }
   ],
   "source": [
    "df_traduzida['PontuaçãoCrédito'].skew()"
   ]
  },
  {
   "cell_type": "code",
   "execution_count": 42,
   "id": "a32b6e89",
   "metadata": {},
   "outputs": [
    {
     "data": {
      "text/plain": [
       "0.38017903614463255"
      ]
     },
     "execution_count": 42,
     "metadata": {},
     "output_type": "execute_result"
    }
   ],
   "source": [
    "df_traduzida['IdadeAvançada'].skew()"
   ]
  },
  {
   "cell_type": "markdown",
   "id": "c0680441",
   "metadata": {},
   "source": [
    "### CURTOSE"
   ]
  },
  {
   "cell_type": "code",
   "execution_count": 43,
   "id": "da9ab52f",
   "metadata": {},
   "outputs": [
    {
     "data": {
      "text/plain": [
       "9.127713320338396"
      ]
     },
     "execution_count": 43,
     "metadata": {},
     "output_type": "execute_result"
    }
   ],
   "source": [
    "df_traduzida['ValorEmpréstimo'].kurt()"
   ]
  },
  {
   "cell_type": "code",
   "execution_count": 44,
   "id": "16617b18",
   "metadata": {},
   "outputs": [
    {
     "data": {
      "text/plain": [
       "-0.7110657055558014"
      ]
     },
     "execution_count": 44,
     "metadata": {},
     "output_type": "execute_result"
    }
   ],
   "source": [
    "df_traduzida['Juros'].kurt()"
   ]
  },
  {
   "cell_type": "code",
   "execution_count": 45,
   "id": "7557679c",
   "metadata": {},
   "outputs": [
    {
     "data": {
      "text/plain": [
       "0.7375098909221389"
      ]
     },
     "execution_count": 45,
     "metadata": {},
     "output_type": "execute_result"
    }
   ],
   "source": [
    "df_traduzida['SpreadJuros'].kurt()"
   ]
  },
  {
   "cell_type": "code",
   "execution_count": 46,
   "id": "dd7f5083",
   "metadata": {},
   "outputs": [
    {
     "data": {
      "text/plain": [
       "9.774764255218999"
      ]
     },
     "execution_count": 46,
     "metadata": {},
     "output_type": "execute_result"
    }
   ],
   "source": [
    "df_traduzida['CobrançasIniciais'].kurt()"
   ]
  },
  {
   "cell_type": "code",
   "execution_count": 47,
   "id": "3ec5f338",
   "metadata": {},
   "outputs": [
    {
     "data": {
      "text/plain": [
       "9.127713320338396"
      ]
     },
     "execution_count": 47,
     "metadata": {},
     "output_type": "execute_result"
    }
   ],
   "source": [
    "df_traduzida['ValorEmpréstimo'].kurt()"
   ]
  },
  {
   "cell_type": "code",
   "execution_count": 48,
   "id": "3acd4adb",
   "metadata": {},
   "outputs": [
    {
     "data": {
      "text/plain": [
       "3.1753010573469225"
      ]
     },
     "execution_count": 48,
     "metadata": {},
     "output_type": "execute_result"
    }
   ],
   "source": [
    "df_traduzida['Mandato'].kurt()"
   ]
  },
  {
   "cell_type": "code",
   "execution_count": 49,
   "id": "1207c5db",
   "metadata": {},
   "outputs": [
    {
     "data": {
      "text/plain": [
       "943.5444455767661"
      ]
     },
     "execution_count": 49,
     "metadata": {},
     "output_type": "execute_result"
    }
   ],
   "source": [
    "df_traduzida['Renda'].kurt()"
   ]
  },
  {
   "cell_type": "code",
   "execution_count": 50,
   "id": "2abd71c2",
   "metadata": {},
   "outputs": [
    {
     "data": {
      "text/plain": [
       "-1.2026602896837821"
      ]
     },
     "execution_count": 50,
     "metadata": {},
     "output_type": "execute_result"
    }
   ],
   "source": [
    "df_traduzida['PontuaçãoCrédito'].kurt()"
   ]
  },
  {
   "cell_type": "code",
   "execution_count": 51,
   "id": "bdb3f1d2",
   "metadata": {},
   "outputs": [
    {
     "data": {
      "text/plain": [
       "-1.8554888619989163"
      ]
     },
     "execution_count": 51,
     "metadata": {},
     "output_type": "execute_result"
    }
   ],
   "source": [
    "df_traduzida['IdadeAvançada'].kurt()"
   ]
  },
  {
   "cell_type": "markdown",
   "id": "0f633d2a",
   "metadata": {},
   "source": [
    "### HISTOGRAMA"
   ]
  },
  {
   "cell_type": "code",
   "execution_count": 52,
   "id": "09749ebd",
   "metadata": {
    "scrolled": true
   },
   "outputs": [
    {
     "data": {
      "text/plain": [
       "array([[<Axes: title={'center': 'year'}>,\n",
       "        <Axes: title={'center': 'ValorEmpréstimo'}>,\n",
       "        <Axes: title={'center': 'Juros'}>,\n",
       "        <Axes: title={'center': 'SpreadJuros'}>],\n",
       "       [<Axes: title={'center': 'CobrançasIniciais'}>,\n",
       "        <Axes: title={'center': 'Mandato'}>,\n",
       "        <Axes: title={'center': 'ValorPropriedade'}>,\n",
       "        <Axes: title={'center': 'Renda'}>],\n",
       "       [<Axes: title={'center': 'PontuaçãoCrédito'}>,\n",
       "        <Axes: title={'center': 'ltv'}>,\n",
       "        <Axes: title={'center': 'status'}>,\n",
       "        <Axes: title={'center': 'AltosJuros'}>],\n",
       "       [<Axes: title={'center': 'IdadeAvançada'}>, <Axes: >, <Axes: >,\n",
       "        <Axes: >]], dtype=object)"
      ]
     },
     "execution_count": 52,
     "metadata": {},
     "output_type": "execute_result"
    },
    {
     "data": {
      "image/png": "[encoded data removed]",
      "text/plain": [
       "<Figure size 640x480 with 16 Axes>"
      ]
     },
     "metadata": {},
     "output_type": "display_data"
    }
   ],
   "source": [
    "df_traduzida.hist()"
   ]
  },
  {
   "cell_type": "code",
   "execution_count": 53,
   "id": "d1186390",
   "metadata": {},
   "outputs": [
    {
     "data": {
      "image/png": "[encoded data removed]",
      "text/plain": [
       "<Figure size 640x480 with 1 Axes>"
      ]
     },
     "metadata": {},
     "output_type": "display_data"
    }
   ],
   "source": [
    "ax = sns.histplot(df_traduzida.ValorEmpréstimo, stat=\"density\", kde=True, color='#74acd4', lw=1)"
   ]
  },
  {
   "cell_type": "code",
   "execution_count": 54,
   "id": "4450ca40",
   "metadata": {},
   "outputs": [
    {
     "data": {
      "image/png": "[encoded data removed]",
      "text/plain": [
       "<Figure size 640x480 with 1 Axes>"
      ]
     },
     "metadata": {},
     "output_type": "display_data"
    }
   ],
   "source": [
    "ax = sns.histplot(df_traduzida.Juros, stat=\"density\", kde=True, color='#74acd4', lw=1)"
   ]
  },
  {
   "cell_type": "code",
   "execution_count": 55,
   "id": "0c777b7c",
   "metadata": {},
   "outputs": [
    {
     "data": {
      "image/png": "[encoded data removed]",
      "text/plain": [
       "<Figure size 640x480 with 1 Axes>"
      ]
     },
     "metadata": {},
     "output_type": "display_data"
    }
   ],
   "source": [
    "ax = sns.histplot(df_traduzida.SpreadJuros, stat=\"density\", kde=True, color='#74acd4', lw=1)"
   ]
  },
  {
   "cell_type": "code",
   "execution_count": 56,
   "id": "393a6400",
   "metadata": {},
   "outputs": [
    {
     "data": {
      "image/png": "[encoded data removed]",
      "text/plain": [
       "<Figure size 640x480 with 1 Axes>"
      ]
     },
     "metadata": {},
     "output_type": "display_data"
    }
   ],
   "source": [
    "ax = sns.histplot(df_traduzida.CobrançasIniciais, stat=\"density\", kde=True, color='#74acd4', lw=1)"
   ]
  },
  {
   "cell_type": "code",
   "execution_count": 57,
   "id": "538f88d3",
   "metadata": {},
   "outputs": [
    {
     "data": {
      "image/png": "[encoded data removed]",
      "text/plain": [
       "<Figure size 640x480 with 1 Axes>"
      ]
     },
     "metadata": {},
     "output_type": "display_data"
    }
   ],
   "source": [
    "ax = sns.histplot(df_traduzida.ValorEmpréstimo, stat=\"density\", kde=True, color='#74acd4', lw=1)"
   ]
  },
  {
   "cell_type": "code",
   "execution_count": 58,
   "id": "7fde13f7",
   "metadata": {},
   "outputs": [
    {
     "data": {
      "image/png": "[encoded data removed]",
      "text/plain": [
       "<Figure size 640x480 with 1 Axes>"
      ]
     },
     "metadata": {},
     "output_type": "display_data"
    }
   ],
   "source": [
    "ax = sns.histplot(df_traduzida.Mandato, stat=\"density\", kde=True, color='#74acd4', lw=1)"
   ]
  },
  {
   "cell_type": "code",
   "execution_count": 59,
   "id": "0a3da8b8",
   "metadata": {},
   "outputs": [
    {
     "data": {
      "image/png": "[encoded data removed]",
      "text/plain": [
       "<Figure size 640x480 with 1 Axes>"
      ]
     },
     "metadata": {},
     "output_type": "display_data"
    }
   ],
   "source": [
    "ax = sns.histplot(df_traduzida.Renda, stat=\"density\", kde=True, color='#74acd4', lw=1)"
   ]
  },
  {
   "cell_type": "code",
   "execution_count": 60,
   "id": "1d3be878",
   "metadata": {},
   "outputs": [
    {
     "data": {
      "image/png": "[encoded data removed]",
      "text/plain": [
       "<Figure size 640x480 with 1 Axes>"
      ]
     },
     "metadata": {},
     "output_type": "display_data"
    }
   ],
   "source": [
    "ax = sns.histplot(df_traduzida.PontuaçãoCrédito, stat=\"density\", kde=True, color='#74acd4', lw=1)"
   ]
  },
  {
   "cell_type": "code",
   "execution_count": 61,
   "id": "d6cfdcb0",
   "metadata": {},
   "outputs": [
    {
     "data": {
      "image/png": "[encoded data removed]",
      "text/plain": [
       "<Figure size 640x480 with 1 Axes>"
      ]
     },
     "metadata": {},
     "output_type": "display_data"
    }
   ],
   "source": [
    "ax = sns.histplot(df_traduzida.IdadeAvançada, stat=\"density\", kde=True, color='#74acd4', lw=1)"
   ]
  },
  {
   "cell_type": "markdown",
   "id": "56f64b0e",
   "metadata": {},
   "source": [
    "### VERIFICANDO SE HÁ CORRELAÇÃO NAS VARIAVEIS"
   ]
  },
  {
   "cell_type": "code",
   "execution_count": 62,
   "id": "ad377838",
   "metadata": {},
   "outputs": [
    {
     "ename": "ValueError",
     "evalue": "could not convert string to float: 'ncf'",
     "output_type": "error",
     "traceback": [
      "\u001b[1;31m---------------------------------------------------------------------------\u001b[0m",
      "\u001b[1;31mValueError\u001b[0m                                Traceback (most recent call last)",
      "Cell \u001b[1;32mIn[62], line 13\u001b[0m\n\u001b[0;32m     11\u001b[0m plt\u001b[38;5;241m.\u001b[39mrcParams[\u001b[38;5;124m\"\u001b[39m\u001b[38;5;124mfigure.figsize\u001b[39m\u001b[38;5;124m\"\u001b[39m] \u001b[38;5;241m=\u001b[39m [\u001b[38;5;241m8.00\u001b[39m, \u001b[38;5;241m8.00\u001b[39m]\n\u001b[0;32m     12\u001b[0m plt\u001b[38;5;241m.\u001b[39mrcParams[\u001b[38;5;124m\"\u001b[39m\u001b[38;5;124mfigure.autolayout\u001b[39m\u001b[38;5;124m\"\u001b[39m] \u001b[38;5;241m=\u001b[39m \u001b[38;5;28;01mTrue\u001b[39;00m\n\u001b[1;32m---> 13\u001b[0m sns\u001b[38;5;241m.\u001b[39mheatmap(df_traduzida\u001b[38;5;241m.\u001b[39mcorr(), annot\u001b[38;5;241m=\u001b[39m\u001b[38;5;28;01mTrue\u001b[39;00m)\n\u001b[0;32m     14\u001b[0m plt\u001b[38;5;241m.\u001b[39mshow()\n",
      "File \u001b[1;32m~\\anaconda3\\Lib\\site-packages\\pandas\\core\\frame.py:10054\u001b[0m, in \u001b[0;36mDataFrame.corr\u001b[1;34m(self, method, min_periods, numeric_only)\u001b[0m\n\u001b[0;32m  10052\u001b[0m cols \u001b[38;5;241m=\u001b[39m data\u001b[38;5;241m.\u001b[39mcolumns\n\u001b[0;32m  10053\u001b[0m idx \u001b[38;5;241m=\u001b[39m cols\u001b[38;5;241m.\u001b[39mcopy()\n\u001b[1;32m> 10054\u001b[0m mat \u001b[38;5;241m=\u001b[39m data\u001b[38;5;241m.\u001b[39mto_numpy(dtype\u001b[38;5;241m=\u001b[39m\u001b[38;5;28mfloat\u001b[39m, na_value\u001b[38;5;241m=\u001b[39mnp\u001b[38;5;241m.\u001b[39mnan, copy\u001b[38;5;241m=\u001b[39m\u001b[38;5;28;01mFalse\u001b[39;00m)\n\u001b[0;32m  10056\u001b[0m \u001b[38;5;28;01mif\u001b[39;00m method \u001b[38;5;241m==\u001b[39m \u001b[38;5;124m\"\u001b[39m\u001b[38;5;124mpearson\u001b[39m\u001b[38;5;124m\"\u001b[39m:\n\u001b[0;32m  10057\u001b[0m     correl \u001b[38;5;241m=\u001b[39m libalgos\u001b[38;5;241m.\u001b[39mnancorr(mat, minp\u001b[38;5;241m=\u001b[39mmin_periods)\n",
      "File \u001b[1;32m~\\anaconda3\\Lib\\site-packages\\pandas\\core\\frame.py:1838\u001b[0m, in \u001b[0;36mDataFrame.to_numpy\u001b[1;34m(self, dtype, copy, na_value)\u001b[0m\n\u001b[0;32m   1836\u001b[0m \u001b[38;5;28;01mif\u001b[39;00m dtype \u001b[38;5;129;01mis\u001b[39;00m \u001b[38;5;129;01mnot\u001b[39;00m \u001b[38;5;28;01mNone\u001b[39;00m:\n\u001b[0;32m   1837\u001b[0m     dtype \u001b[38;5;241m=\u001b[39m np\u001b[38;5;241m.\u001b[39mdtype(dtype)\n\u001b[1;32m-> 1838\u001b[0m result \u001b[38;5;241m=\u001b[39m \u001b[38;5;28mself\u001b[39m\u001b[38;5;241m.\u001b[39m_mgr\u001b[38;5;241m.\u001b[39mas_array(dtype\u001b[38;5;241m=\u001b[39mdtype, copy\u001b[38;5;241m=\u001b[39mcopy, na_value\u001b[38;5;241m=\u001b[39mna_value)\n\u001b[0;32m   1839\u001b[0m \u001b[38;5;28;01mif\u001b[39;00m result\u001b[38;5;241m.\u001b[39mdtype \u001b[38;5;129;01mis\u001b[39;00m \u001b[38;5;129;01mnot\u001b[39;00m dtype:\n\u001b[0;32m   1840\u001b[0m     result \u001b[38;5;241m=\u001b[39m np\u001b[38;5;241m.\u001b[39marray(result, dtype\u001b[38;5;241m=\u001b[39mdtype, copy\u001b[38;5;241m=\u001b[39m\u001b[38;5;28;01mFalse\u001b[39;00m)\n",
      "File \u001b[1;32m~\\anaconda3\\Lib\\site-packages\\pandas\\core\\internals\\managers.py:1732\u001b[0m, in \u001b[0;36mBlockManager.as_array\u001b[1;34m(self, dtype, copy, na_value)\u001b[0m\n\u001b[0;32m   1730\u001b[0m         arr\u001b[38;5;241m.\u001b[39mflags\u001b[38;5;241m.\u001b[39mwriteable \u001b[38;5;241m=\u001b[39m \u001b[38;5;28;01mFalse\u001b[39;00m\n\u001b[0;32m   1731\u001b[0m \u001b[38;5;28;01melse\u001b[39;00m:\n\u001b[1;32m-> 1732\u001b[0m     arr \u001b[38;5;241m=\u001b[39m \u001b[38;5;28mself\u001b[39m\u001b[38;5;241m.\u001b[39m_interleave(dtype\u001b[38;5;241m=\u001b[39mdtype, na_value\u001b[38;5;241m=\u001b[39mna_value)\n\u001b[0;32m   1733\u001b[0m     \u001b[38;5;66;03m# The underlying data was copied within _interleave, so no need\u001b[39;00m\n\u001b[0;32m   1734\u001b[0m     \u001b[38;5;66;03m# to further copy if copy=True or setting na_value\u001b[39;00m\n\u001b[0;32m   1736\u001b[0m \u001b[38;5;28;01mif\u001b[39;00m na_value \u001b[38;5;129;01mis\u001b[39;00m \u001b[38;5;129;01mnot\u001b[39;00m lib\u001b[38;5;241m.\u001b[39mno_default:\n",
      "File \u001b[1;32m~\\anaconda3\\Lib\\site-packages\\pandas\\core\\internals\\managers.py:1794\u001b[0m, in \u001b[0;36mBlockManager._interleave\u001b[1;34m(self, dtype, na_value)\u001b[0m\n\u001b[0;32m   1792\u001b[0m     \u001b[38;5;28;01melse\u001b[39;00m:\n\u001b[0;32m   1793\u001b[0m         arr \u001b[38;5;241m=\u001b[39m blk\u001b[38;5;241m.\u001b[39mget_values(dtype)\n\u001b[1;32m-> 1794\u001b[0m     result[rl\u001b[38;5;241m.\u001b[39mindexer] \u001b[38;5;241m=\u001b[39m arr\n\u001b[0;32m   1795\u001b[0m     itemmask[rl\u001b[38;5;241m.\u001b[39mindexer] \u001b[38;5;241m=\u001b[39m \u001b[38;5;241m1\u001b[39m\n\u001b[0;32m   1797\u001b[0m \u001b[38;5;28;01mif\u001b[39;00m \u001b[38;5;129;01mnot\u001b[39;00m itemmask\u001b[38;5;241m.\u001b[39mall():\n",
      "\u001b[1;31mValueError\u001b[0m: could not convert string to float: 'ncf'"
     ]
    }
   ],
   "source": [
    "# Correlação\n",
    "# A correção é utilizada para entender como as variaveis se relacionam entre si.\n",
    "# A correção vai de -1 até +1 onde -1 significa uma forte correção negativa e +1 significa uma forte correlação positiva.\n",
    "# Correlação NÃO é causalidade, ou seja, uma relação entre as variaveis não significa que uma é a causa do valor da outra.\n",
    "\n",
    "\n",
    "plt.rcParams['xtick.labelsize'] = 10\n",
    "plt.rcParams['ytick.labelsize'] = 10\n",
    "plt.rcParams['font.size'] = 10 \n",
    "plt.rcParams['axes.titlesize'] = 20\n",
    "plt.rcParams[\"figure.figsize\"] = [8.00, 8.00]\n",
    "plt.rcParams[\"figure.autolayout\"] = True\n",
    "sns.heatmap(df_traduzida.corr(), annot=True)\n",
    "plt.show()"
   ]
  },
  {
   "cell_type": "markdown",
   "id": "517819f4",
   "metadata": {},
   "source": [
    "### Total de valores únicos de cada variável"
   ]
  },
  {
   "cell_type": "code",
   "execution_count": null,
   "id": "ba116a0c",
   "metadata": {},
   "outputs": [],
   "source": [
    "valores_unicos = []\n",
    "for i in df_traduzida.columns[0:12].tolist():\n",
    "    print(i, ':', len(df_traduzida[i].astype(str).value_counts()))\n",
    "    valores_unicos.append(len(df_traduzida[i].astype(str).value_counts()))"
   ]
  },
  {
   "cell_type": "markdown",
   "id": "e335b845",
   "metadata": {},
   "source": [
    "## verificação de outliers "
   ]
  },
  {
   "cell_type": "code",
   "execution_count": null,
   "id": "d570360d",
   "metadata": {},
   "outputs": [],
   "source": [
    "variaveis_numericas = []\n",
    "for i in df_traduzida.columns[0:16].tolist():\n",
    "        if df_traduzida.dtypes[i] == 'int64' or df_traduzida.dtypes[i] == 'float64':            \n",
    "            print(i, ':' , df_traduzida.dtypes[i]) \n",
    "            variaveis_numericas.append(i)\n",
    " \n",
    "    \n",
    "    \n",
    "    \n",
    "plt.rcParams[\"figure.figsize\"] = [14.00, 10.00]\n",
    "plt.rcParams[\"figure.autolayout\"] = True\n",
    "\n",
    "plt.rcParams['font.size'] = 10 \n",
    "plt.rcParams['axes.titlesize'] = 20\n",
    "\n",
    "f, axes = plt.subplots(3, 3) #8 linhas e 4 colunas\n",
    "\n",
    "linha = 0\n",
    "coluna = 0\n",
    "for i in variaveis_numericas:\n",
    "    sns.boxplot(data = df_traduzida, y=i, ax=axes[linha][coluna])\n",
    "    coluna += 1\n",
    "    if coluna == 3:\n",
    "        linha += 1\n",
    "        coluna = 0            \n",
    "\n",
    "plt.show() "
   ]
  },
  {
   "cell_type": "markdown",
   "id": "60efc318",
   "metadata": {},
   "source": [
    "# ANÁLISE DE DADOS "
   ]
  },
  {
   "cell_type": "code",
   "execution_count": null,
   "id": "1c965fa5",
   "metadata": {},
   "outputs": [],
   "source": [
    "df_traduzida.head(1)"
   ]
  },
  {
   "cell_type": "markdown",
   "id": "da2a5fdb",
   "metadata": {},
   "source": [
    "### AGRUPAMENTO DE DADOS\n"
   ]
  },
  {
   "cell_type": "code",
   "execution_count": null,
   "id": "7612f18b",
   "metadata": {},
   "outputs": [],
   "source": [
    "df_traduzida.groupby(df_traduzida['status']).size()"
   ]
  },
  {
   "cell_type": "code",
   "execution_count": null,
   "id": "d9546733",
   "metadata": {},
   "outputs": [],
   "source": [
    "df_traduzida.groupby(df_traduzida['LimiteEmpréstimo']).size()"
   ]
  },
  {
   "cell_type": "code",
   "execution_count": null,
   "id": "7c6717df",
   "metadata": {},
   "outputs": [],
   "source": [
    "df_traduzida.groupby(df_traduzida['Sexo']).size()"
   ]
  },
  {
   "cell_type": "code",
   "execution_count": null,
   "id": "69e479e7",
   "metadata": {},
   "outputs": [],
   "source": [
    "df_traduzida.groupby(df_traduzida['EmprestimoFoi']).size()"
   ]
  },
  {
   "cell_type": "code",
   "execution_count": null,
   "id": "92ef3e81",
   "metadata": {},
   "outputs": [],
   "source": [
    "df_traduzida.groupby(df_traduzida['TipoEmpréstimo']).size()"
   ]
  },
  {
   "cell_type": "code",
   "execution_count": null,
   "id": "2ba4fab3",
   "metadata": {},
   "outputs": [],
   "source": [
    "df_traduzida.groupby(df_traduzida['FinalidadeEmpréstimo']).size()"
   ]
  },
  {
   "cell_type": "code",
   "execution_count": null,
   "id": "c20ae271",
   "metadata": {},
   "outputs": [],
   "source": [
    "df_traduzida.groupby(df_traduzida['CapacidadeCrédito']).size()"
   ]
  },
  {
   "cell_type": "code",
   "execution_count": null,
   "id": "65f41053",
   "metadata": {},
   "outputs": [],
   "source": [
    "df_traduzida.groupby(df_traduzida['CréditoAberto']).size()"
   ]
  },
  {
   "cell_type": "code",
   "execution_count": null,
   "id": "f5041066",
   "metadata": {},
   "outputs": [],
   "source": [
    "df_traduzida.groupby(df_traduzida['NegócioOuComercial']).size()"
   ]
  },
  {
   "cell_type": "code",
   "execution_count": null,
   "id": "9d2fa5ad",
   "metadata": {},
   "outputs": [],
   "source": [
    "df_traduzida.groupby(df_traduzida['AmortizaçãoNegativa']).size()"
   ]
  },
  {
   "cell_type": "code",
   "execution_count": null,
   "id": "fa99f1bf",
   "metadata": {},
   "outputs": [],
   "source": [
    "df_traduzida.groupby(df_traduzida['PagamentoÚnico']).size()"
   ]
  },
  {
   "cell_type": "code",
   "execution_count": null,
   "id": "26722c24",
   "metadata": {},
   "outputs": [],
   "source": [
    "df_traduzida.groupby(df_traduzida['TipoConstrução']).size()"
   ]
  },
  {
   "cell_type": "code",
   "execution_count": null,
   "id": "2f54470e",
   "metadata": {},
   "outputs": [],
   "source": [
    "df_traduzida.groupby(df_traduzida['TipoOcupação']).size()"
   ]
  },
  {
   "cell_type": "code",
   "execution_count": null,
   "id": "90cfa627",
   "metadata": {},
   "outputs": [],
   "source": [
    "df_traduzida.groupby(df_traduzida['Garantidos']).size()"
   ]
  },
  {
   "cell_type": "code",
   "execution_count": null,
   "id": "cfe341b6",
   "metadata": {},
   "outputs": [],
   "source": [
    "df_traduzida.groupby(df_traduzida['UnidadesTotal']).size()"
   ]
  },
  {
   "cell_type": "code",
   "execution_count": null,
   "id": "36e3b0a1",
   "metadata": {},
   "outputs": [],
   "source": [
    "df_traduzida.groupby(df_traduzida['TipoCrédito']).size()"
   ]
  },
  {
   "cell_type": "code",
   "execution_count": null,
   "id": "9079adcd",
   "metadata": {},
   "outputs": [],
   "source": [
    "df_traduzida.groupby(df_traduzida['CréditoRequerente']).size()"
   ]
  },
  {
   "cell_type": "code",
   "execution_count": null,
   "id": "c623c0df",
   "metadata": {},
   "outputs": [],
   "source": [
    "df_traduzida.groupby(df_traduzida['Anos']).size()"
   ]
  },
  {
   "cell_type": "code",
   "execution_count": null,
   "id": "3c7bce68",
   "metadata": {},
   "outputs": [],
   "source": [
    "df_traduzida.groupby(df_traduzida['Região']).size()"
   ]
  },
  {
   "cell_type": "code",
   "execution_count": null,
   "id": "6caf89b7",
   "metadata": {},
   "outputs": [],
   "source": [
    "df_traduzida.groupby(df_traduzida['TipoSegurança']).size()"
   ]
  },
  {
   "cell_type": "code",
   "execution_count": null,
   "id": "59222940",
   "metadata": {},
   "outputs": [],
   "source": [
    "df_traduzida.groupby(df_traduzida['AltosJuros']).size()"
   ]
  },
  {
   "cell_type": "markdown",
   "id": "c254c0d5",
   "metadata": {},
   "source": [
    "### ANALISANDO RENDA, EMPRÉSTIMO E JURO DAS REGIÔES "
   ]
  },
  {
   "cell_type": "code",
   "execution_count": null,
   "id": "ec7eb0d7",
   "metadata": {},
   "outputs": [],
   "source": [
    "sexo = df_traduzida.groupby([\"Região\"]).count()[\"status\"].rename('QuantidadeRegião')\n",
    "juros = df_traduzida.groupby(['Região']).sum()['Juros'].rename('SomaJuros')\n",
    "mediajuros = df_traduzida.groupby(['Região']).mean()['Juros'].rename('MédiaJuros')\n",
    "renda = df_traduzida.groupby(['Região']).sum()['Renda'].rename('SomaRenda')\n",
    "mediarenda= df_traduzida.groupby(['Região']).mean()['Renda'].rename('MédiaRenda')\n",
    "emprestimo = df_traduzida.groupby(['Região']).sum()['ValorEmpréstimo'].rename('SomaEmpréstimo')\n",
    "mediaemprestimo= df_traduzida.groupby(['Região']).mean()['ValorEmpréstimo'].rename('MédiaEmpréstimo')\n",
    "# Dataframe para os resultados\n",
    "dados_usuarios = pd.DataFrame({\"QuantidadeRegião\":sexo,'SomaJuros':juros,'MédiaJuros':mediajuros,'SomaRenda':renda,'MédiaRenda':mediarenda,'SomaEmpréstimo':emprestimo,'MédiaEmpréstimo':mediaemprestimo})\n",
    "dados_usuarios [\"SomaRenda\"] = dados_usuarios[\"SomaRenda\"].map(\"${:,.2f}\".format)\n",
    "dados_usuarios [\"SomaJuros\"] = dados_usuarios[\"SomaJuros\"].map(\"${:,.2f}\".format)\n",
    "dados_usuarios [\"MédiaRenda\"] = dados_usuarios[\"MédiaRenda\"].map(\"${:,.2f}\".format)\n",
    "dados_usuarios [\"MédiaJuros\"] = dados_usuarios[\"MédiaJuros\"].map(\"${:,.2f}\".format)\n",
    "dados_usuarios [\"MédiaEmpréstimo\"] = dados_usuarios[\"MédiaEmpréstimo\"].map(\"${:,.2f}\".format)\n",
    "dados_usuarios [\"SomaEmpréstimo\"] = dados_usuarios[\"SomaEmpréstimo\"].map(\"${:,.2f}\".format)\n",
    "dados_usuarios.sort_values(\"QuantidadeRegião\", ascending=False).head(5)"
   ]
  },
  {
   "cell_type": "markdown",
   "id": "c220e4ec",
   "metadata": {},
   "source": [
    "### ANALISANDO RENDA, EMPRÉSTIMO E JURO DOS TIPOS DE EMPRÉSTIMOS "
   ]
  },
  {
   "cell_type": "code",
   "execution_count": null,
   "id": "e674ba5a",
   "metadata": {},
   "outputs": [],
   "source": [
    "sexo = df_traduzida.groupby([\"TipoEmpréstimo\"]).count()[\"status\"].rename('QuantidadeRegião')\n",
    "juros = df_traduzida.groupby(['TipoEmpréstimo']).sum()['Juros'].rename('SomaJuros')\n",
    "mediajuros = df_traduzida.groupby(['TipoEmpréstimo']).mean()['Juros'].rename('MédiaJuros')\n",
    "renda = df_traduzida.groupby(['TipoEmpréstimo']).sum()['Renda'].rename('SomaRenda')\n",
    "mediarenda= df_traduzida.groupby(['TipoEmpréstimo']).mean()['Renda'].rename('MédiaRenda')\n",
    "emprestimo = df_traduzida.groupby(['TipoEmpréstimo']).sum()['ValorEmpréstimo'].rename('SomaEmpréstimo')\n",
    "mediaemprestimo= df_traduzida.groupby(['TipoEmpréstimo']).mean()['ValorEmpréstimo'].rename('MédiaEmpréstimo')\n",
    "# Dataframe para os resultados\n",
    "dados_usuarios = pd.DataFrame({\"QuantidadeRegião\":sexo,'SomaJuros':juros,'MédiaJuros':mediajuros,'SomaRenda':renda,'MédiaRenda':mediarenda,'SomaEmpréstimo':emprestimo,'MédiaEmpréstimo':mediaemprestimo})\n",
    "dados_usuarios [\"SomaRenda\"] = dados_usuarios[\"SomaRenda\"].map(\"${:,.2f}\".format)\n",
    "dados_usuarios [\"SomaJuros\"] = dados_usuarios[\"SomaJuros\"].map(\"${:,.2f}\".format)\n",
    "dados_usuarios [\"MédiaRenda\"] = dados_usuarios[\"MédiaRenda\"].map(\"${:,.2f}\".format)\n",
    "dados_usuarios [\"MédiaJuros\"] = dados_usuarios[\"MédiaJuros\"].map(\"${:,.2f}\".format)\n",
    "dados_usuarios [\"MédiaEmpréstimo\"] = dados_usuarios[\"MédiaEmpréstimo\"].map(\"${:,.2f}\".format)\n",
    "dados_usuarios [\"SomaEmpréstimo\"] = dados_usuarios[\"SomaEmpréstimo\"].map(\"${:,.2f}\".format)\n",
    "dados_usuarios.sort_values(\"QuantidadeRegião\", ascending=False).head(5)"
   ]
  },
  {
   "cell_type": "markdown",
   "id": "9f83e8b6",
   "metadata": {},
   "source": [
    "### ANALISANDO RENDA, EMPRÉSTIMO E JURO DOS TIPOS DE CARTÃO DE CRÉDITO "
   ]
  },
  {
   "cell_type": "code",
   "execution_count": null,
   "id": "2ca146b6",
   "metadata": {},
   "outputs": [],
   "source": [
    "sexo = df_traduzida.groupby([\"TipoCrédito\"]).count()[\"status\"].rename('QuantidadeRegião')\n",
    "juros = df_traduzida.groupby(['TipoCrédito']).sum()['Juros'].rename('SomaJuros')\n",
    "mediajuros = df_traduzida.groupby(['TipoCrédito']).mean()['Juros'].rename('MédiaJuros')\n",
    "renda = df_traduzida.groupby(['TipoCrédito']).sum()['Renda'].rename('SomaRenda')\n",
    "mediarenda= df_traduzida.groupby(['TipoCrédito']).mean()['Renda'].rename('MédiaRenda')\n",
    "emprestimo = df_traduzida.groupby(['TipoCrédito']).sum()['ValorEmpréstimo'].rename('SomaEmpréstimo')\n",
    "mediaemprestimo= df_traduzida.groupby(['TipoCrédito']).mean()['ValorEmpréstimo'].rename('MédiaEmpréstimo')\n",
    "# Dataframe para os resultados\n",
    "dados_usuarios = pd.DataFrame({\"QuantidadeRegião\":sexo,'SomaJuros':juros,'MédiaJuros':mediajuros,'SomaRenda':renda,'MédiaRenda':mediarenda,'SomaEmpréstimo':emprestimo,'MédiaEmpréstimo':mediaemprestimo})\n",
    "dados_usuarios [\"SomaRenda\"] = dados_usuarios[\"SomaRenda\"].map(\"${:,.2f}\".format)\n",
    "dados_usuarios [\"SomaJuros\"] = dados_usuarios[\"SomaJuros\"].map(\"${:,.2f}\".format)\n",
    "dados_usuarios [\"MédiaRenda\"] = dados_usuarios[\"MédiaRenda\"].map(\"${:,.2f}\".format)\n",
    "dados_usuarios [\"MédiaJuros\"] = dados_usuarios[\"MédiaJuros\"].map(\"${:,.2f}\".format)\n",
    "dados_usuarios [\"MédiaEmpréstimo\"] = dados_usuarios[\"MédiaEmpréstimo\"].map(\"${:,.2f}\".format)\n",
    "dados_usuarios [\"SomaEmpréstimo\"] = dados_usuarios[\"SomaEmpréstimo\"].map(\"${:,.2f}\".format)\n",
    "dados_usuarios.sort_values(\"QuantidadeRegião\", ascending=False).head(5)"
   ]
  },
  {
   "cell_type": "markdown",
   "id": "259da408",
   "metadata": {},
   "source": [
    "### PLOTANDO EM UM GRAFICO"
   ]
  },
  {
   "cell_type": "code",
   "execution_count": null,
   "id": "6dbf033d",
   "metadata": {},
   "outputs": [],
   "source": [
    "# Podemos observar as informações acimas todas de uma vez através de gráficos\n",
    "\n",
    "plt.rcParams[\"figure.figsize\"] = [14.00, 8.00]\n",
    "plt.rcParams[\"figure.autolayout\"] = True\n",
    "f, axes = plt.subplots(2, 2)\n",
    "\n",
    "sns.countplot(data = df_traduzida, x=\"Sexo\", ax=axes[0][0])\n",
    "sns.countplot(data = df_traduzida, x=\"FinalidadeEmpréstimo\", ax=axes[0][1])\n",
    "sns.countplot(data = df_traduzida, x=\"TipoCrédito\", ax=axes[1][0])\n",
    "sns.countplot(data = df_traduzida, x=\"Região\", ax=axes[1][1])\n",
    "\n",
    "plt.show()"
   ]
  },
  {
   "cell_type": "code",
   "execution_count": null,
   "id": "2e60b7e7",
   "metadata": {},
   "outputs": [],
   "source": [
    "plt.rcParams[\"figure.figsize\"] = [14.00, 8.00]\n",
    "plt.rcParams[\"figure.autolayout\"] = True\n",
    "f, axes = plt.subplots(2, 2)\n",
    "\n",
    "sns.countplot(data = df_traduzida, x=\"TipoOcupação\", ax=axes[0][0])\n",
    "sns.countplot(data = df_traduzida, x=\"TipoEmpréstimo\", ax=axes[0][1])\n",
    "sns.countplot(data = df_traduzida, x=\"LimiteEmpréstimo\", ax=axes[1][0])\n",
    "sns.countplot(data = df_traduzida, x=\"Garantidos\", ax=axes[1][1])\n",
    "\n",
    "\n",
    "plt.show()"
   ]
  },
  {
   "cell_type": "code",
   "execution_count": null,
   "id": "883aa3a1",
   "metadata": {},
   "outputs": [],
   "source": [
    "# Podemos observar as informações acimas todas de uma vez através de gráficos\n",
    "\n",
    "plt.rcParams[\"figure.figsize\"] = [14.00, 8.00]\n",
    "plt.rcParams[\"figure.autolayout\"] = True\n",
    "f, axes = plt.subplots(2, 2)\n",
    "\n",
    "sns.countplot(data = df_traduzida, x=\"AltosJuros\", ax=axes[0][0])\n",
    "sns.countplot(data = df_traduzida, x=\"TipoSegurança\", ax=axes[0][1])\n",
    "sns.countplot(data = df_traduzida, x=\"CréditoRequerente\", ax=axes[1][0])\n",
    "sns.countplot(data = df_traduzida, x=\"PagamentoÚnico\", ax=axes[1][1])\n",
    "\n",
    "plt.show()"
   ]
  },
  {
   "cell_type": "code",
   "execution_count": null,
   "id": "48b117a4",
   "metadata": {},
   "outputs": [],
   "source": [
    "plt.rcParams[\"figure.figsize\"] = [14.00, 8.00]\n",
    "plt.rcParams[\"figure.autolayout\"] = True\n",
    "f, axes = plt.subplots(2, 2)\n",
    "\n",
    "sns.countplot(data = df_traduzida, x=\"Anos\", ax=axes[1][0])\n",
    "sns.countplot(data = df_traduzida, x=\"UnidadesTotal\", ax=axes[1][1])\n",
    "\n",
    "plt.show()"
   ]
  },
  {
   "cell_type": "markdown",
   "id": "4650a499",
   "metadata": {},
   "source": [
    "## SEPARANDO OS EMPRÉSTIMOS APROVADOS E REPROVADOS "
   ]
  },
  {
   "cell_type": "markdown",
   "id": "79f33ced",
   "metadata": {},
   "source": [
    "# APROVADOS -  ANÁLISE DE DADOS"
   ]
  },
  {
   "cell_type": "code",
   "execution_count": null,
   "id": "e59c7d45",
   "metadata": {},
   "outputs": [],
   "source": [
    "aprovados = df_traduzida.loc[df_traduzida['status']  == 0]\n",
    "aprovados.shape"
   ]
  },
  {
   "cell_type": "code",
   "execution_count": null,
   "id": "9c91eb9d",
   "metadata": {},
   "outputs": [],
   "source": [
    "plt.rcParams[\"figure.figsize\"] = [14.00, 8.00]\n",
    "plt.rcParams[\"figure.autolayout\"] = True\n",
    "f, axes = plt.subplots(2, 2)\n",
    "\n",
    "sns.countplot(data = aprovados, x=\"Sexo\", ax=axes[0][0])\n",
    "sns.countplot(data = aprovados, x=\"FinalidadeEmpréstimo\", ax=axes[0][1])\n",
    "sns.countplot(data = aprovados, x=\"TipoCrédito\", ax=axes[1][0])\n",
    "sns.countplot(data = aprovados, x=\"Região\", ax=axes[1][1])\n",
    "\n",
    "plt.show()"
   ]
  },
  {
   "cell_type": "code",
   "execution_count": null,
   "id": "5711a22e",
   "metadata": {},
   "outputs": [],
   "source": [
    "plt.rcParams[\"figure.figsize\"] = [14.00, 8.00]\n",
    "plt.rcParams[\"figure.autolayout\"] = True\n",
    "f, axes = plt.subplots(2, 2)\n",
    "\n",
    "sns.countplot(data = aprovados, x=\"TipoOcupação\", ax=axes[0][0])\n",
    "sns.countplot(data = aprovados, x=\"TipoEmpréstimo\", ax=axes[0][1])\n",
    "sns.countplot(data = aprovados, x=\"LimiteEmpréstimo\", ax=axes[1][0])\n",
    "sns.countplot(data = aprovados, x=\"Garantidos\", ax=axes[1][1])\n",
    "\n",
    "plt.show()"
   ]
  },
  {
   "cell_type": "code",
   "execution_count": null,
   "id": "9adc85fa",
   "metadata": {},
   "outputs": [],
   "source": [
    "plt.rcParams[\"figure.figsize\"] = [14.00, 8.00]\n",
    "plt.rcParams[\"figure.autolayout\"] = True\n",
    "f, axes = plt.subplots(2, 2)\n",
    "\n",
    "sns.countplot(data = aprovados, x=\"AltosJuros\", ax=axes[0][0])\n",
    "sns.countplot(data = aprovados, x=\"TipoSegurança\", ax=axes[0][1])\n",
    "sns.countplot(data = aprovados, x=\"CréditoRequerente\", ax=axes[1][0])\n",
    "sns.countplot(data = aprovados, x=\"PagamentoÚnico\", ax=axes[1][1])\n",
    "\n",
    "plt.show()"
   ]
  },
  {
   "cell_type": "code",
   "execution_count": null,
   "id": "27d26d5e",
   "metadata": {},
   "outputs": [],
   "source": [
    "plt.rcParams[\"figure.figsize\"] = [14.00, 8.00]\n",
    "plt.rcParams[\"figure.autolayout\"] = True\n",
    "f, axes = plt.subplots(2, 2)\n",
    "\n",
    "sns.countplot(data = aprovados, x=\"Anos\", ax=axes[1][0])\n",
    "sns.countplot(data = aprovados, x=\"UnidadesTotal\", ax=axes[1][1])\n",
    "\n",
    "plt.show()"
   ]
  },
  {
   "cell_type": "markdown",
   "id": "e05fac84",
   "metadata": {},
   "source": [
    "### ANALISANDO RENDA, EMPRÉSTIMO E JURO DAS REGIÔES"
   ]
  },
  {
   "cell_type": "code",
   "execution_count": null,
   "id": "d7f83a2c",
   "metadata": {},
   "outputs": [],
   "source": [
    "sexo = aprovados.groupby([\"Região\"]).count()[\"status\"].rename('QuantidadeRegião')\n",
    "juros = aprovados.groupby(['Região']).sum()['Juros'].rename('SomaJuros')\n",
    "mediajuros = aprovados.groupby(['Região']).mean()['Juros'].rename('MédiaJuros')\n",
    "renda = aprovados.groupby(['Região']).sum()['Renda'].rename('SomaRenda')\n",
    "mediarenda= aprovados.groupby(['Região']).mean()['Renda'].rename('MédiaRenda')\n",
    "emprestimo = aprovados.groupby(['Região']).sum()['ValorEmpréstimo'].rename('SomaEmpréstimo')\n",
    "mediaemprestimo= aprovados.groupby(['Região']).mean()['ValorEmpréstimo'].rename('MédiaEmpréstimo')\n",
    "# Dataframe para os resultados\n",
    "dados_usuarios = pd.DataFrame({\"QuantidadeRegião\":sexo,'SomaJuros':juros,'MédiaJuros':mediajuros,'SomaRenda':renda,'MédiaRenda':mediarenda,'SomaEmpréstimo':emprestimo,'MédiaEmpréstimo':mediaemprestimo})\n",
    "dados_usuarios [\"SomaRenda\"] = dados_usuarios[\"SomaRenda\"].map(\"${:,.2f}\".format)\n",
    "dados_usuarios [\"SomaJuros\"] = dados_usuarios[\"SomaJuros\"].map(\"${:,.2f}\".format)\n",
    "dados_usuarios [\"MédiaRenda\"] = dados_usuarios[\"MédiaRenda\"].map(\"${:,.2f}\".format)\n",
    "dados_usuarios [\"MédiaJuros\"] = dados_usuarios[\"MédiaJuros\"].map(\"${:,.2f}\".format)\n",
    "dados_usuarios [\"MédiaEmpréstimo\"] = dados_usuarios[\"MédiaEmpréstimo\"].map(\"${:,.2f}\".format)\n",
    "dados_usuarios [\"SomaEmpréstimo\"] = dados_usuarios[\"SomaEmpréstimo\"].map(\"${:,.2f}\".format)\n",
    "dados_usuarios.sort_values(\"QuantidadeRegião\", ascending=False).head(5)"
   ]
  },
  {
   "cell_type": "markdown",
   "id": "a419b8a5",
   "metadata": {},
   "source": [
    "### ANALISANDO RENDA, EMPRÉSTIMO E JURO DOS TIPOS DE EMPRÉSTIMOS "
   ]
  },
  {
   "cell_type": "code",
   "execution_count": null,
   "id": "08027aee",
   "metadata": {},
   "outputs": [],
   "source": [
    "sexo = aprovados.groupby([\"TipoEmpréstimo\"]).count()[\"status\"].rename('QuantidadeRegião')\n",
    "juros = aprovados.groupby(['TipoEmpréstimo']).sum()['Juros'].rename('SomaJuros')\n",
    "mediajuros = aprovados.groupby(['TipoEmpréstimo']).mean()['Juros'].rename('MédiaJuros')\n",
    "renda = aprovados.groupby(['TipoEmpréstimo']).sum()['Renda'].rename('SomaRenda')\n",
    "mediarenda= aprovados.groupby(['TipoEmpréstimo']).mean()['Renda'].rename('MédiaRenda')\n",
    "emprestimo = aprovados.groupby(['TipoEmpréstimo']).sum()['ValorEmpréstimo'].rename('SomaEmpréstimo')\n",
    "mediaemprestimo= aprovados.groupby(['TipoEmpréstimo']).mean()['ValorEmpréstimo'].rename('MédiaEmpréstimo')\n",
    "# Dataframe para os resultados\n",
    "dados_usuarios = pd.DataFrame({\"QuantidadeRegião\":sexo,'SomaJuros':juros,'MédiaJuros':mediajuros,'SomaRenda':renda,'MédiaRenda':mediarenda,'SomaEmpréstimo':emprestimo,'MédiaEmpréstimo':mediaemprestimo})\n",
    "dados_usuarios [\"SomaRenda\"] = dados_usuarios[\"SomaRenda\"].map(\"${:,.2f}\".format)\n",
    "dados_usuarios [\"SomaJuros\"] = dados_usuarios[\"SomaJuros\"].map(\"${:,.2f}\".format)\n",
    "dados_usuarios [\"MédiaRenda\"] = dados_usuarios[\"MédiaRenda\"].map(\"${:,.2f}\".format)\n",
    "dados_usuarios [\"MédiaJuros\"] = dados_usuarios[\"MédiaJuros\"].map(\"${:,.2f}\".format)\n",
    "dados_usuarios [\"MédiaEmpréstimo\"] = dados_usuarios[\"MédiaEmpréstimo\"].map(\"${:,.2f}\".format)\n",
    "dados_usuarios [\"SomaEmpréstimo\"] = dados_usuarios[\"SomaEmpréstimo\"].map(\"${:,.2f}\".format)\n",
    "dados_usuarios.sort_values(\"QuantidadeRegião\", ascending=False).head(5)"
   ]
  },
  {
   "cell_type": "markdown",
   "id": "f4dca568",
   "metadata": {},
   "source": [
    "### ANALISANDO RENDA, EMPRÉSTIMO E JURO DOS TIPOS DE CARTÃO DE CRÉDITO "
   ]
  },
  {
   "cell_type": "code",
   "execution_count": null,
   "id": "43c52fcf",
   "metadata": {},
   "outputs": [],
   "source": [
    "sexo = aprovados.groupby([\"TipoCrédito\"]).count()[\"status\"].rename('QuantidadeRegião')\n",
    "juros = aprovados.groupby(['TipoCrédito']).sum()['Juros'].rename('SomaJuros')\n",
    "mediajuros = aprovados.groupby(['TipoCrédito']).mean()['Juros'].rename('MédiaJuros')\n",
    "renda = aprovados.groupby(['TipoCrédito']).sum()['Renda'].rename('SomaRenda')\n",
    "mediarenda= aprovados.groupby(['TipoCrédito']).mean()['Renda'].rename('MédiaRenda')\n",
    "emprestimo = aprovados.groupby(['TipoCrédito']).sum()['ValorEmpréstimo'].rename('SomaEmpréstimo')\n",
    "mediaemprestimo= aprovados.groupby(['TipoCrédito']).mean()['ValorEmpréstimo'].rename('MédiaEmpréstimo')\n",
    "# Dataframe para os resultados\n",
    "dados_usuarios = pd.DataFrame({\"QuantidadeRegião\":sexo,'SomaJuros':juros,'MédiaJuros':mediajuros,'SomaRenda':renda,'MédiaRenda':mediarenda,'SomaEmpréstimo':emprestimo,'MédiaEmpréstimo':mediaemprestimo})\n",
    "dados_usuarios [\"SomaRenda\"] = dados_usuarios[\"SomaRenda\"].map(\"${:,.2f}\".format)\n",
    "dados_usuarios [\"SomaJuros\"] = dados_usuarios[\"SomaJuros\"].map(\"${:,.2f}\".format)\n",
    "dados_usuarios [\"MédiaRenda\"] = dados_usuarios[\"MédiaRenda\"].map(\"${:,.2f}\".format)\n",
    "dados_usuarios [\"MédiaJuros\"] = dados_usuarios[\"MédiaJuros\"].map(\"${:,.2f}\".format)\n",
    "dados_usuarios [\"MédiaEmpréstimo\"] = dados_usuarios[\"MédiaEmpréstimo\"].map(\"${:,.2f}\".format)\n",
    "dados_usuarios [\"SomaEmpréstimo\"] = dados_usuarios[\"SomaEmpréstimo\"].map(\"${:,.2f}\".format)\n",
    "dados_usuarios.sort_values(\"QuantidadeRegião\", ascending=False).head(5)"
   ]
  },
  {
   "cell_type": "markdown",
   "id": "cb271811",
   "metadata": {},
   "source": [
    "### ANALISANDO AS IDADES DOS EMPRÉSTIMOS APROVADO ABAIXO DE 25 ANOS"
   ]
  },
  {
   "cell_type": "code",
   "execution_count": null,
   "id": "07b10f0a",
   "metadata": {},
   "outputs": [],
   "source": [
    "abaixo_25 = aprovados.loc[aprovados['Anos']  == '<25']\n",
    "abaixo_25.shape"
   ]
  },
  {
   "cell_type": "code",
   "execution_count": null,
   "id": "fea78867",
   "metadata": {},
   "outputs": [],
   "source": [
    "\n",
    "plt.rcParams[\"figure.figsize\"] = [14.00, 8.00]\n",
    "plt.rcParams[\"figure.autolayout\"] = True\n",
    "f, axes = plt.subplots(2, 2)\n",
    "\n",
    "sns.countplot(data = abaixo_25, x=\"Sexo\", ax=axes[0][0])\n",
    "sns.countplot(data = abaixo_25, x=\"FinalidadeEmpréstimo\", ax=axes[0][1])\n",
    "sns.countplot(data = abaixo_25, x=\"TipoCrédito\", ax=axes[1][0])\n",
    "sns.countplot(data = abaixo_25, x=\"Região\", ax=axes[1][1])\n",
    "\n",
    "plt.show()"
   ]
  },
  {
   "cell_type": "code",
   "execution_count": null,
   "id": "ad748703",
   "metadata": {},
   "outputs": [],
   "source": [
    "plt.rcParams[\"figure.figsize\"] = [14.00, 8.00]\n",
    "plt.rcParams[\"figure.autolayout\"] = True\n",
    "f, axes = plt.subplots(2, 2)\n",
    "\n",
    "sns.countplot(data = abaixo_25, x=\"TipoOcupação\", ax=axes[0][0])\n",
    "sns.countplot(data = abaixo_25, x=\"TipoEmpréstimo\", ax=axes[0][1])\n",
    "sns.countplot(data = abaixo_25, x=\"LimiteEmpréstimo\", ax=axes[1][0])\n",
    "sns.countplot(data = abaixo_25, x=\"Garantidos\", ax=axes[1][1])\n",
    "\n",
    "plt.show()"
   ]
  },
  {
   "cell_type": "code",
   "execution_count": null,
   "id": "ead93f17",
   "metadata": {},
   "outputs": [],
   "source": [
    "plt.rcParams[\"figure.figsize\"] = [14.00, 8.00]\n",
    "plt.rcParams[\"figure.autolayout\"] = True\n",
    "f, axes = plt.subplots(2, 2)\n",
    "\n",
    "sns.countplot(data = abaixo_25, x=\"AltosJuros\", ax=axes[0][0])\n",
    "sns.countplot(data = abaixo_25, x=\"TipoSegurança\", ax=axes[0][1])\n",
    "sns.countplot(data = abaixo_25, x=\"CréditoRequerente\", ax=axes[1][0])\n",
    "sns.countplot(data = abaixo_25, x=\"PagamentoÚnico\", ax=axes[1][1])\n",
    "\n",
    "plt.show()"
   ]
  },
  {
   "cell_type": "code",
   "execution_count": null,
   "id": "58c13690",
   "metadata": {},
   "outputs": [],
   "source": [
    "plt.rcParams[\"figure.figsize\"] = [14.00, 8.00]\n",
    "plt.rcParams[\"figure.autolayout\"] = True\n",
    "f, axes = plt.subplots(2, 2)\n",
    "\n",
    "sns.countplot(data = abaixo_25, x=\"Anos\", ax=axes[1][0])\n",
    "sns.countplot(data = abaixo_25, x=\"UnidadesTotal\", ax=axes[1][1])\n",
    "\n",
    "plt.show()"
   ]
  },
  {
   "cell_type": "markdown",
   "id": "d73261ae",
   "metadata": {},
   "source": [
    "### ANALISANDO RENDA, EMPRÉSTIMO E JURO DAS REGIÔES "
   ]
  },
  {
   "cell_type": "code",
   "execution_count": null,
   "id": "a65ae69a",
   "metadata": {},
   "outputs": [],
   "source": [
    "sexo = abaixo_25.groupby([\"Região\"]).count()[\"status\"].rename('QuantidadeRegião')\n",
    "juros = abaixo_25.groupby(['Região']).sum()['Juros'].rename('SomaJuros')\n",
    "mediajuros = abaixo_25.groupby(['Região']).mean()['Juros'].rename('MédiaJuros')\n",
    "renda = abaixo_25.groupby(['Região']).sum()['Renda'].rename('SomaRenda')\n",
    "mediarenda= abaixo_25.groupby(['Região']).mean()['Renda'].rename('MédiaRenda')\n",
    "emprestimo = abaixo_25.groupby(['Região']).sum()['ValorEmpréstimo'].rename('SomaEmpréstimo')\n",
    "mediaemprestimo= abaixo_25.groupby(['Região']).mean()['ValorEmpréstimo'].rename('MédiaEmpréstimo')\n",
    "# Dataframe para os resultados\n",
    "dados_usuarios = pd.DataFrame({\"QuantidadeRegião\":sexo,'SomaJuros':juros,'MédiaJuros':mediajuros,'SomaRenda':renda,'MédiaRenda':mediarenda,'SomaEmpréstimo':emprestimo,'MédiaEmpréstimo':mediaemprestimo})\n",
    "dados_usuarios [\"SomaRenda\"] = dados_usuarios[\"SomaRenda\"].map(\"${:,.2f}\".format)\n",
    "dados_usuarios [\"SomaJuros\"] = dados_usuarios[\"SomaJuros\"].map(\"${:,.2f}\".format)\n",
    "dados_usuarios [\"MédiaRenda\"] = dados_usuarios[\"MédiaRenda\"].map(\"${:,.2f}\".format)\n",
    "dados_usuarios [\"MédiaJuros\"] = dados_usuarios[\"MédiaJuros\"].map(\"${:,.2f}\".format)\n",
    "dados_usuarios [\"MédiaEmpréstimo\"] = dados_usuarios[\"MédiaEmpréstimo\"].map(\"${:,.2f}\".format)\n",
    "dados_usuarios [\"SomaEmpréstimo\"] = dados_usuarios[\"SomaEmpréstimo\"].map(\"${:,.2f}\".format)\n",
    "dados_usuarios.sort_values(\"QuantidadeRegião\", ascending=False).head(5)"
   ]
  },
  {
   "cell_type": "markdown",
   "id": "c7e9f3fa",
   "metadata": {},
   "source": [
    "### ANALISANDO RENDA, EMPRÉSTIMO E JURO DOS TIPOS DE EMPRÉSTIMOS "
   ]
  },
  {
   "cell_type": "code",
   "execution_count": null,
   "id": "a9e6e77c",
   "metadata": {},
   "outputs": [],
   "source": [
    "sexo = abaixo_25.groupby([\"TipoEmpréstimo\"]).count()[\"status\"].rename('QuantidadeRegião')\n",
    "juros = abaixo_25.groupby(['TipoEmpréstimo']).sum()['Juros'].rename('SomaJuros')\n",
    "mediajuros = abaixo_25.groupby(['TipoEmpréstimo']).mean()['Juros'].rename('MédiaJuros')\n",
    "renda = abaixo_25.groupby(['TipoEmpréstimo']).sum()['Renda'].rename('SomaRenda')\n",
    "mediarenda= abaixo_25.groupby(['TipoEmpréstimo']).mean()['Renda'].rename('MédiaRenda')\n",
    "emprestimo = abaixo_25.groupby(['TipoEmpréstimo']).sum()['ValorEmpréstimo'].rename('SomaEmpréstimo')\n",
    "mediaemprestimo= abaixo_25.groupby(['TipoEmpréstimo']).mean()['ValorEmpréstimo'].rename('MédiaEmpréstimo')\n",
    "# Dataframe para os resultados\n",
    "dados_usuarios = pd.DataFrame({\"QuantidadeRegião\":sexo,'SomaJuros':juros,'MédiaJuros':mediajuros,'SomaRenda':renda,'MédiaRenda':mediarenda,'SomaEmpréstimo':emprestimo,'MédiaEmpréstimo':mediaemprestimo})\n",
    "dados_usuarios [\"SomaRenda\"] = dados_usuarios[\"SomaRenda\"].map(\"${:,.2f}\".format)\n",
    "dados_usuarios [\"SomaJuros\"] = dados_usuarios[\"SomaJuros\"].map(\"${:,.2f}\".format)\n",
    "dados_usuarios [\"MédiaRenda\"] = dados_usuarios[\"MédiaRenda\"].map(\"${:,.2f}\".format)\n",
    "dados_usuarios [\"MédiaJuros\"] = dados_usuarios[\"MédiaJuros\"].map(\"${:,.2f}\".format)\n",
    "dados_usuarios [\"MédiaEmpréstimo\"] = dados_usuarios[\"MédiaEmpréstimo\"].map(\"${:,.2f}\".format)\n",
    "dados_usuarios [\"SomaEmpréstimo\"] = dados_usuarios[\"SomaEmpréstimo\"].map(\"${:,.2f}\".format)\n",
    "dados_usuarios.sort_values(\"QuantidadeRegião\", ascending=False).head(5)"
   ]
  },
  {
   "cell_type": "markdown",
   "id": "1bd1ee09",
   "metadata": {},
   "source": [
    "### ANALISANDO RENDA, EMPRÉSTIMO E JURO DOS TIPOS DE CARTÃO DE CRÉDITO"
   ]
  },
  {
   "cell_type": "code",
   "execution_count": null,
   "id": "3bff4b00",
   "metadata": {},
   "outputs": [],
   "source": [
    "sexo = abaixo_25.groupby([\"TipoCrédito\"]).count()[\"status\"].rename('QuantidadeRegião')\n",
    "juros = abaixo_25.groupby(['TipoCrédito']).sum()['Juros'].rename('SomaJuros')\n",
    "mediajuros = abaixo_25.groupby(['TipoCrédito']).mean()['Juros'].rename('MédiaJuros')\n",
    "renda = abaixo_25.groupby(['TipoCrédito']).sum()['Renda'].rename('SomaRenda')\n",
    "mediarenda= abaixo_25.groupby(['TipoCrédito']).mean()['Renda'].rename('MédiaRenda')\n",
    "emprestimo = abaixo_25.groupby(['TipoCrédito']).sum()['ValorEmpréstimo'].rename('SomaEmpréstimo')\n",
    "mediaemprestimo= abaixo_25.groupby(['TipoCrédito']).mean()['ValorEmpréstimo'].rename('MédiaEmpréstimo')\n",
    "# Dataframe para os resultados\n",
    "dados_usuarios = pd.DataFrame({\"QuantidadeRegião\":sexo,'SomaJuros':juros,'MédiaJuros':mediajuros,'SomaRenda':renda,'MédiaRenda':mediarenda,'SomaEmpréstimo':emprestimo,'MédiaEmpréstimo':mediaemprestimo})\n",
    "dados_usuarios [\"SomaRenda\"] = dados_usuarios[\"SomaRenda\"].map(\"${:,.2f}\".format)\n",
    "dados_usuarios [\"SomaJuros\"] = dados_usuarios[\"SomaJuros\"].map(\"${:,.2f}\".format)\n",
    "dados_usuarios [\"MédiaRenda\"] = dados_usuarios[\"MédiaRenda\"].map(\"${:,.2f}\".format)\n",
    "dados_usuarios [\"MédiaJuros\"] = dados_usuarios[\"MédiaJuros\"].map(\"${:,.2f}\".format)\n",
    "dados_usuarios [\"MédiaEmpréstimo\"] = dados_usuarios[\"MédiaEmpréstimo\"].map(\"${:,.2f}\".format)\n",
    "dados_usuarios [\"SomaEmpréstimo\"] = dados_usuarios[\"SomaEmpréstimo\"].map(\"${:,.2f}\".format)\n",
    "dados_usuarios.sort_values(\"QuantidadeRegião\", ascending=False).head(5)"
   ]
  },
  {
   "cell_type": "markdown",
   "id": "f9d2fe26",
   "metadata": {},
   "source": [
    "### ANALISANDO AS IDADES DOS EMPRÉSTIMOS APROVADO ENTRE 25-34 ANOS"
   ]
  },
  {
   "cell_type": "code",
   "execution_count": null,
   "id": "575c1ec8",
   "metadata": {},
   "outputs": [],
   "source": [
    "entre_25_34 = aprovados.loc[aprovados['Anos']  == '25-34']\n",
    "entre_25_34.shape"
   ]
  },
  {
   "cell_type": "code",
   "execution_count": null,
   "id": "65e77d76",
   "metadata": {},
   "outputs": [],
   "source": [
    "# Podemos observar as informações acimas todas de uma vez através de gráficos\n",
    "\n",
    "plt.rcParams[\"figure.figsize\"] = [14.00, 8.00]\n",
    "plt.rcParams[\"figure.autolayout\"] = True\n",
    "f, axes = plt.subplots(2, 2)\n",
    "\n",
    "sns.countplot(data = entre_25_34, x=\"Sexo\", ax=axes[0][0])\n",
    "sns.countplot(data = entre_25_34, x=\"FinalidadeEmpréstimo\", ax=axes[0][1])\n",
    "sns.countplot(data = entre_25_34, x=\"TipoCrédito\", ax=axes[1][0])\n",
    "sns.countplot(data = entre_25_34, x=\"Região\", ax=axes[1][1])\n",
    "\n",
    "plt.show()"
   ]
  },
  {
   "cell_type": "code",
   "execution_count": null,
   "id": "9049ede2",
   "metadata": {},
   "outputs": [],
   "source": [
    "plt.rcParams[\"figure.figsize\"] = [14.00, 8.00]\n",
    "plt.rcParams[\"figure.autolayout\"] = True\n",
    "f, axes = plt.subplots(2, 2)\n",
    "\n",
    "sns.countplot(data = entre_25_34, x=\"TipoOcupação\", ax=axes[0][0])\n",
    "sns.countplot(data = entre_25_34, x=\"TipoEmpréstimo\", ax=axes[0][1])\n",
    "sns.countplot(data = entre_25_34, x=\"LimiteEmpréstimo\", ax=axes[1][0])\n",
    "sns.countplot(data = entre_25_34, x=\"Garantidos\", ax=axes[1][1])\n",
    "\n",
    "plt.show()"
   ]
  },
  {
   "cell_type": "code",
   "execution_count": null,
   "id": "008b7973",
   "metadata": {},
   "outputs": [],
   "source": [
    "# Podemos observar as informações acimas todas de uma vez através de gráficos\n",
    "\n",
    "plt.rcParams[\"figure.figsize\"] = [14.00, 8.00]\n",
    "plt.rcParams[\"figure.autolayout\"] = True\n",
    "f, axes = plt.subplots(2, 2)\n",
    "\n",
    "sns.countplot(data = entre_25_34, x=\"AltosJuros\", ax=axes[0][0])\n",
    "sns.countplot(data = entre_25_34, x=\"TipoSegurança\", ax=axes[0][1])\n",
    "sns.countplot(data = entre_25_34, x=\"CréditoRequerente\", ax=axes[1][0])\n",
    "sns.countplot(data = entre_25_34, x=\"PagamentoÚnico\", ax=axes[1][1])\n",
    "\n",
    "plt.show()"
   ]
  },
  {
   "cell_type": "code",
   "execution_count": null,
   "id": "53e6451a",
   "metadata": {},
   "outputs": [],
   "source": [
    "plt.rcParams[\"figure.figsize\"] = [14.00, 8.00]\n",
    "plt.rcParams[\"figure.autolayout\"] = True\n",
    "f, axes = plt.subplots(2, 2)\n",
    "\n",
    "sns.countplot(data = entre_25_34, x=\"Anos\", ax=axes[1][0])\n",
    "sns.countplot(data = entre_25_34, x=\"UnidadesTotal\", ax=axes[1][1])\n",
    "\n",
    "plt.show()"
   ]
  },
  {
   "cell_type": "markdown",
   "id": "aaa3f512",
   "metadata": {},
   "source": [
    "### ANALISANDO RENDA, EMPRÉSTIMO E JURO DAS REGIÔES "
   ]
  },
  {
   "cell_type": "code",
   "execution_count": null,
   "id": "385a63da",
   "metadata": {},
   "outputs": [],
   "source": [
    "sexo = entre_25_34.groupby([\"Região\"]).count()[\"status\"].rename('QuantidadeRegião')\n",
    "juros = entre_25_34.groupby(['Região']).sum()['Juros'].rename('SomaJuros')\n",
    "mediajuros = entre_25_34.groupby(['Região']).mean()['Juros'].rename('MédiaJuros')\n",
    "renda = entre_25_34.groupby(['Região']).sum()['Renda'].rename('SomaRenda')\n",
    "mediarenda= entre_25_34.groupby(['Região']).mean()['Renda'].rename('MédiaRenda')\n",
    "emprestimo = entre_25_34.groupby(['Região']).sum()['ValorEmpréstimo'].rename('SomaEmpréstimo')\n",
    "mediaemprestimo= entre_25_34.groupby(['Região']).mean()['ValorEmpréstimo'].rename('MédiaEmpréstimo')\n",
    "# Dataframe para os resultados\n",
    "dados_usuarios = pd.DataFrame({\"QuantidadeRegião\":sexo,'SomaJuros':juros,'MédiaJuros':mediajuros,'SomaRenda':renda,'MédiaRenda':mediarenda,'SomaEmpréstimo':emprestimo,'MédiaEmpréstimo':mediaemprestimo})\n",
    "dados_usuarios [\"SomaRenda\"] = dados_usuarios[\"SomaRenda\"].map(\"${:,.2f}\".format)\n",
    "dados_usuarios [\"SomaJuros\"] = dados_usuarios[\"SomaJuros\"].map(\"${:,.2f}\".format)\n",
    "dados_usuarios [\"MédiaRenda\"] = dados_usuarios[\"MédiaRenda\"].map(\"${:,.2f}\".format)\n",
    "dados_usuarios [\"MédiaJuros\"] = dados_usuarios[\"MédiaJuros\"].map(\"${:,.2f}\".format)\n",
    "dados_usuarios [\"MédiaEmpréstimo\"] = dados_usuarios[\"MédiaEmpréstimo\"].map(\"${:,.2f}\".format)\n",
    "dados_usuarios [\"SomaEmpréstimo\"] = dados_usuarios[\"SomaEmpréstimo\"].map(\"${:,.2f}\".format)\n",
    "dados_usuarios.sort_values(\"QuantidadeRegião\", ascending=False).head(5)"
   ]
  },
  {
   "cell_type": "markdown",
   "id": "bfc9eff3",
   "metadata": {},
   "source": [
    "### ANALISANDO RENDA, EMPRÉSTIMO E JURO DOS TIPOS DE EMPRÉSTIMOS "
   ]
  },
  {
   "cell_type": "code",
   "execution_count": null,
   "id": "2a239b40",
   "metadata": {},
   "outputs": [],
   "source": [
    "sexo = entre_25_34.groupby([\"TipoEmpréstimo\"]).count()[\"status\"].rename('QuantidadeRegião')\n",
    "juros = entre_25_34.groupby(['TipoEmpréstimo']).sum()['Juros'].rename('SomaJuros')\n",
    "mediajuros = entre_25_34.groupby(['TipoEmpréstimo']).mean()['Juros'].rename('MédiaJuros')\n",
    "renda = entre_25_34.groupby(['TipoEmpréstimo']).sum()['Renda'].rename('SomaRenda')\n",
    "mediarenda= entre_25_34.groupby(['TipoEmpréstimo']).mean()['Renda'].rename('MédiaRenda')\n",
    "emprestimo = entre_25_34.groupby(['TipoEmpréstimo']).sum()['ValorEmpréstimo'].rename('SomaEmpréstimo')\n",
    "mediaemprestimo= entre_25_34.groupby(['TipoEmpréstimo']).mean()['ValorEmpréstimo'].rename('MédiaEmpréstimo')\n",
    "# Dataframe para os resultados\n",
    "dados_usuarios = pd.DataFrame({\"QuantidadeRegião\":sexo,'SomaJuros':juros,'MédiaJuros':mediajuros,'SomaRenda':renda,'MédiaRenda':mediarenda,'SomaEmpréstimo':emprestimo,'MédiaEmpréstimo':mediaemprestimo})\n",
    "dados_usuarios [\"SomaRenda\"] = dados_usuarios[\"SomaRenda\"].map(\"${:,.2f}\".format)\n",
    "dados_usuarios [\"SomaJuros\"] = dados_usuarios[\"SomaJuros\"].map(\"${:,.2f}\".format)\n",
    "dados_usuarios [\"MédiaRenda\"] = dados_usuarios[\"MédiaRenda\"].map(\"${:,.2f}\".format)\n",
    "dados_usuarios [\"MédiaJuros\"] = dados_usuarios[\"MédiaJuros\"].map(\"${:,.2f}\".format)\n",
    "dados_usuarios [\"MédiaEmpréstimo\"] = dados_usuarios[\"MédiaEmpréstimo\"].map(\"${:,.2f}\".format)\n",
    "dados_usuarios [\"SomaEmpréstimo\"] = dados_usuarios[\"SomaEmpréstimo\"].map(\"${:,.2f}\".format)\n",
    "dados_usuarios.sort_values(\"QuantidadeRegião\", ascending=False).head(5)"
   ]
  },
  {
   "cell_type": "markdown",
   "id": "8ff590de",
   "metadata": {},
   "source": [
    "### ANALISANDO RENDA, EMPRÉSTIMO E JURO DOS TIPOS DE CARTÃO DE CRÉDITO"
   ]
  },
  {
   "cell_type": "code",
   "execution_count": null,
   "id": "ca53e112",
   "metadata": {},
   "outputs": [],
   "source": [
    "sexo = entre_25_34.groupby([\"TipoCrédito\"]).count()[\"status\"].rename('QuantidadeRegião')\n",
    "juros = entre_25_34.groupby(['TipoCrédito']).sum()['Juros'].rename('SomaJuros')\n",
    "mediajuros = entre_25_34.groupby(['TipoCrédito']).mean()['Juros'].rename('MédiaJuros')\n",
    "renda = entre_25_34.groupby(['TipoCrédito']).sum()['Renda'].rename('SomaRenda')\n",
    "mediarenda= entre_25_34.groupby(['TipoCrédito']).mean()['Renda'].rename('MédiaRenda')\n",
    "emprestimo = entre_25_34.groupby(['TipoCrédito']).sum()['ValorEmpréstimo'].rename('SomaEmpréstimo')\n",
    "mediaemprestimo= entre_25_34.groupby(['TipoCrédito']).mean()['ValorEmpréstimo'].rename('MédiaEmpréstimo')\n",
    "# Dataframe para os resultados\n",
    "dados_usuarios = pd.DataFrame({\"QuantidadeRegião\":sexo,'SomaJuros':juros,'MédiaJuros':mediajuros,'SomaRenda':renda,'MédiaRenda':mediarenda,'SomaEmpréstimo':emprestimo,'MédiaEmpréstimo':mediaemprestimo})\n",
    "dados_usuarios [\"SomaRenda\"] = dados_usuarios[\"SomaRenda\"].map(\"${:,.2f}\".format)\n",
    "dados_usuarios [\"SomaJuros\"] = dados_usuarios[\"SomaJuros\"].map(\"${:,.2f}\".format)\n",
    "dados_usuarios [\"MédiaRenda\"] = dados_usuarios[\"MédiaRenda\"].map(\"${:,.2f}\".format)\n",
    "dados_usuarios [\"MédiaJuros\"] = dados_usuarios[\"MédiaJuros\"].map(\"${:,.2f}\".format)\n",
    "dados_usuarios [\"MédiaEmpréstimo\"] = dados_usuarios[\"MédiaEmpréstimo\"].map(\"${:,.2f}\".format)\n",
    "dados_usuarios [\"SomaEmpréstimo\"] = dados_usuarios[\"SomaEmpréstimo\"].map(\"${:,.2f}\".format)\n",
    "dados_usuarios.sort_values(\"QuantidadeRegião\", ascending=False).head(5)"
   ]
  },
  {
   "cell_type": "markdown",
   "id": "709bd220",
   "metadata": {},
   "source": [
    "### ANALISANDO AS IDADES DOS EMPRÉSTIMOS APROVADO ENTRE 35-44 ANOS"
   ]
  },
  {
   "cell_type": "code",
   "execution_count": null,
   "id": "29a15184",
   "metadata": {},
   "outputs": [],
   "source": [
    "entre_35_44 = aprovados.loc[aprovados['Anos']  == '35-44']\n",
    "entre_35_44.shape"
   ]
  },
  {
   "cell_type": "code",
   "execution_count": null,
   "id": "b166c4a8",
   "metadata": {},
   "outputs": [],
   "source": [
    "# Podemos observar as informações acimas todas de uma vez através de gráficos\n",
    "\n",
    "plt.rcParams[\"figure.figsize\"] = [14.00, 8.00]\n",
    "plt.rcParams[\"figure.autolayout\"] = True\n",
    "f, axes = plt.subplots(2, 2)\n",
    "\n",
    "sns.countplot(data = entre_35_44, x=\"Sexo\", ax=axes[0][0])\n",
    "sns.countplot(data = entre_35_44, x=\"FinalidadeEmpréstimo\", ax=axes[0][1])\n",
    "sns.countplot(data = entre_35_44, x=\"TipoCrédito\", ax=axes[1][0])\n",
    "sns.countplot(data = entre_35_44, x=\"Região\", ax=axes[1][1])\n",
    "\n",
    "plt.show()"
   ]
  },
  {
   "cell_type": "code",
   "execution_count": null,
   "id": "1eb0d2e4",
   "metadata": {},
   "outputs": [],
   "source": [
    "plt.rcParams[\"figure.figsize\"] = [14.00, 8.00]\n",
    "plt.rcParams[\"figure.autolayout\"] = True\n",
    "f, axes = plt.subplots(2, 2)\n",
    "\n",
    "sns.countplot(data = entre_35_44, x=\"TipoOcupação\", ax=axes[0][0])\n",
    "sns.countplot(data = entre_35_44, x=\"TipoEmpréstimo\", ax=axes[0][1])\n",
    "sns.countplot(data = entre_35_44, x=\"LimiteEmpréstimo\", ax=axes[1][0])\n",
    "sns.countplot(data = entre_35_44, x=\"Garantidos\", ax=axes[1][1])\n",
    "\n",
    "plt.show()"
   ]
  },
  {
   "cell_type": "code",
   "execution_count": null,
   "id": "a581226b",
   "metadata": {},
   "outputs": [],
   "source": [
    "# Podemos observar as informações acimas todas de uma vez através de gráficos\n",
    "\n",
    "plt.rcParams[\"figure.figsize\"] = [14.00, 8.00]\n",
    "plt.rcParams[\"figure.autolayout\"] = True\n",
    "f, axes = plt.subplots(2, 2)\n",
    "\n",
    "sns.countplot(data = entre_35_44, x=\"AltosJuros\", ax=axes[0][0])\n",
    "sns.countplot(data = entre_35_44, x=\"TipoSegurança\", ax=axes[0][1])\n",
    "sns.countplot(data = entre_35_44, x=\"CréditoRequerente\", ax=axes[1][0])\n",
    "sns.countplot(data = entre_35_44, x=\"PagamentoÚnico\", ax=axes[1][1])\n",
    "\n",
    "plt.show()"
   ]
  },
  {
   "cell_type": "code",
   "execution_count": null,
   "id": "a7ef7c1d",
   "metadata": {},
   "outputs": [],
   "source": [
    "plt.rcParams[\"figure.figsize\"] = [14.00, 8.00]\n",
    "plt.rcParams[\"figure.autolayout\"] = True\n",
    "f, axes = plt.subplots(2, 2)\n",
    "\n",
    "sns.countplot(data = entre_35_44, x=\"Anos\", ax=axes[1][0])\n",
    "sns.countplot(data = entre_35_44, x=\"UnidadesTotal\", ax=axes[1][1])\n",
    "\n",
    "plt.show()"
   ]
  },
  {
   "cell_type": "markdown",
   "id": "46050864",
   "metadata": {},
   "source": [
    "### ANALISANDO RENDA, EMPRÉSTIMO E JURO DAS REGIÔES "
   ]
  },
  {
   "cell_type": "code",
   "execution_count": null,
   "id": "0426575d",
   "metadata": {},
   "outputs": [],
   "source": [
    "sexo = entre_35_44.groupby([\"Região\"]).count()[\"status\"].rename('QuantidadeRegião')\n",
    "juros = entre_35_44.groupby(['Região']).sum()['Juros'].rename('SomaJuros')\n",
    "mediajuros = entre_35_44.groupby(['Região']).mean()['Juros'].rename('MédiaJuros')\n",
    "renda = entre_35_44.groupby(['Região']).sum()['Renda'].rename('SomaRenda')\n",
    "mediarenda= entre_35_44.groupby(['Região']).mean()['Renda'].rename('MédiaRenda')\n",
    "emprestimo = entre_35_44.groupby(['Região']).sum()['ValorEmpréstimo'].rename('SomaEmpréstimo')\n",
    "mediaemprestimo= entre_35_44.groupby(['Região']).mean()['ValorEmpréstimo'].rename('MédiaEmpréstimo')\n",
    "# Dataframe para os resultados\n",
    "dados_usuarios = pd.DataFrame({\"QuantidadeRegião\":sexo,'SomaJuros':juros,'MédiaJuros':mediajuros,'SomaRenda':renda,'MédiaRenda':mediarenda,'SomaEmpréstimo':emprestimo,'MédiaEmpréstimo':mediaemprestimo})\n",
    "dados_usuarios [\"SomaRenda\"] = dados_usuarios[\"SomaRenda\"].map(\"${:,.2f}\".format)\n",
    "dados_usuarios [\"SomaJuros\"] = dados_usuarios[\"SomaJuros\"].map(\"${:,.2f}\".format)\n",
    "dados_usuarios [\"MédiaRenda\"] = dados_usuarios[\"MédiaRenda\"].map(\"${:,.2f}\".format)\n",
    "dados_usuarios [\"MédiaJuros\"] = dados_usuarios[\"MédiaJuros\"].map(\"${:,.2f}\".format)\n",
    "dados_usuarios [\"MédiaEmpréstimo\"] = dados_usuarios[\"MédiaEmpréstimo\"].map(\"${:,.2f}\".format)\n",
    "dados_usuarios [\"SomaEmpréstimo\"] = dados_usuarios[\"SomaEmpréstimo\"].map(\"${:,.2f}\".format)\n",
    "dados_usuarios.sort_values(\"QuantidadeRegião\", ascending=False).head(5)"
   ]
  },
  {
   "cell_type": "markdown",
   "id": "c33574fb",
   "metadata": {},
   "source": [
    "### ANALISANDO RENDA, EMPRÉSTIMO E JURO DOS TIPOS DE EMPRÉSTIMOS "
   ]
  },
  {
   "cell_type": "code",
   "execution_count": null,
   "id": "13a28add",
   "metadata": {},
   "outputs": [],
   "source": [
    "sexo = entre_35_44.groupby([\"TipoEmpréstimo\"]).count()[\"status\"].rename('QuantidadeRegião')\n",
    "juros = entre_35_44.groupby(['TipoEmpréstimo']).sum()['Juros'].rename('SomaJuros')\n",
    "mediajuros = entre_35_44.groupby(['TipoEmpréstimo']).mean()['Juros'].rename('MédiaJuros')\n",
    "renda = entre_35_44.groupby(['TipoEmpréstimo']).sum()['Renda'].rename('SomaRenda')\n",
    "mediarenda= entre_35_44.groupby(['TipoEmpréstimo']).mean()['Renda'].rename('MédiaRenda')\n",
    "emprestimo = entre_35_44.groupby(['TipoEmpréstimo']).sum()['ValorEmpréstimo'].rename('SomaEmpréstimo')\n",
    "mediaemprestimo= entre_35_44.groupby(['TipoEmpréstimo']).mean()['ValorEmpréstimo'].rename('MédiaEmpréstimo')\n",
    "# Dataframe para os resultados\n",
    "dados_usuarios = pd.DataFrame({\"QuantidadeRegião\":sexo,'SomaJuros':juros,'MédiaJuros':mediajuros,'SomaRenda':renda,'MédiaRenda':mediarenda,'SomaEmpréstimo':emprestimo,'MédiaEmpréstimo':mediaemprestimo})\n",
    "dados_usuarios [\"SomaRenda\"] = dados_usuarios[\"SomaRenda\"].map(\"${:,.2f}\".format)\n",
    "dados_usuarios [\"SomaJuros\"] = dados_usuarios[\"SomaJuros\"].map(\"${:,.2f}\".format)\n",
    "dados_usuarios [\"MédiaRenda\"] = dados_usuarios[\"MédiaRenda\"].map(\"${:,.2f}\".format)\n",
    "dados_usuarios [\"MédiaJuros\"] = dados_usuarios[\"MédiaJuros\"].map(\"${:,.2f}\".format)\n",
    "dados_usuarios [\"MédiaEmpréstimo\"] = dados_usuarios[\"MédiaEmpréstimo\"].map(\"${:,.2f}\".format)\n",
    "dados_usuarios [\"SomaEmpréstimo\"] = dados_usuarios[\"SomaEmpréstimo\"].map(\"${:,.2f}\".format)\n",
    "dados_usuarios.sort_values(\"QuantidadeRegião\", ascending=False).head(5)"
   ]
  },
  {
   "cell_type": "markdown",
   "id": "b7487c44",
   "metadata": {},
   "source": [
    "### ANALISANDO RENDA, EMPRÉSTIMO E JURO DOS TIPOS DE CARTÃO DE CRÉDITO"
   ]
  },
  {
   "cell_type": "code",
   "execution_count": null,
   "id": "ab4d6245",
   "metadata": {},
   "outputs": [],
   "source": [
    "sexo = entre_35_44.groupby([\"TipoCrédito\"]).count()[\"status\"].rename('QuantidadeRegião')\n",
    "juros = entre_35_44.groupby(['TipoCrédito']).sum()['Juros'].rename('SomaJuros')\n",
    "mediajuros = entre_35_44.groupby(['TipoCrédito']).mean()['Juros'].rename('MédiaJuros')\n",
    "renda = entre_35_44.groupby(['TipoCrédito']).sum()['Renda'].rename('SomaRenda')\n",
    "mediarenda= entre_35_44.groupby(['TipoCrédito']).mean()['Renda'].rename('MédiaRenda')\n",
    "emprestimo = entre_35_44.groupby(['TipoCrédito']).sum()['ValorEmpréstimo'].rename('SomaEmpréstimo')\n",
    "mediaemprestimo= entre_35_44.groupby(['TipoCrédito']).mean()['ValorEmpréstimo'].rename('MédiaEmpréstimo')\n",
    "# Dataframe para os resultados\n",
    "dados_usuarios = pd.DataFrame({\"QuantidadeRegião\":sexo,'SomaJuros':juros,'MédiaJuros':mediajuros,'SomaRenda':renda,'MédiaRenda':mediarenda,'SomaEmpréstimo':emprestimo,'MédiaEmpréstimo':mediaemprestimo})\n",
    "dados_usuarios [\"SomaRenda\"] = dados_usuarios[\"SomaRenda\"].map(\"${:,.2f}\".format)\n",
    "dados_usuarios [\"SomaJuros\"] = dados_usuarios[\"SomaJuros\"].map(\"${:,.2f}\".format)\n",
    "dados_usuarios [\"MédiaRenda\"] = dados_usuarios[\"MédiaRenda\"].map(\"${:,.2f}\".format)\n",
    "dados_usuarios [\"MédiaJuros\"] = dados_usuarios[\"MédiaJuros\"].map(\"${:,.2f}\".format)\n",
    "dados_usuarios [\"MédiaEmpréstimo\"] = dados_usuarios[\"MédiaEmpréstimo\"].map(\"${:,.2f}\".format)\n",
    "dados_usuarios [\"SomaEmpréstimo\"] = dados_usuarios[\"SomaEmpréstimo\"].map(\"${:,.2f}\".format)\n",
    "dados_usuarios.sort_values(\"QuantidadeRegião\", ascending=False).head(5)"
   ]
  },
  {
   "cell_type": "markdown",
   "id": "cfa261db",
   "metadata": {},
   "source": [
    "### ANALISANDO AS IDADES DOS EMPRÉSTIMOS APROVADO ENTRE 55-64 ANOS"
   ]
  },
  {
   "cell_type": "code",
   "execution_count": null,
   "id": "a0905e8c",
   "metadata": {},
   "outputs": [],
   "source": [
    "entre_55_64 = aprovados.loc[aprovados['Anos']  == '55-64']\n",
    "entre_55_64.shape"
   ]
  },
  {
   "cell_type": "code",
   "execution_count": null,
   "id": "d9a626b1",
   "metadata": {},
   "outputs": [],
   "source": [
    "# Podemos observar as informações acimas todas de uma vez através de gráficos\n",
    "\n",
    "plt.rcParams[\"figure.figsize\"] = [14.00, 8.00]\n",
    "plt.rcParams[\"figure.autolayout\"] = True\n",
    "f, axes = plt.subplots(2, 2)\n",
    "\n",
    "sns.countplot(data = entre_55_64, x=\"Sexo\", ax=axes[0][0])\n",
    "sns.countplot(data = entre_55_64, x=\"FinalidadeEmpréstimo\", ax=axes[0][1])\n",
    "sns.countplot(data = entre_55_64, x=\"TipoCrédito\", ax=axes[1][0])\n",
    "sns.countplot(data = entre_55_64, x=\"Região\", ax=axes[1][1])\n",
    "\n",
    "plt.show()"
   ]
  },
  {
   "cell_type": "code",
   "execution_count": null,
   "id": "4d192181",
   "metadata": {},
   "outputs": [],
   "source": [
    "plt.rcParams[\"figure.figsize\"] = [14.00, 8.00]\n",
    "plt.rcParams[\"figure.autolayout\"] = True\n",
    "f, axes = plt.subplots(2, 2)\n",
    "\n",
    "sns.countplot(data = entre_55_64, x=\"TipoOcupação\", ax=axes[0][0])\n",
    "sns.countplot(data = entre_55_64, x=\"TipoEmpréstimo\", ax=axes[0][1])\n",
    "sns.countplot(data = entre_55_64, x=\"LimiteEmpréstimo\", ax=axes[1][0])\n",
    "sns.countplot(data = entre_55_64, x=\"Garantidos\", ax=axes[1][1])\n",
    "\n",
    "plt.show()"
   ]
  },
  {
   "cell_type": "code",
   "execution_count": null,
   "id": "4956f9ba",
   "metadata": {},
   "outputs": [],
   "source": [
    "# Podemos observar as informações acimas todas de uma vez através de gráficos\n",
    "\n",
    "plt.rcParams[\"figure.figsize\"] = [14.00, 8.00]\n",
    "plt.rcParams[\"figure.autolayout\"] = True\n",
    "f, axes = plt.subplots(2, 2)\n",
    "\n",
    "sns.countplot(data = entre_55_64, x=\"AltosJuros\", ax=axes[0][0])\n",
    "sns.countplot(data = entre_55_64, x=\"TipoSegurança\", ax=axes[0][1])\n",
    "sns.countplot(data = entre_55_64, x=\"CréditoRequerente\", ax=axes[1][0])\n",
    "sns.countplot(data = entre_55_64, x=\"PagamentoÚnico\", ax=axes[1][1])\n",
    "\n",
    "plt.show()"
   ]
  },
  {
   "cell_type": "code",
   "execution_count": null,
   "id": "e8e6ad64",
   "metadata": {},
   "outputs": [],
   "source": [
    "plt.rcParams[\"figure.figsize\"] = [14.00, 8.00]\n",
    "plt.rcParams[\"figure.autolayout\"] = True\n",
    "f, axes = plt.subplots(2, 2)\n",
    "\n",
    "sns.countplot(data = entre_55_64, x=\"Anos\", ax=axes[1][0])\n",
    "sns.countplot(data = entre_55_64, x=\"UnidadesTotal\", ax=axes[1][1])\n",
    "\n",
    "plt.show()"
   ]
  },
  {
   "cell_type": "markdown",
   "id": "9d330783",
   "metadata": {},
   "source": [
    "### ANALISANDO RENDA, EMPRÉSTIMO E JURO DAS REGIÔES "
   ]
  },
  {
   "cell_type": "code",
   "execution_count": null,
   "id": "a7500dab",
   "metadata": {},
   "outputs": [],
   "source": [
    "sexo = entre_55_64.groupby([\"Região\"]).count()[\"status\"].rename('QuantidadeRegião')\n",
    "juros = entre_55_64.groupby(['Região']).sum()['Juros'].rename('SomaJuros')\n",
    "mediajuros = entre_55_64.groupby(['Região']).mean()['Juros'].rename('MédiaJuros')\n",
    "renda = entre_55_64.groupby(['Região']).sum()['Renda'].rename('SomaRenda')\n",
    "mediarenda= entre_55_64.groupby(['Região']).mean()['Renda'].rename('MédiaRenda')\n",
    "emprestimo = entre_55_64.groupby(['Região']).sum()['ValorEmpréstimo'].rename('SomaEmpréstimo')\n",
    "mediaemprestimo= entre_55_64.groupby(['Região']).mean()['ValorEmpréstimo'].rename('MédiaEmpréstimo')\n",
    "# Dataframe para os resultados\n",
    "dados_usuarios = pd.DataFrame({\"QuantidadeRegião\":sexo,'SomaJuros':juros,'MédiaJuros':mediajuros,'SomaRenda':renda,'MédiaRenda':mediarenda,'SomaEmpréstimo':emprestimo,'MédiaEmpréstimo':mediaemprestimo})\n",
    "dados_usuarios [\"SomaRenda\"] = dados_usuarios[\"SomaRenda\"].map(\"${:,.2f}\".format)\n",
    "dados_usuarios [\"SomaJuros\"] = dados_usuarios[\"SomaJuros\"].map(\"${:,.2f}\".format)\n",
    "dados_usuarios [\"MédiaRenda\"] = dados_usuarios[\"MédiaRenda\"].map(\"${:,.2f}\".format)\n",
    "dados_usuarios [\"MédiaJuros\"] = dados_usuarios[\"MédiaJuros\"].map(\"${:,.2f}\".format)\n",
    "dados_usuarios [\"MédiaEmpréstimo\"] = dados_usuarios[\"MédiaEmpréstimo\"].map(\"${:,.2f}\".format)\n",
    "dados_usuarios [\"SomaEmpréstimo\"] = dados_usuarios[\"SomaEmpréstimo\"].map(\"${:,.2f}\".format)\n",
    "dados_usuarios.sort_values(\"QuantidadeRegião\", ascending=False).head(5)"
   ]
  },
  {
   "cell_type": "markdown",
   "id": "aef0af54",
   "metadata": {},
   "source": [
    "### ANALISANDO RENDA, EMPRÉSTIMO E JURO DOS TIPOS DE EMPRÉSTIMOS "
   ]
  },
  {
   "cell_type": "code",
   "execution_count": null,
   "id": "f2e14487",
   "metadata": {},
   "outputs": [],
   "source": [
    "sexo = entre_55_64.groupby([\"TipoEmpréstimo\"]).count()[\"status\"].rename('QuantidadeRegião')\n",
    "juros = entre_55_64.groupby(['TipoEmpréstimo']).sum()['Juros'].rename('SomaJuros')\n",
    "mediajuros = entre_55_64.groupby(['TipoEmpréstimo']).mean()['Juros'].rename('MédiaJuros')\n",
    "renda = entre_55_64.groupby(['TipoEmpréstimo']).sum()['Renda'].rename('SomaRenda')\n",
    "mediarenda= entre_55_64.groupby(['TipoEmpréstimo']).mean()['Renda'].rename('MédiaRenda')\n",
    "emprestimo = entre_55_64.groupby(['TipoEmpréstimo']).sum()['ValorEmpréstimo'].rename('SomaEmpréstimo')\n",
    "mediaemprestimo= entre_55_64.groupby(['TipoEmpréstimo']).mean()['ValorEmpréstimo'].rename('MédiaEmpréstimo')\n",
    "# Dataframe para os resultados\n",
    "dados_usuarios = pd.DataFrame({\"QuantidadeRegião\":sexo,'SomaJuros':juros,'MédiaJuros':mediajuros,'SomaRenda':renda,'MédiaRenda':mediarenda,'SomaEmpréstimo':emprestimo,'MédiaEmpréstimo':mediaemprestimo})\n",
    "dados_usuarios [\"SomaRenda\"] = dados_usuarios[\"SomaRenda\"].map(\"${:,.2f}\".format)\n",
    "dados_usuarios [\"SomaJuros\"] = dados_usuarios[\"SomaJuros\"].map(\"${:,.2f}\".format)\n",
    "dados_usuarios [\"MédiaRenda\"] = dados_usuarios[\"MédiaRenda\"].map(\"${:,.2f}\".format)\n",
    "dados_usuarios [\"MédiaJuros\"] = dados_usuarios[\"MédiaJuros\"].map(\"${:,.2f}\".format)\n",
    "dados_usuarios [\"MédiaEmpréstimo\"] = dados_usuarios[\"MédiaEmpréstimo\"].map(\"${:,.2f}\".format)\n",
    "dados_usuarios [\"SomaEmpréstimo\"] = dados_usuarios[\"SomaEmpréstimo\"].map(\"${:,.2f}\".format)\n",
    "dados_usuarios.sort_values(\"QuantidadeRegião\", ascending=False).head(5)"
   ]
  },
  {
   "cell_type": "markdown",
   "id": "ccda5aa9",
   "metadata": {},
   "source": [
    "### ANALISANDO RENDA, EMPRÉSTIMO E JURO DOS TIPOS DE CARTÃO DE CRÉDITO"
   ]
  },
  {
   "cell_type": "code",
   "execution_count": null,
   "id": "be7b70f0",
   "metadata": {},
   "outputs": [],
   "source": [
    "sexo = entre_55_64.groupby([\"TipoCrédito\"]).count()[\"status\"].rename('QuantidadeRegião')\n",
    "juros = entre_55_64.groupby(['TipoCrédito']).sum()['Juros'].rename('SomaJuros')\n",
    "mediajuros = entre_55_64.groupby(['TipoCrédito']).mean()['Juros'].rename('MédiaJuros')\n",
    "renda = entre_55_64.groupby(['TipoCrédito']).sum()['Renda'].rename('SomaRenda')\n",
    "mediarenda= entre_55_64.groupby(['TipoCrédito']).mean()['Renda'].rename('MédiaRenda')\n",
    "emprestimo = entre_55_64.groupby(['TipoCrédito']).sum()['ValorEmpréstimo'].rename('SomaEmpréstimo')\n",
    "mediaemprestimo= entre_55_64.groupby(['TipoCrédito']).mean()['ValorEmpréstimo'].rename('MédiaEmpréstimo')\n",
    "# Dataframe para os resultados\n",
    "dados_usuarios = pd.DataFrame({\"QuantidadeRegião\":sexo,'SomaJuros':juros,'MédiaJuros':mediajuros,'SomaRenda':renda,'MédiaRenda':mediarenda,'SomaEmpréstimo':emprestimo,'MédiaEmpréstimo':mediaemprestimo})\n",
    "dados_usuarios [\"SomaRenda\"] = dados_usuarios[\"SomaRenda\"].map(\"${:,.2f}\".format)\n",
    "dados_usuarios [\"SomaJuros\"] = dados_usuarios[\"SomaJuros\"].map(\"${:,.2f}\".format)\n",
    "dados_usuarios [\"MédiaRenda\"] = dados_usuarios[\"MédiaRenda\"].map(\"${:,.2f}\".format)\n",
    "dados_usuarios [\"MédiaJuros\"] = dados_usuarios[\"MédiaJuros\"].map(\"${:,.2f}\".format)\n",
    "dados_usuarios [\"MédiaEmpréstimo\"] = dados_usuarios[\"MédiaEmpréstimo\"].map(\"${:,.2f}\".format)\n",
    "dados_usuarios [\"SomaEmpréstimo\"] = dados_usuarios[\"SomaEmpréstimo\"].map(\"${:,.2f}\".format)\n",
    "dados_usuarios.sort_values(\"QuantidadeRegião\", ascending=False).head(5)"
   ]
  },
  {
   "cell_type": "markdown",
   "id": "42048684",
   "metadata": {},
   "source": [
    "### ANALISANDO AS IDADES DOS EMPRÉSTIMOS APROVADO ENTRE 65-74 ANOS"
   ]
  },
  {
   "cell_type": "code",
   "execution_count": null,
   "id": "02325f1d",
   "metadata": {},
   "outputs": [],
   "source": [
    "entre_65_74 = aprovados.loc[aprovados['Anos']  == '65-74']\n",
    "entre_65_74.shape"
   ]
  },
  {
   "cell_type": "code",
   "execution_count": null,
   "id": "1bb2a54f",
   "metadata": {},
   "outputs": [],
   "source": [
    "# Podemos observar as informações acimas todas de uma vez através de gráficos\n",
    "\n",
    "plt.rcParams[\"figure.figsize\"] = [14.00, 8.00]\n",
    "plt.rcParams[\"figure.autolayout\"] = True\n",
    "f, axes = plt.subplots(2, 2)\n",
    "\n",
    "sns.countplot(data = entre_65_74, x=\"Sexo\", ax=axes[0][0])\n",
    "sns.countplot(data = entre_65_74, x=\"FinalidadeEmpréstimo\", ax=axes[0][1])\n",
    "sns.countplot(data = entre_65_74, x=\"TipoCrédito\", ax=axes[1][0])\n",
    "sns.countplot(data = entre_65_74, x=\"Região\", ax=axes[1][1])\n",
    "\n",
    "plt.show()"
   ]
  },
  {
   "cell_type": "code",
   "execution_count": null,
   "id": "b7153daf",
   "metadata": {},
   "outputs": [],
   "source": [
    "plt.rcParams[\"figure.figsize\"] = [14.00, 8.00]\n",
    "plt.rcParams[\"figure.autolayout\"] = True\n",
    "f, axes = plt.subplots(2, 2)\n",
    "\n",
    "sns.countplot(data = entre_65_74, x=\"TipoOcupação\", ax=axes[0][0])\n",
    "sns.countplot(data = entre_65_74, x=\"TipoEmpréstimo\", ax=axes[0][1])\n",
    "sns.countplot(data = entre_65_74, x=\"LimiteEmpréstimo\", ax=axes[1][0])\n",
    "sns.countplot(data = entre_65_74, x=\"Garantidos\", ax=axes[1][1])\n",
    "\n",
    "plt.show()"
   ]
  },
  {
   "cell_type": "code",
   "execution_count": null,
   "id": "c0a17d65",
   "metadata": {},
   "outputs": [],
   "source": [
    "# Podemos observar as informações acimas todas de uma vez através de gráficos\n",
    "\n",
    "plt.rcParams[\"figure.figsize\"] = [14.00, 8.00]\n",
    "plt.rcParams[\"figure.autolayout\"] = True\n",
    "f, axes = plt.subplots(2, 2)\n",
    "\n",
    "sns.countplot(data = entre_65_74, x=\"AltosJuros\", ax=axes[0][0])\n",
    "sns.countplot(data = entre_65_74, x=\"TipoSegurança\", ax=axes[0][1])\n",
    "sns.countplot(data = entre_65_74, x=\"CréditoRequerente\", ax=axes[1][0])\n",
    "sns.countplot(data = entre_65_74, x=\"PagamentoÚnico\", ax=axes[1][1])\n",
    "\n",
    "plt.show()"
   ]
  },
  {
   "cell_type": "code",
   "execution_count": null,
   "id": "2b04bf58",
   "metadata": {},
   "outputs": [],
   "source": [
    "plt.rcParams[\"figure.figsize\"] = [14.00, 8.00]\n",
    "plt.rcParams[\"figure.autolayout\"] = True\n",
    "f, axes = plt.subplots(2, 2)\n",
    "\n",
    "sns.countplot(data = entre_65_74, x=\"Anos\", ax=axes[1][0])\n",
    "sns.countplot(data = entre_65_74, x=\"UnidadesTotal\", ax=axes[1][1])\n",
    "\n",
    "plt.show()"
   ]
  },
  {
   "cell_type": "markdown",
   "id": "f1cb799e",
   "metadata": {},
   "source": [
    "### ANALISANDO RENDA, EMPRÉSTIMO E JURO DAS REGIÔES "
   ]
  },
  {
   "cell_type": "code",
   "execution_count": null,
   "id": "7474a5ad",
   "metadata": {},
   "outputs": [],
   "source": [
    "sexo = entre_65_74.groupby([\"Região\"]).count()[\"status\"].rename('QuantidadeRegião')\n",
    "juros = entre_65_74.groupby(['Região']).sum()['Juros'].rename('SomaJuros')\n",
    "mediajuros = entre_65_74.groupby(['Região']).mean()['Juros'].rename('MédiaJuros')\n",
    "renda = entre_65_74.groupby(['Região']).sum()['Renda'].rename('SomaRenda')\n",
    "mediarenda= entre_65_74.groupby(['Região']).mean()['Renda'].rename('MédiaRenda')\n",
    "emprestimo = entre_65_74.groupby(['Região']).sum()['ValorEmpréstimo'].rename('SomaEmpréstimo')\n",
    "mediaemprestimo= entre_65_74.groupby(['Região']).mean()['ValorEmpréstimo'].rename('MédiaEmpréstimo')\n",
    "# Dataframe para os resultados\n",
    "dados_usuarios = pd.DataFrame({\"QuantidadeRegião\":sexo,'SomaJuros':juros,'MédiaJuros':mediajuros,'SomaRenda':renda,'MédiaRenda':mediarenda,'SomaEmpréstimo':emprestimo,'MédiaEmpréstimo':mediaemprestimo})\n",
    "dados_usuarios [\"SomaRenda\"] = dados_usuarios[\"SomaRenda\"].map(\"${:,.2f}\".format)\n",
    "dados_usuarios [\"SomaJuros\"] = dados_usuarios[\"SomaJuros\"].map(\"${:,.2f}\".format)\n",
    "dados_usuarios [\"MédiaRenda\"] = dados_usuarios[\"MédiaRenda\"].map(\"${:,.2f}\".format)\n",
    "dados_usuarios [\"MédiaJuros\"] = dados_usuarios[\"MédiaJuros\"].map(\"${:,.2f}\".format)\n",
    "dados_usuarios [\"MédiaEmpréstimo\"] = dados_usuarios[\"MédiaEmpréstimo\"].map(\"${:,.2f}\".format)\n",
    "dados_usuarios [\"SomaEmpréstimo\"] = dados_usuarios[\"SomaEmpréstimo\"].map(\"${:,.2f}\".format)\n",
    "dados_usuarios.sort_values(\"QuantidadeRegião\", ascending=False).head(5)"
   ]
  },
  {
   "cell_type": "markdown",
   "id": "6c4070ce",
   "metadata": {},
   "source": [
    "### ANALISANDO RENDA, EMPRÉSTIMO E JURO DOS TIPOS DE EMPRÉSTIMOS "
   ]
  },
  {
   "cell_type": "code",
   "execution_count": null,
   "id": "24198744",
   "metadata": {},
   "outputs": [],
   "source": [
    "sexo = entre_65_74.groupby([\"TipoEmpréstimo\"]).count()[\"status\"].rename('QuantidadeRegião')\n",
    "juros = entre_65_74.groupby(['TipoEmpréstimo']).sum()['Juros'].rename('SomaJuros')\n",
    "mediajuros = entre_65_74.groupby(['TipoEmpréstimo']).mean()['Juros'].rename('MédiaJuros')\n",
    "renda = entre_65_74.groupby(['TipoEmpréstimo']).sum()['Renda'].rename('SomaRenda')\n",
    "mediarenda= entre_65_74.groupby(['TipoEmpréstimo']).mean()['Renda'].rename('MédiaRenda')\n",
    "emprestimo = entre_55_64.groupby(['TipoEmpréstimo']).sum()['ValorEmpréstimo'].rename('SomaEmpréstimo')\n",
    "mediaemprestimo= entre_65_74.groupby(['TipoEmpréstimo']).mean()['ValorEmpréstimo'].rename('MédiaEmpréstimo')\n",
    "# Dataframe para os resultados\n",
    "dados_usuarios = pd.DataFrame({\"QuantidadeRegião\":sexo,'SomaJuros':juros,'MédiaJuros':mediajuros,'SomaRenda':renda,'MédiaRenda':mediarenda,'SomaEmpréstimo':emprestimo,'MédiaEmpréstimo':mediaemprestimo})\n",
    "dados_usuarios [\"SomaRenda\"] = dados_usuarios[\"SomaRenda\"].map(\"${:,.2f}\".format)\n",
    "dados_usuarios [\"SomaJuros\"] = dados_usuarios[\"SomaJuros\"].map(\"${:,.2f}\".format)\n",
    "dados_usuarios [\"MédiaRenda\"] = dados_usuarios[\"MédiaRenda\"].map(\"${:,.2f}\".format)\n",
    "dados_usuarios [\"MédiaJuros\"] = dados_usuarios[\"MédiaJuros\"].map(\"${:,.2f}\".format)\n",
    "dados_usuarios [\"MédiaEmpréstimo\"] = dados_usuarios[\"MédiaEmpréstimo\"].map(\"${:,.2f}\".format)\n",
    "dados_usuarios [\"SomaEmpréstimo\"] = dados_usuarios[\"SomaEmpréstimo\"].map(\"${:,.2f}\".format)\n",
    "dados_usuarios.sort_values(\"QuantidadeRegião\", ascending=False).head(5)"
   ]
  },
  {
   "cell_type": "markdown",
   "id": "2cd163a7",
   "metadata": {},
   "source": [
    "### ANALISANDO RENDA, EMPRÉSTIMO E JURO DOS TIPOS DE CARTÃO DE CRÉDITO"
   ]
  },
  {
   "cell_type": "code",
   "execution_count": null,
   "id": "32a85445",
   "metadata": {},
   "outputs": [],
   "source": [
    "sexo = entre_65_74.groupby([\"TipoCrédito\"]).count()[\"status\"].rename('QuantidadeRegião')\n",
    "juros = entre_65_74.groupby(['TipoCrédito']).sum()['Juros'].rename('SomaJuros')\n",
    "mediajuros = entre_65_74.groupby(['TipoCrédito']).mean()['Juros'].rename('MédiaJuros')\n",
    "renda = entre_65_74.groupby(['TipoCrédito']).sum()['Renda'].rename('SomaRenda')\n",
    "mediarenda= entre_65_74.groupby(['TipoCrédito']).mean()['Renda'].rename('MédiaRenda')\n",
    "emprestimo = entre_65_74.groupby(['TipoCrédito']).sum()['ValorEmpréstimo'].rename('SomaEmpréstimo')\n",
    "mediaemprestimo= entre_65_74.groupby(['TipoCrédito']).mean()['ValorEmpréstimo'].rename('MédiaEmpréstimo')\n",
    "# Dataframe para os resultados\n",
    "dados_usuarios = pd.DataFrame({\"QuantidadeRegião\":sexo,'SomaJuros':juros,'MédiaJuros':mediajuros,'SomaRenda':renda,'MédiaRenda':mediarenda,'SomaEmpréstimo':emprestimo,'MédiaEmpréstimo':mediaemprestimo})\n",
    "dados_usuarios [\"SomaRenda\"] = dados_usuarios[\"SomaRenda\"].map(\"${:,.2f}\".format)\n",
    "dados_usuarios [\"SomaJuros\"] = dados_usuarios[\"SomaJuros\"].map(\"${:,.2f}\".format)\n",
    "dados_usuarios [\"MédiaRenda\"] = dados_usuarios[\"MédiaRenda\"].map(\"${:,.2f}\".format)\n",
    "dados_usuarios [\"MédiaJuros\"] = dados_usuarios[\"MédiaJuros\"].map(\"${:,.2f}\".format)\n",
    "dados_usuarios [\"MédiaEmpréstimo\"] = dados_usuarios[\"MédiaEmpréstimo\"].map(\"${:,.2f}\".format)\n",
    "dados_usuarios [\"SomaEmpréstimo\"] = dados_usuarios[\"SomaEmpréstimo\"].map(\"${:,.2f}\".format)\n",
    "dados_usuarios.sort_values(\"QuantidadeRegião\", ascending=False).head(5)"
   ]
  },
  {
   "cell_type": "markdown",
   "id": "e09b898f",
   "metadata": {},
   "source": [
    "### ANALISANDO AS IDADES DOS EMPRÉSTIMOS APROVADO MAIOR DE 74 ANOS"
   ]
  },
  {
   "cell_type": "code",
   "execution_count": null,
   "id": "57cc6e1a",
   "metadata": {},
   "outputs": [],
   "source": [
    "maior_74 = aprovados.loc[aprovados['Anos']  == '>74']\n",
    "maior_74.shape"
   ]
  },
  {
   "cell_type": "code",
   "execution_count": null,
   "id": "608dcb75",
   "metadata": {},
   "outputs": [],
   "source": [
    "# Podemos observar as informações acimas todas de uma vez através de gráficos\n",
    "\n",
    "plt.rcParams[\"figure.figsize\"] = [14.00, 8.00]\n",
    "plt.rcParams[\"figure.autolayout\"] = True\n",
    "f, axes = plt.subplots(2, 2)\n",
    "\n",
    "sns.countplot(data = maior_74, x=\"Sexo\", ax=axes[0][0])\n",
    "sns.countplot(data = maior_74, x=\"FinalidadeEmpréstimo\", ax=axes[0][1])\n",
    "sns.countplot(data = maior_74, x=\"TipoCrédito\", ax=axes[1][0])\n",
    "sns.countplot(data = maior_74, x=\"Região\", ax=axes[1][1])\n",
    "\n",
    "plt.show()"
   ]
  },
  {
   "cell_type": "code",
   "execution_count": null,
   "id": "844f7be6",
   "metadata": {},
   "outputs": [],
   "source": [
    "plt.rcParams[\"figure.figsize\"] = [14.00, 8.00]\n",
    "plt.rcParams[\"figure.autolayout\"] = True\n",
    "f, axes = plt.subplots(2, 2)\n",
    "\n",
    "sns.countplot(data = maior_74, x=\"TipoOcupação\", ax=axes[0][0])\n",
    "sns.countplot(data = maior_74, x=\"TipoEmpréstimo\", ax=axes[0][1])\n",
    "sns.countplot(data = maior_74, x=\"LimiteEmpréstimo\", ax=axes[1][0])\n",
    "sns.countplot(data = maior_74, x=\"Garantidos\", ax=axes[1][1])\n",
    "\n",
    "plt.show()"
   ]
  },
  {
   "cell_type": "code",
   "execution_count": null,
   "id": "1727afc7",
   "metadata": {},
   "outputs": [],
   "source": [
    "# Podemos observar as informações acimas todas de uma vez através de gráficos\n",
    "\n",
    "plt.rcParams[\"figure.figsize\"] = [14.00, 8.00]\n",
    "plt.rcParams[\"figure.autolayout\"] = True\n",
    "f, axes = plt.subplots(2, 2)\n",
    "\n",
    "sns.countplot(data = maior_74, x=\"AltosJuros\", ax=axes[0][0])\n",
    "sns.countplot(data = maior_74, x=\"TipoSegurança\", ax=axes[0][1])\n",
    "sns.countplot(data = maior_74, x=\"CréditoRequerente\", ax=axes[1][0])\n",
    "sns.countplot(data = maior_74, x=\"PagamentoÚnico\", ax=axes[1][1])\n",
    "\n",
    "plt.show()"
   ]
  },
  {
   "cell_type": "code",
   "execution_count": null,
   "id": "eacb26e9",
   "metadata": {},
   "outputs": [],
   "source": [
    "plt.rcParams[\"figure.figsize\"] = [14.00, 8.00]\n",
    "plt.rcParams[\"figure.autolayout\"] = True\n",
    "f, axes = plt.subplots(2, 2)\n",
    "\n",
    "sns.countplot(data = maior_74, x=\"Anos\", ax=axes[1][0])\n",
    "sns.countplot(data = maior_74, x=\"UnidadesTotal\", ax=axes[1][1])\n",
    "\n",
    "plt.show()"
   ]
  },
  {
   "cell_type": "markdown",
   "id": "c1750bdc",
   "metadata": {},
   "source": [
    "### ANALISANDO RENDA, EMPRÉSTIMO E JURO DAS REGIÔES "
   ]
  },
  {
   "cell_type": "code",
   "execution_count": null,
   "id": "58a07947",
   "metadata": {},
   "outputs": [],
   "source": [
    "sexo = maior_74.groupby([\"Região\"]).count()[\"status\"].rename('QuantidadeRegião')\n",
    "juros = maior_74.groupby(['Região']).sum()['Juros'].rename('SomaJuros')\n",
    "mediajuros = maior_74.groupby(['Região']).mean()['Juros'].rename('MédiaJuros')\n",
    "renda = maior_74.groupby(['Região']).sum()['Renda'].rename('SomaRenda')\n",
    "mediarenda= maior_74.groupby(['Região']).mean()['Renda'].rename('MédiaRenda')\n",
    "emprestimo = maior_74.groupby(['Região']).sum()['ValorEmpréstimo'].rename('SomaEmpréstimo')\n",
    "mediaemprestimo= maior_74.groupby(['Região']).mean()['ValorEmpréstimo'].rename('MédiaEmpréstimo')\n",
    "# Dataframe para os resultados\n",
    "dados_usuarios = pd.DataFrame({\"QuantidadeRegião\":sexo,'SomaJuros':juros,'MédiaJuros':mediajuros,'SomaRenda':renda,'MédiaRenda':mediarenda,'SomaEmpréstimo':emprestimo,'MédiaEmpréstimo':mediaemprestimo})\n",
    "dados_usuarios [\"SomaRenda\"] = dados_usuarios[\"SomaRenda\"].map(\"${:,.2f}\".format)\n",
    "dados_usuarios [\"SomaJuros\"] = dados_usuarios[\"SomaJuros\"].map(\"${:,.2f}\".format)\n",
    "dados_usuarios [\"MédiaRenda\"] = dados_usuarios[\"MédiaRenda\"].map(\"${:,.2f}\".format)\n",
    "dados_usuarios [\"MédiaJuros\"] = dados_usuarios[\"MédiaJuros\"].map(\"${:,.2f}\".format)\n",
    "dados_usuarios [\"MédiaEmpréstimo\"] = dados_usuarios[\"MédiaEmpréstimo\"].map(\"${:,.2f}\".format)\n",
    "dados_usuarios [\"SomaEmpréstimo\"] = dados_usuarios[\"SomaEmpréstimo\"].map(\"${:,.2f}\".format)\n",
    "dados_usuarios.sort_values(\"QuantidadeRegião\", ascending=False).head(5)"
   ]
  },
  {
   "cell_type": "markdown",
   "id": "0789096c",
   "metadata": {},
   "source": [
    "### ANALISANDO RENDA, EMPRÉSTIMO E JURO DOS TIPOS DE EMPRÉSTIMOS "
   ]
  },
  {
   "cell_type": "code",
   "execution_count": null,
   "id": "86feee0e",
   "metadata": {},
   "outputs": [],
   "source": [
    "sexo = maior_74.groupby([\"TipoEmpréstimo\"]).count()[\"status\"].rename('QuantidadeRegião')\n",
    "juros = maior_74.groupby(['TipoEmpréstimo']).sum()['Juros'].rename('SomaJuros')\n",
    "mediajuros = maior_74.groupby(['TipoEmpréstimo']).mean()['Juros'].rename('MédiaJuros')\n",
    "renda = maior_74.groupby(['TipoEmpréstimo']).sum()['Renda'].rename('SomaRenda')\n",
    "mediarenda= maior_74.groupby(['TipoEmpréstimo']).mean()['Renda'].rename('MédiaRenda')\n",
    "emprestimo = maior_74.groupby(['TipoEmpréstimo']).sum()['ValorEmpréstimo'].rename('SomaEmpréstimo')\n",
    "mediaemprestimo= maior_74.groupby(['TipoEmpréstimo']).mean()['ValorEmpréstimo'].rename('MédiaEmpréstimo')\n",
    "# Dataframe para os resultados\n",
    "dados_usuarios = pd.DataFrame({\"QuantidadeRegião\":sexo,'SomaJuros':juros,'MédiaJuros':mediajuros,'SomaRenda':renda,'MédiaRenda':mediarenda,'SomaEmpréstimo':emprestimo,'MédiaEmpréstimo':mediaemprestimo})\n",
    "dados_usuarios [\"SomaRenda\"] = dados_usuarios[\"SomaRenda\"].map(\"${:,.2f}\".format)\n",
    "dados_usuarios [\"SomaJuros\"] = dados_usuarios[\"SomaJuros\"].map(\"${:,.2f}\".format)\n",
    "dados_usuarios [\"MédiaRenda\"] = dados_usuarios[\"MédiaRenda\"].map(\"${:,.2f}\".format)\n",
    "dados_usuarios [\"MédiaJuros\"] = dados_usuarios[\"MédiaJuros\"].map(\"${:,.2f}\".format)\n",
    "dados_usuarios [\"MédiaEmpréstimo\"] = dados_usuarios[\"MédiaEmpréstimo\"].map(\"${:,.2f}\".format)\n",
    "dados_usuarios [\"SomaEmpréstimo\"] = dados_usuarios[\"SomaEmpréstimo\"].map(\"${:,.2f}\".format)\n",
    "dados_usuarios.sort_values(\"QuantidadeRegião\", ascending=False).head(5)"
   ]
  },
  {
   "cell_type": "markdown",
   "id": "7979893c",
   "metadata": {},
   "source": [
    "### ANALISANDO RENDA, EMPRÉSTIMO E JURO DOS TIPOS DE CARTÃO DE CRÉDITO"
   ]
  },
  {
   "cell_type": "code",
   "execution_count": null,
   "id": "8e448515",
   "metadata": {},
   "outputs": [],
   "source": [
    "sexo = maior_74.groupby([\"TipoCrédito\"]).count()[\"status\"].rename('QuantidadeRegião')\n",
    "juros = maior_74.groupby(['TipoCrédito']).sum()['Juros'].rename('SomaJuros')\n",
    "mediajuros = maior_74.groupby(['TipoCrédito']).mean()['Juros'].rename('MédiaJuros')\n",
    "renda = maior_74.groupby(['TipoCrédito']).sum()['Renda'].rename('SomaRenda')\n",
    "mediarenda= maior_74.groupby(['TipoCrédito']).mean()['Renda'].rename('MédiaRenda')\n",
    "emprestimo = maior_74.groupby(['TipoCrédito']).sum()['ValorEmpréstimo'].rename('SomaEmpréstimo')\n",
    "mediaemprestimo= maior_74.groupby(['TipoCrédito']).mean()['ValorEmpréstimo'].rename('MédiaEmpréstimo')\n",
    "# Dataframe para os resultados\n",
    "dados_usuarios = pd.DataFrame({\"QuantidadeRegião\":sexo,'SomaJuros':juros,'MédiaJuros':mediajuros,'SomaRenda':renda,'MédiaRenda':mediarenda,'SomaEmpréstimo':emprestimo,'MédiaEmpréstimo':mediaemprestimo})\n",
    "dados_usuarios [\"SomaRenda\"] = dados_usuarios[\"SomaRenda\"].map(\"${:,.2f}\".format)\n",
    "dados_usuarios [\"SomaJuros\"] = dados_usuarios[\"SomaJuros\"].map(\"${:,.2f}\".format)\n",
    "dados_usuarios [\"MédiaRenda\"] = dados_usuarios[\"MédiaRenda\"].map(\"${:,.2f}\".format)\n",
    "dados_usuarios [\"MédiaJuros\"] = dados_usuarios[\"MédiaJuros\"].map(\"${:,.2f}\".format)\n",
    "dados_usuarios [\"MédiaEmpréstimo\"] = dados_usuarios[\"MédiaEmpréstimo\"].map(\"${:,.2f}\".format)\n",
    "dados_usuarios [\"SomaEmpréstimo\"] = dados_usuarios[\"SomaEmpréstimo\"].map(\"${:,.2f}\".format)\n",
    "dados_usuarios.sort_values(\"QuantidadeRegião\", ascending=False).head(5)"
   ]
  },
  {
   "cell_type": "markdown",
   "id": "da5a56e7",
   "metadata": {},
   "source": [
    "# REPROVADOS -  ANÁLISE DE DADOS"
   ]
  },
  {
   "cell_type": "code",
   "execution_count": null,
   "id": "58d0ffb4",
   "metadata": {},
   "outputs": [],
   "source": [
    "reprovados = df_traduzida.loc[df_traduzida['status']  == 1]\n",
    "reprovados.shape"
   ]
  },
  {
   "cell_type": "code",
   "execution_count": null,
   "id": "db556633",
   "metadata": {},
   "outputs": [],
   "source": [
    "# Podemos observar as informações acimas todas de uma vez através de gráficos\n",
    "\n",
    "plt.rcParams[\"figure.figsize\"] = [14.00, 8.00]\n",
    "plt.rcParams[\"figure.autolayout\"] = True\n",
    "f, axes = plt.subplots(2, 2)\n",
    "\n",
    "sns.countplot(data = reprovados, x=\"Sexo\", ax=axes[0][0])\n",
    "sns.countplot(data = reprovados, x=\"FinalidadeEmpréstimo\", ax=axes[0][1])\n",
    "sns.countplot(data = reprovados, x=\"TipoCrédito\", ax=axes[1][0])\n",
    "sns.countplot(data = reprovados, x=\"Região\", ax=axes[1][1])\n",
    "\n",
    "plt.show()"
   ]
  },
  {
   "cell_type": "code",
   "execution_count": null,
   "id": "6a9815a9",
   "metadata": {},
   "outputs": [],
   "source": [
    "plt.rcParams[\"figure.figsize\"] = [14.00, 8.00]\n",
    "plt.rcParams[\"figure.autolayout\"] = True\n",
    "f, axes = plt.subplots(2, 2)\n",
    "\n",
    "sns.countplot(data = reprovados, x=\"TipoOcupação\", ax=axes[0][0])\n",
    "sns.countplot(data = reprovados, x=\"TipoEmpréstimo\", ax=axes[0][1])\n",
    "sns.countplot(data = reprovados, x=\"LimiteEmpréstimo\", ax=axes[1][0])\n",
    "sns.countplot(data = reprovados, x=\"Garantidos\", ax=axes[1][1])\n",
    "\n",
    "plt.show()"
   ]
  },
  {
   "cell_type": "code",
   "execution_count": null,
   "id": "c419e718",
   "metadata": {},
   "outputs": [],
   "source": [
    "# Podemos observar as informações acimas todas de uma vez através de gráficos\n",
    "\n",
    "plt.rcParams[\"figure.figsize\"] = [14.00, 8.00]\n",
    "plt.rcParams[\"figure.autolayout\"] = True\n",
    "f, axes = plt.subplots(2, 2)\n",
    "\n",
    "sns.countplot(data = reprovados, x=\"AltosJuros\", ax=axes[0][0])\n",
    "sns.countplot(data = reprovados, x=\"TipoSegurança\", ax=axes[0][1])\n",
    "sns.countplot(data = reprovados, x=\"CréditoRequerente\", ax=axes[1][0])\n",
    "sns.countplot(data = reprovados, x=\"PagamentoÚnico\", ax=axes[1][1])\n",
    "\n",
    "plt.show()"
   ]
  },
  {
   "cell_type": "code",
   "execution_count": null,
   "id": "f9e6551b",
   "metadata": {},
   "outputs": [],
   "source": [
    "plt.rcParams[\"figure.figsize\"] = [14.00, 8.00]\n",
    "plt.rcParams[\"figure.autolayout\"] = True\n",
    "f, axes = plt.subplots(2, 2)\n",
    "\n",
    "sns.countplot(data = reprovados, x=\"Anos\", ax=axes[1][0])\n",
    "sns.countplot(data = reprovados, x=\"UnidadesTotal\", ax=axes[1][1])\n",
    "\n",
    "plt.show()"
   ]
  },
  {
   "cell_type": "markdown",
   "id": "f31c3d92",
   "metadata": {},
   "source": [
    "### ANALISANDO RENDA, EMPRÉSTIMO E JURO DAS REGIÔES "
   ]
  },
  {
   "cell_type": "code",
   "execution_count": null,
   "id": "b4e6169d",
   "metadata": {},
   "outputs": [],
   "source": [
    "sexo = reprovados.groupby([\"Região\"]).count()[\"status\"].rename('QuantidadeRegião')\n",
    "juros = reprovados.groupby(['Região']).sum()['Juros'].rename('SomaJuros')\n",
    "mediajuros = reprovados.groupby(['Região']).mean()['Juros'].rename('MédiaJuros')\n",
    "renda = reprovados.groupby(['Região']).sum()['Renda'].rename('SomaRenda')\n",
    "mediarenda= reprovados.groupby(['Região']).mean()['Renda'].rename('MédiaRenda')\n",
    "emprestimo = reprovados.groupby(['Região']).sum()['ValorEmpréstimo'].rename('SomaEmpréstimo')\n",
    "mediaemprestimo= reprovados.groupby(['Região']).mean()['ValorEmpréstimo'].rename('MédiaEmpréstimo')\n",
    "# Dataframe para os resultados\n",
    "dados_usuarios = pd.DataFrame({\"QuantidadeRegião\":sexo,'SomaJuros':juros,'MédiaJuros':mediajuros,'SomaRenda':renda,'MédiaRenda':mediarenda,'SomaEmpréstimo':emprestimo,'MédiaEmpréstimo':mediaemprestimo})\n",
    "dados_usuarios [\"SomaRenda\"] = dados_usuarios[\"SomaRenda\"].map(\"${:,.2f}\".format)\n",
    "dados_usuarios [\"SomaJuros\"] = dados_usuarios[\"SomaJuros\"].map(\"${:,.2f}\".format)\n",
    "dados_usuarios [\"MédiaRenda\"] = dados_usuarios[\"MédiaRenda\"].map(\"${:,.2f}\".format)\n",
    "dados_usuarios [\"MédiaJuros\"] = dados_usuarios[\"MédiaJuros\"].map(\"${:,.2f}\".format)\n",
    "dados_usuarios [\"MédiaEmpréstimo\"] = dados_usuarios[\"MédiaEmpréstimo\"].map(\"${:,.2f}\".format)\n",
    "dados_usuarios [\"SomaEmpréstimo\"] = dados_usuarios[\"SomaEmpréstimo\"].map(\"${:,.2f}\".format)\n",
    "dados_usuarios.sort_values(\"QuantidadeRegião\", ascending=False).head(5)"
   ]
  },
  {
   "cell_type": "markdown",
   "id": "b82d2263",
   "metadata": {},
   "source": [
    "### ANALISANDO RENDA, EMPRÉSTIMO E JURO DOS TIPOS DE EMPRÉSTIMOS "
   ]
  },
  {
   "cell_type": "code",
   "execution_count": null,
   "id": "8b132a3e",
   "metadata": {},
   "outputs": [],
   "source": [
    "sexo = reprovados.groupby([\"TipoEmpréstimo\"]).count()[\"status\"].rename('QuantidadeRegião')\n",
    "juros = reprovados.groupby(['TipoEmpréstimo']).sum()['Juros'].rename('SomaJuros')\n",
    "mediajuros = reprovados.groupby(['TipoEmpréstimo']).mean()['Juros'].rename('MédiaJuros')\n",
    "renda = reprovados.groupby(['TipoEmpréstimo']).sum()['Renda'].rename('SomaRenda')\n",
    "mediarenda= reprovados.groupby(['TipoEmpréstimo']).mean()['Renda'].rename('MédiaRenda')\n",
    "emprestimo = reprovados.groupby(['TipoEmpréstimo']).sum()['ValorEmpréstimo'].rename('SomaEmpréstimo')\n",
    "mediaemprestimo= reprovados.groupby(['TipoEmpréstimo']).mean()['ValorEmpréstimo'].rename('MédiaEmpréstimo')\n",
    "# Dataframe para os resultados\n",
    "dados_usuarios = pd.DataFrame({\"QuantidadeRegião\":sexo,'SomaJuros':juros,'MédiaJuros':mediajuros,'SomaRenda':renda,'MédiaRenda':mediarenda,'SomaEmpréstimo':emprestimo,'MédiaEmpréstimo':mediaemprestimo})\n",
    "dados_usuarios [\"SomaRenda\"] = dados_usuarios[\"SomaRenda\"].map(\"${:,.2f}\".format)\n",
    "dados_usuarios [\"SomaJuros\"] = dados_usuarios[\"SomaJuros\"].map(\"${:,.2f}\".format)\n",
    "dados_usuarios [\"MédiaRenda\"] = dados_usuarios[\"MédiaRenda\"].map(\"${:,.2f}\".format)\n",
    "dados_usuarios [\"MédiaJuros\"] = dados_usuarios[\"MédiaJuros\"].map(\"${:,.2f}\".format)\n",
    "dados_usuarios [\"MédiaEmpréstimo\"] = dados_usuarios[\"MédiaEmpréstimo\"].map(\"${:,.2f}\".format)\n",
    "dados_usuarios [\"SomaEmpréstimo\"] = dados_usuarios[\"SomaEmpréstimo\"].map(\"${:,.2f}\".format)\n",
    "dados_usuarios.sort_values(\"QuantidadeRegião\", ascending=False).head(5)"
   ]
  },
  {
   "cell_type": "markdown",
   "id": "adc326dc",
   "metadata": {},
   "source": [
    "### ANALISANDO RENDA, EMPRÉSTIMO E JURO DOS TIPOS DE CARTÃO DE CRÉDITO"
   ]
  },
  {
   "cell_type": "code",
   "execution_count": null,
   "id": "3381fbf9",
   "metadata": {},
   "outputs": [],
   "source": [
    "sexo = reprovados.groupby([\"TipoCrédito\"]).count()[\"status\"].rename('QuantidadeRegião')\n",
    "juros = reprovados.groupby(['TipoCrédito']).sum()['Juros'].rename('SomaJuros')\n",
    "mediajuros = reprovados.groupby(['TipoCrédito']).mean()['Juros'].rename('MédiaJuros')\n",
    "renda = reprovados.groupby(['TipoCrédito']).sum()['Renda'].rename('SomaRenda')\n",
    "mediarenda= reprovados.groupby(['TipoCrédito']).mean()['Renda'].rename('MédiaRenda')\n",
    "emprestimo = reprovados.groupby(['TipoCrédito']).sum()['ValorEmpréstimo'].rename('SomaEmpréstimo')\n",
    "mediaemprestimo= reprovados.groupby(['TipoCrédito']).mean()['ValorEmpréstimo'].rename('MédiaEmpréstimo')\n",
    "# Dataframe para os resultados\n",
    "dados_usuarios = pd.DataFrame({\"QuantidadeRegião\":sexo,'SomaJuros':juros,'MédiaJuros':mediajuros,'SomaRenda':renda,'MédiaRenda':mediarenda,'SomaEmpréstimo':emprestimo,'MédiaEmpréstimo':mediaemprestimo})\n",
    "dados_usuarios [\"SomaRenda\"] = dados_usuarios[\"SomaRenda\"].map(\"${:,.2f}\".format)\n",
    "dados_usuarios [\"SomaJuros\"] = dados_usuarios[\"SomaJuros\"].map(\"${:,.2f}\".format)\n",
    "dados_usuarios [\"MédiaRenda\"] = dados_usuarios[\"MédiaRenda\"].map(\"${:,.2f}\".format)\n",
    "dados_usuarios [\"MédiaJuros\"] = dados_usuarios[\"MédiaJuros\"].map(\"${:,.2f}\".format)\n",
    "dados_usuarios [\"MédiaEmpréstimo\"] = dados_usuarios[\"MédiaEmpréstimo\"].map(\"${:,.2f}\".format)\n",
    "dados_usuarios [\"SomaEmpréstimo\"] = dados_usuarios[\"SomaEmpréstimo\"].map(\"${:,.2f}\".format)\n",
    "dados_usuarios.sort_values(\"QuantidadeRegião\", ascending=False).head(5)"
   ]
  },
  {
   "cell_type": "markdown",
   "id": "a2b9cd4a",
   "metadata": {},
   "source": [
    "### ANALISANDO AS IDADES DOS EMPRÉSTIMOS REPROVADO ABAIXO DE 25 ANOS"
   ]
  },
  {
   "cell_type": "code",
   "execution_count": null,
   "id": "c6f34890",
   "metadata": {},
   "outputs": [],
   "source": [
    "abaixo_25_reprovados = reprovados.loc[reprovados['Anos']  == '<25']\n",
    "abaixo_25_reprovados.shape"
   ]
  },
  {
   "cell_type": "code",
   "execution_count": null,
   "id": "fc9ac190",
   "metadata": {},
   "outputs": [],
   "source": [
    "# Podemos observar as informações acimas todas de uma vez através de gráficos\n",
    "\n",
    "plt.rcParams[\"figure.figsize\"] = [14.00, 8.00]\n",
    "plt.rcParams[\"figure.autolayout\"] = True\n",
    "f, axes = plt.subplots(2, 2)\n",
    "\n",
    "sns.countplot(data = abaixo_25_reprovados, x=\"Sexo\", ax=axes[0][0])\n",
    "sns.countplot(data = abaixo_25_reprovados, x=\"FinalidadeEmpréstimo\", ax=axes[0][1])\n",
    "sns.countplot(data = abaixo_25_reprovados, x=\"TipoCrédito\", ax=axes[1][0])\n",
    "sns.countplot(data = abaixo_25_reprovados, x=\"Região\", ax=axes[1][1])\n",
    "\n",
    "plt.show()"
   ]
  },
  {
   "cell_type": "code",
   "execution_count": null,
   "id": "93e4a0f4",
   "metadata": {},
   "outputs": [],
   "source": [
    "plt.rcParams[\"figure.figsize\"] = [14.00, 8.00]\n",
    "plt.rcParams[\"figure.autolayout\"] = True\n",
    "f, axes = plt.subplots(2, 2)\n",
    "\n",
    "sns.countplot(data = abaixo_25_reprovados, x=\"TipoOcupação\", ax=axes[0][0])\n",
    "sns.countplot(data = abaixo_25_reprovados, x=\"TipoEmpréstimo\", ax=axes[0][1])\n",
    "sns.countplot(data = abaixo_25_reprovados, x=\"LimiteEmpréstimo\", ax=axes[1][0])\n",
    "sns.countplot(data = abaixo_25_reprovados, x=\"Garantidos\", ax=axes[1][1])\n",
    "\n",
    "plt.show()"
   ]
  },
  {
   "cell_type": "code",
   "execution_count": null,
   "id": "212b5452",
   "metadata": {},
   "outputs": [],
   "source": [
    "# Podemos observar as informações acimas todas de uma vez através de gráficos\n",
    "\n",
    "plt.rcParams[\"figure.figsize\"] = [14.00, 8.00]\n",
    "plt.rcParams[\"figure.autolayout\"] = True\n",
    "f, axes = plt.subplots(2, 2)\n",
    "\n",
    "sns.countplot(data = abaixo_25_reprovados, x=\"AltosJuros\", ax=axes[0][0])\n",
    "sns.countplot(data = abaixo_25_reprovados, x=\"TipoSegurança\", ax=axes[0][1])\n",
    "sns.countplot(data = abaixo_25_reprovados, x=\"CréditoRequerente\", ax=axes[1][0])\n",
    "sns.countplot(data = abaixo_25_reprovados, x=\"PagamentoÚnico\", ax=axes[1][1])\n",
    "\n",
    "plt.show()"
   ]
  },
  {
   "cell_type": "code",
   "execution_count": null,
   "id": "ae9941cd",
   "metadata": {},
   "outputs": [],
   "source": [
    "plt.rcParams[\"figure.figsize\"] = [14.00, 8.00]\n",
    "plt.rcParams[\"figure.autolayout\"] = True\n",
    "f, axes = plt.subplots(2, 2)\n",
    "\n",
    "sns.countplot(data = abaixo_25_reprovados, x=\"Anos\", ax=axes[1][0])\n",
    "sns.countplot(data = abaixo_25_reprovados, x=\"UnidadesTotal\", ax=axes[1][1])\n",
    "\n",
    "plt.show()"
   ]
  },
  {
   "cell_type": "markdown",
   "id": "76e2d7ad",
   "metadata": {},
   "source": [
    "### ANALISANDO RENDA, EMPRÉSTIMO E JURO DAS REGIÔES "
   ]
  },
  {
   "cell_type": "code",
   "execution_count": null,
   "id": "de5a6c80",
   "metadata": {},
   "outputs": [],
   "source": [
    "sexo = abaixo_25_reprovados.groupby([\"Região\"]).count()[\"status\"].rename('QuantidadeRegião')\n",
    "juros = abaixo_25_reprovados.groupby(['Região']).sum()['Juros'].rename('SomaJuros')\n",
    "mediajuros = abaixo_25_reprovados.groupby(['Região']).mean()['Juros'].rename('MédiaJuros')\n",
    "renda = abaixo_25_reprovados.groupby(['Região']).sum()['Renda'].rename('SomaRenda')\n",
    "mediarenda= abaixo_25_reprovados.groupby(['Região']).mean()['Renda'].rename('MédiaRenda')\n",
    "emprestimo = abaixo_25_reprovados.groupby(['Região']).sum()['ValorEmpréstimo'].rename('SomaEmpréstimo')\n",
    "mediaemprestimo= abaixo_25_reprovados.groupby(['Região']).mean()['ValorEmpréstimo'].rename('MédiaEmpréstimo')\n",
    "# Dataframe para os resultados\n",
    "dados_usuarios = pd.DataFrame({\"QuantidadeRegião\":sexo,'SomaJuros':juros,'MédiaJuros':mediajuros,'SomaRenda':renda,'MédiaRenda':mediarenda,'SomaEmpréstimo':emprestimo,'MédiaEmpréstimo':mediaemprestimo})\n",
    "dados_usuarios [\"SomaRenda\"] = dados_usuarios[\"SomaRenda\"].map(\"${:,.2f}\".format)\n",
    "dados_usuarios [\"SomaJuros\"] = dados_usuarios[\"SomaJuros\"].map(\"${:,.2f}\".format)\n",
    "dados_usuarios [\"MédiaRenda\"] = dados_usuarios[\"MédiaRenda\"].map(\"${:,.2f}\".format)\n",
    "dados_usuarios [\"MédiaJuros\"] = dados_usuarios[\"MédiaJuros\"].map(\"${:,.2f}\".format)\n",
    "dados_usuarios [\"MédiaEmpréstimo\"] = dados_usuarios[\"MédiaEmpréstimo\"].map(\"${:,.2f}\".format)\n",
    "dados_usuarios [\"SomaEmpréstimo\"] = dados_usuarios[\"SomaEmpréstimo\"].map(\"${:,.2f}\".format)\n",
    "dados_usuarios.sort_values(\"QuantidadeRegião\", ascending=False).head(5)"
   ]
  },
  {
   "cell_type": "markdown",
   "id": "95cb466e",
   "metadata": {},
   "source": [
    "### ANALISANDO RENDA, EMPRÉSTIMO E JURO DOS TIPOS DE EMPRÉSTIMOS "
   ]
  },
  {
   "cell_type": "code",
   "execution_count": null,
   "id": "76c6e586",
   "metadata": {},
   "outputs": [],
   "source": [
    "sexo = abaixo_25_reprovados.groupby([\"TipoEmpréstimo\"]).count()[\"status\"].rename('QuantidadeRegião')\n",
    "juros = abaixo_25_reprovados.groupby(['TipoEmpréstimo']).sum()['Juros'].rename('SomaJuros')\n",
    "mediajuros = abaixo_25_reprovados.groupby(['TipoEmpréstimo']).mean()['Juros'].rename('MédiaJuros')\n",
    "renda = abaixo_25_reprovados.groupby(['TipoEmpréstimo']).sum()['Renda'].rename('SomaRenda')\n",
    "mediarenda= abaixo_25_reprovados.groupby(['TipoEmpréstimo']).mean()['Renda'].rename('MédiaRenda')\n",
    "emprestimo = abaixo_25_reprovados.groupby(['TipoEmpréstimo']).sum()['ValorEmpréstimo'].rename('SomaEmpréstimo')\n",
    "mediaemprestimo= abaixo_25_reprovados.groupby(['TipoEmpréstimo']).mean()['ValorEmpréstimo'].rename('MédiaEmpréstimo')\n",
    "# Dataframe para os resultados\n",
    "dados_usuarios = pd.DataFrame({\"QuantidadeRegião\":sexo,'SomaJuros':juros,'MédiaJuros':mediajuros,'SomaRenda':renda,'MédiaRenda':mediarenda,'SomaEmpréstimo':emprestimo,'MédiaEmpréstimo':mediaemprestimo})\n",
    "dados_usuarios [\"SomaRenda\"] = dados_usuarios[\"SomaRenda\"].map(\"${:,.2f}\".format)\n",
    "dados_usuarios [\"SomaJuros\"] = dados_usuarios[\"SomaJuros\"].map(\"${:,.2f}\".format)\n",
    "dados_usuarios [\"MédiaRenda\"] = dados_usuarios[\"MédiaRenda\"].map(\"${:,.2f}\".format)\n",
    "dados_usuarios [\"MédiaJuros\"] = dados_usuarios[\"MédiaJuros\"].map(\"${:,.2f}\".format)\n",
    "dados_usuarios [\"MédiaEmpréstimo\"] = dados_usuarios[\"MédiaEmpréstimo\"].map(\"${:,.2f}\".format)\n",
    "dados_usuarios [\"SomaEmpréstimo\"] = dados_usuarios[\"SomaEmpréstimo\"].map(\"${:,.2f}\".format)\n",
    "dados_usuarios.sort_values(\"QuantidadeRegião\", ascending=False).head(5)"
   ]
  },
  {
   "cell_type": "markdown",
   "id": "10074c8b",
   "metadata": {},
   "source": [
    "### ANALISANDO RENDA, EMPRÉSTIMO E JURO DOS TIPOS DE CARTÃO DE CRÉDITO"
   ]
  },
  {
   "cell_type": "code",
   "execution_count": null,
   "id": "904b9b22",
   "metadata": {},
   "outputs": [],
   "source": [
    "sexo = abaixo_25_reprovados.groupby([\"TipoCrédito\"]).count()[\"status\"].rename('QuantidadeRegião')\n",
    "juros = abaixo_25_reprovados.groupby(['TipoCrédito']).sum()['Juros'].rename('SomaJuros')\n",
    "mediajuros = abaixo_25_reprovados.groupby(['TipoCrédito']).mean()['Juros'].rename('MédiaJuros')\n",
    "renda = abaixo_25_reprovados.groupby(['TipoCrédito']).sum()['Renda'].rename('SomaRenda')\n",
    "mediarenda= abaixo_25_reprovados.groupby(['TipoCrédito']).mean()['Renda'].rename('MédiaRenda')\n",
    "emprestimo = abaixo_25_reprovados.groupby(['TipoCrédito']).sum()['ValorEmpréstimo'].rename('SomaEmpréstimo')\n",
    "mediaemprestimo= abaixo_25_reprovados.groupby(['TipoCrédito']).mean()['ValorEmpréstimo'].rename('MédiaEmpréstimo')\n",
    "# Dataframe para os resultados\n",
    "dados_usuarios = pd.DataFrame({\"QuantidadeRegião\":sexo,'SomaJuros':juros,'MédiaJuros':mediajuros,'SomaRenda':renda,'MédiaRenda':mediarenda,'SomaEmpréstimo':emprestimo,'MédiaEmpréstimo':mediaemprestimo})\n",
    "dados_usuarios [\"SomaRenda\"] = dados_usuarios[\"SomaRenda\"].map(\"${:,.2f}\".format)\n",
    "dados_usuarios [\"SomaJuros\"] = dados_usuarios[\"SomaJuros\"].map(\"${:,.2f}\".format)\n",
    "dados_usuarios [\"MédiaRenda\"] = dados_usuarios[\"MédiaRenda\"].map(\"${:,.2f}\".format)\n",
    "dados_usuarios [\"MédiaJuros\"] = dados_usuarios[\"MédiaJuros\"].map(\"${:,.2f}\".format)\n",
    "dados_usuarios [\"MédiaEmpréstimo\"] = dados_usuarios[\"MédiaEmpréstimo\"].map(\"${:,.2f}\".format)\n",
    "dados_usuarios [\"SomaEmpréstimo\"] = dados_usuarios[\"SomaEmpréstimo\"].map(\"${:,.2f}\".format)\n",
    "dados_usuarios.sort_values(\"QuantidadeRegião\", ascending=False).head(5)"
   ]
  },
  {
   "cell_type": "markdown",
   "id": "7564d7fb",
   "metadata": {},
   "source": [
    "### ANALISANDO AS IDADES DOS EMPRÉSTIMOS REPROVADO ENTRE 25-34 ANOS"
   ]
  },
  {
   "cell_type": "code",
   "execution_count": null,
   "id": "2f5223e2",
   "metadata": {},
   "outputs": [],
   "source": [
    "entre_25_34_reprovados = reprovados.loc[reprovados['Anos']  == '25-34']\n",
    "entre_25_34_reprovados.shape"
   ]
  },
  {
   "cell_type": "code",
   "execution_count": null,
   "id": "539058b3",
   "metadata": {},
   "outputs": [],
   "source": [
    "# Podemos observar as informações acimas todas de uma vez através de gráficos\n",
    "\n",
    "plt.rcParams[\"figure.figsize\"] = [14.00, 8.00]\n",
    "plt.rcParams[\"figure.autolayout\"] = True\n",
    "f, axes = plt.subplots(2, 2)\n",
    "\n",
    "sns.countplot(data = entre_25_34_reprovados, x=\"Sexo\", ax=axes[0][0])\n",
    "sns.countplot(data = entre_25_34_reprovados, x=\"FinalidadeEmpréstimo\", ax=axes[0][1])\n",
    "sns.countplot(data = entre_25_34_reprovados, x=\"TipoCrédito\", ax=axes[1][0])\n",
    "sns.countplot(data = entre_25_34_reprovados, x=\"Região\", ax=axes[1][1])\n",
    "\n",
    "plt.show()"
   ]
  },
  {
   "cell_type": "code",
   "execution_count": null,
   "id": "410105d7",
   "metadata": {},
   "outputs": [],
   "source": [
    "plt.rcParams[\"figure.figsize\"] = [14.00, 8.00]\n",
    "plt.rcParams[\"figure.autolayout\"] = True\n",
    "f, axes = plt.subplots(2, 2)\n",
    "\n",
    "sns.countplot(data = entre_25_34_reprovados, x=\"TipoOcupação\", ax=axes[0][0])\n",
    "sns.countplot(data = entre_25_34_reprovados, x=\"TipoEmpréstimo\", ax=axes[0][1])\n",
    "sns.countplot(data = entre_25_34_reprovados, x=\"LimiteEmpréstimo\", ax=axes[1][0])\n",
    "sns.countplot(data = entre_25_34_reprovados, x=\"Garantidos\", ax=axes[1][1])\n",
    "\n",
    "plt.show()"
   ]
  },
  {
   "cell_type": "code",
   "execution_count": null,
   "id": "3ad60f47",
   "metadata": {},
   "outputs": [],
   "source": [
    "# Podemos observar as informações acimas todas de uma vez através de gráficos\n",
    "\n",
    "plt.rcParams[\"figure.figsize\"] = [14.00, 8.00]\n",
    "plt.rcParams[\"figure.autolayout\"] = True\n",
    "f, axes = plt.subplots(2, 2)\n",
    "\n",
    "sns.countplot(data = entre_25_34_reprovados, x=\"AltosJuros\", ax=axes[0][0])\n",
    "sns.countplot(data = entre_25_34_reprovados, x=\"TipoSegurança\", ax=axes[0][1])\n",
    "sns.countplot(data = entre_25_34_reprovados, x=\"CréditoRequerente\", ax=axes[1][0])\n",
    "sns.countplot(data = entre_25_34_reprovados, x=\"PagamentoÚnico\", ax=axes[1][1])\n",
    "\n",
    "plt.show()"
   ]
  },
  {
   "cell_type": "code",
   "execution_count": null,
   "id": "8be9ca84",
   "metadata": {},
   "outputs": [],
   "source": [
    "plt.rcParams[\"figure.figsize\"] = [14.00, 8.00]\n",
    "plt.rcParams[\"figure.autolayout\"] = True\n",
    "f, axes = plt.subplots(2, 2)\n",
    "\n",
    "sns.countplot(data = entre_25_34_reprovados, x=\"Anos\", ax=axes[1][0])\n",
    "sns.countplot(data = entre_25_34_reprovados, x=\"UnidadesTotal\", ax=axes[1][1])\n",
    "\n",
    "plt.show()"
   ]
  },
  {
   "cell_type": "markdown",
   "id": "bcefc52d",
   "metadata": {},
   "source": [
    "### ANALISANDO RENDA, EMPRÉSTIMO E JURO DAS REGIÔES "
   ]
  },
  {
   "cell_type": "code",
   "execution_count": null,
   "id": "5e7c7a77",
   "metadata": {},
   "outputs": [],
   "source": [
    "sexo = entre_25_34_reprovados.groupby([\"Região\"]).count()[\"status\"].rename('QuantidadeRegião')\n",
    "juros = entre_25_34_reprovados.groupby(['Região']).sum()['Juros'].rename('SomaJuros')\n",
    "mediajuros = entre_25_34_reprovados.groupby(['Região']).mean()['Juros'].rename('MédiaJuros')\n",
    "renda = entre_25_34_reprovados.groupby(['Região']).sum()['Renda'].rename('SomaRenda')\n",
    "mediarenda= entre_25_34_reprovados.groupby(['Região']).mean()['Renda'].rename('MédiaRenda')\n",
    "emprestimo = entre_25_34_reprovados.groupby(['Região']).sum()['ValorEmpréstimo'].rename('SomaEmpréstimo')\n",
    "mediaemprestimo= entre_25_34_reprovados.groupby(['Região']).mean()['ValorEmpréstimo'].rename('MédiaEmpréstimo')\n",
    "# Dataframe para os resultados\n",
    "dados_usuarios = pd.DataFrame({\"QuantidadeRegião\":sexo,'SomaJuros':juros,'MédiaJuros':mediajuros,'SomaRenda':renda,'MédiaRenda':mediarenda,'SomaEmpréstimo':emprestimo,'MédiaEmpréstimo':mediaemprestimo})\n",
    "dados_usuarios [\"SomaRenda\"] = dados_usuarios[\"SomaRenda\"].map(\"${:,.2f}\".format)\n",
    "dados_usuarios [\"SomaJuros\"] = dados_usuarios[\"SomaJuros\"].map(\"${:,.2f}\".format)\n",
    "dados_usuarios [\"MédiaRenda\"] = dados_usuarios[\"MédiaRenda\"].map(\"${:,.2f}\".format)\n",
    "dados_usuarios [\"MédiaJuros\"] = dados_usuarios[\"MédiaJuros\"].map(\"${:,.2f}\".format)\n",
    "dados_usuarios [\"MédiaEmpréstimo\"] = dados_usuarios[\"MédiaEmpréstimo\"].map(\"${:,.2f}\".format)\n",
    "dados_usuarios [\"SomaEmpréstimo\"] = dados_usuarios[\"SomaEmpréstimo\"].map(\"${:,.2f}\".format)\n",
    "dados_usuarios.sort_values(\"QuantidadeRegião\", ascending=False).head(5)"
   ]
  },
  {
   "cell_type": "markdown",
   "id": "60abe544",
   "metadata": {},
   "source": [
    "### ANALISANDO RENDA, EMPRÉSTIMO E JURO DOS TIPOS DE EMPRÉSTIMOS"
   ]
  },
  {
   "cell_type": "code",
   "execution_count": null,
   "id": "2ca5b5a0",
   "metadata": {},
   "outputs": [],
   "source": [
    "sexo = entre_25_34_reprovados.groupby([\"TipoEmpréstimo\"]).count()[\"status\"].rename('QuantidadeRegião')\n",
    "juros = entre_25_34_reprovados.groupby(['TipoEmpréstimo']).sum()['Juros'].rename('SomaJuros')\n",
    "mediajuros = entre_25_34_reprovados.groupby(['TipoEmpréstimo']).mean()['Juros'].rename('MédiaJuros')\n",
    "renda = entre_25_34_reprovados.groupby(['TipoEmpréstimo']).sum()['Renda'].rename('SomaRenda')\n",
    "mediarenda= entre_25_34_reprovados.groupby(['TipoEmpréstimo']).mean()['Renda'].rename('MédiaRenda')\n",
    "emprestimo = entre_25_34_reprovados.groupby(['TipoEmpréstimo']).sum()['ValorEmpréstimo'].rename('SomaEmpréstimo')\n",
    "mediaemprestimo= entre_25_34_reprovados.groupby(['TipoEmpréstimo']).mean()['ValorEmpréstimo'].rename('MédiaEmpréstimo')\n",
    "# Dataframe para os resultados\n",
    "dados_usuarios = pd.DataFrame({\"QuantidadeRegião\":sexo,'SomaJuros':juros,'MédiaJuros':mediajuros,'SomaRenda':renda,'MédiaRenda':mediarenda,'SomaEmpréstimo':emprestimo,'MédiaEmpréstimo':mediaemprestimo})\n",
    "dados_usuarios [\"SomaRenda\"] = dados_usuarios[\"SomaRenda\"].map(\"${:,.2f}\".format)\n",
    "dados_usuarios [\"SomaJuros\"] = dados_usuarios[\"SomaJuros\"].map(\"${:,.2f}\".format)\n",
    "dados_usuarios [\"MédiaRenda\"] = dados_usuarios[\"MédiaRenda\"].map(\"${:,.2f}\".format)\n",
    "dados_usuarios [\"MédiaJuros\"] = dados_usuarios[\"MédiaJuros\"].map(\"${:,.2f}\".format)\n",
    "dados_usuarios [\"MédiaEmpréstimo\"] = dados_usuarios[\"MédiaEmpréstimo\"].map(\"${:,.2f}\".format)\n",
    "dados_usuarios [\"SomaEmpréstimo\"] = dados_usuarios[\"SomaEmpréstimo\"].map(\"${:,.2f}\".format)\n",
    "dados_usuarios.sort_values(\"QuantidadeRegião\", ascending=False).head(5)"
   ]
  },
  {
   "cell_type": "markdown",
   "id": "4666df58",
   "metadata": {},
   "source": [
    "### ANALISANDO RENDA, EMPRÉSTIMO E JURO DOS TIPOS DE CARTÃO DE CRÉDITO"
   ]
  },
  {
   "cell_type": "code",
   "execution_count": null,
   "id": "ae1f9f48",
   "metadata": {},
   "outputs": [],
   "source": [
    "sexo = entre_25_34_reprovados.groupby([\"TipoCrédito\"]).count()[\"status\"].rename('QuantidadeRegião')\n",
    "juros = entre_25_34_reprovados.groupby(['TipoCrédito']).sum()['Juros'].rename('SomaJuros')\n",
    "mediajuros = entre_25_34_reprovados.groupby(['TipoCrédito']).mean()['Juros'].rename('MédiaJuros')\n",
    "renda = entre_25_34_reprovados.groupby(['TipoCrédito']).sum()['Renda'].rename('SomaRenda')\n",
    "mediarenda= entre_25_34_reprovados.groupby(['TipoCrédito']).mean()['Renda'].rename('MédiaRenda')\n",
    "emprestimo = abaixo_25_reprovados.groupby(['TipoCrédito']).sum()['ValorEmpréstimo'].rename('SomaEmpréstimo')\n",
    "mediaemprestimo= entre_25_34_reprovados.groupby(['TipoCrédito']).mean()['ValorEmpréstimo'].rename('MédiaEmpréstimo')\n",
    "# Dataframe para os resultados\n",
    "dados_usuarios = pd.DataFrame({\"QuantidadeRegião\":sexo,'SomaJuros':juros,'MédiaJuros':mediajuros,'SomaRenda':renda,'MédiaRenda':mediarenda,'SomaEmpréstimo':emprestimo,'MédiaEmpréstimo':mediaemprestimo})\n",
    "dados_usuarios [\"SomaRenda\"] = dados_usuarios[\"SomaRenda\"].map(\"${:,.2f}\".format)\n",
    "dados_usuarios [\"SomaJuros\"] = dados_usuarios[\"SomaJuros\"].map(\"${:,.2f}\".format)\n",
    "dados_usuarios [\"MédiaRenda\"] = dados_usuarios[\"MédiaRenda\"].map(\"${:,.2f}\".format)\n",
    "dados_usuarios [\"MédiaJuros\"] = dados_usuarios[\"MédiaJuros\"].map(\"${:,.2f}\".format)\n",
    "dados_usuarios [\"MédiaEmpréstimo\"] = dados_usuarios[\"MédiaEmpréstimo\"].map(\"${:,.2f}\".format)\n",
    "dados_usuarios [\"SomaEmpréstimo\"] = dados_usuarios[\"SomaEmpréstimo\"].map(\"${:,.2f}\".format)\n",
    "dados_usuarios.sort_values(\"QuantidadeRegião\", ascending=False).head(5)"
   ]
  },
  {
   "cell_type": "markdown",
   "id": "a7ca13de",
   "metadata": {},
   "source": [
    "### ANALISANDO AS IDADES DOS EMPRÉSTIMOS REPROVADO ENTRE 35-44 ANOS"
   ]
  },
  {
   "cell_type": "code",
   "execution_count": null,
   "id": "6f5a19e6",
   "metadata": {},
   "outputs": [],
   "source": [
    "entre_35_44_reprovados = reprovados.loc[reprovados['Anos']  == '35-44']\n",
    "entre_35_44_reprovados.shape"
   ]
  },
  {
   "cell_type": "code",
   "execution_count": null,
   "id": "3f3f92fd",
   "metadata": {},
   "outputs": [],
   "source": [
    "# Podemos observar as informações acimas todas de uma vez através de gráficos\n",
    "\n",
    "plt.rcParams[\"figure.figsize\"] = [14.00, 8.00]\n",
    "plt.rcParams[\"figure.autolayout\"] = True\n",
    "f, axes = plt.subplots(2, 2)\n",
    "\n",
    "sns.countplot(data = entre_35_44_reprovados, x=\"Sexo\", ax=axes[0][0])\n",
    "sns.countplot(data = entre_35_44_reprovados, x=\"FinalidadeEmpréstimo\", ax=axes[0][1])\n",
    "sns.countplot(data = entre_35_44_reprovados, x=\"TipoCrédito\", ax=axes[1][0])\n",
    "sns.countplot(data = entre_35_44_reprovados, x=\"Região\", ax=axes[1][1])\n",
    "\n",
    "plt.show()"
   ]
  },
  {
   "cell_type": "code",
   "execution_count": null,
   "id": "c1741a3f",
   "metadata": {},
   "outputs": [],
   "source": [
    "plt.rcParams[\"figure.figsize\"] = [14.00, 8.00]\n",
    "plt.rcParams[\"figure.autolayout\"] = True\n",
    "f, axes = plt.subplots(2, 2)\n",
    "\n",
    "sns.countplot(data = entre_35_44_reprovados, x=\"TipoOcupação\", ax=axes[0][0])\n",
    "sns.countplot(data = entre_35_44_reprovados, x=\"TipoEmpréstimo\", ax=axes[0][1])\n",
    "sns.countplot(data = entre_35_44_reprovados, x=\"LimiteEmpréstimo\", ax=axes[1][0])\n",
    "sns.countplot(data = entre_35_44_reprovados, x=\"Garantidos\", ax=axes[1][1])\n",
    "\n",
    "plt.show()"
   ]
  },
  {
   "cell_type": "code",
   "execution_count": null,
   "id": "84022843",
   "metadata": {},
   "outputs": [],
   "source": [
    "# Podemos observar as informações acimas todas de uma vez através de gráficos\n",
    "\n",
    "plt.rcParams[\"figure.figsize\"] = [14.00, 8.00]\n",
    "plt.rcParams[\"figure.autolayout\"] = True\n",
    "f, axes = plt.subplots(2, 2)\n",
    "\n",
    "sns.countplot(data = entre_35_44_reprovados, x=\"AltosJuros\", ax=axes[0][0])\n",
    "sns.countplot(data = entre_35_44_reprovados, x=\"TipoSegurança\", ax=axes[0][1])\n",
    "sns.countplot(data = entre_35_44_reprovados, x=\"CréditoRequerente\", ax=axes[1][0])\n",
    "sns.countplot(data = entre_35_44_reprovados, x=\"PagamentoÚnico\", ax=axes[1][1])\n",
    "\n",
    "plt.show()"
   ]
  },
  {
   "cell_type": "code",
   "execution_count": null,
   "id": "e36380be",
   "metadata": {},
   "outputs": [],
   "source": [
    "plt.rcParams[\"figure.figsize\"] = [14.00, 8.00]\n",
    "plt.rcParams[\"figure.autolayout\"] = True\n",
    "f, axes = plt.subplots(2, 2)\n",
    "\n",
    "sns.countplot(data = entre_35_44_reprovados, x=\"Anos\", ax=axes[1][0])\n",
    "sns.countplot(data = entre_35_44_reprovados, x=\"UnidadesTotal\", ax=axes[1][1])\n",
    "\n",
    "plt.show()"
   ]
  },
  {
   "cell_type": "markdown",
   "id": "cf7a8462",
   "metadata": {},
   "source": [
    "### ANALISANDO RENDA, EMPRÉSTIMO E JURO DAS REGIÔES "
   ]
  },
  {
   "cell_type": "code",
   "execution_count": null,
   "id": "23ccd852",
   "metadata": {},
   "outputs": [],
   "source": [
    "sexo = entre_35_44_reprovados.groupby([\"Região\"]).count()[\"status\"].rename('QuantidadeRegião')\n",
    "juros = entre_35_44_reprovados.groupby(['Região']).sum()['Juros'].rename('SomaJuros')\n",
    "mediajuros = entre_35_44_reprovados.groupby(['Região']).mean()['Juros'].rename('MédiaJuros')\n",
    "renda = entre_35_44_reprovados.groupby(['Região']).sum()['Renda'].rename('SomaRenda')\n",
    "mediarenda= entre_35_44_reprovados.groupby(['Região']).mean()['Renda'].rename('MédiaRenda')\n",
    "emprestimo = entre_35_44_reprovados.groupby(['Região']).sum()['ValorEmpréstimo'].rename('SomaEmpréstimo')\n",
    "mediaemprestimo= entre_35_44_reprovados.groupby(['Região']).mean()['ValorEmpréstimo'].rename('MédiaEmpréstimo')\n",
    "# Dataframe para os resultados\n",
    "dados_usuarios = pd.DataFrame({\"QuantidadeRegião\":sexo,'SomaJuros':juros,'MédiaJuros':mediajuros,'SomaRenda':renda,'MédiaRenda':mediarenda,'SomaEmpréstimo':emprestimo,'MédiaEmpréstimo':mediaemprestimo})\n",
    "dados_usuarios [\"SomaRenda\"] = dados_usuarios[\"SomaRenda\"].map(\"${:,.2f}\".format)\n",
    "dados_usuarios [\"SomaJuros\"] = dados_usuarios[\"SomaJuros\"].map(\"${:,.2f}\".format)\n",
    "dados_usuarios [\"MédiaRenda\"] = dados_usuarios[\"MédiaRenda\"].map(\"${:,.2f}\".format)\n",
    "dados_usuarios [\"MédiaJuros\"] = dados_usuarios[\"MédiaJuros\"].map(\"${:,.2f}\".format)\n",
    "dados_usuarios [\"MédiaEmpréstimo\"] = dados_usuarios[\"MédiaEmpréstimo\"].map(\"${:,.2f}\".format)\n",
    "dados_usuarios [\"SomaEmpréstimo\"] = dados_usuarios[\"SomaEmpréstimo\"].map(\"${:,.2f}\".format)\n",
    "dados_usuarios.sort_values(\"QuantidadeRegião\", ascending=False).head(5)"
   ]
  },
  {
   "cell_type": "markdown",
   "id": "009e2c75",
   "metadata": {},
   "source": [
    "### ANALISANDO RENDA, EMPRÉSTIMO E JURO DOS TIPOS DE EMPRÉSTIMOS"
   ]
  },
  {
   "cell_type": "code",
   "execution_count": null,
   "id": "1c0c288e",
   "metadata": {},
   "outputs": [],
   "source": [
    "sexo = entre_35_44_reprovados.groupby([\"TipoEmpréstimo\"]).count()[\"status\"].rename('QuantidadeRegião')\n",
    "juros = entre_35_44_reprovados.groupby(['TipoEmpréstimo']).sum()['Juros'].rename('SomaJuros')\n",
    "mediajuros = entre_35_44_reprovados.groupby(['TipoEmpréstimo']).mean()['Juros'].rename('MédiaJuros')\n",
    "renda = entre_35_44_reprovados.groupby(['TipoEmpréstimo']).sum()['Renda'].rename('SomaRenda')\n",
    "mediarenda= entre_35_44_reprovados.groupby(['TipoEmpréstimo']).mean()['Renda'].rename('MédiaRenda')\n",
    "emprestimo = entre_35_44_reprovados.groupby(['TipoEmpréstimo']).sum()['ValorEmpréstimo'].rename('SomaEmpréstimo')\n",
    "mediaemprestimo= entre_35_44_reprovados.groupby(['TipoEmpréstimo']).mean()['ValorEmpréstimo'].rename('MédiaEmpréstimo')\n",
    "# Dataframe para os resultados\n",
    "dados_usuarios = pd.DataFrame({\"QuantidadeRegião\":sexo,'SomaJuros':juros,'MédiaJuros':mediajuros,'SomaRenda':renda,'MédiaRenda':mediarenda,'SomaEmpréstimo':emprestimo,'MédiaEmpréstimo':mediaemprestimo})\n",
    "dados_usuarios [\"SomaRenda\"] = dados_usuarios[\"SomaRenda\"].map(\"${:,.2f}\".format)\n",
    "dados_usuarios [\"SomaJuros\"] = dados_usuarios[\"SomaJuros\"].map(\"${:,.2f}\".format)\n",
    "dados_usuarios [\"MédiaRenda\"] = dados_usuarios[\"MédiaRenda\"].map(\"${:,.2f}\".format)\n",
    "dados_usuarios [\"MédiaJuros\"] = dados_usuarios[\"MédiaJuros\"].map(\"${:,.2f}\".format)\n",
    "dados_usuarios [\"MédiaEmpréstimo\"] = dados_usuarios[\"MédiaEmpréstimo\"].map(\"${:,.2f}\".format)\n",
    "dados_usuarios [\"SomaEmpréstimo\"] = dados_usuarios[\"SomaEmpréstimo\"].map(\"${:,.2f}\".format)\n",
    "dados_usuarios.sort_values(\"QuantidadeRegião\", ascending=False).head(5)"
   ]
  },
  {
   "cell_type": "markdown",
   "id": "896445ea",
   "metadata": {},
   "source": [
    "### ANALISANDO RENDA, EMPRÉSTIMO E JURO DOS TIPOS DE CARTÃO DE CRÉDITO"
   ]
  },
  {
   "cell_type": "code",
   "execution_count": null,
   "id": "2addf9f1",
   "metadata": {},
   "outputs": [],
   "source": [
    "sexo = entre_35_44_reprovados.groupby([\"TipoCrédito\"]).count()[\"status\"].rename('QuantidadeRegião')\n",
    "juros = entre_35_44_reprovados.groupby(['TipoCrédito']).sum()['Juros'].rename('SomaJuros')\n",
    "mediajuros = entre_35_44_reprovados.groupby(['TipoCrédito']).mean()['Juros'].rename('MédiaJuros')\n",
    "renda = entre_35_44_reprovados.groupby(['TipoCrédito']).sum()['Renda'].rename('SomaRenda')\n",
    "mediarenda= entre_35_44_reprovados.groupby(['TipoCrédito']).mean()['Renda'].rename('MédiaRenda')\n",
    "emprestimo = entre_35_44_reprovados.groupby(['TipoCrédito']).sum()['ValorEmpréstimo'].rename('SomaEmpréstimo')\n",
    "mediaemprestimo= entre_35_44_reprovados.groupby(['TipoCrédito']).mean()['ValorEmpréstimo'].rename('MédiaEmpréstimo')\n",
    "# Dataframe para os resultados\n",
    "dados_usuarios = pd.DataFrame({\"QuantidadeRegião\":sexo,'SomaJuros':juros,'MédiaJuros':mediajuros,'SomaRenda':renda,'MédiaRenda':mediarenda,'SomaEmpréstimo':emprestimo,'MédiaEmpréstimo':mediaemprestimo})\n",
    "dados_usuarios [\"SomaRenda\"] = dados_usuarios[\"SomaRenda\"].map(\"${:,.2f}\".format)\n",
    "dados_usuarios [\"SomaJuros\"] = dados_usuarios[\"SomaJuros\"].map(\"${:,.2f}\".format)\n",
    "dados_usuarios [\"MédiaRenda\"] = dados_usuarios[\"MédiaRenda\"].map(\"${:,.2f}\".format)\n",
    "dados_usuarios [\"MédiaJuros\"] = dados_usuarios[\"MédiaJuros\"].map(\"${:,.2f}\".format)\n",
    "dados_usuarios [\"MédiaEmpréstimo\"] = dados_usuarios[\"MédiaEmpréstimo\"].map(\"${:,.2f}\".format)\n",
    "dados_usuarios [\"SomaEmpréstimo\"] = dados_usuarios[\"SomaEmpréstimo\"].map(\"${:,.2f}\".format)\n",
    "dados_usuarios.sort_values(\"QuantidadeRegião\", ascending=False).head(5)"
   ]
  },
  {
   "cell_type": "markdown",
   "id": "1654d79d",
   "metadata": {},
   "source": [
    "### ANALISANDO AS IDADES DOS EMPRÉSTIMOS REPROVADO ENTRE 55-64 ANOS"
   ]
  },
  {
   "cell_type": "code",
   "execution_count": null,
   "id": "5db96c4b",
   "metadata": {},
   "outputs": [],
   "source": [
    "entre_55_64_reprovados = reprovados.loc[reprovados['Anos']  == '55-64']\n",
    "entre_55_64_reprovados.shape"
   ]
  },
  {
   "cell_type": "code",
   "execution_count": null,
   "id": "f5fcd5d1",
   "metadata": {},
   "outputs": [],
   "source": [
    "# Podemos observar as informações acimas todas de uma vez através de gráficos\n",
    "\n",
    "plt.rcParams[\"figure.figsize\"] = [14.00, 8.00]\n",
    "plt.rcParams[\"figure.autolayout\"] = True\n",
    "f, axes = plt.subplots(2, 2)\n",
    "\n",
    "sns.countplot(data = entre_55_64_reprovados, x=\"Sexo\", ax=axes[0][0])\n",
    "sns.countplot(data = entre_55_64_reprovados, x=\"FinalidadeEmpréstimo\", ax=axes[0][1])\n",
    "sns.countplot(data = entre_55_64_reprovados, x=\"TipoCrédito\", ax=axes[1][0])\n",
    "sns.countplot(data = entre_55_64_reprovados, x=\"Região\", ax=axes[1][1])\n",
    "\n",
    "plt.show()"
   ]
  },
  {
   "cell_type": "code",
   "execution_count": null,
   "id": "b5a95536",
   "metadata": {},
   "outputs": [],
   "source": [
    "plt.rcParams[\"figure.figsize\"] = [14.00, 8.00]\n",
    "plt.rcParams[\"figure.autolayout\"] = True\n",
    "f, axes = plt.subplots(2, 2)\n",
    "\n",
    "sns.countplot(data = entre_55_64_reprovados, x=\"TipoOcupação\", ax=axes[0][0])\n",
    "sns.countplot(data = entre_55_64_reprovados, x=\"TipoEmpréstimo\", ax=axes[0][1])\n",
    "sns.countplot(data = entre_55_64_reprovados, x=\"LimiteEmpréstimo\", ax=axes[1][0])\n",
    "sns.countplot(data = entre_55_64_reprovados, x=\"Garantidos\", ax=axes[1][1])\n",
    "\n",
    "plt.show()"
   ]
  },
  {
   "cell_type": "code",
   "execution_count": null,
   "id": "05fe705b",
   "metadata": {},
   "outputs": [],
   "source": [
    "# Podemos observar as informações acimas todas de uma vez através de gráficos\n",
    "\n",
    "plt.rcParams[\"figure.figsize\"] = [14.00, 8.00]\n",
    "plt.rcParams[\"figure.autolayout\"] = True\n",
    "f, axes = plt.subplots(2, 2)\n",
    "\n",
    "sns.countplot(data = entre_55_64_reprovados, x=\"AltosJuros\", ax=axes[0][0])\n",
    "sns.countplot(data = entre_55_64_reprovados, x=\"TipoSegurança\", ax=axes[0][1])\n",
    "sns.countplot(data = entre_55_64_reprovados, x=\"CréditoRequerente\", ax=axes[1][0])\n",
    "sns.countplot(data = entre_55_64_reprovados, x=\"PagamentoÚnico\", ax=axes[1][1])\n",
    "\n",
    "plt.show()"
   ]
  },
  {
   "cell_type": "code",
   "execution_count": null,
   "id": "ea2eac62",
   "metadata": {},
   "outputs": [],
   "source": [
    "plt.rcParams[\"figure.figsize\"] = [14.00, 8.00]\n",
    "plt.rcParams[\"figure.autolayout\"] = True\n",
    "f, axes = plt.subplots(2, 2)\n",
    "\n",
    "sns.countplot(data = entre_55_64_reprovados, x=\"Anos\", ax=axes[1][0])\n",
    "sns.countplot(data = entre_55_64_reprovados, x=\"UnidadesTotal\", ax=axes[1][1])\n",
    "\n",
    "plt.show()"
   ]
  },
  {
   "cell_type": "markdown",
   "id": "899d06a5",
   "metadata": {},
   "source": [
    "### ANALISANDO RENDA, EMPRÉSTIMO E JURO DAS REGIÔES "
   ]
  },
  {
   "cell_type": "code",
   "execution_count": null,
   "id": "cde64706",
   "metadata": {},
   "outputs": [],
   "source": [
    "sexo = entre_55_64_reprovados.groupby([\"Região\"]).count()[\"status\"].rename('QuantidadeRegião')\n",
    "juros = entre_55_64_reprovados.groupby(['Região']).sum()['Juros'].rename('SomaJuros')\n",
    "mediajuros = entre_55_64_reprovados.groupby(['Região']).mean()['Juros'].rename('MédiaJuros')\n",
    "renda = entre_55_64_reprovados.groupby(['Região']).sum()['Renda'].rename('SomaRenda')\n",
    "mediarenda= entre_55_64_reprovados.groupby(['Região']).mean()['Renda'].rename('MédiaRenda')\n",
    "emprestimo = entre_55_64_reprovados.groupby(['Região']).sum()['ValorEmpréstimo'].rename('SomaEmpréstimo')\n",
    "mediaemprestimo= entre_55_64_reprovados.groupby(['Região']).mean()['ValorEmpréstimo'].rename('MédiaEmpréstimo')\n",
    "# Dataframe para os resultados\n",
    "dados_usuarios = pd.DataFrame({\"QuantidadeRegião\":sexo,'SomaJuros':juros,'MédiaJuros':mediajuros,'SomaRenda':renda,'MédiaRenda':mediarenda,'SomaEmpréstimo':emprestimo,'MédiaEmpréstimo':mediaemprestimo})\n",
    "dados_usuarios [\"SomaRenda\"] = dados_usuarios[\"SomaRenda\"].map(\"${:,.2f}\".format)\n",
    "dados_usuarios [\"SomaJuros\"] = dados_usuarios[\"SomaJuros\"].map(\"${:,.2f}\".format)\n",
    "dados_usuarios [\"MédiaRenda\"] = dados_usuarios[\"MédiaRenda\"].map(\"${:,.2f}\".format)\n",
    "dados_usuarios [\"MédiaJuros\"] = dados_usuarios[\"MédiaJuros\"].map(\"${:,.2f}\".format)\n",
    "dados_usuarios [\"MédiaEmpréstimo\"] = dados_usuarios[\"MédiaEmpréstimo\"].map(\"${:,.2f}\".format)\n",
    "dados_usuarios [\"SomaEmpréstimo\"] = dados_usuarios[\"SomaEmpréstimo\"].map(\"${:,.2f}\".format)\n",
    "dados_usuarios.sort_values(\"QuantidadeRegião\", ascending=False).head(5)"
   ]
  },
  {
   "cell_type": "markdown",
   "id": "b66e4a28",
   "metadata": {},
   "source": [
    "### ANALISANDO RENDA, EMPRÉSTIMO E JURO DOS TIPOS DE EMPRÉSTIMOS"
   ]
  },
  {
   "cell_type": "code",
   "execution_count": null,
   "id": "268e4715",
   "metadata": {},
   "outputs": [],
   "source": [
    "sexo = entre_55_64_reprovados.groupby([\"TipoEmpréstimo\"]).count()[\"status\"].rename('QuantidadeRegião')\n",
    "juros = entre_55_64_reprovados.groupby(['TipoEmpréstimo']).sum()['Juros'].rename('SomaJuros')\n",
    "mediajuros = entre_55_64_reprovados.groupby(['TipoEmpréstimo']).mean()['Juros'].rename('MédiaJuros')\n",
    "renda = entre_55_64_reprovados.groupby(['TipoEmpréstimo']).sum()['Renda'].rename('SomaRenda')\n",
    "mediarenda= entre_55_64_reprovados.groupby(['TipoEmpréstimo']).mean()['Renda'].rename('MédiaRenda')\n",
    "emprestimo = entre_55_64_reprovados.groupby(['TipoEmpréstimo']).sum()['ValorEmpréstimo'].rename('SomaEmpréstimo')\n",
    "mediaemprestimo= entre_55_64_reprovados.groupby(['TipoEmpréstimo']).mean()['ValorEmpréstimo'].rename('MédiaEmpréstimo')\n",
    "# Dataframe para os resultados\n",
    "dados_usuarios = pd.DataFrame({\"QuantidadeRegião\":sexo,'SomaJuros':juros,'MédiaJuros':mediajuros,'SomaRenda':renda,'MédiaRenda':mediarenda,'SomaEmpréstimo':emprestimo,'MédiaEmpréstimo':mediaemprestimo})\n",
    "dados_usuarios [\"SomaRenda\"] = dados_usuarios[\"SomaRenda\"].map(\"${:,.2f}\".format)\n",
    "dados_usuarios [\"SomaJuros\"] = dados_usuarios[\"SomaJuros\"].map(\"${:,.2f}\".format)\n",
    "dados_usuarios [\"MédiaRenda\"] = dados_usuarios[\"MédiaRenda\"].map(\"${:,.2f}\".format)\n",
    "dados_usuarios [\"MédiaJuros\"] = dados_usuarios[\"MédiaJuros\"].map(\"${:,.2f}\".format)\n",
    "dados_usuarios [\"MédiaEmpréstimo\"] = dados_usuarios[\"MédiaEmpréstimo\"].map(\"${:,.2f}\".format)\n",
    "dados_usuarios [\"SomaEmpréstimo\"] = dados_usuarios[\"SomaEmpréstimo\"].map(\"${:,.2f}\".format)\n",
    "dados_usuarios.sort_values(\"QuantidadeRegião\", ascending=False).head(5)"
   ]
  },
  {
   "cell_type": "markdown",
   "id": "85d00aa5",
   "metadata": {},
   "source": [
    "### ANALISANDO RENDA, EMPRÉSTIMO E JURO DOS TIPOS DE CARTÃO DE CRÉDITO"
   ]
  },
  {
   "cell_type": "code",
   "execution_count": null,
   "id": "2192183f",
   "metadata": {},
   "outputs": [],
   "source": [
    "sexo = entre_55_64_reprovados.groupby([\"TipoCrédito\"]).count()[\"status\"].rename('QuantidadeRegião')\n",
    "juros = entre_55_64_reprovados.groupby(['TipoCrédito']).sum()['Juros'].rename('SomaJuros')\n",
    "mediajuros = entre_55_64_reprovados.groupby(['TipoCrédito']).mean()['Juros'].rename('MédiaJuros')\n",
    "renda = entre_35_44_reprovados.groupby(['TipoCrédito']).sum()['Renda'].rename('SomaRenda')\n",
    "mediarenda= entre_55_64_reprovados.groupby(['TipoCrédito']).mean()['Renda'].rename('MédiaRenda')\n",
    "emprestimo = entre_55_64_reprovados.groupby(['TipoCrédito']).sum()['ValorEmpréstimo'].rename('SomaEmpréstimo')\n",
    "mediaemprestimo= entre_55_64_reprovados.groupby(['TipoCrédito']).mean()['ValorEmpréstimo'].rename('MédiaEmpréstimo')\n",
    "# Dataframe para os resultados\n",
    "dados_usuarios = pd.DataFrame({\"QuantidadeRegião\":sexo,'SomaJuros':juros,'MédiaJuros':mediajuros,'SomaRenda':renda,'MédiaRenda':mediarenda,'SomaEmpréstimo':emprestimo,'MédiaEmpréstimo':mediaemprestimo})\n",
    "dados_usuarios [\"SomaRenda\"] = dados_usuarios[\"SomaRenda\"].map(\"${:,.2f}\".format)\n",
    "dados_usuarios [\"SomaJuros\"] = dados_usuarios[\"SomaJuros\"].map(\"${:,.2f}\".format)\n",
    "dados_usuarios [\"MédiaRenda\"] = dados_usuarios[\"MédiaRenda\"].map(\"${:,.2f}\".format)\n",
    "dados_usuarios [\"MédiaJuros\"] = dados_usuarios[\"MédiaJuros\"].map(\"${:,.2f}\".format)\n",
    "dados_usuarios [\"MédiaEmpréstimo\"] = dados_usuarios[\"MédiaEmpréstimo\"].map(\"${:,.2f}\".format)\n",
    "dados_usuarios [\"SomaEmpréstimo\"] = dados_usuarios[\"SomaEmpréstimo\"].map(\"${:,.2f}\".format)\n",
    "dados_usuarios.sort_values(\"QuantidadeRegião\", ascending=False).head(5)"
   ]
  },
  {
   "cell_type": "markdown",
   "id": "a13c7048",
   "metadata": {},
   "source": [
    "### ANALISANDO AS IDADES DOS EMPRÉSTIMOS REPROVADO ENTRE 65-74 ANOS"
   ]
  },
  {
   "cell_type": "code",
   "execution_count": null,
   "id": "319bebbd",
   "metadata": {},
   "outputs": [],
   "source": [
    "entre_65_74_reprovados = reprovados.loc[reprovados['Anos']  == '65-74']\n",
    "entre_65_74_reprovados.shape"
   ]
  },
  {
   "cell_type": "code",
   "execution_count": null,
   "id": "a71583e0",
   "metadata": {},
   "outputs": [],
   "source": [
    "# Podemos observar as informações acimas todas de uma vez através de gráficos\n",
    "\n",
    "plt.rcParams[\"figure.figsize\"] = [14.00, 8.00]\n",
    "plt.rcParams[\"figure.autolayout\"] = True\n",
    "f, axes = plt.subplots(2, 2)\n",
    "\n",
    "sns.countplot(data = entre_65_74_reprovados, x=\"Sexo\", ax=axes[0][0])\n",
    "sns.countplot(data = entre_65_74_reprovados, x=\"FinalidadeEmpréstimo\", ax=axes[0][1])\n",
    "sns.countplot(data = entre_65_74_reprovados, x=\"TipoCrédito\", ax=axes[1][0])\n",
    "sns.countplot(data = entre_65_74_reprovados, x=\"Região\", ax=axes[1][1])"
   ]
  },
  {
   "cell_type": "code",
   "execution_count": null,
   "id": "3d2c3bc6",
   "metadata": {},
   "outputs": [],
   "source": [
    "plt.rcParams[\"figure.figsize\"] = [14.00, 8.00]\n",
    "plt.rcParams[\"figure.autolayout\"] = True\n",
    "f, axes = plt.subplots(2, 2)\n",
    "\n",
    "sns.countplot(data = entre_65_74_reprovados, x=\"TipoOcupação\", ax=axes[0][0])\n",
    "sns.countplot(data = entre_65_74_reprovados, x=\"TipoEmpréstimo\", ax=axes[0][1])\n",
    "sns.countplot(data = entre_65_74_reprovados, x=\"LimiteEmpréstimo\", ax=axes[1][0])\n",
    "sns.countplot(data = entre_65_74_reprovados, x=\"Garantidos\", ax=axes[1][1])\n",
    "\n",
    "plt.show()"
   ]
  },
  {
   "cell_type": "code",
   "execution_count": null,
   "id": "7d0b3977",
   "metadata": {},
   "outputs": [],
   "source": [
    "# Podemos observar as informações acimas todas de uma vez através de gráficos\n",
    "\n",
    "plt.rcParams[\"figure.figsize\"] = [14.00, 8.00]\n",
    "plt.rcParams[\"figure.autolayout\"] = True\n",
    "f, axes = plt.subplots(2, 2)\n",
    "\n",
    "sns.countplot(data = entre_65_74_reprovados, x=\"AltosJuros\", ax=axes[0][0])\n",
    "sns.countplot(data = entre_65_74_reprovados, x=\"TipoSegurança\", ax=axes[0][1])\n",
    "sns.countplot(data = entre_65_74_reprovados, x=\"CréditoRequerente\", ax=axes[1][0])\n",
    "sns.countplot(data = entre_65_74_reprovados, x=\"PagamentoÚnico\", ax=axes[1][1])\n",
    "\n",
    "plt.show()"
   ]
  },
  {
   "cell_type": "code",
   "execution_count": null,
   "id": "469dc65b",
   "metadata": {},
   "outputs": [],
   "source": [
    "plt.rcParams[\"figure.figsize\"] = [14.00, 8.00]\n",
    "plt.rcParams[\"figure.autolayout\"] = True\n",
    "f, axes = plt.subplots(2, 2)\n",
    "\n",
    "sns.countplot(data = entre_65_74_reprovados, x=\"Anos\", ax=axes[1][0])\n",
    "sns.countplot(data = entre_65_74_reprovados, x=\"UnidadesTotal\", ax=axes[1][1])\n",
    "\n",
    "plt.show()"
   ]
  },
  {
   "cell_type": "markdown",
   "id": "97d286b3",
   "metadata": {},
   "source": [
    "### ANALISANDO RENDA, EMPRÉSTIMO E JURO DAS REGIÔES "
   ]
  },
  {
   "cell_type": "code",
   "execution_count": null,
   "id": "6c07e49c",
   "metadata": {},
   "outputs": [],
   "source": [
    "sexo = entre_65_74_reprovados.groupby([\"Região\"]).count()[\"status\"].rename('QuantidadeRegião')\n",
    "juros = entre_65_74_reprovados.groupby(['Região']).sum()['Juros'].rename('SomaJuros')\n",
    "mediajuros = entre_65_74_reprovados.groupby(['Região']).mean()['Juros'].rename('MédiaJuros')\n",
    "renda = entre_65_74_reprovados.groupby(['Região']).sum()['Renda'].rename('SomaRenda')\n",
    "mediarenda= entre_65_74_reprovados.groupby(['Região']).mean()['Renda'].rename('MédiaRenda')\n",
    "emprestimo = entre_65_74_reprovados.groupby(['Região']).sum()['ValorEmpréstimo'].rename('SomaEmpréstimo')\n",
    "mediaemprestimo= entre_65_74_reprovados.groupby(['Região']).mean()['ValorEmpréstimo'].rename('MédiaEmpréstimo')\n",
    "# Dataframe para os resultados\n",
    "dados_usuarios = pd.DataFrame({\"QuantidadeRegião\":sexo,'SomaJuros':juros,'MédiaJuros':mediajuros,'SomaRenda':renda,'MédiaRenda':mediarenda,'SomaEmpréstimo':emprestimo,'MédiaEmpréstimo':mediaemprestimo})\n",
    "dados_usuarios [\"SomaRenda\"] = dados_usuarios[\"SomaRenda\"].map(\"${:,.2f}\".format)\n",
    "dados_usuarios [\"SomaJuros\"] = dados_usuarios[\"SomaJuros\"].map(\"${:,.2f}\".format)\n",
    "dados_usuarios [\"MédiaRenda\"] = dados_usuarios[\"MédiaRenda\"].map(\"${:,.2f}\".format)\n",
    "dados_usuarios [\"MédiaJuros\"] = dados_usuarios[\"MédiaJuros\"].map(\"${:,.2f}\".format)\n",
    "dados_usuarios [\"MédiaEmpréstimo\"] = dados_usuarios[\"MédiaEmpréstimo\"].map(\"${:,.2f}\".format)\n",
    "dados_usuarios [\"SomaEmpréstimo\"] = dados_usuarios[\"SomaEmpréstimo\"].map(\"${:,.2f}\".format)\n",
    "dados_usuarios.sort_values(\"QuantidadeRegião\", ascending=False).head(5)"
   ]
  },
  {
   "cell_type": "markdown",
   "id": "3aecfb33",
   "metadata": {},
   "source": [
    "### ANALISANDO RENDA, EMPRÉSTIMO E JURO DOS TIPOS DE EMPRÉSTIMOS"
   ]
  },
  {
   "cell_type": "code",
   "execution_count": null,
   "id": "0385eac9",
   "metadata": {},
   "outputs": [],
   "source": [
    "sexo = entre_65_74_reprovados.groupby([\"TipoEmpréstimo\"]).count()[\"status\"].rename('QuantidadeRegião')\n",
    "juros = entre_65_74_reprovados.groupby(['TipoEmpréstimo']).sum()['Juros'].rename('SomaJuros')\n",
    "mediajuros = entre_65_74_reprovados.groupby(['TipoEmpréstimo']).mean()['Juros'].rename('MédiaJuros')\n",
    "renda = entre_65_74_reprovados.groupby(['TipoEmpréstimo']).sum()['Renda'].rename('SomaRenda')\n",
    "mediarenda= entre_65_74_reprovados.groupby(['TipoEmpréstimo']).mean()['Renda'].rename('MédiaRenda')\n",
    "emprestimo = entre_65_74_reprovados.groupby(['TipoEmpréstimo']).sum()['ValorEmpréstimo'].rename('SomaEmpréstimo')\n",
    "mediaemprestimo= entre_65_74_reprovados.groupby(['TipoEmpréstimo']).mean()['ValorEmpréstimo'].rename('MédiaEmpréstimo')\n",
    "# Dataframe para os resultados\n",
    "dados_usuarios = pd.DataFrame({\"QuantidadeRegião\":sexo,'SomaJuros':juros,'MédiaJuros':mediajuros,'SomaRenda':renda,'MédiaRenda':mediarenda,'SomaEmpréstimo':emprestimo,'MédiaEmpréstimo':mediaemprestimo})\n",
    "dados_usuarios [\"SomaRenda\"] = dados_usuarios[\"SomaRenda\"].map(\"${:,.2f}\".format)\n",
    "dados_usuarios [\"SomaJuros\"] = dados_usuarios[\"SomaJuros\"].map(\"${:,.2f}\".format)\n",
    "dados_usuarios [\"MédiaRenda\"] = dados_usuarios[\"MédiaRenda\"].map(\"${:,.2f}\".format)\n",
    "dados_usuarios [\"MédiaJuros\"] = dados_usuarios[\"MédiaJuros\"].map(\"${:,.2f}\".format)\n",
    "dados_usuarios [\"MédiaEmpréstimo\"] = dados_usuarios[\"MédiaEmpréstimo\"].map(\"${:,.2f}\".format)\n",
    "dados_usuarios [\"SomaEmpréstimo\"] = dados_usuarios[\"SomaEmpréstimo\"].map(\"${:,.2f}\".format)\n",
    "dados_usuarios.sort_values(\"QuantidadeRegião\", ascending=False).head(5)"
   ]
  },
  {
   "cell_type": "markdown",
   "id": "79f122a1",
   "metadata": {},
   "source": [
    "### ANALISANDO RENDA, EMPRÉSTIMO E JURO DOS TIPOS DE CARTÃO DE CRÉDITO"
   ]
  },
  {
   "cell_type": "code",
   "execution_count": null,
   "id": "ab4b68b0",
   "metadata": {},
   "outputs": [],
   "source": [
    "sexo = entre_65_74_reprovados.groupby([\"TipoCrédito\"]).count()[\"status\"].rename('QuantidadeRegião')\n",
    "juros = entre_65_74_reprovados.groupby(['TipoCrédito']).sum()['Juros'].rename('SomaJuros')\n",
    "mediajuros = entre_65_74_reprovados.groupby(['TipoCrédito']).mean()['Juros'].rename('MédiaJuros')\n",
    "renda = entre_65_74_reprovados.groupby(['TipoCrédito']).sum()['Renda'].rename('SomaRenda')\n",
    "mediarenda= entre_65_74_reprovados.groupby(['TipoCrédito']).mean()['Renda'].rename('MédiaRenda')\n",
    "emprestimo = entre_65_74_reprovados.groupby(['TipoCrédito']).sum()['ValorEmpréstimo'].rename('SomaEmpréstimo')\n",
    "mediaemprestimo= entre_65_74_reprovados.groupby(['TipoCrédito']).mean()['ValorEmpréstimo'].rename('MédiaEmpréstimo')\n",
    "# Dataframe para os resultados\n",
    "dados_usuarios = pd.DataFrame({\"QuantidadeRegião\":sexo,'SomaJuros':juros,'MédiaJuros':mediajuros,'SomaRenda':renda,'MédiaRenda':mediarenda,'SomaEmpréstimo':emprestimo,'MédiaEmpréstimo':mediaemprestimo})\n",
    "dados_usuarios [\"SomaRenda\"] = dados_usuarios[\"SomaRenda\"].map(\"${:,.2f}\".format)\n",
    "dados_usuarios [\"SomaJuros\"] = dados_usuarios[\"SomaJuros\"].map(\"${:,.2f}\".format)\n",
    "dados_usuarios [\"MédiaRenda\"] = dados_usuarios[\"MédiaRenda\"].map(\"${:,.2f}\".format)\n",
    "dados_usuarios [\"MédiaJuros\"] = dados_usuarios[\"MédiaJuros\"].map(\"${:,.2f}\".format)\n",
    "dados_usuarios [\"MédiaEmpréstimo\"] = dados_usuarios[\"MédiaEmpréstimo\"].map(\"${:,.2f}\".format)\n",
    "dados_usuarios [\"SomaEmpréstimo\"] = dados_usuarios[\"SomaEmpréstimo\"].map(\"${:,.2f}\".format)\n",
    "dados_usuarios.sort_values(\"QuantidadeRegião\", ascending=False).head(5)"
   ]
  },
  {
   "cell_type": "markdown",
   "id": "40f44f3b",
   "metadata": {},
   "source": [
    "### ANALISANDO AS IDADES DOS EMPRÉSTIMOS REPROVADO MAIOR DE 74 ANOS"
   ]
  },
  {
   "cell_type": "code",
   "execution_count": null,
   "id": "edc1249c",
   "metadata": {},
   "outputs": [],
   "source": [
    "maior_74_reprovados = reprovados.loc[reprovados['Anos']  == '>74']\n",
    "maior_74_reprovados.shape"
   ]
  },
  {
   "cell_type": "code",
   "execution_count": null,
   "id": "fbf6cb23",
   "metadata": {},
   "outputs": [],
   "source": [
    "# Podemos observar as informações acimas todas de uma vez através de gráficos\n",
    "\n",
    "plt.rcParams[\"figure.figsize\"] = [14.00, 8.00]\n",
    "plt.rcParams[\"figure.autolayout\"] = True\n",
    "f, axes = plt.subplots(2, 2)\n",
    "\n",
    "sns.countplot(data = maior_74_reprovados, x=\"Sexo\", ax=axes[0][0])\n",
    "sns.countplot(data = maior_74_reprovados, x=\"FinalidadeEmpréstimo\", ax=axes[0][1])\n",
    "sns.countplot(data = maior_74_reprovados, x=\"TipoCrédito\", ax=axes[1][0])\n",
    "sns.countplot(data = maior_74_reprovados, x=\"Região\", ax=axes[1][1])"
   ]
  },
  {
   "cell_type": "code",
   "execution_count": null,
   "id": "b6d012ca",
   "metadata": {},
   "outputs": [],
   "source": [
    "plt.rcParams[\"figure.figsize\"] = [14.00, 8.00]\n",
    "plt.rcParams[\"figure.autolayout\"] = True\n",
    "f, axes = plt.subplots(2, 2)\n",
    "\n",
    "sns.countplot(data = maior_74_reprovados, x=\"TipoOcupação\", ax=axes[0][0])\n",
    "sns.countplot(data = maior_74_reprovados, x=\"TipoEmpréstimo\", ax=axes[0][1])\n",
    "sns.countplot(data = maior_74_reprovados, x=\"LimiteEmpréstimo\", ax=axes[1][0])\n",
    "sns.countplot(data = maior_74_reprovados, x=\"Garantidos\", ax=axes[1][1])"
   ]
  },
  {
   "cell_type": "code",
   "execution_count": null,
   "id": "3fd5fcd0",
   "metadata": {},
   "outputs": [],
   "source": [
    "# Podemos observar as informações acimas todas de uma vez através de gráficos\n",
    "\n",
    "plt.rcParams[\"figure.figsize\"] = [14.00, 8.00]\n",
    "plt.rcParams[\"figure.autolayout\"] = True\n",
    "f, axes = plt.subplots(2, 2)\n",
    "\n",
    "sns.countplot(data = maior_74_reprovados, x=\"AltosJuros\", ax=axes[0][0])\n",
    "sns.countplot(data = maior_74_reprovados, x=\"TipoSegurança\", ax=axes[0][1])\n",
    "sns.countplot(data = maior_74_reprovados, x=\"CréditoRequerente\", ax=axes[1][0])\n",
    "sns.countplot(data = maior_74_reprovados, x=\"PagamentoÚnico\", ax=axes[1][1])\n"
   ]
  },
  {
   "cell_type": "code",
   "execution_count": null,
   "id": "1ed38591",
   "metadata": {},
   "outputs": [],
   "source": [
    "plt.rcParams[\"figure.figsize\"] = [14.00, 8.00]\n",
    "plt.rcParams[\"figure.autolayout\"] = True\n",
    "f, axes = plt.subplots(2, 2)\n",
    "\n",
    "sns.countplot(data = maior_74_reprovados, x=\"Anos\", ax=axes[1][0])\n",
    "sns.countplot(data = maior_74_reprovados, x=\"UnidadesTotal\", ax=axes[1][1])\n",
    "\n",
    "plt.show()"
   ]
  },
  {
   "cell_type": "markdown",
   "id": "485e1211",
   "metadata": {},
   "source": [
    "### ANALISANDO RENDA, EMPRÉSTIMO E JURO DAS REGIÔES"
   ]
  },
  {
   "cell_type": "code",
   "execution_count": null,
   "id": "53e464fa",
   "metadata": {},
   "outputs": [],
   "source": [
    "sexo = maior_74_reprovados.groupby([\"Região\"]).count()[\"status\"].rename('QuantidadeRegião')\n",
    "juros = maior_74_reprovados.groupby(['Região']).sum()['Juros'].rename('SomaJuros')\n",
    "mediajuros = maior_74_reprovados.groupby(['Região']).mean()['Juros'].rename('MédiaJuros')\n",
    "renda = maior_74_reprovados.groupby(['Região']).sum()['Renda'].rename('SomaRenda')\n",
    "mediarenda= maior_74_reprovados.groupby(['Região']).mean()['Renda'].rename('MédiaRenda')\n",
    "emprestimo = maior_74_reprovados.groupby(['Região']).sum()['ValorEmpréstimo'].rename('SomaEmpréstimo')\n",
    "mediaemprestimo= maior_74_reprovados.groupby(['Região']).mean()['ValorEmpréstimo'].rename('MédiaEmpréstimo')\n",
    "# Dataframe para os resultados\n",
    "dados_usuarios = pd.DataFrame({\"QuantidadeRegião\":sexo,'SomaJuros':juros,'MédiaJuros':mediajuros,'SomaRenda':renda,'MédiaRenda':mediarenda,'SomaEmpréstimo':emprestimo,'MédiaEmpréstimo':mediaemprestimo})\n",
    "dados_usuarios [\"SomaRenda\"] = dados_usuarios[\"SomaRenda\"].map(\"${:,.2f}\".format)\n",
    "dados_usuarios [\"SomaJuros\"] = dados_usuarios[\"SomaJuros\"].map(\"${:,.2f}\".format)\n",
    "dados_usuarios [\"MédiaRenda\"] = dados_usuarios[\"MédiaRenda\"].map(\"${:,.2f}\".format)\n",
    "dados_usuarios [\"MédiaJuros\"] = dados_usuarios[\"MédiaJuros\"].map(\"${:,.2f}\".format)\n",
    "dados_usuarios [\"MédiaEmpréstimo\"] = dados_usuarios[\"MédiaEmpréstimo\"].map(\"${:,.2f}\".format)\n",
    "dados_usuarios [\"SomaEmpréstimo\"] = dados_usuarios[\"SomaEmpréstimo\"].map(\"${:,.2f}\".format)\n",
    "dados_usuarios.sort_values(\"QuantidadeRegião\", ascending=False).head(5)"
   ]
  },
  {
   "cell_type": "markdown",
   "id": "6576981f",
   "metadata": {},
   "source": [
    "### ANALISANDO RENDA, EMPRÉSTIMO E JURO DOS TIPOS DE EMPRÉSTIMOS"
   ]
  },
  {
   "cell_type": "code",
   "execution_count": null,
   "id": "bfde545b",
   "metadata": {},
   "outputs": [],
   "source": [
    "sexo = maior_74_reprovados.groupby([\"TipoEmpréstimo\"]).count()[\"status\"].rename('QuantidadeRegião')\n",
    "juros = maior_74_reprovados.groupby(['TipoEmpréstimo']).sum()['Juros'].rename('SomaJuros')\n",
    "mediajuros = maior_74_reprovados.groupby(['TipoEmpréstimo']).mean()['Juros'].rename('MédiaJuros')\n",
    "renda = maior_74_reprovados.groupby(['TipoEmpréstimo']).sum()['Renda'].rename('SomaRenda')\n",
    "mediarenda= maior_74_reprovados.groupby(['TipoEmpréstimo']).mean()['Renda'].rename('MédiaRenda')\n",
    "emprestimo = maior_74_reprovados.groupby(['TipoEmpréstimo']).sum()['ValorEmpréstimo'].rename('SomaEmpréstimo')\n",
    "mediaemprestimo= maior_74_reprovados.groupby(['TipoEmpréstimo']).mean()['ValorEmpréstimo'].rename('MédiaEmpréstimo')\n",
    "# Dataframe para os resultados\n",
    "dados_usuarios = pd.DataFrame({\"QuantidadeRegião\":sexo,'SomaJuros':juros,'MédiaJuros':mediajuros,'SomaRenda':renda,'MédiaRenda':mediarenda,'SomaEmpréstimo':emprestimo,'MédiaEmpréstimo':mediaemprestimo})\n",
    "dados_usuarios [\"SomaRenda\"] = dados_usuarios[\"SomaRenda\"].map(\"${:,.2f}\".format)\n",
    "dados_usuarios [\"SomaJuros\"] = dados_usuarios[\"SomaJuros\"].map(\"${:,.2f}\".format)\n",
    "dados_usuarios [\"MédiaRenda\"] = dados_usuarios[\"MédiaRenda\"].map(\"${:,.2f}\".format)\n",
    "dados_usuarios [\"MédiaJuros\"] = dados_usuarios[\"MédiaJuros\"].map(\"${:,.2f}\".format)\n",
    "dados_usuarios [\"MédiaEmpréstimo\"] = dados_usuarios[\"MédiaEmpréstimo\"].map(\"${:,.2f}\".format)\n",
    "dados_usuarios [\"SomaEmpréstimo\"] = dados_usuarios[\"SomaEmpréstimo\"].map(\"${:,.2f}\".format)\n",
    "dados_usuarios.sort_values(\"QuantidadeRegião\", ascending=False).head(5)"
   ]
  },
  {
   "cell_type": "markdown",
   "id": "d8c9f855",
   "metadata": {},
   "source": [
    "### ANALISANDO RENDA, EMPRÉSTIMO E JURO DOS TIPOS DE CARTÃO DE CRÉDITO"
   ]
  },
  {
   "cell_type": "code",
   "execution_count": null,
   "id": "e6f09c60",
   "metadata": {},
   "outputs": [],
   "source": [
    "sexo = maior_74_reprovados.groupby([\"TipoCrédito\"]).count()[\"status\"].rename('QuantidadeRegião')\n",
    "juros = maior_74_reprovados.groupby(['TipoCrédito']).sum()['Juros'].rename('SomaJuros')\n",
    "mediajuros = maior_74_reprovados.groupby(['TipoCrédito']).mean()['Juros'].rename('MédiaJuros')\n",
    "renda = maior_74_reprovados.groupby(['TipoCrédito']).sum()['Renda'].rename('SomaRenda')\n",
    "mediarenda= maior_74_reprovados.groupby(['TipoCrédito']).mean()['Renda'].rename('MédiaRenda')\n",
    "emprestimo = maior_74_reprovados.groupby(['TipoCrédito']).sum()['ValorEmpréstimo'].rename('SomaEmpréstimo')\n",
    "mediaemprestimo= maior_74_reprovados.groupby(['TipoCrédito']).mean()['ValorEmpréstimo'].rename('MédiaEmpréstimo')\n",
    "# Dataframe para os resultados\n",
    "dados_usuarios = pd.DataFrame({\"QuantidadeRegião\":sexo,'SomaJuros':juros,'MédiaJuros':mediajuros,'SomaRenda':renda,'MédiaRenda':mediarenda,'SomaEmpréstimo':emprestimo,'MédiaEmpréstimo':mediaemprestimo})\n",
    "dados_usuarios [\"SomaRenda\"] = dados_usuarios[\"SomaRenda\"].map(\"${:,.2f}\".format)\n",
    "dados_usuarios [\"SomaJuros\"] = dados_usuarios[\"SomaJuros\"].map(\"${:,.2f}\".format)\n",
    "dados_usuarios [\"MédiaRenda\"] = dados_usuarios[\"MédiaRenda\"].map(\"${:,.2f}\".format)\n",
    "dados_usuarios [\"MédiaJuros\"] = dados_usuarios[\"MédiaJuros\"].map(\"${:,.2f}\".format)\n",
    "dados_usuarios [\"MédiaEmpréstimo\"] = dados_usuarios[\"MédiaEmpréstimo\"].map(\"${:,.2f}\".format)\n",
    "dados_usuarios [\"SomaEmpréstimo\"] = dados_usuarios[\"SomaEmpréstimo\"].map(\"${:,.2f}\".format)\n",
    "dados_usuarios.sort_values(\"QuantidadeRegião\", ascending=False).head(5)"
   ]
  },
  {
   "cell_type": "markdown",
   "id": "2d5e2bf9",
   "metadata": {},
   "source": [
    "# MACHINE LARNING "
   ]
  },
  {
   "cell_type": "markdown",
   "id": "bdf02d40",
   "metadata": {},
   "source": [
    "## PRÉ-PROCESSAMENTO"
   ]
  },
  {
   "cell_type": "code",
   "execution_count": null,
   "id": "f3beeb58",
   "metadata": {},
   "outputs": [],
   "source": [
    "del df_traduzida['CréditoAberto']\n",
    "del df_traduzida['LimiteEmpréstimo']\n",
    "del df_traduzida['year']\n",
    "del df_traduzida['SpreadJuros']\n",
    "del df_traduzida['Mandato']\n",
    "del df_traduzida['ValorPropriedade']\n",
    "del df_traduzida['ltv']\n",
    "del df_traduzida['SubmissãoCandidatura']\n",
    "del df_traduzida['Anos']\n",
    "del df_traduzida['CréditoRequerente']\n",
    "del df_traduzida['EmprestimoFoi']\n",
    "del df_traduzida['TipoSegurança']\n",
    "del df_traduzida['PagamentoÚnico']\n",
    "del df_traduzida['UnidadesTotal']\n",
    "del df_traduzida['Garantidos']\n",
    "del df_traduzida['TipoConstrução']\n",
    "del df_traduzida['TipoOcupação']\n",
    "del df_traduzida['FinalidadeEmpréstimo']\n",
    "del df_traduzida['AmortizaçãoNegativa']"
   ]
  },
  {
   "cell_type": "code",
   "execution_count": null,
   "id": "7be9373a",
   "metadata": {},
   "outputs": [],
   "source": [
    "df_traduzida.info()"
   ]
  },
  {
   "cell_type": "code",
   "execution_count": null,
   "id": "6136af65",
   "metadata": {},
   "outputs": [],
   "source": [
    "df_traduzida.groupby(df_traduzida['status']).size()"
   ]
  },
  {
   "cell_type": "code",
   "execution_count": null,
   "id": "f5584896",
   "metadata": {},
   "outputs": [],
   "source": [
    "# Cria o encoder\n",
    "lb = LabelEncoder()\n",
    "\n",
    "# Aplica o encoder nas variáveis que estão com string\n",
    "df_traduzida['Sexo'] = lb.fit_transform(df_traduzida['Sexo'])\n",
    "df_traduzida['TipoEmpréstimo'] = lb.fit_transform(df_traduzida['TipoEmpréstimo'])\n",
    "df_traduzida['NegócioOuComercial'] = lb.fit_transform(df_traduzida['NegócioOuComercial'])\n",
    "df_traduzida['TipoCrédito'] = lb.fit_transform(df_traduzida['TipoCrédito'])\n",
    "df_traduzida['Região'] = lb.fit_transform(df_traduzida['Região'])\n",
    "df_traduzida['CapacidadeCrédito'] = lb.fit_transform(df_traduzida['CapacidadeCrédito'])\n",
    "# Remove valores missing eventualmente gerados\n",
    "df_traduzida.dropna(inplace = True)"
   ]
  },
  {
   "cell_type": "code",
   "execution_count": null,
   "id": "020866e9",
   "metadata": {},
   "outputs": [],
   "source": [
    "df_traduzida.head(1)"
   ]
  },
  {
   "cell_type": "code",
   "execution_count": null,
   "id": "d3ea2e4d",
   "metadata": {},
   "outputs": [],
   "source": [
    "df_traduzida.groupby(df_traduzida['status']).size()"
   ]
  },
  {
   "cell_type": "code",
   "execution_count": null,
   "id": "b25a174f",
   "metadata": {},
   "outputs": [],
   "source": [
    "df_traduzida = df_traduzida[['Sexo','TipoEmpréstimo','CapacidadeCrédito','NegócioOuComercial','ValorEmpréstimo','CobrançasIniciais','Renda','TipoCrédito','PontuaçãoCrédito','Região','AltosJuros','IdadeAvançada','status']]"
   ]
  },
  {
   "cell_type": "code",
   "execution_count": null,
   "id": "a8722af8",
   "metadata": {},
   "outputs": [],
   "source": [
    "# Supondo que 'df_traduzida' seja o DataFrame com seus dados\n",
    "# Separa X e y\n",
    "X = df_traduzida.iloc[:, :-1]\n",
    "y = df_traduzida.iloc[:, -1]"
   ]
  },
  {
   "cell_type": "code",
   "execution_count": null,
   "id": "4cb02654",
   "metadata": {},
   "outputs": [],
   "source": [
    "# Seed para reproduzir o mesmo resultado\n",
    "seed = 100\n",
    "\n",
    "# Cria o balanceador SMOTE\n",
    "smote_bal = SMOTE(random_state=seed)\n",
    "# Verifica a contagem de classes antes do balanceamento\n",
    "print(\"Contagem de classes antes do balanceamento:\")\n",
    "print(y.value_counts())\n",
    "\n",
    "# Aplica o balanceador\n",
    "X_res, y_res = smote_bal.fit_resample(X, y)\n",
    "\n",
    "# Verifica a contagem de classes após o balanceamento\n",
    "print(\"\\nContagem de classes após o balanceamento:\")\n",
    "print(pd.Series(y_res).value_counts())\n",
    "\n",
    "\n",
    "# Visualizando o balanceamento da variável TARGET\n",
    "plt.rcParams[\"figure.figsize\"] = [12.00, 5.00]\n",
    "plt.rcParams[\"figure.autolayout\"] = True\n",
    "y_res.value_counts().plot(kind='bar', title='Empréstimo aprovado x Empréstimo reprovado',color = ['#1F77B4', '#FF7F0E']);"
   ]
  },
  {
   "cell_type": "code",
   "execution_count": null,
   "id": "c090fb70",
   "metadata": {},
   "outputs": [],
   "source": [
    "X.shape"
   ]
  },
  {
   "cell_type": "code",
   "execution_count": null,
   "id": "fd9e104f",
   "metadata": {},
   "outputs": [],
   "source": [
    "X_res.shape"
   ]
  },
  {
   "cell_type": "code",
   "execution_count": null,
   "id": "2315f9d9",
   "metadata": {},
   "outputs": [],
   "source": [
    "y.shape"
   ]
  },
  {
   "cell_type": "code",
   "execution_count": null,
   "id": "3ad162e2",
   "metadata": {},
   "outputs": [],
   "source": [
    "y_res.shape"
   ]
  },
  {
   "cell_type": "code",
   "execution_count": null,
   "id": "611cd203",
   "metadata": {},
   "outputs": [],
   "source": [
    "from sklearn.ensemble import ExtraTreesClassifier\n",
    "\n",
    "# Criação do Modelo - Feature Selection\n",
    "modelo = ExtraTreesClassifier()\n",
    "modelo.fit(X, y)"
   ]
  },
  {
   "cell_type": "code",
   "execution_count": null,
   "id": "296717d6",
   "metadata": {},
   "outputs": [],
   "source": [
    "# Print dos Resultados\n",
    "print(df_traduzida.columns[0:12])\n",
    "print(modelo.feature_importances_)"
   ]
  },
  {
   "cell_type": "code",
   "execution_count": null,
   "id": "15166fea",
   "metadata": {},
   "outputs": [],
   "source": [
    "# SEPRANDO AS VARIAVEIS PARA TREINAMENTO\n",
    "\n",
    "# Train Test Split:\n",
    "from sklearn.model_selection import train_test_split\n",
    "X_train, X_test, y_train, y_test = train_test_split(X_res,y_res, test_size=0.3, random_state=42)"
   ]
  },
  {
   "cell_type": "code",
   "execution_count": null,
   "id": "8412c05c",
   "metadata": {},
   "outputs": [],
   "source": [
    "#Random Forest Regressor:\n",
    "from sklearn.ensemble import RandomForestClassifier\n",
    "modelo2 = RandomForestClassifier()\n",
    "modelo2 = modelo2.fit(X_train, y_train)\n",
    "\n",
    "#Prediction:\n",
    "y_predito = modelo2.predict(X_test)"
   ]
  },
  {
   "cell_type": "code",
   "execution_count": null,
   "id": "2e883ca9",
   "metadata": {},
   "outputs": [],
   "source": [
    "# Avaliando as previsões\n",
    "accuracy = accuracy_score(y_test, y_predito)\n",
    "print(\"Acurácia: %.2f%%\" % (accuracy * 100.0))"
   ]
  },
  {
   "cell_type": "code",
   "execution_count": null,
   "id": "ec83452a",
   "metadata": {},
   "outputs": [],
   "source": [
    "# Avaliando as previsões\n",
    "accuracy = accuracy_score(y_teste, previsoes)\n",
    "print(\"Acurácia: %.2f%%\" % (accuracy * 100.0))\n",
    "\n"
   ]
  },
  {
   "cell_type": "code",
   "execution_count": null,
   "id": "fcfbff5b",
   "metadata": {},
   "outputs": [],
   "source": [
    "df_traduzida.head(30)"
   ]
  },
  {
   "cell_type": "code",
   "execution_count": null,
   "id": "13f86336",
   "metadata": {},
   "outputs": [],
   "source": [
    "Sexo = 3\n",
    "TipoEmpréstimo = 1\n",
    "CapacidadeCrédito = 0\n",
    "NegócioOuComercial = 0\n",
    "ValorEmpréstimo = 416500\n",
    "CobrançasIniciais =3224.996127\n",
    "Renda = 0\n",
    "TipoCrédito = 2\n",
    "PontuaçãoCrédito = 652\n",
    "Região = 3\n",
    "AltosJuros = 0\n",
    "IdadeAvançada = 1 \n",
    "\n",
    "parametro = [[Sexo,TipoEmpréstimo,CapacidadeCrédito,NegócioOuComercial,ValorEmpréstimo,CobrançasIniciais,Renda,TipoCrédito,PontuaçãoCrédito,Região,AltosJuros,IdadeAvançada]]\n",
    "\n",
    "\n",
    "fazendo_previsao = modelo2.predict(parametro)\n",
    "probabilidade = modelo2.predict_proba(parametro)\n",
    "\n",
    "\n",
    "if (fazendo_previsao == 0).any():\n",
    "    print('EMPRESTIMO APROVADO!')\n",
    "    print(probabilidade)\n",
    "\n",
    "else:\n",
    "    \n",
    "    print('EMPRESTIMO REJEIRTADO!')\n",
    "    print(probabilidade)"
   ]
  },
  {
   "cell_type": "code",
   "execution_count": null,
   "id": "1bf8c426",
   "metadata": {},
   "outputs": [],
   "source": [
    "#Comando de Salvamento da Máquina Preditiva\n",
    "import pickle \n",
    "pickle_out = open(\"maquina_preditiva_emprestimo.pkl\", mode = \"wb\") \n",
    "pickle.dump(modelo2, pickle_out) \n",
    "pickle_out.close() "
   ]
  }
 ],
 "metadata": {
  "kernelspec": {
   "display_name": "Python 3 (ipykernel)",
   "language": "python",
   "name": "python3"
  },
  "language_info": {
   "codemirror_mode": {
    "name": "ipython",
    "version": 3
   },
   "file_extension": ".py",
   "mimetype": "text/x-python",
   "name": "python",
   "nbconvert_exporter": "python",
   "pygments_lexer": "ipython3",
   "version": "3.11.5"
  }
 },
 "nbformat": 4,
 "nbformat_minor": 5
}
