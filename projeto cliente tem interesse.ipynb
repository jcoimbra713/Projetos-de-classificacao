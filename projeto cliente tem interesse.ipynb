{
 "cells": [
  {
   "cell_type": "markdown",
   "id": "9d9e9ff1",
   "metadata": {},
   "source": [
    "# PROBLEMA DE NEGÓCIO\n",
    "\n",
    "***Nosso cliente é uma seguradora que oferece Seguro Saúde aos seus clientes, agora eles precisam da sua ajuda na construção de um modelo para prever se os segurados (clientes) do ano passado também terão interesse no Seguro Automóvel oferecido pela empresa.\n",
    "\n",
    "**Uma apólice de seguro é um acordo pelo qual uma empresa se compromete a fornecer uma garantia de compensação por perdas, danos, doenças ou morte específicos em troca do pagamento de um prêmio específico. Um prêmio é uma quantia em dinheiro que o cliente precisa pagar regularmente a uma seguradora por esta garantia.\n",
    "\n",
    "**Por exemplo, você pode pagar um prêmio de Rs. 5.000 por ano para uma cobertura de seguro saúde de Rs. 200.000/- para que se, Deus me livre, você adoecer e precisar ser hospitalizado naquele ano, a seguradora arcará com o custo da hospitalização, etc., por até Rs. 200.000. Agora, se você está se perguntando como uma empresa pode arcar com custos de hospitalização tão altos quando cobra um prêmio de apenas Rs. 5000/-, é aí que o conceito de probabilidades entra em cena. Por exemplo, como você, pode haver 100 clientes que pagariam um prêmio de Rs. 5.000 todos os anos, mas apenas alguns deles (digamos 2-3) seriam hospitalizados naquele ano e nem todos. Dessa forma, todos compartilham o risco de todos os outros.\n",
    "\n",
    "**Assim como o seguro médico, existe o seguro automóvel, onde todos os anos o cliente precisa pagar um prêmio de determinado valor à seguradora para que, em caso de acidente infeliz com o veículo, a seguradora forneça uma indenização (chamada de 'soma assegurada' ) Para o consumidor.\n",
    "\n",
    "**Construir um modelo para prever se um cliente estaria interessado em seguro automóvel é extremamente útil para a empresa porque ela pode então planear a sua estratégia de comunicação para chegar a esses clientes e optimizar o seu modelo de negócio e receitas.\n",
    "\n",
    "**Agora, para prever se o cliente estaria interessado em seguro de veículos, você tem informações sobre dados demográficos (sexo, idade, tipo de código de região), veículos (idade do veículo, danos), apólice (prêmio, canal de fornecimento) etc."
   ]
  },
  {
   "cell_type": "markdown",
   "id": "4e8fd96c",
   "metadata": {},
   "source": [
    "# IMPORTAÇÃO DE DADDS E PRIMEIRAS VISUALIZAÇÕES"
   ]
  },
  {
   "cell_type": "code",
   "execution_count": 2,
   "id": "ff694a62",
   "metadata": {},
   "outputs": [],
   "source": [
    "#Importação de pacotes\n",
    "import warnings\n",
    "import pandas as pd\n",
    "df = pd.read_csv('train.csv',thousands= \" \")\n",
    "import matplotlib.pyplot as plt\n",
    "import seaborn as sns\n",
    "from sklearn.ensemble import RandomForestClassifier\n",
    "from sklearn.model_selection import train_test_split\n",
    "import numpy as np\n",
    "import joblib # Utilizado para salvar o modelo preditivo\n",
    "from sklearn.preprocessing import LabelEncoder #Utilizada para fazer o OneHotEncoding\n",
    "from sklearn.metrics import mean_squared_error,precision_score, recall_score, f1_score, accuracy_score, roc_auc_score, confusion_matrix\n",
    "from imblearn import under_sampling, over_sampling #Utilizada para fazer o balanceamento de dados\n",
    "from imblearn.over_sampling import SMOTE #Utilizada para fazer o balanceamento de dados\n",
    "from sklearn.preprocessing import MinMaxScaler #Utilizada para fazer a padronização dos dados\n",
    "from sklearn.metrics import r2_score # Utilizado para medir a acuracia do modelo preditivo\n",
    "from sklearn.model_selection import GridSearchCV\n",
    "from sklearn.model_selection import RandomizedSearchCV \n",
    "import time\n",
    "warnings.filterwarnings(\"ignore\") \n",
    "pd.set_option('display.max_columns', None)\n",
    "pd.set_option('display.max_rows', None)\n",
    "#pd.options.display.float_format = '{:.2f}'.format"
   ]
  },
  {
   "cell_type": "code",
   "execution_count": 3,
   "id": "782c3ed2",
   "metadata": {},
   "outputs": [
    {
     "data": {
      "text/html": [
       "<div>\n",
       "<style scoped>\n",
       "    .dataframe tbody tr th:only-of-type {\n",
       "        vertical-align: middle;\n",
       "    }\n",
       "\n",
       "    .dataframe tbody tr th {\n",
       "        vertical-align: top;\n",
       "    }\n",
       "\n",
       "    .dataframe thead th {\n",
       "        text-align: right;\n",
       "    }\n",
       "</style>\n",
       "<table border=\"1\" class=\"dataframe\">\n",
       "  <thead>\n",
       "    <tr style=\"text-align: right;\">\n",
       "      <th></th>\n",
       "      <th>id</th>\n",
       "      <th>Gender</th>\n",
       "      <th>Age</th>\n",
       "      <th>Driving_License</th>\n",
       "      <th>Region_Code</th>\n",
       "      <th>Previously_Insured</th>\n",
       "      <th>Vehicle_Age</th>\n",
       "      <th>Vehicle_Damage</th>\n",
       "      <th>Annual_Premium</th>\n",
       "      <th>Policy_Sales_Channel</th>\n",
       "      <th>Vintage</th>\n",
       "      <th>Response</th>\n",
       "    </tr>\n",
       "  </thead>\n",
       "  <tbody>\n",
       "    <tr>\n",
       "      <th>0</th>\n",
       "      <td>1</td>\n",
       "      <td>Male</td>\n",
       "      <td>44</td>\n",
       "      <td>1</td>\n",
       "      <td>28.0</td>\n",
       "      <td>0</td>\n",
       "      <td>&gt; 2 Years</td>\n",
       "      <td>Yes</td>\n",
       "      <td>40454.0</td>\n",
       "      <td>26.0</td>\n",
       "      <td>217</td>\n",
       "      <td>1</td>\n",
       "    </tr>\n",
       "    <tr>\n",
       "      <th>1</th>\n",
       "      <td>2</td>\n",
       "      <td>Male</td>\n",
       "      <td>76</td>\n",
       "      <td>1</td>\n",
       "      <td>3.0</td>\n",
       "      <td>0</td>\n",
       "      <td>1-2 Year</td>\n",
       "      <td>No</td>\n",
       "      <td>33536.0</td>\n",
       "      <td>26.0</td>\n",
       "      <td>183</td>\n",
       "      <td>0</td>\n",
       "    </tr>\n",
       "    <tr>\n",
       "      <th>2</th>\n",
       "      <td>3</td>\n",
       "      <td>Male</td>\n",
       "      <td>47</td>\n",
       "      <td>1</td>\n",
       "      <td>28.0</td>\n",
       "      <td>0</td>\n",
       "      <td>&gt; 2 Years</td>\n",
       "      <td>Yes</td>\n",
       "      <td>38294.0</td>\n",
       "      <td>26.0</td>\n",
       "      <td>27</td>\n",
       "      <td>1</td>\n",
       "    </tr>\n",
       "    <tr>\n",
       "      <th>3</th>\n",
       "      <td>4</td>\n",
       "      <td>Male</td>\n",
       "      <td>21</td>\n",
       "      <td>1</td>\n",
       "      <td>11.0</td>\n",
       "      <td>1</td>\n",
       "      <td>&lt; 1 Year</td>\n",
       "      <td>No</td>\n",
       "      <td>28619.0</td>\n",
       "      <td>152.0</td>\n",
       "      <td>203</td>\n",
       "      <td>0</td>\n",
       "    </tr>\n",
       "    <tr>\n",
       "      <th>4</th>\n",
       "      <td>5</td>\n",
       "      <td>Female</td>\n",
       "      <td>29</td>\n",
       "      <td>1</td>\n",
       "      <td>41.0</td>\n",
       "      <td>1</td>\n",
       "      <td>&lt; 1 Year</td>\n",
       "      <td>No</td>\n",
       "      <td>27496.0</td>\n",
       "      <td>152.0</td>\n",
       "      <td>39</td>\n",
       "      <td>0</td>\n",
       "    </tr>\n",
       "  </tbody>\n",
       "</table>\n",
       "</div>"
      ],
      "text/plain": [
       "   id  Gender  Age  Driving_License  Region_Code  Previously_Insured  \\\n",
       "0   1    Male   44                1         28.0                   0   \n",
       "1   2    Male   76                1          3.0                   0   \n",
       "2   3    Male   47                1         28.0                   0   \n",
       "3   4    Male   21                1         11.0                   1   \n",
       "4   5  Female   29                1         41.0                   1   \n",
       "\n",
       "  Vehicle_Age Vehicle_Damage  Annual_Premium  Policy_Sales_Channel  Vintage  \\\n",
       "0   > 2 Years            Yes         40454.0                  26.0      217   \n",
       "1    1-2 Year             No         33536.0                  26.0      183   \n",
       "2   > 2 Years            Yes         38294.0                  26.0       27   \n",
       "3    < 1 Year             No         28619.0                 152.0      203   \n",
       "4    < 1 Year             No         27496.0                 152.0       39   \n",
       "\n",
       "   Response  \n",
       "0         1  \n",
       "1         0  \n",
       "2         1  \n",
       "3         0  \n",
       "4         0  "
      ]
     },
     "execution_count": 3,
     "metadata": {},
     "output_type": "execute_result"
    }
   ],
   "source": [
    "df.head()"
   ]
  },
  {
   "cell_type": "code",
   "execution_count": 4,
   "id": "40aab7cf",
   "metadata": {},
   "outputs": [
    {
     "data": {
      "text/plain": [
       "(381109, 12)"
      ]
     },
     "execution_count": 4,
     "metadata": {},
     "output_type": "execute_result"
    }
   ],
   "source": [
    "df.shape"
   ]
  },
  {
   "cell_type": "code",
   "execution_count": 5,
   "id": "f73f66e2",
   "metadata": {},
   "outputs": [
    {
     "name": "stdout",
     "output_type": "stream",
     "text": [
      "<class 'pandas.core.frame.DataFrame'>\n",
      "RangeIndex: 381109 entries, 0 to 381108\n",
      "Data columns (total 12 columns):\n",
      " #   Column                Non-Null Count   Dtype  \n",
      "---  ------                --------------   -----  \n",
      " 0   id                    381109 non-null  int64  \n",
      " 1   Gender                381109 non-null  object \n",
      " 2   Age                   381109 non-null  int64  \n",
      " 3   Driving_License       381109 non-null  int64  \n",
      " 4   Region_Code           381109 non-null  float64\n",
      " 5   Previously_Insured    381109 non-null  int64  \n",
      " 6   Vehicle_Age           381109 non-null  object \n",
      " 7   Vehicle_Damage        381109 non-null  object \n",
      " 8   Annual_Premium        381109 non-null  float64\n",
      " 9   Policy_Sales_Channel  381109 non-null  float64\n",
      " 10  Vintage               381109 non-null  int64  \n",
      " 11  Response              381109 non-null  int64  \n",
      "dtypes: float64(3), int64(6), object(3)\n",
      "memory usage: 34.9+ MB\n"
     ]
    }
   ],
   "source": [
    "df.info()"
   ]
  },
  {
   "cell_type": "markdown",
   "id": "b4e5c5de",
   "metadata": {},
   "source": [
    "# TRADUÇÃO DA BASE DE DADOS"
   ]
  },
  {
   "cell_type": "code",
   "execution_count": 6,
   "id": "e07251c9",
   "metadata": {},
   "outputs": [
    {
     "name": "stdout",
     "output_type": "stream",
     "text": [
      "<class 'pandas.core.frame.DataFrame'>\n",
      "RangeIndex: 381109 entries, 0 to 381108\n",
      "Data columns (total 12 columns):\n",
      " #   Column             Non-Null Count   Dtype  \n",
      "---  ------             --------------   -----  \n",
      " 0   id                 381109 non-null  int64  \n",
      " 1   Sexo               381109 non-null  object \n",
      " 2   Idade              381109 non-null  int64  \n",
      " 3   CartaCondução      381109 non-null  int64  \n",
      " 4   CódigoRegião       381109 non-null  float64\n",
      " 5   Seguro             381109 non-null  int64  \n",
      " 6   IdadeVeículo       381109 non-null  object \n",
      " 7   VeiculoDanificado  381109 non-null  object \n",
      " 8   ValorPagarAno      381109 non-null  float64\n",
      " 9   PolíticaCanal      381109 non-null  float64\n",
      " 10  DiasAssociado      381109 non-null  int64  \n",
      " 11  Resposta           381109 non-null  int64  \n",
      "dtypes: float64(3), int64(6), object(3)\n",
      "memory usage: 34.9+ MB\n"
     ]
    }
   ],
   "source": [
    "df_traduzida = df.rename(columns={'Gender':'Sexo','Age':'Idade','Driving_License':'CartaCondução','Region_Code':'CódigoRegião','Previously_Insured':'Seguro','Vehicle_Age':'IdadeVeículo','Vehicle_Damage':'VeiculoDanificado','Annual_Premium':'ValorPagarAno','Policy_Sales_Channel':'PolíticaCanal','Vintage':'DiasAssociado','Response':'Resposta'})\n",
    "df_traduzida.info()"
   ]
  },
  {
   "cell_type": "markdown",
   "id": "597fe939",
   "metadata": {},
   "source": [
    "# TRATAMENTO E MANIPULAÇÃO DE DADOS"
   ]
  },
  {
   "cell_type": "code",
   "execution_count": 7,
   "id": "64e815a8",
   "metadata": {},
   "outputs": [],
   "source": [
    "# EXCLUIT COLUNAS QUE NÃO SERÃO ÚTEIS\n",
    "\n",
    "del df_traduzida['id']"
   ]
  },
  {
   "cell_type": "code",
   "execution_count": 8,
   "id": "e11965b5",
   "metadata": {},
   "outputs": [],
   "source": [
    "#df_traduzida['IdadeVeículo'] = pd.to_numeric(df_traduzida[\"IdadeVeículo\"].str.replace(\">\",\" \").str.replace('<' ,'').str.replace('Years', '').str.replace('- ', '').str.replace(\" \", '').str.replace(\"1-2Year\", '').str.replace(\"1Year\", ''),downcast=\"float\")"
   ]
  },
  {
   "cell_type": "markdown",
   "id": "c5e229d7",
   "metadata": {},
   "source": [
    "### TRATANDO VALORES NULOS E VALORES DUPLICADOS "
   ]
  },
  {
   "cell_type": "code",
   "execution_count": 9,
   "id": "06d4827b",
   "metadata": {},
   "outputs": [
    {
     "data": {
      "text/plain": [
       "Sexo                 0.0\n",
       "Idade                0.0\n",
       "CartaCondução        0.0\n",
       "CódigoRegião         0.0\n",
       "Seguro               0.0\n",
       "IdadeVeículo         0.0\n",
       "VeiculoDanificado    0.0\n",
       "ValorPagarAno        0.0\n",
       "PolíticaCanal        0.0\n",
       "DiasAssociado        0.0\n",
       "Resposta             0.0\n",
       "dtype: float64"
      ]
     },
     "execution_count": 9,
     "metadata": {},
     "output_type": "execute_result"
    }
   ],
   "source": [
    "(df_traduzida.isnull().sum() / len(df_traduzida['Sexo']))*100"
   ]
  },
  {
   "cell_type": "code",
   "execution_count": 10,
   "id": "2c284a28",
   "metadata": {},
   "outputs": [
    {
     "data": {
      "text/plain": [
       "269"
      ]
     },
     "execution_count": 10,
     "metadata": {},
     "output_type": "execute_result"
    }
   ],
   "source": [
    "df_traduzida.duplicated().sum()"
   ]
  },
  {
   "cell_type": "code",
   "execution_count": 11,
   "id": "f022a0fb",
   "metadata": {},
   "outputs": [],
   "source": [
    "df_traduzida = df_traduzida.drop_duplicates()"
   ]
  },
  {
   "cell_type": "markdown",
   "id": "87ed9980",
   "metadata": {},
   "source": [
    "# ANÁLISE EXPLORATÓRIA"
   ]
  },
  {
   "cell_type": "markdown",
   "id": "2b6800df",
   "metadata": {},
   "source": [
    "## ESTATÍSTICA"
   ]
  },
  {
   "cell_type": "code",
   "execution_count": 12,
   "id": "fedcddce",
   "metadata": {},
   "outputs": [
    {
     "data": {
      "text/html": [
       "<div>\n",
       "<style scoped>\n",
       "    .dataframe tbody tr th:only-of-type {\n",
       "        vertical-align: middle;\n",
       "    }\n",
       "\n",
       "    .dataframe tbody tr th {\n",
       "        vertical-align: top;\n",
       "    }\n",
       "\n",
       "    .dataframe thead th {\n",
       "        text-align: right;\n",
       "    }\n",
       "</style>\n",
       "<table border=\"1\" class=\"dataframe\">\n",
       "  <thead>\n",
       "    <tr style=\"text-align: right;\">\n",
       "      <th></th>\n",
       "      <th>Idade</th>\n",
       "      <th>CartaCondução</th>\n",
       "      <th>CódigoRegião</th>\n",
       "      <th>Seguro</th>\n",
       "      <th>ValorPagarAno</th>\n",
       "      <th>PolíticaCanal</th>\n",
       "      <th>DiasAssociado</th>\n",
       "      <th>Resposta</th>\n",
       "    </tr>\n",
       "  </thead>\n",
       "  <tbody>\n",
       "    <tr>\n",
       "      <th>count</th>\n",
       "      <td>380840.000000</td>\n",
       "      <td>380840.000000</td>\n",
       "      <td>380840.000000</td>\n",
       "      <td>380840.000000</td>\n",
       "      <td>380840.000000</td>\n",
       "      <td>380840.000000</td>\n",
       "      <td>380840.000000</td>\n",
       "      <td>380840.000000</td>\n",
       "    </tr>\n",
       "    <tr>\n",
       "      <th>mean</th>\n",
       "      <td>38.823593</td>\n",
       "      <td>0.997868</td>\n",
       "      <td>26.388307</td>\n",
       "      <td>0.458208</td>\n",
       "      <td>30584.016078</td>\n",
       "      <td>112.030225</td>\n",
       "      <td>154.344607</td>\n",
       "      <td>0.122584</td>\n",
       "    </tr>\n",
       "    <tr>\n",
       "      <th>std</th>\n",
       "      <td>15.513206</td>\n",
       "      <td>0.046126</td>\n",
       "      <td>13.229907</td>\n",
       "      <td>0.498251</td>\n",
       "      <td>17203.258664</td>\n",
       "      <td>54.206194</td>\n",
       "      <td>83.670240</td>\n",
       "      <td>0.327960</td>\n",
       "    </tr>\n",
       "    <tr>\n",
       "      <th>min</th>\n",
       "      <td>20.000000</td>\n",
       "      <td>0.000000</td>\n",
       "      <td>0.000000</td>\n",
       "      <td>0.000000</td>\n",
       "      <td>2630.000000</td>\n",
       "      <td>1.000000</td>\n",
       "      <td>10.000000</td>\n",
       "      <td>0.000000</td>\n",
       "    </tr>\n",
       "    <tr>\n",
       "      <th>25%</th>\n",
       "      <td>25.000000</td>\n",
       "      <td>1.000000</td>\n",
       "      <td>15.000000</td>\n",
       "      <td>0.000000</td>\n",
       "      <td>24426.000000</td>\n",
       "      <td>29.000000</td>\n",
       "      <td>82.000000</td>\n",
       "      <td>0.000000</td>\n",
       "    </tr>\n",
       "    <tr>\n",
       "      <th>50%</th>\n",
       "      <td>36.000000</td>\n",
       "      <td>1.000000</td>\n",
       "      <td>28.000000</td>\n",
       "      <td>0.000000</td>\n",
       "      <td>31678.500000</td>\n",
       "      <td>133.000000</td>\n",
       "      <td>154.000000</td>\n",
       "      <td>0.000000</td>\n",
       "    </tr>\n",
       "    <tr>\n",
       "      <th>75%</th>\n",
       "      <td>49.000000</td>\n",
       "      <td>1.000000</td>\n",
       "      <td>35.000000</td>\n",
       "      <td>1.000000</td>\n",
       "      <td>39408.000000</td>\n",
       "      <td>152.000000</td>\n",
       "      <td>227.000000</td>\n",
       "      <td>0.000000</td>\n",
       "    </tr>\n",
       "    <tr>\n",
       "      <th>max</th>\n",
       "      <td>85.000000</td>\n",
       "      <td>1.000000</td>\n",
       "      <td>52.000000</td>\n",
       "      <td>1.000000</td>\n",
       "      <td>540165.000000</td>\n",
       "      <td>163.000000</td>\n",
       "      <td>299.000000</td>\n",
       "      <td>1.000000</td>\n",
       "    </tr>\n",
       "  </tbody>\n",
       "</table>\n",
       "</div>"
      ],
      "text/plain": [
       "               Idade  CartaCondução   CódigoRegião         Seguro  \\\n",
       "count  380840.000000  380840.000000  380840.000000  380840.000000   \n",
       "mean       38.823593       0.997868      26.388307       0.458208   \n",
       "std        15.513206       0.046126      13.229907       0.498251   \n",
       "min        20.000000       0.000000       0.000000       0.000000   \n",
       "25%        25.000000       1.000000      15.000000       0.000000   \n",
       "50%        36.000000       1.000000      28.000000       0.000000   \n",
       "75%        49.000000       1.000000      35.000000       1.000000   \n",
       "max        85.000000       1.000000      52.000000       1.000000   \n",
       "\n",
       "       ValorPagarAno  PolíticaCanal  DiasAssociado       Resposta  \n",
       "count  380840.000000  380840.000000  380840.000000  380840.000000  \n",
       "mean    30584.016078     112.030225     154.344607       0.122584  \n",
       "std     17203.258664      54.206194      83.670240       0.327960  \n",
       "min      2630.000000       1.000000      10.000000       0.000000  \n",
       "25%     24426.000000      29.000000      82.000000       0.000000  \n",
       "50%     31678.500000     133.000000     154.000000       0.000000  \n",
       "75%     39408.000000     152.000000     227.000000       0.000000  \n",
       "max    540165.000000     163.000000     299.000000       1.000000  "
      ]
     },
     "execution_count": 12,
     "metadata": {},
     "output_type": "execute_result"
    }
   ],
   "source": [
    "df_traduzida.describe()"
   ]
  },
  {
   "cell_type": "markdown",
   "id": "78b79ab9",
   "metadata": {},
   "source": [
    "### MODA"
   ]
  },
  {
   "cell_type": "code",
   "execution_count": 13,
   "id": "7703a273",
   "metadata": {},
   "outputs": [
    {
     "data": {
      "text/plain": [
       "24"
      ]
     },
     "execution_count": 13,
     "metadata": {},
     "output_type": "execute_result"
    }
   ],
   "source": [
    "from statistics import mode\n",
    "\n",
    "mode(df_traduzida['Idade'])"
   ]
  },
  {
   "cell_type": "code",
   "execution_count": 14,
   "id": "5993222f",
   "metadata": {},
   "outputs": [
    {
     "data": {
      "text/plain": [
       "1"
      ]
     },
     "execution_count": 14,
     "metadata": {},
     "output_type": "execute_result"
    }
   ],
   "source": [
    "mode(df_traduzida['CartaCondução'])"
   ]
  },
  {
   "cell_type": "code",
   "execution_count": 15,
   "id": "2719e0f4",
   "metadata": {},
   "outputs": [
    {
     "data": {
      "text/plain": [
       "0"
      ]
     },
     "execution_count": 15,
     "metadata": {},
     "output_type": "execute_result"
    }
   ],
   "source": [
    "mode(df_traduzida['Seguro'])"
   ]
  },
  {
   "cell_type": "code",
   "execution_count": 16,
   "id": "b66d33f6",
   "metadata": {},
   "outputs": [
    {
     "data": {
      "text/plain": [
       "2630.0"
      ]
     },
     "execution_count": 16,
     "metadata": {},
     "output_type": "execute_result"
    }
   ],
   "source": [
    "mode(df_traduzida['ValorPagarAno'])"
   ]
  },
  {
   "cell_type": "code",
   "execution_count": 17,
   "id": "185f4287",
   "metadata": {},
   "outputs": [
    {
     "data": {
      "text/plain": [
       "152.0"
      ]
     },
     "execution_count": 17,
     "metadata": {},
     "output_type": "execute_result"
    }
   ],
   "source": [
    "mode(df_traduzida['PolíticaCanal'])"
   ]
  },
  {
   "cell_type": "code",
   "execution_count": 18,
   "id": "1545eafa",
   "metadata": {},
   "outputs": [
    {
     "data": {
      "text/plain": [
       "256"
      ]
     },
     "execution_count": 18,
     "metadata": {},
     "output_type": "execute_result"
    }
   ],
   "source": [
    "mode(df_traduzida['DiasAssociado'])"
   ]
  },
  {
   "cell_type": "code",
   "execution_count": 19,
   "id": "89059ac8",
   "metadata": {},
   "outputs": [
    {
     "data": {
      "text/plain": [
       "0"
      ]
     },
     "execution_count": 19,
     "metadata": {},
     "output_type": "execute_result"
    }
   ],
   "source": [
    "mode(df_traduzida['Resposta'])"
   ]
  },
  {
   "cell_type": "markdown",
   "id": "208c4e14",
   "metadata": {},
   "source": [
    "### ASSIMETRIA"
   ]
  },
  {
   "cell_type": "code",
   "execution_count": 20,
   "id": "1f2548c2",
   "metadata": {},
   "outputs": [
    {
     "data": {
      "text/plain": [
       "0.6724953423629682"
      ]
     },
     "execution_count": 20,
     "metadata": {},
     "output_type": "execute_result"
    }
   ],
   "source": [
    "df_traduzida['Idade'].skew()"
   ]
  },
  {
   "cell_type": "code",
   "execution_count": 21,
   "id": "954dd3b8",
   "metadata": {},
   "outputs": [
    {
     "data": {
      "text/plain": [
       "-21.58750995371246"
      ]
     },
     "execution_count": 21,
     "metadata": {},
     "output_type": "execute_result"
    }
   ],
   "source": [
    "df_traduzida['CartaCondução'].skew()"
   ]
  },
  {
   "cell_type": "code",
   "execution_count": 22,
   "id": "8f2b84fe",
   "metadata": {},
   "outputs": [
    {
     "data": {
      "text/plain": [
       "0.16775498710028985"
      ]
     },
     "execution_count": 22,
     "metadata": {},
     "output_type": "execute_result"
    }
   ],
   "source": [
    "df_traduzida['Seguro'].skew()"
   ]
  },
  {
   "cell_type": "code",
   "execution_count": 23,
   "id": "f8e3e002",
   "metadata": {},
   "outputs": [
    {
     "data": {
      "text/plain": [
       "1.7699758877598497"
      ]
     },
     "execution_count": 23,
     "metadata": {},
     "output_type": "execute_result"
    }
   ],
   "source": [
    "df_traduzida['ValorPagarAno'].skew()"
   ]
  },
  {
   "cell_type": "code",
   "execution_count": 24,
   "id": "f15389fc",
   "metadata": {},
   "outputs": [
    {
     "data": {
      "text/plain": [
       "0.00305128680797489"
      ]
     },
     "execution_count": 24,
     "metadata": {},
     "output_type": "execute_result"
    }
   ],
   "source": [
    "df_traduzida['DiasAssociado'].skew()"
   ]
  },
  {
   "cell_type": "code",
   "execution_count": 25,
   "id": "6ac083e4",
   "metadata": {},
   "outputs": [
    {
     "data": {
      "text/plain": [
       "2.3016091530787497"
      ]
     },
     "execution_count": 25,
     "metadata": {},
     "output_type": "execute_result"
    }
   ],
   "source": [
    "df_traduzida['Resposta'].skew()"
   ]
  },
  {
   "cell_type": "markdown",
   "id": "94f3a9bd",
   "metadata": {},
   "source": [
    "### CURTOSE"
   ]
  },
  {
   "cell_type": "code",
   "execution_count": 26,
   "id": "9ede4ce9",
   "metadata": {},
   "outputs": [
    {
     "data": {
      "text/plain": [
       "-0.5659837829761241"
      ]
     },
     "execution_count": 26,
     "metadata": {},
     "output_type": "execute_result"
    }
   ],
   "source": [
    "df_traduzida['Idade'].kurt()"
   ]
  },
  {
   "cell_type": "code",
   "execution_count": 27,
   "id": "1eb6db84",
   "metadata": {},
   "outputs": [
    {
     "data": {
      "text/plain": [
       "464.023022841344"
      ]
     },
     "execution_count": 27,
     "metadata": {},
     "output_type": "execute_result"
    }
   ],
   "source": [
    "df_traduzida['CartaCondução'].kurt()"
   ]
  },
  {
   "cell_type": "code",
   "execution_count": 28,
   "id": "91b1bdfc",
   "metadata": {},
   "outputs": [
    {
     "data": {
      "text/plain": [
       "-1.9718686196956465"
      ]
     },
     "execution_count": 28,
     "metadata": {},
     "output_type": "execute_result"
    }
   ],
   "source": [
    "df_traduzida['Seguro'].kurt()"
   ]
  },
  {
   "cell_type": "code",
   "execution_count": 29,
   "id": "125bb5a9",
   "metadata": {},
   "outputs": [
    {
     "data": {
      "text/plain": [
       "34.10301190861813"
      ]
     },
     "execution_count": 29,
     "metadata": {},
     "output_type": "execute_result"
    }
   ],
   "source": [
    "df_traduzida['ValorPagarAno'].kurt()"
   ]
  },
  {
   "cell_type": "code",
   "execution_count": 30,
   "id": "4436ad03",
   "metadata": {},
   "outputs": [
    {
     "data": {
      "text/plain": [
       "-1.2006124632989013"
      ]
     },
     "execution_count": 30,
     "metadata": {},
     "output_type": "execute_result"
    }
   ],
   "source": [
    "df_traduzida['DiasAssociado'].kurt()"
   ]
  },
  {
   "cell_type": "code",
   "execution_count": 31,
   "id": "c30133b1",
   "metadata": {},
   "outputs": [
    {
     "data": {
      "text/plain": [
       "3.297422010082246"
      ]
     },
     "execution_count": 31,
     "metadata": {},
     "output_type": "execute_result"
    }
   ],
   "source": [
    "df_traduzida['Resposta'].kurt()"
   ]
  },
  {
   "cell_type": "markdown",
   "id": "bb82b2f5",
   "metadata": {},
   "source": [
    "### HISTOGRAMA"
   ]
  },
  {
   "cell_type": "code",
   "execution_count": 32,
   "id": "3c041ab7",
   "metadata": {},
   "outputs": [
    {
     "data": {
      "text/plain": [
       "array([[<Axes: title={'center': 'Idade'}>,\n",
       "        <Axes: title={'center': 'CartaCondução'}>,\n",
       "        <Axes: title={'center': 'CódigoRegião'}>],\n",
       "       [<Axes: title={'center': 'Seguro'}>,\n",
       "        <Axes: title={'center': 'ValorPagarAno'}>,\n",
       "        <Axes: title={'center': 'PolíticaCanal'}>],\n",
       "       [<Axes: title={'center': 'DiasAssociado'}>,\n",
       "        <Axes: title={'center': 'Resposta'}>, <Axes: >]], dtype=object)"
      ]
     },
     "execution_count": 32,
     "metadata": {},
     "output_type": "execute_result"
    },
    {
     "data": {
      "image/png": "[encoded data removed]",
      "text/plain": [
       "<Figure size 640x480 with 9 Axes>"
      ]
     },
     "metadata": {},
     "output_type": "display_data"
    }
   ],
   "source": [
    "df_traduzida.hist()"
   ]
  },
  {
   "cell_type": "code",
   "execution_count": 33,
   "id": "1db91d33",
   "metadata": {},
   "outputs": [
    {
     "data": {
      "image/png": "[encoded data removed]",
      "text/plain": [
       "<Figure size 640x480 with 1 Axes>"
      ]
     },
     "metadata": {},
     "output_type": "display_data"
    }
   ],
   "source": [
    "ax = sns.histplot(df_traduzida.DiasAssociado, stat=\"density\", kde=True, color='#74acd4', lw=1)"
   ]
  },
  {
   "cell_type": "code",
   "execution_count": 34,
   "id": "925806ed",
   "metadata": {},
   "outputs": [
    {
     "data": {
      "image/png": "[encoded data removed]",
      "text/plain": [
       "<Figure size 640x480 with 1 Axes>"
      ]
     },
     "metadata": {},
     "output_type": "display_data"
    }
   ],
   "source": [
    "ax = sns.histplot(df_traduzida.ValorPagarAno, stat=\"density\", kde=True, color='#74acd4', lw=1)"
   ]
  },
  {
   "cell_type": "markdown",
   "id": "9452be79",
   "metadata": {},
   "source": [
    "### VERIFICANDO SE HÁ CORRELAÇÃO NAS VARIAVEIS"
   ]
  },
  {
   "cell_type": "code",
   "execution_count": 35,
   "id": "2683ba06",
   "metadata": {},
   "outputs": [
    {
     "data": {
      "image/png": "[encoded data removed]",
      "text/plain": [
       "<Figure size 800x800 with 2 Axes>"
      ]
     },
     "metadata": {},
     "output_type": "display_data"
    }
   ],
   "source": [
    "plt.rcParams['xtick.labelsize'] = 10\n",
    "plt.rcParams['ytick.labelsize'] = 10\n",
    "plt.rcParams['font.size'] = 10 \n",
    "plt.rcParams['axes.titlesize'] = 20\n",
    "plt.rcParams[\"figure.figsize\"] = [8.00, 8.00]\n",
    "plt.rcParams[\"figure.autolayout\"] = True\n",
    "sns.heatmap(df_traduzida.corr(), annot=True)\n",
    "plt.show()"
   ]
  },
  {
   "cell_type": "markdown",
   "id": "b54c8df7",
   "metadata": {},
   "source": [
    "### VALORES ÚNICO EM CADA VARIAVEL"
   ]
  },
  {
   "cell_type": "code",
   "execution_count": 36,
   "id": "f171bc1f",
   "metadata": {},
   "outputs": [
    {
     "name": "stdout",
     "output_type": "stream",
     "text": [
      "Sexo : 2\n",
      "Idade : 66\n",
      "CartaCondução : 2\n",
      "CódigoRegião : 53\n",
      "Seguro : 2\n",
      "IdadeVeículo : 3\n",
      "VeiculoDanificado : 2\n",
      "ValorPagarAno : 48838\n",
      "PolíticaCanal : 155\n",
      "DiasAssociado : 290\n",
      "Resposta : 2\n"
     ]
    }
   ],
   "source": [
    "valores_unicos = []\n",
    "for i in df_traduzida.columns[0:12].tolist():\n",
    "    print(i, ':', len(df_traduzida[i].astype(str).value_counts()))\n",
    "    valores_unicos.append(len(df_traduzida[i].astype(str).value_counts()))"
   ]
  },
  {
   "cell_type": "markdown",
   "id": "0402833f",
   "metadata": {},
   "source": [
    "## verificação de outliers "
   ]
  },
  {
   "cell_type": "code",
   "execution_count": 37,
   "id": "8bf2ad87",
   "metadata": {},
   "outputs": [
    {
     "name": "stdout",
     "output_type": "stream",
     "text": [
      "Idade : int64\n",
      "CartaCondução : int64\n",
      "CódigoRegião : float64\n",
      "Seguro : int64\n",
      "ValorPagarAno : float64\n",
      "PolíticaCanal : float64\n",
      "DiasAssociado : int64\n",
      "Resposta : int64\n"
     ]
    },
    {
     "data": {
      "image/png": "[encoded data removed]",
      "text/plain": [
       "<Figure size 1400x1000 with 9 Axes>"
      ]
     },
     "metadata": {},
     "output_type": "display_data"
    }
   ],
   "source": [
    "variaveis_numericas = []\n",
    "for i in df_traduzida.columns[0:16].tolist():\n",
    "        if df_traduzida.dtypes[i] == 'int64' or df_traduzida.dtypes[i] == 'float64':            \n",
    "            print(i, ':' , df_traduzida.dtypes[i]) \n",
    "            variaveis_numericas.append(i)\n",
    " \n",
    "    \n",
    "    \n",
    "    \n",
    "plt.rcParams[\"figure.figsize\"] = [14.00, 10.00]\n",
    "plt.rcParams[\"figure.autolayout\"] = True\n",
    "\n",
    "plt.rcParams['font.size'] = 10 \n",
    "plt.rcParams['axes.titlesize'] = 20\n",
    "\n",
    "f, axes = plt.subplots(3, 3) #8 linhas e 4 colunas\n",
    "\n",
    "linha = 0\n",
    "coluna = 0\n",
    "for i in variaveis_numericas:\n",
    "    sns.boxplot(data = df_traduzida, y=i, ax=axes[linha][coluna])\n",
    "    coluna += 1\n",
    "    if coluna == 3:\n",
    "        linha += 1\n",
    "        coluna = 0            \n",
    "\n",
    "plt.show() "
   ]
  },
  {
   "cell_type": "markdown",
   "id": "3a96108f",
   "metadata": {},
   "source": [
    "### ANÁLISE EXPLORATÓRIA DOS DADOS COM PYGWALKER"
   ]
  },
  {
   "cell_type": "code",
   "execution_count": 38,
   "id": "095baf1b",
   "metadata": {
    "scrolled": true
   },
   "outputs": [
    {
     "name": "stderr",
     "output_type": "stream",
     "text": [
      "WARNING: parse invoke code failed, This may affect feature of export code.\n"
     ]
    },
    {
     "data": {
      "application/vnd.jupyter.widget-view+json": {
       "model_id": "da3f4d2545f14fbe85c00dd70290c4b3",
       "version_major": 2,
       "version_minor": 0
      },
      "text/plain": [
       "Box(children=(HTML(value='<div id=\"ifr-pyg-0\" style=\"height: auto\">\\n    <head>\\n        <meta http-equiv=\"Con…"
      ]
     },
     "metadata": {},
     "output_type": "display_data"
    },
    {
     "data": {
      "text/html": [
       "<html>\n",
       "<style>\n",
       ".tabs{\n",
       "    position:relative;\n",
       "    height:660px;\n",
       "}\n",
       ".tab-pane{\n",
       "    display:inline-block;\n",
       "}\n",
       ".tabs input[type='radio']{\n",
       "    position:absolute;\n",
       "    clip:rect(0,0,0,0)\n",
       "}\n",
       ".tab-item{\n",
       "    display:block;\n",
       "    height:34px;\n",
       "    line-height:34px;\n",
       "    cursor:pointer;\n",
       "    padding:0 10px\n",
       "}\n",
       "\n",
       ".tabs input[type='radio']:checked+.tab-item{\n",
       "    background:#2563eb;\n",
       "    color:#fff\n",
       "}\n",
       "\n",
       ".tab-content{\n",
       "    display: none;\n",
       "    position:absolute;\n",
       "    left:0;\n",
       "    top:56px;\n",
       "    bottom:0;\n",
       "    right:0;\n",
       "}\n",
       "\n",
       ".tabs input[type='radio']:checked+.tab-item+.tab-content{\n",
       "    display: block;\n",
       "}\n",
       "</style>\n",
       "\n",
       "<body>\n",
       "    <div id=\"pygwalker-preview-0\">\n",
       "        <div class=\"tabs\">\n",
       "            \n",
       "        </div>\n",
       "    </div>\n",
       "</body>\n",
       "</html>"
      ],
      "text/plain": [
       "<IPython.core.display.HTML object>"
      ]
     },
     "metadata": {},
     "output_type": "display_data"
    },
    {
     "data": {
      "text/plain": [
       "<pygwalker.api.pygwalker.PygWalker at 0x1d8624451d0>"
      ]
     },
     "execution_count": 38,
     "metadata": {},
     "output_type": "execute_result"
    }
   ],
   "source": [
    "#!pip install pygwalker -q\n",
    "import pygwalker as pyg\n",
    "pyg.walk(df_traduzida)"
   ]
  },
  {
   "cell_type": "markdown",
   "id": "82d62d54",
   "metadata": {},
   "source": [
    "# ANÁLISE DE DADOS "
   ]
  },
  {
   "cell_type": "code",
   "execution_count": 39,
   "id": "e8f3f795",
   "metadata": {},
   "outputs": [
    {
     "data": {
      "text/html": [
       "<div>\n",
       "<style scoped>\n",
       "    .dataframe tbody tr th:only-of-type {\n",
       "        vertical-align: middle;\n",
       "    }\n",
       "\n",
       "    .dataframe tbody tr th {\n",
       "        vertical-align: top;\n",
       "    }\n",
       "\n",
       "    .dataframe thead th {\n",
       "        text-align: right;\n",
       "    }\n",
       "</style>\n",
       "<table border=\"1\" class=\"dataframe\">\n",
       "  <thead>\n",
       "    <tr style=\"text-align: right;\">\n",
       "      <th></th>\n",
       "      <th>Sexo</th>\n",
       "      <th>Idade</th>\n",
       "      <th>CartaCondução</th>\n",
       "      <th>CódigoRegião</th>\n",
       "      <th>Seguro</th>\n",
       "      <th>IdadeVeículo</th>\n",
       "      <th>VeiculoDanificado</th>\n",
       "      <th>ValorPagarAno</th>\n",
       "      <th>PolíticaCanal</th>\n",
       "      <th>DiasAssociado</th>\n",
       "      <th>Resposta</th>\n",
       "    </tr>\n",
       "  </thead>\n",
       "  <tbody>\n",
       "    <tr>\n",
       "      <th>0</th>\n",
       "      <td>Male</td>\n",
       "      <td>44</td>\n",
       "      <td>1</td>\n",
       "      <td>28.0</td>\n",
       "      <td>0</td>\n",
       "      <td>&gt; 2 Years</td>\n",
       "      <td>Yes</td>\n",
       "      <td>40454.0</td>\n",
       "      <td>26.0</td>\n",
       "      <td>217</td>\n",
       "      <td>1</td>\n",
       "    </tr>\n",
       "    <tr>\n",
       "      <th>1</th>\n",
       "      <td>Male</td>\n",
       "      <td>76</td>\n",
       "      <td>1</td>\n",
       "      <td>3.0</td>\n",
       "      <td>0</td>\n",
       "      <td>1-2 Year</td>\n",
       "      <td>No</td>\n",
       "      <td>33536.0</td>\n",
       "      <td>26.0</td>\n",
       "      <td>183</td>\n",
       "      <td>0</td>\n",
       "    </tr>\n",
       "    <tr>\n",
       "      <th>2</th>\n",
       "      <td>Male</td>\n",
       "      <td>47</td>\n",
       "      <td>1</td>\n",
       "      <td>28.0</td>\n",
       "      <td>0</td>\n",
       "      <td>&gt; 2 Years</td>\n",
       "      <td>Yes</td>\n",
       "      <td>38294.0</td>\n",
       "      <td>26.0</td>\n",
       "      <td>27</td>\n",
       "      <td>1</td>\n",
       "    </tr>\n",
       "    <tr>\n",
       "      <th>3</th>\n",
       "      <td>Male</td>\n",
       "      <td>21</td>\n",
       "      <td>1</td>\n",
       "      <td>11.0</td>\n",
       "      <td>1</td>\n",
       "      <td>&lt; 1 Year</td>\n",
       "      <td>No</td>\n",
       "      <td>28619.0</td>\n",
       "      <td>152.0</td>\n",
       "      <td>203</td>\n",
       "      <td>0</td>\n",
       "    </tr>\n",
       "    <tr>\n",
       "      <th>4</th>\n",
       "      <td>Female</td>\n",
       "      <td>29</td>\n",
       "      <td>1</td>\n",
       "      <td>41.0</td>\n",
       "      <td>1</td>\n",
       "      <td>&lt; 1 Year</td>\n",
       "      <td>No</td>\n",
       "      <td>27496.0</td>\n",
       "      <td>152.0</td>\n",
       "      <td>39</td>\n",
       "      <td>0</td>\n",
       "    </tr>\n",
       "  </tbody>\n",
       "</table>\n",
       "</div>"
      ],
      "text/plain": [
       "     Sexo  Idade  CartaCondução  CódigoRegião  Seguro IdadeVeículo  \\\n",
       "0    Male     44              1          28.0       0    > 2 Years   \n",
       "1    Male     76              1           3.0       0     1-2 Year   \n",
       "2    Male     47              1          28.0       0    > 2 Years   \n",
       "3    Male     21              1          11.0       1     < 1 Year   \n",
       "4  Female     29              1          41.0       1     < 1 Year   \n",
       "\n",
       "  VeiculoDanificado  ValorPagarAno  PolíticaCanal  DiasAssociado  Resposta  \n",
       "0               Yes        40454.0           26.0            217         1  \n",
       "1                No        33536.0           26.0            183         0  \n",
       "2               Yes        38294.0           26.0             27         1  \n",
       "3                No        28619.0          152.0            203         0  \n",
       "4                No        27496.0          152.0             39         0  "
      ]
     },
     "execution_count": 39,
     "metadata": {},
     "output_type": "execute_result"
    }
   ],
   "source": [
    "df_traduzida.head()"
   ]
  },
  {
   "cell_type": "markdown",
   "id": "63443fff",
   "metadata": {},
   "source": [
    "### AGRUPAMENTO DOS DADOS "
   ]
  },
  {
   "cell_type": "code",
   "execution_count": 40,
   "id": "0b731418",
   "metadata": {},
   "outputs": [
    {
     "data": {
      "text/plain": [
       "Sexo\n",
       "Female    174902\n",
       "Male      205938\n",
       "dtype: int64"
      ]
     },
     "execution_count": 40,
     "metadata": {},
     "output_type": "execute_result"
    }
   ],
   "source": [
    "df_traduzida.groupby(df_traduzida['Sexo']).size()"
   ]
  },
  {
   "cell_type": "code",
   "execution_count": 41,
   "id": "14127416",
   "metadata": {},
   "outputs": [
    {
     "data": {
      "text/plain": [
       "Idade\n",
       "20     6227\n",
       "21    16452\n",
       "22    20956\n",
       "23    24239\n",
       "24    25939\n",
       "25    20620\n",
       "26    13520\n",
       "27    10748\n",
       "28     8965\n",
       "29     7428\n",
       "30     6254\n",
       "31     5507\n",
       "32     4997\n",
       "33     5010\n",
       "34     4894\n",
       "35     4932\n",
       "36     5063\n",
       "37     5404\n",
       "38     5706\n",
       "39     6452\n",
       "40     7162\n",
       "41     7725\n",
       "42     7995\n",
       "43     8423\n",
       "44     8350\n",
       "45     8178\n",
       "46     7872\n",
       "47     7344\n",
       "48     7105\n",
       "49     6613\n",
       "50     6258\n",
       "51     5911\n",
       "52     5586\n",
       "53     5328\n",
       "54     4993\n",
       "55     4490\n",
       "56     4062\n",
       "57     3943\n",
       "58     3821\n",
       "59     3610\n",
       "60     3533\n",
       "61     3340\n",
       "62     3101\n",
       "63     3084\n",
       "64     2850\n",
       "65     2788\n",
       "66     2724\n",
       "67     2624\n",
       "68     2440\n",
       "69     2529\n",
       "70     2347\n",
       "71     2051\n",
       "72     2035\n",
       "73     1924\n",
       "74     1832\n",
       "75     1605\n",
       "76     1395\n",
       "77     1388\n",
       "78     1216\n",
       "79      914\n",
       "80      909\n",
       "81       56\n",
       "82       29\n",
       "83       22\n",
       "84       11\n",
       "85       11\n",
       "dtype: int64"
      ]
     },
     "execution_count": 41,
     "metadata": {},
     "output_type": "execute_result"
    }
   ],
   "source": [
    "df_traduzida.groupby(df_traduzida['Idade']).size()"
   ]
  },
  {
   "cell_type": "code",
   "execution_count": 42,
   "id": "cbf2a8ce",
   "metadata": {},
   "outputs": [
    {
     "data": {
      "text/plain": [
       "CartaCondução\n",
       "0       812\n",
       "1    380028\n",
       "dtype: int64"
      ]
     },
     "execution_count": 42,
     "metadata": {},
     "output_type": "execute_result"
    }
   ],
   "source": [
    "df_traduzida.groupby(df_traduzida['CartaCondução']).size()"
   ]
  },
  {
   "cell_type": "code",
   "execution_count": 43,
   "id": "55bb4a05",
   "metadata": {},
   "outputs": [
    {
     "data": {
      "text/plain": [
       "Seguro\n",
       "0    206336\n",
       "1    174504\n",
       "dtype: int64"
      ]
     },
     "execution_count": 43,
     "metadata": {},
     "output_type": "execute_result"
    }
   ],
   "source": [
    "df_traduzida.groupby(df_traduzida['Seguro']).size()"
   ]
  },
  {
   "cell_type": "code",
   "execution_count": 44,
   "id": "3cfaabd0",
   "metadata": {},
   "outputs": [
    {
     "data": {
      "text/plain": [
       "IdadeVeículo\n",
       "1-2 Year     200167\n",
       "< 1 Year     164671\n",
       "> 2 Years     16002\n",
       "dtype: int64"
      ]
     },
     "execution_count": 44,
     "metadata": {},
     "output_type": "execute_result"
    }
   ],
   "source": [
    "df_traduzida.groupby(df_traduzida['IdadeVeículo']).size()"
   ]
  },
  {
   "cell_type": "code",
   "execution_count": 45,
   "id": "ddb715d0",
   "metadata": {},
   "outputs": [
    {
     "data": {
      "text/plain": [
       "VeiculoDanificado\n",
       "No     188563\n",
       "Yes    192277\n",
       "dtype: int64"
      ]
     },
     "execution_count": 45,
     "metadata": {},
     "output_type": "execute_result"
    }
   ],
   "source": [
    "df_traduzida.groupby(df_traduzida['VeiculoDanificado']).size()"
   ]
  },
  {
   "cell_type": "code",
   "execution_count": 46,
   "id": "5004a146",
   "metadata": {},
   "outputs": [
    {
     "data": {
      "text/plain": [
       "Resposta\n",
       "0    334155\n",
       "1     46685\n",
       "dtype: int64"
      ]
     },
     "execution_count": 46,
     "metadata": {},
     "output_type": "execute_result"
    }
   ],
   "source": [
    "df_traduzida.groupby(df_traduzida['Resposta']).size()"
   ]
  },
  {
   "cell_type": "markdown",
   "id": "6297635f",
   "metadata": {},
   "source": [
    "### PLOTANDO EM UM GRAFICO"
   ]
  },
  {
   "cell_type": "code",
   "execution_count": 47,
   "id": "6287834d",
   "metadata": {},
   "outputs": [
    {
     "data": {
      "image/png": "[encoded data removed]",
      "text/plain": [
       "<Figure size 1400x800 with 4 Axes>"
      ]
     },
     "metadata": {},
     "output_type": "display_data"
    }
   ],
   "source": [
    "# Podemos observar as informações acimas todas de uma vez através de gráficos\n",
    "\n",
    "plt.rcParams[\"figure.figsize\"] = [14.00, 8.00]\n",
    "plt.rcParams[\"figure.autolayout\"] = True\n",
    "f, axes = plt.subplots(2, 2)\n",
    "\n",
    "sns.countplot(data = df_traduzida, x=\"Sexo\", ax=axes[0][0])\n",
    "sns.countplot(data = df_traduzida, x=\"CartaCondução\", ax=axes[0][1])\n",
    "sns.countplot(data = df_traduzida, x=\"Seguro\", ax=axes[1][0])\n",
    "sns.countplot(data = df_traduzida, x=\"IdadeVeículo\", ax=axes[1][1])\n",
    "\n",
    "plt.show()"
   ]
  },
  {
   "cell_type": "code",
   "execution_count": 48,
   "id": "abf7b689",
   "metadata": {},
   "outputs": [
    {
     "data": {
      "image/png": "[encoded data removed]",
      "text/plain": [
       "<Figure size 1000x600 with 1 Axes>"
      ]
     },
     "metadata": {},
     "output_type": "display_data"
    }
   ],
   "source": [
    "\n",
    "coluna = 'Resposta'\n",
    "\n",
    "contagem_valores = df_traduzida[coluna].value_counts()\n",
    "\n",
    "# Cria o gráfico de barras\n",
    "plt.figure(figsize=(10, 6))\n",
    "contagem_valores.plot(kind='bar')\n",
    "plt.title(f'Distribuição de Valores em {coluna}')\n",
    "plt.xlabel(coluna)\n",
    "plt.ylabel('Contagem')\n",
    "plt.show()\n"
   ]
  },
  {
   "cell_type": "markdown",
   "id": "1dbf1e60",
   "metadata": {},
   "source": [
    "### SEGMENTANDO AS PESSOAS QUE TIVERAM E NÃO TIVERAM INTERESSE NO SEGURO"
   ]
  },
  {
   "cell_type": "markdown",
   "id": "241cc2a0",
   "metadata": {},
   "source": [
    "### interessados"
   ]
  },
  {
   "cell_type": "code",
   "execution_count": 49,
   "id": "0275d975",
   "metadata": {},
   "outputs": [
    {
     "data": {
      "text/html": [
       "<div>\n",
       "<style scoped>\n",
       "    .dataframe tbody tr th:only-of-type {\n",
       "        vertical-align: middle;\n",
       "    }\n",
       "\n",
       "    .dataframe tbody tr th {\n",
       "        vertical-align: top;\n",
       "    }\n",
       "\n",
       "    .dataframe thead th {\n",
       "        text-align: right;\n",
       "    }\n",
       "</style>\n",
       "<table border=\"1\" class=\"dataframe\">\n",
       "  <thead>\n",
       "    <tr style=\"text-align: right;\">\n",
       "      <th></th>\n",
       "      <th>Sexo</th>\n",
       "      <th>Idade</th>\n",
       "      <th>CartaCondução</th>\n",
       "      <th>CódigoRegião</th>\n",
       "      <th>Seguro</th>\n",
       "      <th>IdadeVeículo</th>\n",
       "      <th>VeiculoDanificado</th>\n",
       "      <th>ValorPagarAno</th>\n",
       "      <th>PolíticaCanal</th>\n",
       "      <th>DiasAssociado</th>\n",
       "      <th>Resposta</th>\n",
       "    </tr>\n",
       "  </thead>\n",
       "  <tbody>\n",
       "    <tr>\n",
       "      <th>1</th>\n",
       "      <td>Male</td>\n",
       "      <td>76</td>\n",
       "      <td>1</td>\n",
       "      <td>3.0</td>\n",
       "      <td>0</td>\n",
       "      <td>1-2 Year</td>\n",
       "      <td>No</td>\n",
       "      <td>33536.0</td>\n",
       "      <td>26.0</td>\n",
       "      <td>183</td>\n",
       "      <td>0</td>\n",
       "    </tr>\n",
       "    <tr>\n",
       "      <th>3</th>\n",
       "      <td>Male</td>\n",
       "      <td>21</td>\n",
       "      <td>1</td>\n",
       "      <td>11.0</td>\n",
       "      <td>1</td>\n",
       "      <td>&lt; 1 Year</td>\n",
       "      <td>No</td>\n",
       "      <td>28619.0</td>\n",
       "      <td>152.0</td>\n",
       "      <td>203</td>\n",
       "      <td>0</td>\n",
       "    </tr>\n",
       "    <tr>\n",
       "      <th>4</th>\n",
       "      <td>Female</td>\n",
       "      <td>29</td>\n",
       "      <td>1</td>\n",
       "      <td>41.0</td>\n",
       "      <td>1</td>\n",
       "      <td>&lt; 1 Year</td>\n",
       "      <td>No</td>\n",
       "      <td>27496.0</td>\n",
       "      <td>152.0</td>\n",
       "      <td>39</td>\n",
       "      <td>0</td>\n",
       "    </tr>\n",
       "    <tr>\n",
       "      <th>5</th>\n",
       "      <td>Female</td>\n",
       "      <td>24</td>\n",
       "      <td>1</td>\n",
       "      <td>33.0</td>\n",
       "      <td>0</td>\n",
       "      <td>&lt; 1 Year</td>\n",
       "      <td>Yes</td>\n",
       "      <td>2630.0</td>\n",
       "      <td>160.0</td>\n",
       "      <td>176</td>\n",
       "      <td>0</td>\n",
       "    </tr>\n",
       "    <tr>\n",
       "      <th>6</th>\n",
       "      <td>Male</td>\n",
       "      <td>23</td>\n",
       "      <td>1</td>\n",
       "      <td>11.0</td>\n",
       "      <td>0</td>\n",
       "      <td>&lt; 1 Year</td>\n",
       "      <td>Yes</td>\n",
       "      <td>23367.0</td>\n",
       "      <td>152.0</td>\n",
       "      <td>249</td>\n",
       "      <td>0</td>\n",
       "    </tr>\n",
       "  </tbody>\n",
       "</table>\n",
       "</div>"
      ],
      "text/plain": [
       "     Sexo  Idade  CartaCondução  CódigoRegião  Seguro IdadeVeículo  \\\n",
       "1    Male     76              1           3.0       0     1-2 Year   \n",
       "3    Male     21              1          11.0       1     < 1 Year   \n",
       "4  Female     29              1          41.0       1     < 1 Year   \n",
       "5  Female     24              1          33.0       0     < 1 Year   \n",
       "6    Male     23              1          11.0       0     < 1 Year   \n",
       "\n",
       "  VeiculoDanificado  ValorPagarAno  PolíticaCanal  DiasAssociado  Resposta  \n",
       "1                No        33536.0           26.0            183         0  \n",
       "3                No        28619.0          152.0            203         0  \n",
       "4                No        27496.0          152.0             39         0  \n",
       "5               Yes         2630.0          160.0            176         0  \n",
       "6               Yes        23367.0          152.0            249         0  "
      ]
     },
     "execution_count": 49,
     "metadata": {},
     "output_type": "execute_result"
    }
   ],
   "source": [
    "interessados = df_traduzida.loc[df_traduzida['Resposta'] == 0]\n",
    "interessados.head()"
   ]
  },
  {
   "cell_type": "markdown",
   "id": "e74bdd81",
   "metadata": {},
   "source": [
    "### desinteressados"
   ]
  },
  {
   "cell_type": "code",
   "execution_count": 50,
   "id": "aebaeff8",
   "metadata": {},
   "outputs": [
    {
     "data": {
      "text/html": [
       "<div>\n",
       "<style scoped>\n",
       "    .dataframe tbody tr th:only-of-type {\n",
       "        vertical-align: middle;\n",
       "    }\n",
       "\n",
       "    .dataframe tbody tr th {\n",
       "        vertical-align: top;\n",
       "    }\n",
       "\n",
       "    .dataframe thead th {\n",
       "        text-align: right;\n",
       "    }\n",
       "</style>\n",
       "<table border=\"1\" class=\"dataframe\">\n",
       "  <thead>\n",
       "    <tr style=\"text-align: right;\">\n",
       "      <th></th>\n",
       "      <th>Sexo</th>\n",
       "      <th>Idade</th>\n",
       "      <th>CartaCondução</th>\n",
       "      <th>CódigoRegião</th>\n",
       "      <th>Seguro</th>\n",
       "      <th>IdadeVeículo</th>\n",
       "      <th>VeiculoDanificado</th>\n",
       "      <th>ValorPagarAno</th>\n",
       "      <th>PolíticaCanal</th>\n",
       "      <th>DiasAssociado</th>\n",
       "      <th>Resposta</th>\n",
       "    </tr>\n",
       "  </thead>\n",
       "  <tbody>\n",
       "    <tr>\n",
       "      <th>0</th>\n",
       "      <td>Male</td>\n",
       "      <td>44</td>\n",
       "      <td>1</td>\n",
       "      <td>28.0</td>\n",
       "      <td>0</td>\n",
       "      <td>&gt; 2 Years</td>\n",
       "      <td>Yes</td>\n",
       "      <td>40454.0</td>\n",
       "      <td>26.0</td>\n",
       "      <td>217</td>\n",
       "      <td>1</td>\n",
       "    </tr>\n",
       "    <tr>\n",
       "      <th>2</th>\n",
       "      <td>Male</td>\n",
       "      <td>47</td>\n",
       "      <td>1</td>\n",
       "      <td>28.0</td>\n",
       "      <td>0</td>\n",
       "      <td>&gt; 2 Years</td>\n",
       "      <td>Yes</td>\n",
       "      <td>38294.0</td>\n",
       "      <td>26.0</td>\n",
       "      <td>27</td>\n",
       "      <td>1</td>\n",
       "    </tr>\n",
       "    <tr>\n",
       "      <th>7</th>\n",
       "      <td>Female</td>\n",
       "      <td>56</td>\n",
       "      <td>1</td>\n",
       "      <td>28.0</td>\n",
       "      <td>0</td>\n",
       "      <td>1-2 Year</td>\n",
       "      <td>Yes</td>\n",
       "      <td>32031.0</td>\n",
       "      <td>26.0</td>\n",
       "      <td>72</td>\n",
       "      <td>1</td>\n",
       "    </tr>\n",
       "    <tr>\n",
       "      <th>10</th>\n",
       "      <td>Female</td>\n",
       "      <td>47</td>\n",
       "      <td>1</td>\n",
       "      <td>35.0</td>\n",
       "      <td>0</td>\n",
       "      <td>1-2 Year</td>\n",
       "      <td>Yes</td>\n",
       "      <td>47576.0</td>\n",
       "      <td>124.0</td>\n",
       "      <td>46</td>\n",
       "      <td>1</td>\n",
       "    </tr>\n",
       "    <tr>\n",
       "      <th>15</th>\n",
       "      <td>Male</td>\n",
       "      <td>37</td>\n",
       "      <td>1</td>\n",
       "      <td>6.0</td>\n",
       "      <td>0</td>\n",
       "      <td>1-2 Year</td>\n",
       "      <td>Yes</td>\n",
       "      <td>2630.0</td>\n",
       "      <td>156.0</td>\n",
       "      <td>147</td>\n",
       "      <td>1</td>\n",
       "    </tr>\n",
       "  </tbody>\n",
       "</table>\n",
       "</div>"
      ],
      "text/plain": [
       "      Sexo  Idade  CartaCondução  CódigoRegião  Seguro IdadeVeículo  \\\n",
       "0     Male     44              1          28.0       0    > 2 Years   \n",
       "2     Male     47              1          28.0       0    > 2 Years   \n",
       "7   Female     56              1          28.0       0     1-2 Year   \n",
       "10  Female     47              1          35.0       0     1-2 Year   \n",
       "15    Male     37              1           6.0       0     1-2 Year   \n",
       "\n",
       "   VeiculoDanificado  ValorPagarAno  PolíticaCanal  DiasAssociado  Resposta  \n",
       "0                Yes        40454.0           26.0            217         1  \n",
       "2                Yes        38294.0           26.0             27         1  \n",
       "7                Yes        32031.0           26.0             72         1  \n",
       "10               Yes        47576.0          124.0             46         1  \n",
       "15               Yes         2630.0          156.0            147         1  "
      ]
     },
     "execution_count": 50,
     "metadata": {},
     "output_type": "execute_result"
    }
   ],
   "source": [
    "desinteressados = df_traduzida.loc[df_traduzida['Resposta'] == 1]\n",
    "desinteressados.head()"
   ]
  },
  {
   "cell_type": "markdown",
   "id": "074ec782",
   "metadata": {},
   "source": [
    "## SEGMENTANDO A FAIXA ETARIA DAS IDADES PARA A ANÁLISE "
   ]
  },
  {
   "cell_type": "markdown",
   "id": "72b78c0a",
   "metadata": {},
   "source": [
    "### JOVENS QUE TIVERAM INTERESSE NO SEGURO"
   ]
  },
  {
   "cell_type": "code",
   "execution_count": 51,
   "id": "4b8ec4d1",
   "metadata": {},
   "outputs": [
    {
     "data": {
      "text/plain": [
       "148720"
      ]
     },
     "execution_count": 51,
     "metadata": {},
     "output_type": "execute_result"
    }
   ],
   "source": [
    "jovens  = interessados[interessados['Idade']<=29] \n",
    "jovens['Idade'].value_counts().sum()"
   ]
  },
  {
   "cell_type": "markdown",
   "id": "6f12c0bf",
   "metadata": {},
   "source": [
    "### ANALSIANDO POR SEXO "
   ]
  },
  {
   "cell_type": "code",
   "execution_count": 52,
   "id": "71eb3867",
   "metadata": {},
   "outputs": [
    {
     "data": {
      "text/html": [
       "<div>\n",
       "<style scoped>\n",
       "    .dataframe tbody tr th:only-of-type {\n",
       "        vertical-align: middle;\n",
       "    }\n",
       "\n",
       "    .dataframe tbody tr th {\n",
       "        vertical-align: top;\n",
       "    }\n",
       "\n",
       "    .dataframe thead th {\n",
       "        text-align: right;\n",
       "    }\n",
       "</style>\n",
       "<table border=\"1\" class=\"dataframe\">\n",
       "  <thead>\n",
       "    <tr style=\"text-align: right;\">\n",
       "      <th></th>\n",
       "      <th>QuantidadeSexo</th>\n",
       "      <th>SomaCarteira</th>\n",
       "      <th>MédiaCarteira</th>\n",
       "      <th>SomaSeguro</th>\n",
       "      <th>MédiaSeguro</th>\n",
       "      <th>SomaTotal</th>\n",
       "      <th>MédiaTotal</th>\n",
       "    </tr>\n",
       "    <tr>\n",
       "      <th>Sexo</th>\n",
       "      <th></th>\n",
       "      <th></th>\n",
       "      <th></th>\n",
       "      <th></th>\n",
       "      <th></th>\n",
       "      <th></th>\n",
       "      <th></th>\n",
       "    </tr>\n",
       "  </thead>\n",
       "  <tbody>\n",
       "    <tr>\n",
       "      <th>Female</th>\n",
       "      <td>83145</td>\n",
       "      <td>83144</td>\n",
       "      <td>0.999988</td>\n",
       "      <td>57729</td>\n",
       "      <td>0.694317</td>\n",
       "      <td>$2,505,250,604.00</td>\n",
       "      <td>$30,340.00</td>\n",
       "    </tr>\n",
       "    <tr>\n",
       "      <th>Male</th>\n",
       "      <td>65575</td>\n",
       "      <td>65573</td>\n",
       "      <td>0.999970</td>\n",
       "      <td>44215</td>\n",
       "      <td>0.674266</td>\n",
       "      <td>$1,994,096,855.00</td>\n",
       "      <td>$30,934.00</td>\n",
       "    </tr>\n",
       "  </tbody>\n",
       "</table>\n",
       "</div>"
      ],
      "text/plain": [
       "        QuantidadeSexo  SomaCarteira  MédiaCarteira  SomaSeguro  MédiaSeguro  \\\n",
       "Sexo                                                                           \n",
       "Female           83145         83144       0.999988       57729     0.694317   \n",
       "Male             65575         65573       0.999970       44215     0.674266   \n",
       "\n",
       "                SomaTotal  MédiaTotal  \n",
       "Sexo                                   \n",
       "Female  $2,505,250,604.00  $30,340.00  \n",
       "Male    $1,994,096,855.00  $30,934.00  "
      ]
     },
     "execution_count": 52,
     "metadata": {},
     "output_type": "execute_result"
    }
   ],
   "source": [
    "sexo = jovens.groupby([\"Sexo\"]).count()[\"Idade\"].rename('QuantidadeSexo')\n",
    "cart = jovens.groupby(['Sexo']).sum()['CartaCondução'].rename('SomaCarteira')\n",
    "carmedia =jovens.groupby(['Sexo']).mean()['CartaCondução'].rename('MédiaCarteira')\n",
    "seguro = jovens.groupby(['Sexo']).sum()['Seguro'].rename('SomaSeguro')\n",
    "mediaseguro = jovens.groupby(['Sexo']).mean()['Seguro'].rename('MédiaSeguro')\n",
    "total = jovens.groupby(['Sexo']).sum()['ValorPagarAno'].rename('SomaTotal')\n",
    "mediatotal = jovens.groupby(['Sexo']).median()['ValorPagarAno'].rename('MédiaTotal')\n",
    "# Dataframe para os resultados\n",
    "dados_usuarios = pd.DataFrame({\"QuantidadeSexo\":sexo,'SomaCarteira':cart,'MédiaCarteira':carmedia,'SomaSeguro':seguro,'MédiaSeguro':mediaseguro,'SomaTotal':total,'MédiaTotal':mediatotal})\n",
    "dados_usuarios ['SomaTotal'] = dados_usuarios['SomaTotal'].map(\"${:,.2f}\".format)\n",
    "dados_usuarios [\"MédiaTotal\"] = dados_usuarios[\"MédiaTotal\"].map(\"${:,.2f}\".format)\n",
    "dados_usuarios.sort_values(\"QuantidadeSexo\", ascending=False).head(5)"
   ]
  },
  {
   "cell_type": "code",
   "execution_count": 53,
   "id": "9ece5f9e",
   "metadata": {},
   "outputs": [
    {
     "data": {
      "image/png": "[encoded data removed]",
      "text/plain": [
       "<Figure size 1400x800 with 4 Axes>"
      ]
     },
     "metadata": {},
     "output_type": "display_data"
    }
   ],
   "source": [
    "# Podemos observar as informações acimas todas de uma vez através de gráficos\n",
    "\n",
    "plt.rcParams[\"figure.figsize\"] = [14.00, 8.00]\n",
    "plt.rcParams[\"figure.autolayout\"] = True\n",
    "f, axes = plt.subplots(2, 2)\n",
    "\n",
    "sns.countplot(data = jovens, x=\"Sexo\", ax=axes[0][0])\n",
    "sns.countplot(data = jovens, x=\"CartaCondução\", ax=axes[0][1])\n",
    "sns.countplot(data = jovens, x=\"Seguro\", ax=axes[1][0])\n",
    "sns.countplot(data = jovens, x=\"IdadeVeículo\", ax=axes[1][1])\n",
    "\n",
    "plt.show()"
   ]
  },
  {
   "cell_type": "markdown",
   "id": "d8d0799e",
   "metadata": {},
   "source": [
    "### ANALISANDO POR TEMPO DE VIDA DO CARRO"
   ]
  },
  {
   "cell_type": "code",
   "execution_count": 54,
   "id": "76b9f842",
   "metadata": {},
   "outputs": [
    {
     "data": {
      "text/html": [
       "<div>\n",
       "<style scoped>\n",
       "    .dataframe tbody tr th:only-of-type {\n",
       "        vertical-align: middle;\n",
       "    }\n",
       "\n",
       "    .dataframe tbody tr th {\n",
       "        vertical-align: top;\n",
       "    }\n",
       "\n",
       "    .dataframe thead th {\n",
       "        text-align: right;\n",
       "    }\n",
       "</style>\n",
       "<table border=\"1\" class=\"dataframe\">\n",
       "  <thead>\n",
       "    <tr style=\"text-align: right;\">\n",
       "      <th></th>\n",
       "      <th>QuantidadeSexo</th>\n",
       "      <th>SomaCarteira</th>\n",
       "      <th>MédiaCarteira</th>\n",
       "      <th>SomaSeguro</th>\n",
       "      <th>MédiaSeguro</th>\n",
       "      <th>SomaTotal</th>\n",
       "      <th>MédiaTotal</th>\n",
       "    </tr>\n",
       "    <tr>\n",
       "      <th>IdadeVeículo</th>\n",
       "      <th></th>\n",
       "      <th></th>\n",
       "      <th></th>\n",
       "      <th></th>\n",
       "      <th></th>\n",
       "      <th></th>\n",
       "      <th></th>\n",
       "    </tr>\n",
       "  </thead>\n",
       "  <tbody>\n",
       "    <tr>\n",
       "      <th>&lt; 1 Year</th>\n",
       "      <td>143666</td>\n",
       "      <td>143665</td>\n",
       "      <td>0.999993</td>\n",
       "      <td>100435</td>\n",
       "      <td>0.699087</td>\n",
       "      <td>$4,375,648,219.00</td>\n",
       "      <td>$30,657.00</td>\n",
       "    </tr>\n",
       "    <tr>\n",
       "      <th>1-2 Year</th>\n",
       "      <td>5008</td>\n",
       "      <td>5007</td>\n",
       "      <td>0.999800</td>\n",
       "      <td>1509</td>\n",
       "      <td>0.301318</td>\n",
       "      <td>$122,305,592.00</td>\n",
       "      <td>$27,923.50</td>\n",
       "    </tr>\n",
       "    <tr>\n",
       "      <th>&gt; 2 Years</th>\n",
       "      <td>46</td>\n",
       "      <td>45</td>\n",
       "      <td>0.978261</td>\n",
       "      <td>0</td>\n",
       "      <td>0.000000</td>\n",
       "      <td>$1,393,648.00</td>\n",
       "      <td>$32,980.00</td>\n",
       "    </tr>\n",
       "  </tbody>\n",
       "</table>\n",
       "</div>"
      ],
      "text/plain": [
       "              QuantidadeSexo  SomaCarteira  MédiaCarteira  SomaSeguro  \\\n",
       "IdadeVeículo                                                            \n",
       "< 1 Year              143666        143665       0.999993      100435   \n",
       "1-2 Year                5008          5007       0.999800        1509   \n",
       "> 2 Years                 46            45       0.978261           0   \n",
       "\n",
       "              MédiaSeguro          SomaTotal  MédiaTotal  \n",
       "IdadeVeículo                                              \n",
       "< 1 Year         0.699087  $4,375,648,219.00  $30,657.00  \n",
       "1-2 Year         0.301318    $122,305,592.00  $27,923.50  \n",
       "> 2 Years        0.000000      $1,393,648.00  $32,980.00  "
      ]
     },
     "execution_count": 54,
     "metadata": {},
     "output_type": "execute_result"
    }
   ],
   "source": [
    "sexo = jovens.groupby([\"IdadeVeículo\"]).count()[\"Idade\"].rename('QuantidadeSexo')\n",
    "cart = jovens.groupby(['IdadeVeículo']).sum()['CartaCondução'].rename('SomaCarteira')\n",
    "carmedia =jovens.groupby(['IdadeVeículo']).mean()['CartaCondução'].rename('MédiaCarteira')\n",
    "seguro = jovens.groupby(['IdadeVeículo']).sum()['Seguro'].rename('SomaSeguro')\n",
    "mediaseguro = jovens.groupby(['IdadeVeículo']).mean()['Seguro'].rename('MédiaSeguro')\n",
    "total = jovens.groupby(['IdadeVeículo']).sum()['ValorPagarAno'].rename('SomaTotal')\n",
    "mediatotal = jovens.groupby(['IdadeVeículo']).median()['ValorPagarAno'].rename('MédiaTotal')\n",
    "# Dataframe para os resultados\n",
    "dados_usuarios = pd.DataFrame({\"QuantidadeSexo\":sexo,'SomaCarteira':cart,'MédiaCarteira':carmedia,'SomaSeguro':seguro,'MédiaSeguro':mediaseguro,'SomaTotal':total,'MédiaTotal':mediatotal})\n",
    "dados_usuarios ['SomaTotal'] = dados_usuarios['SomaTotal'].map(\"${:,.2f}\".format)\n",
    "dados_usuarios [\"MédiaTotal\"] = dados_usuarios[\"MédiaTotal\"].map(\"${:,.2f}\".format)\n",
    "dados_usuarios.sort_values(\"QuantidadeSexo\", ascending=False).head(5)"
   ]
  },
  {
   "cell_type": "markdown",
   "id": "cdb8cd9e",
   "metadata": {},
   "source": [
    "### ANALISANDO POR VEICÚLO DEFEITUOSO OU NÃO"
   ]
  },
  {
   "cell_type": "code",
   "execution_count": 55,
   "id": "517cf87e",
   "metadata": {},
   "outputs": [
    {
     "data": {
      "text/html": [
       "<div>\n",
       "<style scoped>\n",
       "    .dataframe tbody tr th:only-of-type {\n",
       "        vertical-align: middle;\n",
       "    }\n",
       "\n",
       "    .dataframe tbody tr th {\n",
       "        vertical-align: top;\n",
       "    }\n",
       "\n",
       "    .dataframe thead th {\n",
       "        text-align: right;\n",
       "    }\n",
       "</style>\n",
       "<table border=\"1\" class=\"dataframe\">\n",
       "  <thead>\n",
       "    <tr style=\"text-align: right;\">\n",
       "      <th></th>\n",
       "      <th>QuantidadeSexo</th>\n",
       "      <th>SomaCarteira</th>\n",
       "      <th>MédiaCarteira</th>\n",
       "      <th>SomaSeguro</th>\n",
       "      <th>MédiaSeguro</th>\n",
       "      <th>SomaTotal</th>\n",
       "      <th>MédiaTotal</th>\n",
       "    </tr>\n",
       "    <tr>\n",
       "      <th>VeiculoDanificado</th>\n",
       "      <th></th>\n",
       "      <th></th>\n",
       "      <th></th>\n",
       "      <th></th>\n",
       "      <th></th>\n",
       "      <th></th>\n",
       "      <th></th>\n",
       "    </tr>\n",
       "  </thead>\n",
       "  <tbody>\n",
       "    <tr>\n",
       "      <th>No</th>\n",
       "      <td>108014</td>\n",
       "      <td>108014</td>\n",
       "      <td>1.000000</td>\n",
       "      <td>97888</td>\n",
       "      <td>0.906253</td>\n",
       "      <td>$3,322,842,377.00</td>\n",
       "      <td>$30,626.00</td>\n",
       "    </tr>\n",
       "    <tr>\n",
       "      <th>Yes</th>\n",
       "      <td>40706</td>\n",
       "      <td>40703</td>\n",
       "      <td>0.999926</td>\n",
       "      <td>4056</td>\n",
       "      <td>0.099641</td>\n",
       "      <td>$1,176,505,082.00</td>\n",
       "      <td>$30,480.00</td>\n",
       "    </tr>\n",
       "  </tbody>\n",
       "</table>\n",
       "</div>"
      ],
      "text/plain": [
       "                   QuantidadeSexo  SomaCarteira  MédiaCarteira  SomaSeguro  \\\n",
       "VeiculoDanificado                                                            \n",
       "No                         108014        108014       1.000000       97888   \n",
       "Yes                         40706         40703       0.999926        4056   \n",
       "\n",
       "                   MédiaSeguro          SomaTotal  MédiaTotal  \n",
       "VeiculoDanificado                                              \n",
       "No                    0.906253  $3,322,842,377.00  $30,626.00  \n",
       "Yes                   0.099641  $1,176,505,082.00  $30,480.00  "
      ]
     },
     "execution_count": 55,
     "metadata": {},
     "output_type": "execute_result"
    }
   ],
   "source": [
    "sexo = jovens.groupby([\"VeiculoDanificado\"]).count()[\"Idade\"].rename('QuantidadeSexo')\n",
    "cart = jovens.groupby(['VeiculoDanificado']).sum()['CartaCondução'].rename('SomaCarteira')\n",
    "carmedia =jovens.groupby(['VeiculoDanificado']).mean()['CartaCondução'].rename('MédiaCarteira')\n",
    "seguro = jovens.groupby(['VeiculoDanificado']).sum()['Seguro'].rename('SomaSeguro')\n",
    "mediaseguro = jovens.groupby(['VeiculoDanificado']).mean()['Seguro'].rename('MédiaSeguro')\n",
    "total = jovens.groupby(['VeiculoDanificado']).sum()['ValorPagarAno'].rename('SomaTotal')\n",
    "mediatotal = jovens.groupby(['VeiculoDanificado']).median()['ValorPagarAno'].rename('MédiaTotal')\n",
    "# Dataframe para os resultados\n",
    "dados_usuarios = pd.DataFrame({\"QuantidadeSexo\":sexo,'SomaCarteira':cart,'MédiaCarteira':carmedia,'SomaSeguro':seguro,'MédiaSeguro':mediaseguro,'SomaTotal':total,'MédiaTotal':mediatotal})\n",
    "dados_usuarios ['SomaTotal'] = dados_usuarios['SomaTotal'].map(\"${:,.2f}\".format)\n",
    "dados_usuarios [\"MédiaTotal\"] = dados_usuarios[\"MédiaTotal\"].map(\"${:,.2f}\".format)\n",
    "dados_usuarios.sort_values(\"QuantidadeSexo\", ascending=False).head(5)"
   ]
  },
  {
   "cell_type": "markdown",
   "id": "bf3e28f4",
   "metadata": {},
   "source": [
    "### JOVENS QUE NÃO TIVERAM INTERESSE NO SEGURO"
   ]
  },
  {
   "cell_type": "code",
   "execution_count": 56,
   "id": "55249479",
   "metadata": {},
   "outputs": [
    {
     "data": {
      "text/plain": [
       "6374"
      ]
     },
     "execution_count": 56,
     "metadata": {},
     "output_type": "execute_result"
    }
   ],
   "source": [
    "jovens_desinteressados  = desinteressados[desinteressados['Idade']<=29] \n",
    "jovens_desinteressados['Idade'].value_counts().sum()"
   ]
  },
  {
   "cell_type": "markdown",
   "id": "fbca3bb8",
   "metadata": {},
   "source": [
    "### ANALSIANDO POR SEXO "
   ]
  },
  {
   "cell_type": "code",
   "execution_count": 57,
   "id": "faaed23b",
   "metadata": {},
   "outputs": [
    {
     "data": {
      "text/html": [
       "<div>\n",
       "<style scoped>\n",
       "    .dataframe tbody tr th:only-of-type {\n",
       "        vertical-align: middle;\n",
       "    }\n",
       "\n",
       "    .dataframe tbody tr th {\n",
       "        vertical-align: top;\n",
       "    }\n",
       "\n",
       "    .dataframe thead th {\n",
       "        text-align: right;\n",
       "    }\n",
       "</style>\n",
       "<table border=\"1\" class=\"dataframe\">\n",
       "  <thead>\n",
       "    <tr style=\"text-align: right;\">\n",
       "      <th></th>\n",
       "      <th>QuantidadeSexo</th>\n",
       "      <th>SomaCarteira</th>\n",
       "      <th>MédiaCarteira</th>\n",
       "      <th>SomaSeguro</th>\n",
       "      <th>MédiaSeguro</th>\n",
       "      <th>SomaTotal</th>\n",
       "      <th>MédiaTotal</th>\n",
       "    </tr>\n",
       "    <tr>\n",
       "      <th>Sexo</th>\n",
       "      <th></th>\n",
       "      <th></th>\n",
       "      <th></th>\n",
       "      <th></th>\n",
       "      <th></th>\n",
       "      <th></th>\n",
       "      <th></th>\n",
       "    </tr>\n",
       "  </thead>\n",
       "  <tbody>\n",
       "    <tr>\n",
       "      <th>Male</th>\n",
       "      <td>3478</td>\n",
       "      <td>3478</td>\n",
       "      <td>1.0</td>\n",
       "      <td>34</td>\n",
       "      <td>0.009776</td>\n",
       "      <td>$101,740,435.00</td>\n",
       "      <td>$30,418.00</td>\n",
       "    </tr>\n",
       "    <tr>\n",
       "      <th>Female</th>\n",
       "      <td>2896</td>\n",
       "      <td>2896</td>\n",
       "      <td>1.0</td>\n",
       "      <td>26</td>\n",
       "      <td>0.008978</td>\n",
       "      <td>$81,857,783.00</td>\n",
       "      <td>$29,921.00</td>\n",
       "    </tr>\n",
       "  </tbody>\n",
       "</table>\n",
       "</div>"
      ],
      "text/plain": [
       "        QuantidadeSexo  SomaCarteira  MédiaCarteira  SomaSeguro  MédiaSeguro  \\\n",
       "Sexo                                                                           \n",
       "Male              3478          3478            1.0          34     0.009776   \n",
       "Female            2896          2896            1.0          26     0.008978   \n",
       "\n",
       "              SomaTotal  MédiaTotal  \n",
       "Sexo                                 \n",
       "Male    $101,740,435.00  $30,418.00  \n",
       "Female   $81,857,783.00  $29,921.00  "
      ]
     },
     "execution_count": 57,
     "metadata": {},
     "output_type": "execute_result"
    }
   ],
   "source": [
    "sexo = jovens_desinteressados.groupby([\"Sexo\"]).count()[\"Idade\"].rename('QuantidadeSexo')\n",
    "cart = jovens_desinteressados.groupby(['Sexo']).sum()['CartaCondução'].rename('SomaCarteira')\n",
    "carmedia =jovens_desinteressados.groupby(['Sexo']).mean()['CartaCondução'].rename('MédiaCarteira')\n",
    "seguro = jovens_desinteressados.groupby(['Sexo']).sum()['Seguro'].rename('SomaSeguro')\n",
    "mediaseguro = jovens_desinteressados.groupby(['Sexo']).mean()['Seguro'].rename('MédiaSeguro')\n",
    "total = jovens_desinteressados.groupby(['Sexo']).sum()['ValorPagarAno'].rename('SomaTotal')\n",
    "mediatotal = jovens_desinteressados.groupby(['Sexo']).median()['ValorPagarAno'].rename('MédiaTotal')\n",
    "# Dataframe para os resultados\n",
    "dados_usuarios = pd.DataFrame({\"QuantidadeSexo\":sexo,'SomaCarteira':cart,'MédiaCarteira':carmedia,'SomaSeguro':seguro,'MédiaSeguro':mediaseguro,'SomaTotal':total,'MédiaTotal':mediatotal})\n",
    "dados_usuarios ['SomaTotal'] = dados_usuarios['SomaTotal'].map(\"${:,.2f}\".format)\n",
    "dados_usuarios [\"MédiaTotal\"] = dados_usuarios[\"MédiaTotal\"].map(\"${:,.2f}\".format)\n",
    "dados_usuarios.sort_values(\"QuantidadeSexo\", ascending=False).head(5)"
   ]
  },
  {
   "cell_type": "code",
   "execution_count": 58,
   "id": "2ef63cef",
   "metadata": {},
   "outputs": [
    {
     "data": {
      "image/png": "[encoded data removed]",
      "text/plain": [
       "<Figure size 1400x800 with 4 Axes>"
      ]
     },
     "metadata": {},
     "output_type": "display_data"
    }
   ],
   "source": [
    "# Podemos observar as informações acimas todas de uma vez através de gráficos\n",
    "\n",
    "plt.rcParams[\"figure.figsize\"] = [14.00, 8.00]\n",
    "plt.rcParams[\"figure.autolayout\"] = True\n",
    "f, axes = plt.subplots(2, 2)\n",
    "\n",
    "sns.countplot(data = jovens_desinteressados, x=\"Sexo\", ax=axes[0][0])\n",
    "sns.countplot(data = jovens_desinteressados, x=\"CartaCondução\", ax=axes[0][1])\n",
    "sns.countplot(data = jovens_desinteressados, x=\"Seguro\", ax=axes[1][0])\n",
    "sns.countplot(data = jovens_desinteressados, x=\"IdadeVeículo\", ax=axes[1][1])\n",
    "\n",
    "plt.show()"
   ]
  },
  {
   "cell_type": "markdown",
   "id": "a3760d0a",
   "metadata": {},
   "source": [
    "### ANALISANDO POR TEMPO DE VIDA DO CARRO"
   ]
  },
  {
   "cell_type": "code",
   "execution_count": 59,
   "id": "9abdd3a2",
   "metadata": {},
   "outputs": [
    {
     "data": {
      "text/html": [
       "<div>\n",
       "<style scoped>\n",
       "    .dataframe tbody tr th:only-of-type {\n",
       "        vertical-align: middle;\n",
       "    }\n",
       "\n",
       "    .dataframe tbody tr th {\n",
       "        vertical-align: top;\n",
       "    }\n",
       "\n",
       "    .dataframe thead th {\n",
       "        text-align: right;\n",
       "    }\n",
       "</style>\n",
       "<table border=\"1\" class=\"dataframe\">\n",
       "  <thead>\n",
       "    <tr style=\"text-align: right;\">\n",
       "      <th></th>\n",
       "      <th>QuantidadeSexo</th>\n",
       "      <th>SomaCarteira</th>\n",
       "      <th>MédiaCarteira</th>\n",
       "      <th>SomaSeguro</th>\n",
       "      <th>MédiaSeguro</th>\n",
       "      <th>SomaTotal</th>\n",
       "      <th>MédiaTotal</th>\n",
       "    </tr>\n",
       "    <tr>\n",
       "      <th>IdadeVeículo</th>\n",
       "      <th></th>\n",
       "      <th></th>\n",
       "      <th></th>\n",
       "      <th></th>\n",
       "      <th></th>\n",
       "      <th></th>\n",
       "      <th></th>\n",
       "    </tr>\n",
       "  </thead>\n",
       "  <tbody>\n",
       "    <tr>\n",
       "      <th>&lt; 1 Year</th>\n",
       "      <td>5129</td>\n",
       "      <td>5129</td>\n",
       "      <td>1.0</td>\n",
       "      <td>54</td>\n",
       "      <td>0.010528</td>\n",
       "      <td>$153,084,311.00</td>\n",
       "      <td>$30,805.00</td>\n",
       "    </tr>\n",
       "    <tr>\n",
       "      <th>1-2 Year</th>\n",
       "      <td>1235</td>\n",
       "      <td>1235</td>\n",
       "      <td>1.0</td>\n",
       "      <td>6</td>\n",
       "      <td>0.004858</td>\n",
       "      <td>$30,319,102.00</td>\n",
       "      <td>$27,581.00</td>\n",
       "    </tr>\n",
       "    <tr>\n",
       "      <th>&gt; 2 Years</th>\n",
       "      <td>10</td>\n",
       "      <td>10</td>\n",
       "      <td>1.0</td>\n",
       "      <td>0</td>\n",
       "      <td>0.000000</td>\n",
       "      <td>$194,805.00</td>\n",
       "      <td>$13,972.00</td>\n",
       "    </tr>\n",
       "  </tbody>\n",
       "</table>\n",
       "</div>"
      ],
      "text/plain": [
       "              QuantidadeSexo  SomaCarteira  MédiaCarteira  SomaSeguro  \\\n",
       "IdadeVeículo                                                            \n",
       "< 1 Year                5129          5129            1.0          54   \n",
       "1-2 Year                1235          1235            1.0           6   \n",
       "> 2 Years                 10            10            1.0           0   \n",
       "\n",
       "              MédiaSeguro        SomaTotal  MédiaTotal  \n",
       "IdadeVeículo                                            \n",
       "< 1 Year         0.010528  $153,084,311.00  $30,805.00  \n",
       "1-2 Year         0.004858   $30,319,102.00  $27,581.00  \n",
       "> 2 Years        0.000000      $194,805.00  $13,972.00  "
      ]
     },
     "execution_count": 59,
     "metadata": {},
     "output_type": "execute_result"
    }
   ],
   "source": [
    "sexo = jovens_desinteressados.groupby([\"IdadeVeículo\"]).count()[\"Idade\"].rename('QuantidadeSexo')\n",
    "cart = jovens_desinteressados.groupby(['IdadeVeículo']).sum()['CartaCondução'].rename('SomaCarteira')\n",
    "carmedia =jovens_desinteressados.groupby(['IdadeVeículo']).mean()['CartaCondução'].rename('MédiaCarteira')\n",
    "seguro = jovens_desinteressados.groupby(['IdadeVeículo']).sum()['Seguro'].rename('SomaSeguro')\n",
    "mediaseguro = jovens_desinteressados.groupby(['IdadeVeículo']).mean()['Seguro'].rename('MédiaSeguro')\n",
    "total = jovens_desinteressados.groupby(['IdadeVeículo']).sum()['ValorPagarAno'].rename('SomaTotal')\n",
    "mediatotal = jovens_desinteressados.groupby(['IdadeVeículo']).median()['ValorPagarAno'].rename('MédiaTotal')\n",
    "# Dataframe para os resultados\n",
    "dados_usuarios = pd.DataFrame({\"QuantidadeSexo\":sexo,'SomaCarteira':cart,'MédiaCarteira':carmedia,'SomaSeguro':seguro,'MédiaSeguro':mediaseguro,'SomaTotal':total,'MédiaTotal':mediatotal})\n",
    "dados_usuarios ['SomaTotal'] = dados_usuarios['SomaTotal'].map(\"${:,.2f}\".format)\n",
    "dados_usuarios [\"MédiaTotal\"] = dados_usuarios[\"MédiaTotal\"].map(\"${:,.2f}\".format)\n",
    "dados_usuarios.sort_values(\"QuantidadeSexo\", ascending=False).head(5)"
   ]
  },
  {
   "cell_type": "markdown",
   "id": "99a79862",
   "metadata": {},
   "source": [
    "### ANALISANDO POR VEICÚLO DEFEITUOSO OU NÃO"
   ]
  },
  {
   "cell_type": "code",
   "execution_count": 60,
   "id": "92f7fc8a",
   "metadata": {},
   "outputs": [
    {
     "data": {
      "text/html": [
       "<div>\n",
       "<style scoped>\n",
       "    .dataframe tbody tr th:only-of-type {\n",
       "        vertical-align: middle;\n",
       "    }\n",
       "\n",
       "    .dataframe tbody tr th {\n",
       "        vertical-align: top;\n",
       "    }\n",
       "\n",
       "    .dataframe thead th {\n",
       "        text-align: right;\n",
       "    }\n",
       "</style>\n",
       "<table border=\"1\" class=\"dataframe\">\n",
       "  <thead>\n",
       "    <tr style=\"text-align: right;\">\n",
       "      <th></th>\n",
       "      <th>QuantidadeSexo</th>\n",
       "      <th>SomaCarteira</th>\n",
       "      <th>MédiaCarteira</th>\n",
       "      <th>SomaSeguro</th>\n",
       "      <th>MédiaSeguro</th>\n",
       "      <th>SomaTotal</th>\n",
       "      <th>MédiaTotal</th>\n",
       "    </tr>\n",
       "    <tr>\n",
       "      <th>VeiculoDanificado</th>\n",
       "      <th></th>\n",
       "      <th></th>\n",
       "      <th></th>\n",
       "      <th></th>\n",
       "      <th></th>\n",
       "      <th></th>\n",
       "      <th></th>\n",
       "    </tr>\n",
       "  </thead>\n",
       "  <tbody>\n",
       "    <tr>\n",
       "      <th>Yes</th>\n",
       "      <td>6010</td>\n",
       "      <td>6010</td>\n",
       "      <td>1.0</td>\n",
       "      <td>34</td>\n",
       "      <td>0.005657</td>\n",
       "      <td>$174,887,386.00</td>\n",
       "      <td>$30,382.50</td>\n",
       "    </tr>\n",
       "    <tr>\n",
       "      <th>No</th>\n",
       "      <td>364</td>\n",
       "      <td>364</td>\n",
       "      <td>1.0</td>\n",
       "      <td>26</td>\n",
       "      <td>0.071429</td>\n",
       "      <td>$8,710,832.00</td>\n",
       "      <td>$27,566.00</td>\n",
       "    </tr>\n",
       "  </tbody>\n",
       "</table>\n",
       "</div>"
      ],
      "text/plain": [
       "                   QuantidadeSexo  SomaCarteira  MédiaCarteira  SomaSeguro  \\\n",
       "VeiculoDanificado                                                            \n",
       "Yes                          6010          6010            1.0          34   \n",
       "No                            364           364            1.0          26   \n",
       "\n",
       "                   MédiaSeguro        SomaTotal  MédiaTotal  \n",
       "VeiculoDanificado                                            \n",
       "Yes                   0.005657  $174,887,386.00  $30,382.50  \n",
       "No                    0.071429    $8,710,832.00  $27,566.00  "
      ]
     },
     "execution_count": 60,
     "metadata": {},
     "output_type": "execute_result"
    }
   ],
   "source": [
    "sexo = jovens_desinteressados.groupby([\"VeiculoDanificado\"]).count()[\"Idade\"].rename('QuantidadeSexo')\n",
    "cart = jovens_desinteressados.groupby(['VeiculoDanificado']).sum()['CartaCondução'].rename('SomaCarteira')\n",
    "carmedia =jovens_desinteressados.groupby(['VeiculoDanificado']).mean()['CartaCondução'].rename('MédiaCarteira')\n",
    "seguro = jovens_desinteressados.groupby(['VeiculoDanificado']).sum()['Seguro'].rename('SomaSeguro')\n",
    "mediaseguro = jovens_desinteressados.groupby(['VeiculoDanificado']).mean()['Seguro'].rename('MédiaSeguro')\n",
    "total = jovens_desinteressados.groupby(['VeiculoDanificado']).sum()['ValorPagarAno'].rename('SomaTotal')\n",
    "mediatotal = jovens_desinteressados.groupby(['VeiculoDanificado']).median()['ValorPagarAno'].rename('MédiaTotal')\n",
    "# Dataframe para os resultados\n",
    "dados_usuarios = pd.DataFrame({\"QuantidadeSexo\":sexo,'SomaCarteira':cart,'MédiaCarteira':carmedia,'SomaSeguro':seguro,'MédiaSeguro':mediaseguro,'SomaTotal':total,'MédiaTotal':mediatotal})\n",
    "dados_usuarios ['SomaTotal'] = dados_usuarios['SomaTotal'].map(\"${:,.2f}\".format)\n",
    "dados_usuarios [\"MédiaTotal\"] = dados_usuarios[\"MédiaTotal\"].map(\"${:,.2f}\".format)\n",
    "dados_usuarios.sort_values(\"QuantidadeSexo\", ascending=False).head(5)"
   ]
  },
  {
   "cell_type": "markdown",
   "id": "a728d49e",
   "metadata": {},
   "source": [
    "### ADULTOS QUE TIVERAM INTERESSE NO SEGURO"
   ]
  },
  {
   "cell_type": "code",
   "execution_count": 61,
   "id": "aba4624b",
   "metadata": {},
   "outputs": [
    {
     "data": {
      "text/plain": [
       "143338"
      ]
     },
     "execution_count": 61,
     "metadata": {},
     "output_type": "execute_result"
    }
   ],
   "source": [
    "adultos = interessados.query('Idade > 29 and Idade <= 59')\n",
    "adultos['Idade'].value_counts().sum()"
   ]
  },
  {
   "cell_type": "markdown",
   "id": "f160b13c",
   "metadata": {},
   "source": [
    "### ANALSIANDO POR SEXO "
   ]
  },
  {
   "cell_type": "code",
   "execution_count": 62,
   "id": "5c8942f9",
   "metadata": {},
   "outputs": [
    {
     "data": {
      "text/html": [
       "<div>\n",
       "<style scoped>\n",
       "    .dataframe tbody tr th:only-of-type {\n",
       "        vertical-align: middle;\n",
       "    }\n",
       "\n",
       "    .dataframe tbody tr th {\n",
       "        vertical-align: top;\n",
       "    }\n",
       "\n",
       "    .dataframe thead th {\n",
       "        text-align: right;\n",
       "    }\n",
       "</style>\n",
       "<table border=\"1\" class=\"dataframe\">\n",
       "  <thead>\n",
       "    <tr style=\"text-align: right;\">\n",
       "      <th></th>\n",
       "      <th>QuantidadeSexo</th>\n",
       "      <th>SomaCarteira</th>\n",
       "      <th>MédiaCarteira</th>\n",
       "      <th>SomaSeguro</th>\n",
       "      <th>MédiaSeguro</th>\n",
       "      <th>SomaTotal</th>\n",
       "      <th>MédiaTotal</th>\n",
       "    </tr>\n",
       "    <tr>\n",
       "      <th>Sexo</th>\n",
       "      <th></th>\n",
       "      <th></th>\n",
       "      <th></th>\n",
       "      <th></th>\n",
       "      <th></th>\n",
       "      <th></th>\n",
       "      <th></th>\n",
       "    </tr>\n",
       "  </thead>\n",
       "  <tbody>\n",
       "    <tr>\n",
       "      <th>Male</th>\n",
       "      <td>86508</td>\n",
       "      <td>86370</td>\n",
       "      <td>0.998405</td>\n",
       "      <td>31999</td>\n",
       "      <td>0.369896</td>\n",
       "      <td>$2,573,984,433.00</td>\n",
       "      <td>$31,877.00</td>\n",
       "    </tr>\n",
       "    <tr>\n",
       "      <th>Female</th>\n",
       "      <td>56830</td>\n",
       "      <td>56791</td>\n",
       "      <td>0.999314</td>\n",
       "      <td>23297</td>\n",
       "      <td>0.409942</td>\n",
       "      <td>$1,697,490,302.00</td>\n",
       "      <td>$31,815.50</td>\n",
       "    </tr>\n",
       "  </tbody>\n",
       "</table>\n",
       "</div>"
      ],
      "text/plain": [
       "        QuantidadeSexo  SomaCarteira  MédiaCarteira  SomaSeguro  MédiaSeguro  \\\n",
       "Sexo                                                                           \n",
       "Male             86508         86370       0.998405       31999     0.369896   \n",
       "Female           56830         56791       0.999314       23297     0.409942   \n",
       "\n",
       "                SomaTotal  MédiaTotal  \n",
       "Sexo                                   \n",
       "Male    $2,573,984,433.00  $31,877.00  \n",
       "Female  $1,697,490,302.00  $31,815.50  "
      ]
     },
     "execution_count": 62,
     "metadata": {},
     "output_type": "execute_result"
    }
   ],
   "source": [
    "sexo = adultos.groupby([\"Sexo\"]).count()[\"Idade\"].rename('QuantidadeSexo')\n",
    "cart = adultos.groupby(['Sexo']).sum()['CartaCondução'].rename('SomaCarteira')\n",
    "carmedia =adultos.groupby(['Sexo']).mean()['CartaCondução'].rename('MédiaCarteira')\n",
    "seguro = adultos.groupby(['Sexo']).sum()['Seguro'].rename('SomaSeguro')\n",
    "mediaseguro = adultos.groupby(['Sexo']).mean()['Seguro'].rename('MédiaSeguro')\n",
    "total = adultos.groupby(['Sexo']).sum()['ValorPagarAno'].rename('SomaTotal')\n",
    "mediatotal = adultos.groupby(['Sexo']).median()['ValorPagarAno'].rename('MédiaTotal')\n",
    "# Dataframe para os resultados\n",
    "dados_usuarios = pd.DataFrame({\"QuantidadeSexo\":sexo,'SomaCarteira':cart,'MédiaCarteira':carmedia,'SomaSeguro':seguro,'MédiaSeguro':mediaseguro,'SomaTotal':total,'MédiaTotal':mediatotal})\n",
    "dados_usuarios ['SomaTotal'] = dados_usuarios['SomaTotal'].map(\"${:,.2f}\".format)\n",
    "dados_usuarios [\"MédiaTotal\"] = dados_usuarios[\"MédiaTotal\"].map(\"${:,.2f}\".format)\n",
    "dados_usuarios.sort_values(\"QuantidadeSexo\", ascending=False).head(5)"
   ]
  },
  {
   "cell_type": "code",
   "execution_count": 63,
   "id": "cd01cc58",
   "metadata": {},
   "outputs": [
    {
     "data": {
      "image/png": "[encoded data removed]",
      "text/plain": [
       "<Figure size 1400x800 with 4 Axes>"
      ]
     },
     "metadata": {},
     "output_type": "display_data"
    }
   ],
   "source": [
    "# Podemos observar as informações acimas todas de uma vez através de gráficos\n",
    "\n",
    "plt.rcParams[\"figure.figsize\"] = [14.00, 8.00]\n",
    "plt.rcParams[\"figure.autolayout\"] = True\n",
    "f, axes = plt.subplots(2, 2)\n",
    "\n",
    "sns.countplot(data = adultos, x=\"Sexo\", ax=axes[0][0])\n",
    "sns.countplot(data = adultos, x=\"CartaCondução\", ax=axes[0][1])\n",
    "sns.countplot(data = adultos, x=\"Seguro\", ax=axes[1][0])\n",
    "sns.countplot(data = adultos, x=\"IdadeVeículo\", ax=axes[1][1])\n",
    "\n",
    "plt.show()"
   ]
  },
  {
   "cell_type": "markdown",
   "id": "d7245c91",
   "metadata": {},
   "source": [
    "### ANALISANDO POR TEMPO DE VIDA DO CARRO"
   ]
  },
  {
   "cell_type": "code",
   "execution_count": 64,
   "id": "4ef3661e",
   "metadata": {},
   "outputs": [
    {
     "data": {
      "text/html": [
       "<div>\n",
       "<style scoped>\n",
       "    .dataframe tbody tr th:only-of-type {\n",
       "        vertical-align: middle;\n",
       "    }\n",
       "\n",
       "    .dataframe tbody tr th {\n",
       "        vertical-align: top;\n",
       "    }\n",
       "\n",
       "    .dataframe thead th {\n",
       "        text-align: right;\n",
       "    }\n",
       "</style>\n",
       "<table border=\"1\" class=\"dataframe\">\n",
       "  <thead>\n",
       "    <tr style=\"text-align: right;\">\n",
       "      <th></th>\n",
       "      <th>QuantidadeSexo</th>\n",
       "      <th>SomaCarteira</th>\n",
       "      <th>MédiaCarteira</th>\n",
       "      <th>SomaSeguro</th>\n",
       "      <th>MédiaSeguro</th>\n",
       "      <th>SomaTotal</th>\n",
       "      <th>MédiaTotal</th>\n",
       "    </tr>\n",
       "    <tr>\n",
       "      <th>IdadeVeículo</th>\n",
       "      <th></th>\n",
       "      <th></th>\n",
       "      <th></th>\n",
       "      <th></th>\n",
       "      <th></th>\n",
       "      <th></th>\n",
       "      <th></th>\n",
       "    </tr>\n",
       "  </thead>\n",
       "  <tbody>\n",
       "    <tr>\n",
       "      <th>1-2 Year</th>\n",
       "      <td>122704</td>\n",
       "      <td>122532</td>\n",
       "      <td>0.998598</td>\n",
       "      <td>46596</td>\n",
       "      <td>0.379743</td>\n",
       "      <td>$3,666,284,327.00</td>\n",
       "      <td>$31,979.50</td>\n",
       "    </tr>\n",
       "    <tr>\n",
       "      <th>&lt; 1 Year</th>\n",
       "      <td>13705</td>\n",
       "      <td>13705</td>\n",
       "      <td>1.000000</td>\n",
       "      <td>8667</td>\n",
       "      <td>0.632397</td>\n",
       "      <td>$372,070,800.00</td>\n",
       "      <td>$29,281.00</td>\n",
       "    </tr>\n",
       "    <tr>\n",
       "      <th>&gt; 2 Years</th>\n",
       "      <td>6929</td>\n",
       "      <td>6924</td>\n",
       "      <td>0.999278</td>\n",
       "      <td>33</td>\n",
       "      <td>0.004763</td>\n",
       "      <td>$233,119,608.00</td>\n",
       "      <td>$36,215.00</td>\n",
       "    </tr>\n",
       "  </tbody>\n",
       "</table>\n",
       "</div>"
      ],
      "text/plain": [
       "              QuantidadeSexo  SomaCarteira  MédiaCarteira  SomaSeguro  \\\n",
       "IdadeVeículo                                                            \n",
       "1-2 Year              122704        122532       0.998598       46596   \n",
       "< 1 Year               13705         13705       1.000000        8667   \n",
       "> 2 Years               6929          6924       0.999278          33   \n",
       "\n",
       "              MédiaSeguro          SomaTotal  MédiaTotal  \n",
       "IdadeVeículo                                              \n",
       "1-2 Year         0.379743  $3,666,284,327.00  $31,979.50  \n",
       "< 1 Year         0.632397    $372,070,800.00  $29,281.00  \n",
       "> 2 Years        0.004763    $233,119,608.00  $36,215.00  "
      ]
     },
     "execution_count": 64,
     "metadata": {},
     "output_type": "execute_result"
    }
   ],
   "source": [
    "sexo = adultos.groupby([\"IdadeVeículo\"]).count()[\"Idade\"].rename('QuantidadeSexo')\n",
    "cart = adultos.groupby(['IdadeVeículo']).sum()['CartaCondução'].rename('SomaCarteira')\n",
    "carmedia =adultos.groupby(['IdadeVeículo']).mean()['CartaCondução'].rename('MédiaCarteira')\n",
    "seguro = adultos.groupby(['IdadeVeículo']).sum()['Seguro'].rename('SomaSeguro')\n",
    "mediaseguro = adultos.groupby(['IdadeVeículo']).mean()['Seguro'].rename('MédiaSeguro')\n",
    "total = adultos.groupby(['IdadeVeículo']).sum()['ValorPagarAno'].rename('SomaTotal')\n",
    "mediatotal = adultos.groupby(['IdadeVeículo']).median()['ValorPagarAno'].rename('MédiaTotal')\n",
    "# Dataframe para os resultados\n",
    "dados_usuarios = pd.DataFrame({\"QuantidadeSexo\":sexo,'SomaCarteira':cart,'MédiaCarteira':carmedia,'SomaSeguro':seguro,'MédiaSeguro':mediaseguro,'SomaTotal':total,'MédiaTotal':mediatotal})\n",
    "dados_usuarios ['SomaTotal'] = dados_usuarios['SomaTotal'].map(\"${:,.2f}\".format)\n",
    "dados_usuarios [\"MédiaTotal\"] = dados_usuarios[\"MédiaTotal\"].map(\"${:,.2f}\".format)\n",
    "dados_usuarios.sort_values(\"QuantidadeSexo\", ascending=False).head(5)"
   ]
  },
  {
   "cell_type": "markdown",
   "id": "f2d3fee2",
   "metadata": {},
   "source": [
    "### ANALISANDO POR VEICÚLO DEFEITUOSO OU NÃO"
   ]
  },
  {
   "cell_type": "code",
   "execution_count": 65,
   "id": "a26e1f17",
   "metadata": {},
   "outputs": [
    {
     "data": {
      "text/html": [
       "<div>\n",
       "<style scoped>\n",
       "    .dataframe tbody tr th:only-of-type {\n",
       "        vertical-align: middle;\n",
       "    }\n",
       "\n",
       "    .dataframe tbody tr th {\n",
       "        vertical-align: top;\n",
       "    }\n",
       "\n",
       "    .dataframe thead th {\n",
       "        text-align: right;\n",
       "    }\n",
       "</style>\n",
       "<table border=\"1\" class=\"dataframe\">\n",
       "  <thead>\n",
       "    <tr style=\"text-align: right;\">\n",
       "      <th></th>\n",
       "      <th>QuantidadeSexo</th>\n",
       "      <th>SomaCarteira</th>\n",
       "      <th>MédiaCarteira</th>\n",
       "      <th>SomaSeguro</th>\n",
       "      <th>MédiaSeguro</th>\n",
       "      <th>SomaTotal</th>\n",
       "      <th>MédiaTotal</th>\n",
       "    </tr>\n",
       "    <tr>\n",
       "      <th>VeiculoDanificado</th>\n",
       "      <th></th>\n",
       "      <th></th>\n",
       "      <th></th>\n",
       "      <th></th>\n",
       "      <th></th>\n",
       "      <th></th>\n",
       "      <th></th>\n",
       "    </tr>\n",
       "  </thead>\n",
       "  <tbody>\n",
       "    <tr>\n",
       "      <th>Yes</th>\n",
       "      <td>81768</td>\n",
       "      <td>81647</td>\n",
       "      <td>0.99852</td>\n",
       "      <td>4080</td>\n",
       "      <td>0.049897</td>\n",
       "      <td>$2,474,645,851.00</td>\n",
       "      <td>$32,584.00</td>\n",
       "    </tr>\n",
       "    <tr>\n",
       "      <th>No</th>\n",
       "      <td>61570</td>\n",
       "      <td>61514</td>\n",
       "      <td>0.99909</td>\n",
       "      <td>51216</td>\n",
       "      <td>0.831834</td>\n",
       "      <td>$1,796,828,884.00</td>\n",
       "      <td>$30,967.00</td>\n",
       "    </tr>\n",
       "  </tbody>\n",
       "</table>\n",
       "</div>"
      ],
      "text/plain": [
       "                   QuantidadeSexo  SomaCarteira  MédiaCarteira  SomaSeguro  \\\n",
       "VeiculoDanificado                                                            \n",
       "Yes                         81768         81647        0.99852        4080   \n",
       "No                          61570         61514        0.99909       51216   \n",
       "\n",
       "                   MédiaSeguro          SomaTotal  MédiaTotal  \n",
       "VeiculoDanificado                                              \n",
       "Yes                   0.049897  $2,474,645,851.00  $32,584.00  \n",
       "No                    0.831834  $1,796,828,884.00  $30,967.00  "
      ]
     },
     "execution_count": 65,
     "metadata": {},
     "output_type": "execute_result"
    }
   ],
   "source": [
    "sexo = adultos.groupby([\"VeiculoDanificado\"]).count()[\"Idade\"].rename('QuantidadeSexo')\n",
    "cart = adultos.groupby(['VeiculoDanificado']).sum()['CartaCondução'].rename('SomaCarteira')\n",
    "carmedia =adultos.groupby(['VeiculoDanificado']).mean()['CartaCondução'].rename('MédiaCarteira')\n",
    "seguro = adultos.groupby(['VeiculoDanificado']).sum()['Seguro'].rename('SomaSeguro')\n",
    "mediaseguro = adultos.groupby(['VeiculoDanificado']).mean()['Seguro'].rename('MédiaSeguro')\n",
    "total = adultos.groupby(['VeiculoDanificado']).sum()['ValorPagarAno'].rename('SomaTotal')\n",
    "mediatotal = adultos.groupby(['VeiculoDanificado']).median()['ValorPagarAno'].rename('MédiaTotal')\n",
    "# Dataframe para os resultados\n",
    "dados_usuarios = pd.DataFrame({\"QuantidadeSexo\":sexo,'SomaCarteira':cart,'MédiaCarteira':carmedia,'SomaSeguro':seguro,'MédiaSeguro':mediaseguro,'SomaTotal':total,'MédiaTotal':mediatotal})\n",
    "dados_usuarios ['SomaTotal'] = dados_usuarios['SomaTotal'].map(\"${:,.2f}\".format)\n",
    "dados_usuarios [\"MédiaTotal\"] = dados_usuarios[\"MédiaTotal\"].map(\"${:,.2f}\".format)\n",
    "dados_usuarios.sort_values(\"QuantidadeSexo\", ascending=False).head(5)"
   ]
  },
  {
   "cell_type": "markdown",
   "id": "65db6367",
   "metadata": {},
   "source": [
    "### ADULTOS QUE NÃO TIVERAM INTERESSE NO SEGURO"
   ]
  },
  {
   "cell_type": "code",
   "execution_count": 66,
   "id": "aba81f40",
   "metadata": {},
   "outputs": [
    {
     "data": {
      "text/plain": [
       "35650"
      ]
     },
     "execution_count": 66,
     "metadata": {},
     "output_type": "execute_result"
    }
   ],
   "source": [
    "adultos_desinteressados = desinteressados.query('Idade > 29 and Idade <= 59')\n",
    "adultos_desinteressados['Idade'].value_counts().sum()"
   ]
  },
  {
   "cell_type": "markdown",
   "id": "5858fe45",
   "metadata": {},
   "source": [
    "### ANALSIANDO POR SEXO "
   ]
  },
  {
   "cell_type": "code",
   "execution_count": 67,
   "id": "e38d53e2",
   "metadata": {},
   "outputs": [
    {
     "data": {
      "text/html": [
       "<div>\n",
       "<style scoped>\n",
       "    .dataframe tbody tr th:only-of-type {\n",
       "        vertical-align: middle;\n",
       "    }\n",
       "\n",
       "    .dataframe tbody tr th {\n",
       "        vertical-align: top;\n",
       "    }\n",
       "\n",
       "    .dataframe thead th {\n",
       "        text-align: right;\n",
       "    }\n",
       "</style>\n",
       "<table border=\"1\" class=\"dataframe\">\n",
       "  <thead>\n",
       "    <tr style=\"text-align: right;\">\n",
       "      <th></th>\n",
       "      <th>QuantidadeSexo</th>\n",
       "      <th>SomaCarteira</th>\n",
       "      <th>MédiaCarteira</th>\n",
       "      <th>SomaSeguro</th>\n",
       "      <th>MédiaSeguro</th>\n",
       "      <th>SomaTotal</th>\n",
       "      <th>MédiaTotal</th>\n",
       "    </tr>\n",
       "    <tr>\n",
       "      <th>Sexo</th>\n",
       "      <th></th>\n",
       "      <th></th>\n",
       "      <th></th>\n",
       "      <th></th>\n",
       "      <th></th>\n",
       "      <th></th>\n",
       "      <th></th>\n",
       "    </tr>\n",
       "  </thead>\n",
       "  <tbody>\n",
       "    <tr>\n",
       "      <th>Male</th>\n",
       "      <td>22068</td>\n",
       "      <td>22051</td>\n",
       "      <td>0.999230</td>\n",
       "      <td>58</td>\n",
       "      <td>0.002628</td>\n",
       "      <td>$696,746,159.00</td>\n",
       "      <td>$33,090.00</td>\n",
       "    </tr>\n",
       "    <tr>\n",
       "      <th>Female</th>\n",
       "      <td>13582</td>\n",
       "      <td>13576</td>\n",
       "      <td>0.999558</td>\n",
       "      <td>31</td>\n",
       "      <td>0.002282</td>\n",
       "      <td>$430,598,032.00</td>\n",
       "      <td>$33,377.00</td>\n",
       "    </tr>\n",
       "  </tbody>\n",
       "</table>\n",
       "</div>"
      ],
      "text/plain": [
       "        QuantidadeSexo  SomaCarteira  MédiaCarteira  SomaSeguro  MédiaSeguro  \\\n",
       "Sexo                                                                           \n",
       "Male             22068         22051       0.999230          58     0.002628   \n",
       "Female           13582         13576       0.999558          31     0.002282   \n",
       "\n",
       "              SomaTotal  MédiaTotal  \n",
       "Sexo                                 \n",
       "Male    $696,746,159.00  $33,090.00  \n",
       "Female  $430,598,032.00  $33,377.00  "
      ]
     },
     "execution_count": 67,
     "metadata": {},
     "output_type": "execute_result"
    }
   ],
   "source": [
    "sexo = adultos_desinteressados.groupby([\"Sexo\"]).count()[\"Idade\"].rename('QuantidadeSexo')\n",
    "cart = adultos_desinteressados.groupby(['Sexo']).sum()['CartaCondução'].rename('SomaCarteira')\n",
    "carmedia =adultos_desinteressados.groupby(['Sexo']).mean()['CartaCondução'].rename('MédiaCarteira')\n",
    "seguro = adultos_desinteressados.groupby(['Sexo']).sum()['Seguro'].rename('SomaSeguro')\n",
    "mediaseguro = adultos_desinteressados.groupby(['Sexo']).mean()['Seguro'].rename('MédiaSeguro')\n",
    "total = adultos_desinteressados.groupby(['Sexo']).sum()['ValorPagarAno'].rename('SomaTotal')\n",
    "mediatotal = adultos_desinteressados.groupby(['Sexo']).median()['ValorPagarAno'].rename('MédiaTotal')\n",
    "# Dataframe para os resultados\n",
    "dados_usuarios = pd.DataFrame({\"QuantidadeSexo\":sexo,'SomaCarteira':cart,'MédiaCarteira':carmedia,'SomaSeguro':seguro,'MédiaSeguro':mediaseguro,'SomaTotal':total,'MédiaTotal':mediatotal})\n",
    "dados_usuarios ['SomaTotal'] = dados_usuarios['SomaTotal'].map(\"${:,.2f}\".format)\n",
    "dados_usuarios [\"MédiaTotal\"] = dados_usuarios[\"MédiaTotal\"].map(\"${:,.2f}\".format)\n",
    "dados_usuarios.sort_values(\"QuantidadeSexo\", ascending=False).head(5)"
   ]
  },
  {
   "cell_type": "code",
   "execution_count": 68,
   "id": "2da84ed1",
   "metadata": {},
   "outputs": [
    {
     "data": {
      "image/png": "[encoded data removed]",
      "text/plain": [
       "<Figure size 1400x800 with 4 Axes>"
      ]
     },
     "metadata": {},
     "output_type": "display_data"
    }
   ],
   "source": [
    "# Podemos observar as informações acimas todas de uma vez através de gráficos\n",
    "\n",
    "plt.rcParams[\"figure.figsize\"] = [14.00, 8.00]\n",
    "plt.rcParams[\"figure.autolayout\"] = True\n",
    "f, axes = plt.subplots(2, 2)\n",
    "\n",
    "sns.countplot(data = adultos_desinteressados, x=\"Sexo\", ax=axes[0][0])\n",
    "sns.countplot(data = adultos_desinteressados, x=\"CartaCondução\", ax=axes[0][1])\n",
    "sns.countplot(data = adultos_desinteressados, x=\"Seguro\", ax=axes[1][0])\n",
    "sns.countplot(data = adultos_desinteressados, x=\"IdadeVeículo\", ax=axes[1][1])\n",
    "\n",
    "plt.show()"
   ]
  },
  {
   "cell_type": "markdown",
   "id": "1c8e6e8a",
   "metadata": {},
   "source": [
    "### ANALISANDO POR TEMPO DE VIDA DO CARRO"
   ]
  },
  {
   "cell_type": "code",
   "execution_count": 69,
   "id": "4dae39e6",
   "metadata": {},
   "outputs": [
    {
     "data": {
      "text/html": [
       "<div>\n",
       "<style scoped>\n",
       "    .dataframe tbody tr th:only-of-type {\n",
       "        vertical-align: middle;\n",
       "    }\n",
       "\n",
       "    .dataframe tbody tr th {\n",
       "        vertical-align: top;\n",
       "    }\n",
       "\n",
       "    .dataframe thead th {\n",
       "        text-align: right;\n",
       "    }\n",
       "</style>\n",
       "<table border=\"1\" class=\"dataframe\">\n",
       "  <thead>\n",
       "    <tr style=\"text-align: right;\">\n",
       "      <th></th>\n",
       "      <th>QuantidadeSexo</th>\n",
       "      <th>SomaCarteira</th>\n",
       "      <th>MédiaCarteira</th>\n",
       "      <th>SomaSeguro</th>\n",
       "      <th>MédiaSeguro</th>\n",
       "      <th>SomaTotal</th>\n",
       "      <th>MédiaTotal</th>\n",
       "    </tr>\n",
       "    <tr>\n",
       "      <th>IdadeVeículo</th>\n",
       "      <th></th>\n",
       "      <th></th>\n",
       "      <th></th>\n",
       "      <th></th>\n",
       "      <th></th>\n",
       "      <th></th>\n",
       "      <th></th>\n",
       "    </tr>\n",
       "  </thead>\n",
       "  <tbody>\n",
       "    <tr>\n",
       "      <th>1-2 Year</th>\n",
       "      <td>30090</td>\n",
       "      <td>30068</td>\n",
       "      <td>0.999269</td>\n",
       "      <td>80</td>\n",
       "      <td>0.002659</td>\n",
       "      <td>$933,726,406.00</td>\n",
       "      <td>$32,750.00</td>\n",
       "    </tr>\n",
       "    <tr>\n",
       "      <th>&gt; 2 Years</th>\n",
       "      <td>3496</td>\n",
       "      <td>3495</td>\n",
       "      <td>0.999714</td>\n",
       "      <td>1</td>\n",
       "      <td>0.000286</td>\n",
       "      <td>$132,238,002.00</td>\n",
       "      <td>$38,753.00</td>\n",
       "    </tr>\n",
       "    <tr>\n",
       "      <th>&lt; 1 Year</th>\n",
       "      <td>2064</td>\n",
       "      <td>2064</td>\n",
       "      <td>1.000000</td>\n",
       "      <td>8</td>\n",
       "      <td>0.003876</td>\n",
       "      <td>$61,379,783.00</td>\n",
       "      <td>$31,468.00</td>\n",
       "    </tr>\n",
       "  </tbody>\n",
       "</table>\n",
       "</div>"
      ],
      "text/plain": [
       "              QuantidadeSexo  SomaCarteira  MédiaCarteira  SomaSeguro  \\\n",
       "IdadeVeículo                                                            \n",
       "1-2 Year               30090         30068       0.999269          80   \n",
       "> 2 Years               3496          3495       0.999714           1   \n",
       "< 1 Year                2064          2064       1.000000           8   \n",
       "\n",
       "              MédiaSeguro        SomaTotal  MédiaTotal  \n",
       "IdadeVeículo                                            \n",
       "1-2 Year         0.002659  $933,726,406.00  $32,750.00  \n",
       "> 2 Years        0.000286  $132,238,002.00  $38,753.00  \n",
       "< 1 Year         0.003876   $61,379,783.00  $31,468.00  "
      ]
     },
     "execution_count": 69,
     "metadata": {},
     "output_type": "execute_result"
    }
   ],
   "source": [
    "sexo = adultos_desinteressados.groupby([\"IdadeVeículo\"]).count()[\"Idade\"].rename('QuantidadeSexo')\n",
    "cart = adultos_desinteressados.groupby(['IdadeVeículo']).sum()['CartaCondução'].rename('SomaCarteira')\n",
    "carmedia =adultos_desinteressados.groupby(['IdadeVeículo']).mean()['CartaCondução'].rename('MédiaCarteira')\n",
    "seguro = adultos_desinteressados.groupby(['IdadeVeículo']).sum()['Seguro'].rename('SomaSeguro')\n",
    "mediaseguro = adultos_desinteressados.groupby(['IdadeVeículo']).mean()['Seguro'].rename('MédiaSeguro')\n",
    "total = adultos_desinteressados.groupby(['IdadeVeículo']).sum()['ValorPagarAno'].rename('SomaTotal')\n",
    "mediatotal = adultos_desinteressados.groupby(['IdadeVeículo']).median()['ValorPagarAno'].rename('MédiaTotal')\n",
    "# Dataframe para os resultados\n",
    "dados_usuarios = pd.DataFrame({\"QuantidadeSexo\":sexo,'SomaCarteira':cart,'MédiaCarteira':carmedia,'SomaSeguro':seguro,'MédiaSeguro':mediaseguro,'SomaTotal':total,'MédiaTotal':mediatotal})\n",
    "dados_usuarios ['SomaTotal'] = dados_usuarios['SomaTotal'].map(\"${:,.2f}\".format)\n",
    "dados_usuarios [\"MédiaTotal\"] = dados_usuarios[\"MédiaTotal\"].map(\"${:,.2f}\".format)\n",
    "dados_usuarios.sort_values(\"QuantidadeSexo\", ascending=False).head(5)"
   ]
  },
  {
   "cell_type": "markdown",
   "id": "9aeeeb7b",
   "metadata": {},
   "source": [
    "### ANALISANDO POR VEICÚLO DEFEITUOSO OU NÃO"
   ]
  },
  {
   "cell_type": "code",
   "execution_count": 70,
   "id": "946e7f74",
   "metadata": {},
   "outputs": [
    {
     "data": {
      "text/html": [
       "<div>\n",
       "<style scoped>\n",
       "    .dataframe tbody tr th:only-of-type {\n",
       "        vertical-align: middle;\n",
       "    }\n",
       "\n",
       "    .dataframe tbody tr th {\n",
       "        vertical-align: top;\n",
       "    }\n",
       "\n",
       "    .dataframe thead th {\n",
       "        text-align: right;\n",
       "    }\n",
       "</style>\n",
       "<table border=\"1\" class=\"dataframe\">\n",
       "  <thead>\n",
       "    <tr style=\"text-align: right;\">\n",
       "      <th></th>\n",
       "      <th>QuantidadeSexo</th>\n",
       "      <th>SomaCarteira</th>\n",
       "      <th>MédiaCarteira</th>\n",
       "      <th>SomaSeguro</th>\n",
       "      <th>MédiaSeguro</th>\n",
       "      <th>SomaTotal</th>\n",
       "      <th>MédiaTotal</th>\n",
       "    </tr>\n",
       "    <tr>\n",
       "      <th>VeiculoDanificado</th>\n",
       "      <th></th>\n",
       "      <th></th>\n",
       "      <th></th>\n",
       "      <th></th>\n",
       "      <th></th>\n",
       "      <th></th>\n",
       "      <th></th>\n",
       "    </tr>\n",
       "  </thead>\n",
       "  <tbody>\n",
       "    <tr>\n",
       "      <th>Yes</th>\n",
       "      <td>35071</td>\n",
       "      <td>35048</td>\n",
       "      <td>0.999344</td>\n",
       "      <td>47</td>\n",
       "      <td>0.001340</td>\n",
       "      <td>$1,113,435,132.00</td>\n",
       "      <td>$33,281.00</td>\n",
       "    </tr>\n",
       "    <tr>\n",
       "      <th>No</th>\n",
       "      <td>579</td>\n",
       "      <td>579</td>\n",
       "      <td>1.000000</td>\n",
       "      <td>42</td>\n",
       "      <td>0.072539</td>\n",
       "      <td>$13,909,059.00</td>\n",
       "      <td>$27,615.00</td>\n",
       "    </tr>\n",
       "  </tbody>\n",
       "</table>\n",
       "</div>"
      ],
      "text/plain": [
       "                   QuantidadeSexo  SomaCarteira  MédiaCarteira  SomaSeguro  \\\n",
       "VeiculoDanificado                                                            \n",
       "Yes                         35071         35048       0.999344          47   \n",
       "No                            579           579       1.000000          42   \n",
       "\n",
       "                   MédiaSeguro          SomaTotal  MédiaTotal  \n",
       "VeiculoDanificado                                              \n",
       "Yes                   0.001340  $1,113,435,132.00  $33,281.00  \n",
       "No                    0.072539     $13,909,059.00  $27,615.00  "
      ]
     },
     "execution_count": 70,
     "metadata": {},
     "output_type": "execute_result"
    }
   ],
   "source": [
    "sexo = adultos_desinteressados.groupby([\"VeiculoDanificado\"]).count()[\"Idade\"].rename('QuantidadeSexo')\n",
    "cart = adultos_desinteressados.groupby(['VeiculoDanificado']).sum()['CartaCondução'].rename('SomaCarteira')\n",
    "carmedia =adultos_desinteressados.groupby(['VeiculoDanificado']).mean()['CartaCondução'].rename('MédiaCarteira')\n",
    "seguro = adultos_desinteressados.groupby(['VeiculoDanificado']).sum()['Seguro'].rename('SomaSeguro')\n",
    "mediaseguro = adultos_desinteressados.groupby(['VeiculoDanificado']).mean()['Seguro'].rename('MédiaSeguro')\n",
    "total = adultos_desinteressados.groupby(['VeiculoDanificado']).sum()['ValorPagarAno'].rename('SomaTotal')\n",
    "mediatotal = adultos_desinteressados.groupby(['VeiculoDanificado']).median()['ValorPagarAno'].rename('MédiaTotal')\n",
    "# Dataframe para os resultados\n",
    "dados_usuarios = pd.DataFrame({\"QuantidadeSexo\":sexo,'SomaCarteira':cart,'MédiaCarteira':carmedia,'SomaSeguro':seguro,'MédiaSeguro':mediaseguro,'SomaTotal':total,'MédiaTotal':mediatotal})\n",
    "dados_usuarios ['SomaTotal'] = dados_usuarios['SomaTotal'].map(\"${:,.2f}\".format)\n",
    "dados_usuarios [\"MédiaTotal\"] = dados_usuarios[\"MédiaTotal\"].map(\"${:,.2f}\".format)\n",
    "dados_usuarios.sort_values(\"QuantidadeSexo\", ascending=False).head(5)"
   ]
  },
  {
   "cell_type": "markdown",
   "id": "ea958d72",
   "metadata": {},
   "source": [
    "### IDOSOS QUE TIVERAM INTERESSE NO SEGURO"
   ]
  },
  {
   "cell_type": "code",
   "execution_count": 71,
   "id": "48bd60c4",
   "metadata": {},
   "outputs": [
    {
     "data": {
      "text/plain": [
       "42097"
      ]
     },
     "execution_count": 71,
     "metadata": {},
     "output_type": "execute_result"
    }
   ],
   "source": [
    "idosos = interessados.query('Idade > 59 and Idade <= 85')\n",
    "idosos['Idade'].value_counts().sum()"
   ]
  },
  {
   "cell_type": "markdown",
   "id": "998eedf4",
   "metadata": {},
   "source": [
    "### ANALSIANDO POR SEXO "
   ]
  },
  {
   "cell_type": "code",
   "execution_count": 72,
   "id": "569df86e",
   "metadata": {},
   "outputs": [
    {
     "data": {
      "text/html": [
       "<div>\n",
       "<style scoped>\n",
       "    .dataframe tbody tr th:only-of-type {\n",
       "        vertical-align: middle;\n",
       "    }\n",
       "\n",
       "    .dataframe tbody tr th {\n",
       "        vertical-align: top;\n",
       "    }\n",
       "\n",
       "    .dataframe thead th {\n",
       "        text-align: right;\n",
       "    }\n",
       "</style>\n",
       "<table border=\"1\" class=\"dataframe\">\n",
       "  <thead>\n",
       "    <tr style=\"text-align: right;\">\n",
       "      <th></th>\n",
       "      <th>QuantidadeSexo</th>\n",
       "      <th>SomaCarteira</th>\n",
       "      <th>MédiaCarteira</th>\n",
       "      <th>SomaSeguro</th>\n",
       "      <th>MédiaSeguro</th>\n",
       "      <th>SomaTotal</th>\n",
       "      <th>MédiaTotal</th>\n",
       "    </tr>\n",
       "    <tr>\n",
       "      <th>Sexo</th>\n",
       "      <th></th>\n",
       "      <th></th>\n",
       "      <th></th>\n",
       "      <th></th>\n",
       "      <th></th>\n",
       "      <th></th>\n",
       "      <th></th>\n",
       "    </tr>\n",
       "  </thead>\n",
       "  <tbody>\n",
       "    <tr>\n",
       "      <th>Male</th>\n",
       "      <td>25344</td>\n",
       "      <td>24911</td>\n",
       "      <td>0.982915</td>\n",
       "      <td>10308</td>\n",
       "      <td>0.406723</td>\n",
       "      <td>$837,996,994.00</td>\n",
       "      <td>$34,744.00</td>\n",
       "    </tr>\n",
       "    <tr>\n",
       "      <th>Female</th>\n",
       "      <td>16753</td>\n",
       "      <td>16595</td>\n",
       "      <td>0.990569</td>\n",
       "      <td>6798</td>\n",
       "      <td>0.405778</td>\n",
       "      <td>$562,675,869.00</td>\n",
       "      <td>$34,617.00</td>\n",
       "    </tr>\n",
       "  </tbody>\n",
       "</table>\n",
       "</div>"
      ],
      "text/plain": [
       "        QuantidadeSexo  SomaCarteira  MédiaCarteira  SomaSeguro  MédiaSeguro  \\\n",
       "Sexo                                                                           \n",
       "Male             25344         24911       0.982915       10308     0.406723   \n",
       "Female           16753         16595       0.990569        6798     0.405778   \n",
       "\n",
       "              SomaTotal  MédiaTotal  \n",
       "Sexo                                 \n",
       "Male    $837,996,994.00  $34,744.00  \n",
       "Female  $562,675,869.00  $34,617.00  "
      ]
     },
     "execution_count": 72,
     "metadata": {},
     "output_type": "execute_result"
    }
   ],
   "source": [
    "sexo = idosos.groupby([\"Sexo\"]).count()[\"Idade\"].rename('QuantidadeSexo')\n",
    "cart = idosos.groupby(['Sexo']).sum()['CartaCondução'].rename('SomaCarteira')\n",
    "carmedia =idosos.groupby(['Sexo']).mean()['CartaCondução'].rename('MédiaCarteira')\n",
    "seguro = idosos.groupby(['Sexo']).sum()['Seguro'].rename('SomaSeguro')\n",
    "mediaseguro = idosos.groupby(['Sexo']).mean()['Seguro'].rename('MédiaSeguro')\n",
    "total = idosos.groupby(['Sexo']).sum()['ValorPagarAno'].rename('SomaTotal')\n",
    "mediatotal = idosos.groupby(['Sexo']).median()['ValorPagarAno'].rename('MédiaTotal')\n",
    "# Dataframe para os resultados\n",
    "dados_usuarios = pd.DataFrame({\"QuantidadeSexo\":sexo,'SomaCarteira':cart,'MédiaCarteira':carmedia,'SomaSeguro':seguro,'MédiaSeguro':mediaseguro,'SomaTotal':total,'MédiaTotal':mediatotal})\n",
    "dados_usuarios ['SomaTotal'] = dados_usuarios['SomaTotal'].map(\"${:,.2f}\".format)\n",
    "dados_usuarios [\"MédiaTotal\"] = dados_usuarios[\"MédiaTotal\"].map(\"${:,.2f}\".format)\n",
    "dados_usuarios.sort_values(\"QuantidadeSexo\", ascending=False).head(5)"
   ]
  },
  {
   "cell_type": "code",
   "execution_count": 73,
   "id": "af9638d9",
   "metadata": {},
   "outputs": [
    {
     "data": {
      "image/png": "[encoded data removed]",
      "text/plain": [
       "<Figure size 1400x800 with 4 Axes>"
      ]
     },
     "metadata": {},
     "output_type": "display_data"
    }
   ],
   "source": [
    "# Podemos observar as informações acimas todas de uma vez através de gráficos\n",
    "\n",
    "plt.rcParams[\"figure.figsize\"] = [14.00, 8.00]\n",
    "plt.rcParams[\"figure.autolayout\"] = True\n",
    "f, axes = plt.subplots(2, 2)\n",
    "\n",
    "sns.countplot(data = idosos, x=\"Sexo\", ax=axes[0][0])\n",
    "sns.countplot(data = idosos, x=\"CartaCondução\", ax=axes[0][1])\n",
    "sns.countplot(data = idosos, x=\"Seguro\", ax=axes[1][0])\n",
    "sns.countplot(data = idosos, x=\"IdadeVeículo\", ax=axes[1][1])\n",
    "\n",
    "plt.show()"
   ]
  },
  {
   "cell_type": "markdown",
   "id": "cd4ea3fd",
   "metadata": {},
   "source": [
    "### ANALISANDO POR TEMPO DE VIDA DO CARRO"
   ]
  },
  {
   "cell_type": "code",
   "execution_count": 74,
   "id": "a77628f8",
   "metadata": {},
   "outputs": [
    {
     "data": {
      "text/html": [
       "<div>\n",
       "<style scoped>\n",
       "    .dataframe tbody tr th:only-of-type {\n",
       "        vertical-align: middle;\n",
       "    }\n",
       "\n",
       "    .dataframe tbody tr th {\n",
       "        vertical-align: top;\n",
       "    }\n",
       "\n",
       "    .dataframe thead th {\n",
       "        text-align: right;\n",
       "    }\n",
       "</style>\n",
       "<table border=\"1\" class=\"dataframe\">\n",
       "  <thead>\n",
       "    <tr style=\"text-align: right;\">\n",
       "      <th></th>\n",
       "      <th>QuantidadeSexo</th>\n",
       "      <th>SomaCarteira</th>\n",
       "      <th>MédiaCarteira</th>\n",
       "      <th>SomaSeguro</th>\n",
       "      <th>MédiaSeguro</th>\n",
       "      <th>SomaTotal</th>\n",
       "      <th>MédiaTotal</th>\n",
       "    </tr>\n",
       "    <tr>\n",
       "      <th>IdadeVeículo</th>\n",
       "      <th></th>\n",
       "      <th></th>\n",
       "      <th></th>\n",
       "      <th></th>\n",
       "      <th></th>\n",
       "      <th></th>\n",
       "      <th></th>\n",
       "    </tr>\n",
       "  </thead>\n",
       "  <tbody>\n",
       "    <tr>\n",
       "      <th>1-2 Year</th>\n",
       "      <td>37672</td>\n",
       "      <td>37126</td>\n",
       "      <td>0.985506</td>\n",
       "      <td>17083</td>\n",
       "      <td>0.453467</td>\n",
       "      <td>$1,243,816,273.00</td>\n",
       "      <td>$34,378.00</td>\n",
       "    </tr>\n",
       "    <tr>\n",
       "      <th>&gt; 2 Years</th>\n",
       "      <td>4327</td>\n",
       "      <td>4282</td>\n",
       "      <td>0.989600</td>\n",
       "      <td>12</td>\n",
       "      <td>0.002773</td>\n",
       "      <td>$156,414,657.00</td>\n",
       "      <td>$37,916.00</td>\n",
       "    </tr>\n",
       "    <tr>\n",
       "      <th>&lt; 1 Year</th>\n",
       "      <td>98</td>\n",
       "      <td>98</td>\n",
       "      <td>1.000000</td>\n",
       "      <td>11</td>\n",
       "      <td>0.112245</td>\n",
       "      <td>$441,933.00</td>\n",
       "      <td>$2,630.00</td>\n",
       "    </tr>\n",
       "  </tbody>\n",
       "</table>\n",
       "</div>"
      ],
      "text/plain": [
       "              QuantidadeSexo  SomaCarteira  MédiaCarteira  SomaSeguro  \\\n",
       "IdadeVeículo                                                            \n",
       "1-2 Year               37672         37126       0.985506       17083   \n",
       "> 2 Years               4327          4282       0.989600          12   \n",
       "< 1 Year                  98            98       1.000000          11   \n",
       "\n",
       "              MédiaSeguro          SomaTotal  MédiaTotal  \n",
       "IdadeVeículo                                              \n",
       "1-2 Year         0.453467  $1,243,816,273.00  $34,378.00  \n",
       "> 2 Years        0.002773    $156,414,657.00  $37,916.00  \n",
       "< 1 Year         0.112245        $441,933.00   $2,630.00  "
      ]
     },
     "execution_count": 74,
     "metadata": {},
     "output_type": "execute_result"
    }
   ],
   "source": [
    "sexo = idosos.groupby([\"IdadeVeículo\"]).count()[\"Idade\"].rename('QuantidadeSexo')\n",
    "cart = idosos.groupby(['IdadeVeículo']).sum()['CartaCondução'].rename('SomaCarteira')\n",
    "carmedia =idosos.groupby(['IdadeVeículo']).mean()['CartaCondução'].rename('MédiaCarteira')\n",
    "seguro = idosos.groupby(['IdadeVeículo']).sum()['Seguro'].rename('SomaSeguro')\n",
    "mediaseguro = idosos.groupby(['IdadeVeículo']).mean()['Seguro'].rename('MédiaSeguro')\n",
    "total = idosos.groupby(['IdadeVeículo']).sum()['ValorPagarAno'].rename('SomaTotal')\n",
    "mediatotal = idosos.groupby(['IdadeVeículo']).median()['ValorPagarAno'].rename('MédiaTotal')\n",
    "# Dataframe para os resultados\n",
    "dados_usuarios = pd.DataFrame({\"QuantidadeSexo\":sexo,'SomaCarteira':cart,'MédiaCarteira':carmedia,'SomaSeguro':seguro,'MédiaSeguro':mediaseguro,'SomaTotal':total,'MédiaTotal':mediatotal})\n",
    "dados_usuarios ['SomaTotal'] = dados_usuarios['SomaTotal'].map(\"${:,.2f}\".format)\n",
    "dados_usuarios [\"MédiaTotal\"] = dados_usuarios[\"MédiaTotal\"].map(\"${:,.2f}\".format)\n",
    "dados_usuarios.sort_values(\"QuantidadeSexo\", ascending=False).head(5)"
   ]
  },
  {
   "cell_type": "markdown",
   "id": "8882a45c",
   "metadata": {},
   "source": [
    "### ANALISANDO POR VEICÚLO DEFEITUOSO OU NÃO"
   ]
  },
  {
   "cell_type": "code",
   "execution_count": 75,
   "id": "c42231eb",
   "metadata": {},
   "outputs": [
    {
     "data": {
      "text/html": [
       "<div>\n",
       "<style scoped>\n",
       "    .dataframe tbody tr th:only-of-type {\n",
       "        vertical-align: middle;\n",
       "    }\n",
       "\n",
       "    .dataframe tbody tr th {\n",
       "        vertical-align: top;\n",
       "    }\n",
       "\n",
       "    .dataframe thead th {\n",
       "        text-align: right;\n",
       "    }\n",
       "</style>\n",
       "<table border=\"1\" class=\"dataframe\">\n",
       "  <thead>\n",
       "    <tr style=\"text-align: right;\">\n",
       "      <th></th>\n",
       "      <th>QuantidadeSexo</th>\n",
       "      <th>SomaCarteira</th>\n",
       "      <th>MédiaCarteira</th>\n",
       "      <th>SomaSeguro</th>\n",
       "      <th>MédiaSeguro</th>\n",
       "      <th>SomaTotal</th>\n",
       "      <th>MédiaTotal</th>\n",
       "    </tr>\n",
       "    <tr>\n",
       "      <th>VeiculoDanificado</th>\n",
       "      <th></th>\n",
       "      <th></th>\n",
       "      <th></th>\n",
       "      <th></th>\n",
       "      <th></th>\n",
       "      <th></th>\n",
       "      <th></th>\n",
       "    </tr>\n",
       "  </thead>\n",
       "  <tbody>\n",
       "    <tr>\n",
       "      <th>Yes</th>\n",
       "      <td>24100</td>\n",
       "      <td>23709</td>\n",
       "      <td>0.983776</td>\n",
       "      <td>1700</td>\n",
       "      <td>0.070539</td>\n",
       "      <td>$807,614,266.00</td>\n",
       "      <td>$35,076.00</td>\n",
       "    </tr>\n",
       "    <tr>\n",
       "      <th>No</th>\n",
       "      <td>17997</td>\n",
       "      <td>17797</td>\n",
       "      <td>0.988887</td>\n",
       "      <td>15406</td>\n",
       "      <td>0.856032</td>\n",
       "      <td>$593,058,597.00</td>\n",
       "      <td>$34,215.00</td>\n",
       "    </tr>\n",
       "  </tbody>\n",
       "</table>\n",
       "</div>"
      ],
      "text/plain": [
       "                   QuantidadeSexo  SomaCarteira  MédiaCarteira  SomaSeguro  \\\n",
       "VeiculoDanificado                                                            \n",
       "Yes                         24100         23709       0.983776        1700   \n",
       "No                          17997         17797       0.988887       15406   \n",
       "\n",
       "                   MédiaSeguro        SomaTotal  MédiaTotal  \n",
       "VeiculoDanificado                                            \n",
       "Yes                   0.070539  $807,614,266.00  $35,076.00  \n",
       "No                    0.856032  $593,058,597.00  $34,215.00  "
      ]
     },
     "execution_count": 75,
     "metadata": {},
     "output_type": "execute_result"
    }
   ],
   "source": [
    "sexo = idosos.groupby([\"VeiculoDanificado\"]).count()[\"Idade\"].rename('QuantidadeSexo')\n",
    "cart = idosos.groupby(['VeiculoDanificado']).sum()['CartaCondução'].rename('SomaCarteira')\n",
    "carmedia =idosos.groupby(['VeiculoDanificado']).mean()['CartaCondução'].rename('MédiaCarteira')\n",
    "seguro = idosos.groupby(['VeiculoDanificado']).sum()['Seguro'].rename('SomaSeguro')\n",
    "mediaseguro = idosos.groupby(['VeiculoDanificado']).mean()['Seguro'].rename('MédiaSeguro')\n",
    "total = idosos.groupby(['VeiculoDanificado']).sum()['ValorPagarAno'].rename('SomaTotal')\n",
    "mediatotal = idosos.groupby(['VeiculoDanificado']).median()['ValorPagarAno'].rename('MédiaTotal')\n",
    "# Dataframe para os resultados\n",
    "dados_usuarios = pd.DataFrame({\"QuantidadeSexo\":sexo,'SomaCarteira':cart,'MédiaCarteira':carmedia,'SomaSeguro':seguro,'MédiaSeguro':mediaseguro,'SomaTotal':total,'MédiaTotal':mediatotal})\n",
    "dados_usuarios ['SomaTotal'] = dados_usuarios['SomaTotal'].map(\"${:,.2f}\".format)\n",
    "dados_usuarios [\"MédiaTotal\"] = dados_usuarios[\"MédiaTotal\"].map(\"${:,.2f}\".format)\n",
    "dados_usuarios.sort_values(\"QuantidadeSexo\", ascending=False).head(5)"
   ]
  },
  {
   "cell_type": "markdown",
   "id": "1631d66f",
   "metadata": {},
   "source": [
    "### IDOSOS QUE NÃO TIVERAM INTERESSE NO SEGURO"
   ]
  },
  {
   "cell_type": "code",
   "execution_count": 76,
   "id": "e57d81fb",
   "metadata": {},
   "outputs": [
    {
     "data": {
      "text/plain": [
       "4661"
      ]
     },
     "execution_count": 76,
     "metadata": {},
     "output_type": "execute_result"
    }
   ],
   "source": [
    "idosos_desinteressados = desinteressados.query('Idade > 59 and Idade <= 85')\n",
    "idosos_desinteressados['Idade'].value_counts().sum()"
   ]
  },
  {
   "cell_type": "markdown",
   "id": "7d11962d",
   "metadata": {},
   "source": [
    "### ANALSIANDO POR SEXO "
   ]
  },
  {
   "cell_type": "code",
   "execution_count": 77,
   "id": "fcd4f534",
   "metadata": {},
   "outputs": [
    {
     "data": {
      "text/html": [
       "<div>\n",
       "<style scoped>\n",
       "    .dataframe tbody tr th:only-of-type {\n",
       "        vertical-align: middle;\n",
       "    }\n",
       "\n",
       "    .dataframe tbody tr th {\n",
       "        vertical-align: top;\n",
       "    }\n",
       "\n",
       "    .dataframe thead th {\n",
       "        text-align: right;\n",
       "    }\n",
       "</style>\n",
       "<table border=\"1\" class=\"dataframe\">\n",
       "  <thead>\n",
       "    <tr style=\"text-align: right;\">\n",
       "      <th></th>\n",
       "      <th>QuantidadeSexo</th>\n",
       "      <th>SomaCarteira</th>\n",
       "      <th>MédiaCarteira</th>\n",
       "      <th>SomaSeguro</th>\n",
       "      <th>MédiaSeguro</th>\n",
       "      <th>SomaTotal</th>\n",
       "      <th>MédiaTotal</th>\n",
       "    </tr>\n",
       "    <tr>\n",
       "      <th>Sexo</th>\n",
       "      <th></th>\n",
       "      <th></th>\n",
       "      <th></th>\n",
       "      <th></th>\n",
       "      <th></th>\n",
       "      <th></th>\n",
       "      <th></th>\n",
       "    </tr>\n",
       "  </thead>\n",
       "  <tbody>\n",
       "    <tr>\n",
       "      <th>Male</th>\n",
       "      <td>2965</td>\n",
       "      <td>2955</td>\n",
       "      <td>0.996627</td>\n",
       "      <td>4</td>\n",
       "      <td>0.001349</td>\n",
       "      <td>$106,029,129.00</td>\n",
       "      <td>$36,499.00</td>\n",
       "    </tr>\n",
       "    <tr>\n",
       "      <th>Female</th>\n",
       "      <td>1696</td>\n",
       "      <td>1688</td>\n",
       "      <td>0.995283</td>\n",
       "      <td>5</td>\n",
       "      <td>0.002948</td>\n",
       "      <td>$59,150,088.00</td>\n",
       "      <td>$35,927.50</td>\n",
       "    </tr>\n",
       "  </tbody>\n",
       "</table>\n",
       "</div>"
      ],
      "text/plain": [
       "        QuantidadeSexo  SomaCarteira  MédiaCarteira  SomaSeguro  MédiaSeguro  \\\n",
       "Sexo                                                                           \n",
       "Male              2965          2955       0.996627           4     0.001349   \n",
       "Female            1696          1688       0.995283           5     0.002948   \n",
       "\n",
       "              SomaTotal  MédiaTotal  \n",
       "Sexo                                 \n",
       "Male    $106,029,129.00  $36,499.00  \n",
       "Female   $59,150,088.00  $35,927.50  "
      ]
     },
     "execution_count": 77,
     "metadata": {},
     "output_type": "execute_result"
    }
   ],
   "source": [
    "sexo = idosos_desinteressados.groupby([\"Sexo\"]).count()[\"Idade\"].rename('QuantidadeSexo')\n",
    "cart = idosos_desinteressados.groupby(['Sexo']).sum()['CartaCondução'].rename('SomaCarteira')\n",
    "carmedia =idosos_desinteressados.groupby(['Sexo']).mean()['CartaCondução'].rename('MédiaCarteira')\n",
    "seguro = idosos_desinteressados.groupby(['Sexo']).sum()['Seguro'].rename('SomaSeguro')\n",
    "mediaseguro = idosos_desinteressados.groupby(['Sexo']).mean()['Seguro'].rename('MédiaSeguro')\n",
    "total = idosos_desinteressados.groupby(['Sexo']).sum()['ValorPagarAno'].rename('SomaTotal')\n",
    "mediatotal = idosos_desinteressados.groupby(['Sexo']).median()['ValorPagarAno'].rename('MédiaTotal')\n",
    "# Dataframe para os resultados\n",
    "dados_usuarios = pd.DataFrame({\"QuantidadeSexo\":sexo,'SomaCarteira':cart,'MédiaCarteira':carmedia,'SomaSeguro':seguro,'MédiaSeguro':mediaseguro,'SomaTotal':total,'MédiaTotal':mediatotal})\n",
    "dados_usuarios ['SomaTotal'] = dados_usuarios['SomaTotal'].map(\"${:,.2f}\".format)\n",
    "dados_usuarios [\"MédiaTotal\"] = dados_usuarios[\"MédiaTotal\"].map(\"${:,.2f}\".format)\n",
    "dados_usuarios.sort_values(\"QuantidadeSexo\", ascending=False).head(5)"
   ]
  },
  {
   "cell_type": "code",
   "execution_count": 78,
   "id": "b52768d3",
   "metadata": {},
   "outputs": [
    {
     "data": {
      "image/png": "[encoded data removed]",
      "text/plain": [
       "<Figure size 1400x800 with 4 Axes>"
      ]
     },
     "metadata": {},
     "output_type": "display_data"
    }
   ],
   "source": [
    "# Podemos observar as informações acimas todas de uma vez através de gráficos\n",
    "\n",
    "plt.rcParams[\"figure.figsize\"] = [14.00, 8.00]\n",
    "plt.rcParams[\"figure.autolayout\"] = True\n",
    "f, axes = plt.subplots(2, 2)\n",
    "\n",
    "sns.countplot(data = idosos_desinteressados, x=\"Sexo\", ax=axes[0][0])\n",
    "sns.countplot(data = idosos_desinteressados, x=\"CartaCondução\", ax=axes[0][1])\n",
    "sns.countplot(data = idosos_desinteressados, x=\"Seguro\", ax=axes[1][0])\n",
    "sns.countplot(data = idosos_desinteressados, x=\"IdadeVeículo\", ax=axes[1][1])\n",
    "\n",
    "plt.show()"
   ]
  },
  {
   "cell_type": "markdown",
   "id": "a6a2ddc0",
   "metadata": {},
   "source": [
    "### ANALISANDO POR TEMPO DE VIDA DO CARRO"
   ]
  },
  {
   "cell_type": "code",
   "execution_count": 79,
   "id": "dfd596fa",
   "metadata": {},
   "outputs": [
    {
     "data": {
      "text/html": [
       "<div>\n",
       "<style scoped>\n",
       "    .dataframe tbody tr th:only-of-type {\n",
       "        vertical-align: middle;\n",
       "    }\n",
       "\n",
       "    .dataframe tbody tr th {\n",
       "        vertical-align: top;\n",
       "    }\n",
       "\n",
       "    .dataframe thead th {\n",
       "        text-align: right;\n",
       "    }\n",
       "</style>\n",
       "<table border=\"1\" class=\"dataframe\">\n",
       "  <thead>\n",
       "    <tr style=\"text-align: right;\">\n",
       "      <th></th>\n",
       "      <th>QuantidadeSexo</th>\n",
       "      <th>SomaCarteira</th>\n",
       "      <th>MédiaCarteira</th>\n",
       "      <th>SomaSeguro</th>\n",
       "      <th>MédiaSeguro</th>\n",
       "      <th>SomaTotal</th>\n",
       "      <th>MédiaTotal</th>\n",
       "    </tr>\n",
       "    <tr>\n",
       "      <th>IdadeVeículo</th>\n",
       "      <th></th>\n",
       "      <th></th>\n",
       "      <th></th>\n",
       "      <th></th>\n",
       "      <th></th>\n",
       "      <th></th>\n",
       "      <th></th>\n",
       "    </tr>\n",
       "  </thead>\n",
       "  <tbody>\n",
       "    <tr>\n",
       "      <th>1-2 Year</th>\n",
       "      <td>3458</td>\n",
       "      <td>3444</td>\n",
       "      <td>0.995951</td>\n",
       "      <td>9</td>\n",
       "      <td>0.002603</td>\n",
       "      <td>$117,478,510.00</td>\n",
       "      <td>$34,835.00</td>\n",
       "    </tr>\n",
       "    <tr>\n",
       "      <th>&gt; 2 Years</th>\n",
       "      <td>1194</td>\n",
       "      <td>1190</td>\n",
       "      <td>0.996650</td>\n",
       "      <td>0</td>\n",
       "      <td>0.000000</td>\n",
       "      <td>$47,347,703.00</td>\n",
       "      <td>$40,807.00</td>\n",
       "    </tr>\n",
       "    <tr>\n",
       "      <th>&lt; 1 Year</th>\n",
       "      <td>9</td>\n",
       "      <td>9</td>\n",
       "      <td>1.000000</td>\n",
       "      <td>0</td>\n",
       "      <td>0.000000</td>\n",
       "      <td>$353,004.00</td>\n",
       "      <td>$44,235.00</td>\n",
       "    </tr>\n",
       "  </tbody>\n",
       "</table>\n",
       "</div>"
      ],
      "text/plain": [
       "              QuantidadeSexo  SomaCarteira  MédiaCarteira  SomaSeguro  \\\n",
       "IdadeVeículo                                                            \n",
       "1-2 Year                3458          3444       0.995951           9   \n",
       "> 2 Years               1194          1190       0.996650           0   \n",
       "< 1 Year                   9             9       1.000000           0   \n",
       "\n",
       "              MédiaSeguro        SomaTotal  MédiaTotal  \n",
       "IdadeVeículo                                            \n",
       "1-2 Year         0.002603  $117,478,510.00  $34,835.00  \n",
       "> 2 Years        0.000000   $47,347,703.00  $40,807.00  \n",
       "< 1 Year         0.000000      $353,004.00  $44,235.00  "
      ]
     },
     "execution_count": 79,
     "metadata": {},
     "output_type": "execute_result"
    }
   ],
   "source": [
    "sexo = idosos_desinteressados.groupby([\"IdadeVeículo\"]).count()[\"Idade\"].rename('QuantidadeSexo')\n",
    "cart = idosos_desinteressados.groupby(['IdadeVeículo']).sum()['CartaCondução'].rename('SomaCarteira')\n",
    "carmedia =idosos_desinteressados.groupby(['IdadeVeículo']).mean()['CartaCondução'].rename('MédiaCarteira')\n",
    "seguro = idosos_desinteressados.groupby(['IdadeVeículo']).sum()['Seguro'].rename('SomaSeguro')\n",
    "mediaseguro = idosos_desinteressados.groupby(['IdadeVeículo']).mean()['Seguro'].rename('MédiaSeguro')\n",
    "total = idosos_desinteressados.groupby(['IdadeVeículo']).sum()['ValorPagarAno'].rename('SomaTotal')\n",
    "mediatotal = idosos_desinteressados.groupby(['IdadeVeículo']).median()['ValorPagarAno'].rename('MédiaTotal')\n",
    "# Dataframe para os resultados\n",
    "dados_usuarios = pd.DataFrame({\"QuantidadeSexo\":sexo,'SomaCarteira':cart,'MédiaCarteira':carmedia,'SomaSeguro':seguro,'MédiaSeguro':mediaseguro,'SomaTotal':total,'MédiaTotal':mediatotal})\n",
    "dados_usuarios ['SomaTotal'] = dados_usuarios['SomaTotal'].map(\"${:,.2f}\".format)\n",
    "dados_usuarios [\"MédiaTotal\"] = dados_usuarios[\"MédiaTotal\"].map(\"${:,.2f}\".format)\n",
    "dados_usuarios.sort_values(\"QuantidadeSexo\", ascending=False).head(5)"
   ]
  },
  {
   "cell_type": "markdown",
   "id": "6b43d560",
   "metadata": {},
   "source": [
    "### ANALISANDO POR VEICÚLO DEFEITUOSO OU NÃO"
   ]
  },
  {
   "cell_type": "code",
   "execution_count": 80,
   "id": "20bb257f",
   "metadata": {},
   "outputs": [
    {
     "data": {
      "text/html": [
       "<div>\n",
       "<style scoped>\n",
       "    .dataframe tbody tr th:only-of-type {\n",
       "        vertical-align: middle;\n",
       "    }\n",
       "\n",
       "    .dataframe tbody tr th {\n",
       "        vertical-align: top;\n",
       "    }\n",
       "\n",
       "    .dataframe thead th {\n",
       "        text-align: right;\n",
       "    }\n",
       "</style>\n",
       "<table border=\"1\" class=\"dataframe\">\n",
       "  <thead>\n",
       "    <tr style=\"text-align: right;\">\n",
       "      <th></th>\n",
       "      <th>QuantidadeSexo</th>\n",
       "      <th>SomaCarteira</th>\n",
       "      <th>MédiaCarteira</th>\n",
       "      <th>SomaSeguro</th>\n",
       "      <th>MédiaSeguro</th>\n",
       "      <th>SomaTotal</th>\n",
       "      <th>MédiaTotal</th>\n",
       "    </tr>\n",
       "    <tr>\n",
       "      <th>VeiculoDanificado</th>\n",
       "      <th></th>\n",
       "      <th></th>\n",
       "      <th></th>\n",
       "      <th></th>\n",
       "      <th></th>\n",
       "      <th></th>\n",
       "      <th></th>\n",
       "    </tr>\n",
       "  </thead>\n",
       "  <tbody>\n",
       "    <tr>\n",
       "      <th>Yes</th>\n",
       "      <td>4622</td>\n",
       "      <td>4604</td>\n",
       "      <td>0.996106</td>\n",
       "      <td>5</td>\n",
       "      <td>0.001082</td>\n",
       "      <td>$164,165,288.00</td>\n",
       "      <td>$36,378.50</td>\n",
       "    </tr>\n",
       "    <tr>\n",
       "      <th>No</th>\n",
       "      <td>39</td>\n",
       "      <td>39</td>\n",
       "      <td>1.000000</td>\n",
       "      <td>4</td>\n",
       "      <td>0.102564</td>\n",
       "      <td>$1,013,929.00</td>\n",
       "      <td>$28,724.00</td>\n",
       "    </tr>\n",
       "  </tbody>\n",
       "</table>\n",
       "</div>"
      ],
      "text/plain": [
       "                   QuantidadeSexo  SomaCarteira  MédiaCarteira  SomaSeguro  \\\n",
       "VeiculoDanificado                                                            \n",
       "Yes                          4622          4604       0.996106           5   \n",
       "No                             39            39       1.000000           4   \n",
       "\n",
       "                   MédiaSeguro        SomaTotal  MédiaTotal  \n",
       "VeiculoDanificado                                            \n",
       "Yes                   0.001082  $164,165,288.00  $36,378.50  \n",
       "No                    0.102564    $1,013,929.00  $28,724.00  "
      ]
     },
     "execution_count": 80,
     "metadata": {},
     "output_type": "execute_result"
    }
   ],
   "source": [
    "sexo = idosos_desinteressados.groupby([\"VeiculoDanificado\"]).count()[\"Idade\"].rename('QuantidadeSexo')\n",
    "cart = idosos_desinteressados.groupby(['VeiculoDanificado']).sum()['CartaCondução'].rename('SomaCarteira')\n",
    "carmedia =idosos_desinteressados.groupby(['VeiculoDanificado']).mean()['CartaCondução'].rename('MédiaCarteira')\n",
    "seguro = idosos_desinteressados.groupby(['VeiculoDanificado']).sum()['Seguro'].rename('SomaSeguro')\n",
    "mediaseguro = idosos_desinteressados.groupby(['VeiculoDanificado']).mean()['Seguro'].rename('MédiaSeguro')\n",
    "total = idosos_desinteressados.groupby(['VeiculoDanificado']).sum()['ValorPagarAno'].rename('SomaTotal')\n",
    "mediatotal = idosos_desinteressados.groupby(['VeiculoDanificado']).median()['ValorPagarAno'].rename('MédiaTotal')\n",
    "# Dataframe para os resultados\n",
    "dados_usuarios = pd.DataFrame({\"QuantidadeSexo\":sexo,'SomaCarteira':cart,'MédiaCarteira':carmedia,'SomaSeguro':seguro,'MédiaSeguro':mediaseguro,'SomaTotal':total,'MédiaTotal':mediatotal})\n",
    "dados_usuarios ['SomaTotal'] = dados_usuarios['SomaTotal'].map(\"${:,.2f}\".format)\n",
    "dados_usuarios [\"MédiaTotal\"] = dados_usuarios[\"MédiaTotal\"].map(\"${:,.2f}\".format)\n",
    "dados_usuarios.sort_values(\"QuantidadeSexo\", ascending=False).head(5)"
   ]
  },
  {
   "cell_type": "markdown",
   "id": "7477bac4",
   "metadata": {},
   "source": [
    "# MACHINE LEARNING"
   ]
  },
  {
   "cell_type": "markdown",
   "id": "d0ecc915",
   "metadata": {},
   "source": [
    "## PRÉ-PROCESSAMENTO"
   ]
  },
  {
   "cell_type": "markdown",
   "id": "51f5dec1",
   "metadata": {},
   "source": [
    "### EXCLUINDO VARIAVEIS NÃO UTILIZAVEIS"
   ]
  },
  {
   "cell_type": "code",
   "execution_count": 81,
   "id": "0c2c4839",
   "metadata": {},
   "outputs": [
    {
     "data": {
      "text/html": [
       "<div>\n",
       "<style scoped>\n",
       "    .dataframe tbody tr th:only-of-type {\n",
       "        vertical-align: middle;\n",
       "    }\n",
       "\n",
       "    .dataframe tbody tr th {\n",
       "        vertical-align: top;\n",
       "    }\n",
       "\n",
       "    .dataframe thead th {\n",
       "        text-align: right;\n",
       "    }\n",
       "</style>\n",
       "<table border=\"1\" class=\"dataframe\">\n",
       "  <thead>\n",
       "    <tr style=\"text-align: right;\">\n",
       "      <th></th>\n",
       "      <th>Sexo</th>\n",
       "      <th>Idade</th>\n",
       "      <th>CartaCondução</th>\n",
       "      <th>CódigoRegião</th>\n",
       "      <th>Seguro</th>\n",
       "      <th>IdadeVeículo</th>\n",
       "      <th>VeiculoDanificado</th>\n",
       "      <th>ValorPagarAno</th>\n",
       "      <th>PolíticaCanal</th>\n",
       "      <th>DiasAssociado</th>\n",
       "      <th>Resposta</th>\n",
       "    </tr>\n",
       "  </thead>\n",
       "  <tbody>\n",
       "    <tr>\n",
       "      <th>0</th>\n",
       "      <td>Male</td>\n",
       "      <td>44</td>\n",
       "      <td>1</td>\n",
       "      <td>28.0</td>\n",
       "      <td>0</td>\n",
       "      <td>&gt; 2 Years</td>\n",
       "      <td>Yes</td>\n",
       "      <td>40454.0</td>\n",
       "      <td>26.0</td>\n",
       "      <td>217</td>\n",
       "      <td>1</td>\n",
       "    </tr>\n",
       "    <tr>\n",
       "      <th>1</th>\n",
       "      <td>Male</td>\n",
       "      <td>76</td>\n",
       "      <td>1</td>\n",
       "      <td>3.0</td>\n",
       "      <td>0</td>\n",
       "      <td>1-2 Year</td>\n",
       "      <td>No</td>\n",
       "      <td>33536.0</td>\n",
       "      <td>26.0</td>\n",
       "      <td>183</td>\n",
       "      <td>0</td>\n",
       "    </tr>\n",
       "    <tr>\n",
       "      <th>2</th>\n",
       "      <td>Male</td>\n",
       "      <td>47</td>\n",
       "      <td>1</td>\n",
       "      <td>28.0</td>\n",
       "      <td>0</td>\n",
       "      <td>&gt; 2 Years</td>\n",
       "      <td>Yes</td>\n",
       "      <td>38294.0</td>\n",
       "      <td>26.0</td>\n",
       "      <td>27</td>\n",
       "      <td>1</td>\n",
       "    </tr>\n",
       "    <tr>\n",
       "      <th>3</th>\n",
       "      <td>Male</td>\n",
       "      <td>21</td>\n",
       "      <td>1</td>\n",
       "      <td>11.0</td>\n",
       "      <td>1</td>\n",
       "      <td>&lt; 1 Year</td>\n",
       "      <td>No</td>\n",
       "      <td>28619.0</td>\n",
       "      <td>152.0</td>\n",
       "      <td>203</td>\n",
       "      <td>0</td>\n",
       "    </tr>\n",
       "    <tr>\n",
       "      <th>4</th>\n",
       "      <td>Female</td>\n",
       "      <td>29</td>\n",
       "      <td>1</td>\n",
       "      <td>41.0</td>\n",
       "      <td>1</td>\n",
       "      <td>&lt; 1 Year</td>\n",
       "      <td>No</td>\n",
       "      <td>27496.0</td>\n",
       "      <td>152.0</td>\n",
       "      <td>39</td>\n",
       "      <td>0</td>\n",
       "    </tr>\n",
       "  </tbody>\n",
       "</table>\n",
       "</div>"
      ],
      "text/plain": [
       "     Sexo  Idade  CartaCondução  CódigoRegião  Seguro IdadeVeículo  \\\n",
       "0    Male     44              1          28.0       0    > 2 Years   \n",
       "1    Male     76              1           3.0       0     1-2 Year   \n",
       "2    Male     47              1          28.0       0    > 2 Years   \n",
       "3    Male     21              1          11.0       1     < 1 Year   \n",
       "4  Female     29              1          41.0       1     < 1 Year   \n",
       "\n",
       "  VeiculoDanificado  ValorPagarAno  PolíticaCanal  DiasAssociado  Resposta  \n",
       "0               Yes        40454.0           26.0            217         1  \n",
       "1                No        33536.0           26.0            183         0  \n",
       "2               Yes        38294.0           26.0             27         1  \n",
       "3                No        28619.0          152.0            203         0  \n",
       "4                No        27496.0          152.0             39         0  "
      ]
     },
     "execution_count": 81,
     "metadata": {},
     "output_type": "execute_result"
    }
   ],
   "source": [
    "df_traduzida.head()"
   ]
  },
  {
   "cell_type": "code",
   "execution_count": 82,
   "id": "f70da074",
   "metadata": {},
   "outputs": [],
   "source": [
    "del df_traduzida['PolíticaCanal']\n",
    "del df_traduzida['IdadeVeículo']\n",
    "del df_traduzida['Seguro']"
   ]
  },
  {
   "cell_type": "markdown",
   "id": "8e621268",
   "metadata": {},
   "source": [
    "## encoder"
   ]
  },
  {
   "cell_type": "code",
   "execution_count": 83,
   "id": "b663561a",
   "metadata": {},
   "outputs": [],
   "source": [
    "# Cria o encoder\n",
    "lb = LabelEncoder()\n",
    "\n",
    "# Aplica o encoder nas variáveis que estão com string\n",
    "df_traduzida['Sexo'] = lb.fit_transform(df_traduzida['Sexo'])\n",
    "df_traduzida['VeiculoDanificado'] = lb.fit_transform(df_traduzida['VeiculoDanificado'])\n",
    "\n",
    "# Remove valores missing eventualmente gerados\n",
    "df_traduzida.dropna(inplace = True)"
   ]
  },
  {
   "cell_type": "markdown",
   "id": "c3a95326",
   "metadata": {},
   "source": [
    "### Separa X e y"
   ]
  },
  {
   "cell_type": "code",
   "execution_count": 84,
   "id": "7219bd07",
   "metadata": {},
   "outputs": [],
   "source": [
    "\n",
    "X = df_traduzida.iloc[:, :-1]\n",
    "y = df_traduzida.iloc[:, -1]"
   ]
  },
  {
   "cell_type": "code",
   "execution_count": 85,
   "id": "448c33d6",
   "metadata": {},
   "outputs": [
    {
     "name": "stdout",
     "output_type": "stream",
     "text": [
      "Contagem de classes antes do balanceamento:\n",
      "0    334155\n",
      "1     46685\n",
      "Name: Resposta, dtype: int64\n",
      "\n",
      "Contagem de classes após o balanceamento:\n",
      "1    334155\n",
      "0    334155\n",
      "Name: Resposta, dtype: int64\n"
     ]
    },
    {
     "data": {
      "image/png": "[encoded data removed]",
      "text/plain": [
       "<Figure size 1200x500 with 1 Axes>"
      ]
     },
     "metadata": {},
     "output_type": "display_data"
    }
   ],
   "source": [
    "# Seed para reproduzir o mesmo resultado\n",
    "seed = 100\n",
    "\n",
    "# Cria o balanceador SMOTE\n",
    "smote_bal = SMOTE(random_state=seed)\n",
    "\n",
    "# Verifica a contagem de classes antes do balanceamento\n",
    "print(\"Contagem de classes antes do balanceamento:\")\n",
    "print(y.value_counts())\n",
    "\n",
    "# Aplica o balanceador\n",
    "X_res, y_res = smote_bal.fit_resample(X, y)\n",
    "\n",
    "# Verifica a contagem de classes após o balanceamento\n",
    "print(\"\\nContagem de classes após o balanceamento:\")\n",
    "print(pd.Series(y_res).value_counts())\n",
    "\n",
    "\n",
    "# Visualizando o balanceamento da variável TARGET\n",
    "plt.rcParams[\"figure.figsize\"] = [12.00, 5.00]\n",
    "plt.rcParams[\"figure.autolayout\"] = True\n",
    "y_res.value_counts().plot(kind='bar', title='Cliente tem interesse x Cliente não tem interesse',color = ['#1F77B4', '#FF7F0E']);"
   ]
  },
  {
   "cell_type": "code",
   "execution_count": 86,
   "id": "54f8903c",
   "metadata": {},
   "outputs": [
    {
     "data": {
      "text/plain": [
       "(380840, 7)"
      ]
     },
     "execution_count": 86,
     "metadata": {},
     "output_type": "execute_result"
    }
   ],
   "source": [
    "X.shape"
   ]
  },
  {
   "cell_type": "code",
   "execution_count": 87,
   "id": "bb387943",
   "metadata": {},
   "outputs": [
    {
     "data": {
      "text/plain": [
       "(668310, 7)"
      ]
     },
     "execution_count": 87,
     "metadata": {},
     "output_type": "execute_result"
    }
   ],
   "source": [
    "X_res.shape"
   ]
  },
  {
   "cell_type": "code",
   "execution_count": 88,
   "id": "fb0107e3",
   "metadata": {},
   "outputs": [
    {
     "data": {
      "text/plain": [
       "(380840,)"
      ]
     },
     "execution_count": 88,
     "metadata": {},
     "output_type": "execute_result"
    }
   ],
   "source": [
    "y.shape"
   ]
  },
  {
   "cell_type": "code",
   "execution_count": 89,
   "id": "4f986d26",
   "metadata": {},
   "outputs": [
    {
     "data": {
      "text/plain": [
       "(668310,)"
      ]
     },
     "execution_count": 89,
     "metadata": {},
     "output_type": "execute_result"
    }
   ],
   "source": [
    "y_res.shape"
   ]
  },
  {
   "cell_type": "markdown",
   "id": "b885238d",
   "metadata": {},
   "source": [
    "### VARIAVEIS MAIS IMPORTANTES"
   ]
  },
  {
   "cell_type": "code",
   "execution_count": 90,
   "id": "08c629c0",
   "metadata": {},
   "outputs": [
    {
     "data": {
      "text/html": [
       "<style>#sk-container-id-1 {color: black;}#sk-container-id-1 pre{padding: 0;}#sk-container-id-1 div.sk-toggleable {background-color: white;}#sk-container-id-1 label.sk-toggleable__label {cursor: pointer;display: block;width: 100%;margin-bottom: 0;padding: 0.3em;box-sizing: border-box;text-align: center;}#sk-container-id-1 label.sk-toggleable__label-arrow:before {content: \"▸\";float: left;margin-right: 0.25em;color: #696969;}#sk-container-id-1 label.sk-toggleable__label-arrow:hover:before {color: black;}#sk-container-id-1 div.sk-estimator:hover label.sk-toggleable__label-arrow:before {color: black;}#sk-container-id-1 div.sk-toggleable__content {max-height: 0;max-width: 0;overflow: hidden;text-align: left;background-color: #f0f8ff;}#sk-container-id-1 div.sk-toggleable__content pre {margin: 0.2em;color: black;border-radius: 0.25em;background-color: #f0f8ff;}#sk-container-id-1 input.sk-toggleable__control:checked~div.sk-toggleable__content {max-height: 200px;max-width: 100%;overflow: auto;}#sk-container-id-1 input.sk-toggleable__control:checked~label.sk-toggleable__label-arrow:before {content: \"▾\";}#sk-container-id-1 div.sk-estimator input.sk-toggleable__control:checked~label.sk-toggleable__label {background-color: #d4ebff;}#sk-container-id-1 div.sk-label input.sk-toggleable__control:checked~label.sk-toggleable__label {background-color: #d4ebff;}#sk-container-id-1 input.sk-hidden--visually {border: 0;clip: rect(1px 1px 1px 1px);clip: rect(1px, 1px, 1px, 1px);height: 1px;margin: -1px;overflow: hidden;padding: 0;position: absolute;width: 1px;}#sk-container-id-1 div.sk-estimator {font-family: monospace;background-color: #f0f8ff;border: 1px dotted black;border-radius: 0.25em;box-sizing: border-box;margin-bottom: 0.5em;}#sk-container-id-1 div.sk-estimator:hover {background-color: #d4ebff;}#sk-container-id-1 div.sk-parallel-item::after {content: \"\";width: 100%;border-bottom: 1px solid gray;flex-grow: 1;}#sk-container-id-1 div.sk-label:hover label.sk-toggleable__label {background-color: #d4ebff;}#sk-container-id-1 div.sk-serial::before {content: \"\";position: absolute;border-left: 1px solid gray;box-sizing: border-box;top: 0;bottom: 0;left: 50%;z-index: 0;}#sk-container-id-1 div.sk-serial {display: flex;flex-direction: column;align-items: center;background-color: white;padding-right: 0.2em;padding-left: 0.2em;position: relative;}#sk-container-id-1 div.sk-item {position: relative;z-index: 1;}#sk-container-id-1 div.sk-parallel {display: flex;align-items: stretch;justify-content: center;background-color: white;position: relative;}#sk-container-id-1 div.sk-item::before, #sk-container-id-1 div.sk-parallel-item::before {content: \"\";position: absolute;border-left: 1px solid gray;box-sizing: border-box;top: 0;bottom: 0;left: 50%;z-index: -1;}#sk-container-id-1 div.sk-parallel-item {display: flex;flex-direction: column;z-index: 1;position: relative;background-color: white;}#sk-container-id-1 div.sk-parallel-item:first-child::after {align-self: flex-end;width: 50%;}#sk-container-id-1 div.sk-parallel-item:last-child::after {align-self: flex-start;width: 50%;}#sk-container-id-1 div.sk-parallel-item:only-child::after {width: 0;}#sk-container-id-1 div.sk-dashed-wrapped {border: 1px dashed gray;margin: 0 0.4em 0.5em 0.4em;box-sizing: border-box;padding-bottom: 0.4em;background-color: white;}#sk-container-id-1 div.sk-label label {font-family: monospace;font-weight: bold;display: inline-block;line-height: 1.2em;}#sk-container-id-1 div.sk-label-container {text-align: center;}#sk-container-id-1 div.sk-container {/* jupyter's `normalize.less` sets `[hidden] { display: none; }` but bootstrap.min.css set `[hidden] { display: none !important; }` so we also need the `!important` here to be able to override the default hidden behavior on the sphinx rendered scikit-learn.org. See: https://github.com/scikit-learn/scikit-learn/issues/21755 */display: inline-block !important;position: relative;}#sk-container-id-1 div.sk-text-repr-fallback {display: none;}</style><div id=\"sk-container-id-1\" class=\"sk-top-container\"><div class=\"sk-text-repr-fallback\"><pre>ExtraTreesClassifier()</pre><b>In a Jupyter environment, please rerun this cell to show the HTML representation or trust the notebook. <br />On GitHub, the HTML representation is unable to render, please try loading this page with nbviewer.org.</b></div><div class=\"sk-container\" hidden><div class=\"sk-item\"><div class=\"sk-estimator sk-toggleable\"><input class=\"sk-toggleable__control sk-hidden--visually\" id=\"sk-estimator-id-1\" type=\"checkbox\" checked><label for=\"sk-estimator-id-1\" class=\"sk-toggleable__label sk-toggleable__label-arrow\">ExtraTreesClassifier</label><div class=\"sk-toggleable__content\"><pre>ExtraTreesClassifier()</pre></div></div></div></div></div>"
      ],
      "text/plain": [
       "ExtraTreesClassifier()"
      ]
     },
     "execution_count": 90,
     "metadata": {},
     "output_type": "execute_result"
    }
   ],
   "source": [
    "from sklearn.ensemble import ExtraTreesClassifier\n",
    "\n",
    "# Criação do Modelo - Feature Selection\n",
    "modelo = ExtraTreesClassifier()\n",
    "modelo.fit(X, y)"
   ]
  },
  {
   "cell_type": "code",
   "execution_count": 91,
   "id": "e425a356",
   "metadata": {},
   "outputs": [
    {
     "name": "stdout",
     "output_type": "stream",
     "text": [
      "Index(['Sexo', 'Idade', 'CartaCondução', 'CódigoRegião', 'VeiculoDanificado',\n",
      "       'ValorPagarAno', 'DiasAssociado', 'Resposta'],\n",
      "      dtype='object')\n",
      "[0.00245061 0.16726652 0.00034456 0.08850091 0.12164195 0.30453586\n",
      " 0.31525958]\n"
     ]
    }
   ],
   "source": [
    "# Print dos Resultados\n",
    "print(df_traduzida.columns[0:12])\n",
    "print(modelo.feature_importances_)"
   ]
  },
  {
   "cell_type": "markdown",
   "id": "3d746b2c",
   "metadata": {},
   "source": [
    "# Random Forest"
   ]
  },
  {
   "cell_type": "code",
   "execution_count": 92,
   "id": "6ce619ea",
   "metadata": {},
   "outputs": [],
   "source": [
    "# SEPRANDO AS VARIAVEIS PARA TREINAMENTO\n",
    "\n",
    "# Train Test Split:\n",
    "from sklearn.model_selection import train_test_split\n",
    "X_train, X_test, y_train, y_test = train_test_split(X_res,y_res, test_size=0.3, random_state=42)"
   ]
  },
  {
   "cell_type": "code",
   "execution_count": 93,
   "id": "87c90b8f",
   "metadata": {},
   "outputs": [],
   "source": [
    "#Random Forest Regressor:\n",
    "#from sklearn.ensemble import RandomForestClassifier\n",
    "modelo2 = RandomForestClassifier()\n",
    "modelo2 = modelo2.fit(X_train, y_train)\n",
    "\n",
    "#Prediction:\n",
    "y_predito = modelo2.predict(X_test)"
   ]
  },
  {
   "cell_type": "code",
   "execution_count": 94,
   "id": "189014a1",
   "metadata": {},
   "outputs": [
    {
     "name": "stdout",
     "output_type": "stream",
     "text": [
      "Acurácia: 85.37%\n"
     ]
    }
   ],
   "source": [
    "# Avaliando as previsões\n",
    "accuracy = accuracy_score(y_test, y_predito)\n",
    "print(\"Acurácia: %.2f%%\" % (accuracy * 100.0))"
   ]
  },
  {
   "cell_type": "code",
   "execution_count": 95,
   "id": "cd3d4108",
   "metadata": {},
   "outputs": [
    {
     "name": "stdout",
     "output_type": "stream",
     "text": [
      "CLIENTE TEM INTERESSE!\n",
      "A SUA PROBABILIDADE DE INTERESSE É DE: [[0.95 0.05]]\n"
     ]
    }
   ],
   "source": [
    "Sexo = 0\n",
    "Idade = 44\n",
    "CartaCondução = 0\n",
    "CódigoRegião = 28\n",
    "VeiculoDanificado = 0\n",
    "ValorPagarAno = 3445.0\n",
    "DiasAssociado = 21\n",
    "\n",
    "\n",
    "parametro = [[Sexo,Idade,CartaCondução,CódigoRegião,VeiculoDanificado,ValorPagarAno,DiasAssociado]]\n",
    "\n",
    "\n",
    "fazendo_previsao = modelo2.predict(parametro)\n",
    "probabilidade = modelo2.predict_proba(parametro)\n",
    "\n",
    "\n",
    "if (fazendo_previsao == 0).any():\n",
    "    print('CLIENTE TEM INTERESSE!')\n",
    "    print('A SUA PROBABILIDADE DE INTERESSE É DE:',probabilidade)\n",
    "\n",
    "else:\n",
    "    \n",
    "    print('CLIENTE NÃO TEM INTERESSE!')\n",
    "    print('A SUA PROBABILIDADE DE FALTA DE INTERESSE É DE:',probabilidade)"
   ]
  },
  {
   "cell_type": "code",
   "execution_count": 96,
   "id": "944b40e4",
   "metadata": {},
   "outputs": [],
   "source": [
    "#Comando de Salvamento da Máquina Preditiva\n",
    "import pickle \n",
    "pickle_out = open(\"maquina_preditiva_interesse_cliente.pkl\", mode = \"wb\") \n",
    "pickle.dump(modelo2, pickle_out) \n",
    "pickle_out.close() "
   ]
  }
 ],
 "metadata": {
  "kernelspec": {
   "display_name": "Python 3 (ipykernel)",
   "language": "python",
   "name": "python3"
  },
  "language_info": {
   "codemirror_mode": {
    "name": "ipython",
    "version": 3
   },
   "file_extension": ".py",
   "mimetype": "text/x-python",
   "name": "python",
   "nbconvert_exporter": "python",
   "pygments_lexer": "ipython3",
   "version": "3.11.4"
  }
 },
 "nbformat": 4,
 "nbformat_minor": 5
}
